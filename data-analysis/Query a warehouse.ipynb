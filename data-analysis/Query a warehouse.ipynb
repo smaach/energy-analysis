{
  "cells": [
    {
      "cell_type": "markdown",
      "source": "# Welcome to Deepnote",
      "metadata": {
        "formattedRanges": [],
        "tags": [],
        "is_collapsed": false,
        "cell_id": "721ab12a9dcb4f5589d3f1fcdd0c0ac4",
        "deepnote_cell_type": "text-cell-h1"
      },
      "block_group": "27bdb4354ed544a5993289bb499e1969"
    },
    {
      "cell_type": "markdown",
      "source": "In this quick example, we will walk you through the basic steps of data exploration in a notebook.",
      "metadata": {
        "formattedRanges": [],
        "tags": [],
        "is_collapsed": false,
        "cell_id": "ea97aaa3b3dd46d28827528e4ea3a96a",
        "deepnote_cell_type": "text-cell-p"
      },
      "block_group": "7f9e358b474f4c7d9f234348285b144f"
    },
    {
      "cell_type": "markdown",
      "source": "## Start with a query",
      "metadata": {
        "formattedRanges": [],
        "tags": [],
        "is_collapsed": false,
        "cell_id": "88c1c2f9af4044c589614ba11fec6e5d",
        "deepnote_cell_type": "text-cell-h2"
      },
      "block_group": "b461e149f7264090a20913066f4de223"
    },
    {
      "cell_type": "markdown",
      "source": "To get you started, we prepared a sample dataset in a demo Snowflake integration. It contains country data for life expectancy, population and GDP per capita over the years. ",
      "metadata": {
        "formattedRanges": [],
        "tags": [],
        "is_collapsed": false,
        "cell_id": "69501aea20e94878b4a7e177aff77d45",
        "deepnote_cell_type": "text-cell-p"
      },
      "block_group": "e5df1b5ede81463fac8e24708c9ef758"
    },
    {
      "cell_type": "code",
      "metadata": {
        "tags": [],
        "source_hash": null,
        "output_cleared": false,
        "execution_start": 1705487334444,
        "execution_millis": 1422,
        "sql_integration_id": "f18f3ec1-977c-4047-a36a-d40af67c0a90",
        "deepnote_sql_source": "select\n    *\nfrom\n    sessions\nlimit\n    100",
        "deepnote_table_state": {
          "sortBy": [],
          "filters": [],
          "pageSize": 10,
          "pageIndex": 11
        },
        "deepnote_table_loading": false,
        "deepnote_variable_name": "df",
        "deepnote_to_be_reexecuted": false,
        "cell_id": "bd7c06856e264ee69803af5b450b3078",
        "deepnote_cell_type": "sql"
      },
      "source": "df = (lambda: _deepnote_execute_sql('select\\n    *\\nfrom\\n    sessions\\nlimit\\n    100', 'SQL_F18F3EC1_977C_4047_A36A_D40AF67C0A90', audit_sql_comment='', sql_cache_mode='cache_disabled') if '_deepnote_execute_sql' in globals() else _dntk.execute_sql('select\\n    *\\nfrom\\n    sessions\\nlimit\\n    100', 'SQL_F18F3EC1_977C_4047_A36A_D40AF67C0A90', audit_sql_comment='', sql_cache_mode='cache_disabled'))()\ndf",
      "outputs": [
        {
          "data": {
            "application/vnd.deepnote.sql-output-metadata+json": {
              "status": "success_no_cache",
              "size_in_bytes": 373736
            }
          },
          "metadata": {},
          "output_type": "display_data"
        },
        {
          "output_type": "execute_result",
          "execution_count": 1,
          "data": {
            "application/vnd.deepnote.dataframe.v3+json": {
              "column_count": 6,
              "row_count": 1704,
              "columns": [
                {
                  "name": "country",
                  "dtype": "object",
                  "stats": {
                    "unique_count": 142,
                    "nan_count": 0,
                    "categories": [
                      {
                        "name": "Afghanistan",
                        "count": 12
                      },
                      {
                        "name": "Albania",
                        "count": 12
                      },
                      {
                        "name": "140 others",
                        "count": 1680
                      }
                    ]
                  }
                },
                {
                  "name": "continent",
                  "dtype": "object",
                  "stats": {
                    "unique_count": 5,
                    "nan_count": 0,
                    "categories": [
                      {
                        "name": "Africa",
                        "count": 624
                      },
                      {
                        "name": "Asia",
                        "count": 396
                      },
                      {
                        "name": "3 others",
                        "count": 684
                      }
                    ]
                  }
                },
                {
                  "name": "year",
                  "dtype": "object",
                  "stats": {
                    "unique_count": 12,
                    "nan_count": 0,
                    "categories": [
                      {
                        "name": "1952-01-01",
                        "count": 142
                      },
                      {
                        "name": "1957-01-01",
                        "count": 142
                      },
                      {
                        "name": "10 others",
                        "count": 1420
                      }
                    ]
                  }
                },
                {
                  "name": "life_expectancy",
                  "dtype": "float64",
                  "stats": {
                    "unique_count": 1626,
                    "nan_count": 0,
                    "min": "23.599",
                    "max": "82.603",
                    "histogram": [
                      {
                        "bin_start": 23.599,
                        "bin_end": 29.4994,
                        "count": 2
                      },
                      {
                        "bin_start": 29.4994,
                        "bin_end": 35.3998,
                        "count": 33
                      },
                      {
                        "bin_start": 35.3998,
                        "bin_end": 41.300200000000004,
                        "count": 130
                      },
                      {
                        "bin_start": 41.300200000000004,
                        "bin_end": 47.200599999999994,
                        "count": 223
                      },
                      {
                        "bin_start": 47.200599999999994,
                        "bin_end": 53.101,
                        "count": 213
                      },
                      {
                        "bin_start": 53.101,
                        "bin_end": 59.001400000000004,
                        "count": 192
                      },
                      {
                        "bin_start": 59.001400000000004,
                        "bin_end": 64.9018,
                        "count": 187
                      },
                      {
                        "bin_start": 64.9018,
                        "bin_end": 70.8022,
                        "count": 293
                      },
                      {
                        "bin_start": 70.8022,
                        "bin_end": 76.70259999999999,
                        "count": 320
                      },
                      {
                        "bin_start": 76.70259999999999,
                        "bin_end": 82.603,
                        "count": 111
                      }
                    ]
                  }
                },
                {
                  "name": "population",
                  "dtype": "int64",
                  "stats": {
                    "unique_count": 1704,
                    "nan_count": 0,
                    "min": "60011",
                    "max": "1318683096",
                    "histogram": [
                      {
                        "bin_start": 60011,
                        "bin_end": 131922319.5,
                        "count": 1650
                      },
                      {
                        "bin_start": 131922319.5,
                        "bin_end": 263784628,
                        "count": 27
                      },
                      {
                        "bin_start": 263784628,
                        "bin_end": 395646936.5,
                        "count": 4
                      },
                      {
                        "bin_start": 395646936.5,
                        "bin_end": 527509245,
                        "count": 3
                      },
                      {
                        "bin_start": 527509245,
                        "bin_end": 659371553.5,
                        "count": 4
                      },
                      {
                        "bin_start": 659371553.5,
                        "bin_end": 791233862,
                        "count": 4
                      },
                      {
                        "bin_start": 791233862,
                        "bin_end": 923096170.5,
                        "count": 2
                      },
                      {
                        "bin_start": 923096170.5,
                        "bin_end": 1054958479,
                        "count": 4
                      },
                      {
                        "bin_start": 1054958479,
                        "bin_end": 1186820787.5,
                        "count": 3
                      },
                      {
                        "bin_start": 1186820787.5,
                        "bin_end": 1318683096,
                        "count": 3
                      }
                    ]
                  }
                },
                {
                  "name": "gdp_per_capita",
                  "dtype": "float64",
                  "stats": {
                    "unique_count": 1704,
                    "nan_count": 0,
                    "min": "241.1658765",
                    "max": "113523.1329",
                    "histogram": [
                      {
                        "bin_start": 241.1658765,
                        "bin_end": 11569.36257885,
                        "count": 1365
                      },
                      {
                        "bin_start": 11569.36257885,
                        "bin_end": 22897.5592812,
                        "count": 215
                      },
                      {
                        "bin_start": 22897.5592812,
                        "bin_end": 34225.75598355,
                        "count": 96
                      },
                      {
                        "bin_start": 34225.75598355,
                        "bin_end": 45553.9526859,
                        "count": 19
                      },
                      {
                        "bin_start": 45553.9526859,
                        "bin_end": 56882.14938825001,
                        "count": 3
                      },
                      {
                        "bin_start": 56882.14938825001,
                        "bin_end": 68210.3460906,
                        "count": 1
                      },
                      {
                        "bin_start": 68210.3460906,
                        "bin_end": 79538.54279295,
                        "count": 0
                      },
                      {
                        "bin_start": 79538.54279295,
                        "bin_end": 90866.7394953,
                        "count": 1
                      },
                      {
                        "bin_start": 90866.7394953,
                        "bin_end": 102194.93619765001,
                        "count": 1
                      },
                      {
                        "bin_start": 102194.93619765001,
                        "bin_end": 113523.1329,
                        "count": 3
                      }
                    ]
                  }
                },
                {
                  "name": "_deepnote_index_column",
                  "dtype": "int64"
                }
              ],
              "rows": [
                {
                  "country": "Belgium",
                  "continent": "Europe",
                  "year": "1962-01-01",
                  "life_expectancy": 70.25,
                  "population": 9218400,
                  "gdp_per_capita": 10991.20676,
                  "_deepnote_index_column": 110
                },
                {
                  "country": "Belgium",
                  "continent": "Europe",
                  "year": "1967-01-01",
                  "life_expectancy": 70.94,
                  "population": 9556500,
                  "gdp_per_capita": 13149.04119,
                  "_deepnote_index_column": 111
                },
                {
                  "country": "Belgium",
                  "continent": "Europe",
                  "year": "1972-01-01",
                  "life_expectancy": 71.44,
                  "population": 9709100,
                  "gdp_per_capita": 16672.14356,
                  "_deepnote_index_column": 112
                },
                {
                  "country": "Belgium",
                  "continent": "Europe",
                  "year": "1977-01-01",
                  "life_expectancy": 72.8,
                  "population": 9821800,
                  "gdp_per_capita": 19117.97448,
                  "_deepnote_index_column": 113
                },
                {
                  "country": "Belgium",
                  "continent": "Europe",
                  "year": "1982-01-01",
                  "life_expectancy": 73.93,
                  "population": 9856303,
                  "gdp_per_capita": 20979.84589,
                  "_deepnote_index_column": 114
                },
                {
                  "country": "Belgium",
                  "continent": "Europe",
                  "year": "1987-01-01",
                  "life_expectancy": 75.35,
                  "population": 9870200,
                  "gdp_per_capita": 22525.56308,
                  "_deepnote_index_column": 115
                },
                {
                  "country": "Belgium",
                  "continent": "Europe",
                  "year": "1992-01-01",
                  "life_expectancy": 76.46,
                  "population": 10045622,
                  "gdp_per_capita": 25575.57069,
                  "_deepnote_index_column": 116
                },
                {
                  "country": "Belgium",
                  "continent": "Europe",
                  "year": "1997-01-01",
                  "life_expectancy": 77.53,
                  "population": 10199787,
                  "gdp_per_capita": 27561.19663,
                  "_deepnote_index_column": 117
                },
                {
                  "country": "Belgium",
                  "continent": "Europe",
                  "year": "2002-01-01",
                  "life_expectancy": 78.32,
                  "population": 10311970,
                  "gdp_per_capita": 30485.88375,
                  "_deepnote_index_column": 118
                },
                {
                  "country": "Belgium",
                  "continent": "Europe",
                  "year": "2007-01-01",
                  "life_expectancy": 79.441,
                  "population": 10392226,
                  "gdp_per_capita": 33692.60508,
                  "_deepnote_index_column": 119
                }
              ]
            },
            "text/plain": "          country continent        year  life_expectancy  population  \\\n0     Afghanistan      Asia  1952-01-01           28.801     8425333   \n1     Afghanistan      Asia  1957-01-01           30.332     9240934   \n2     Afghanistan      Asia  1962-01-01           31.997    10267083   \n3     Afghanistan      Asia  1967-01-01           34.020    11537966   \n4     Afghanistan      Asia  1972-01-01           36.088    13079460   \n...           ...       ...         ...              ...         ...   \n1699     Zimbabwe    Africa  1987-01-01           62.351     9216418   \n1700     Zimbabwe    Africa  1992-01-01           60.377    10704340   \n1701     Zimbabwe    Africa  1997-01-01           46.809    11404948   \n1702     Zimbabwe    Africa  2002-01-01           39.989    11926563   \n1703     Zimbabwe    Africa  2007-01-01           43.487    12311143   \n\n      gdp_per_capita  \n0         779.445314  \n1         820.853030  \n2         853.100710  \n3         836.197138  \n4         739.981106  \n...              ...  \n1699      706.157306  \n1700      693.420786  \n1701      792.449960  \n1702      672.038623  \n1703      469.709298  \n\n[1704 rows x 6 columns]",
            "text/html": "<div>\n<style scoped>\n    .dataframe tbody tr th:only-of-type {\n        vertical-align: middle;\n    }\n\n    .dataframe tbody tr th {\n        vertical-align: top;\n    }\n\n    .dataframe thead th {\n        text-align: right;\n    }\n</style>\n<table border=\"1\" class=\"dataframe\">\n  <thead>\n    <tr style=\"text-align: right;\">\n      <th></th>\n      <th>country</th>\n      <th>continent</th>\n      <th>year</th>\n      <th>life_expectancy</th>\n      <th>population</th>\n      <th>gdp_per_capita</th>\n    </tr>\n  </thead>\n  <tbody>\n    <tr>\n      <th>0</th>\n      <td>Afghanistan</td>\n      <td>Asia</td>\n      <td>1952-01-01</td>\n      <td>28.801</td>\n      <td>8425333</td>\n      <td>779.445314</td>\n    </tr>\n    <tr>\n      <th>1</th>\n      <td>Afghanistan</td>\n      <td>Asia</td>\n      <td>1957-01-01</td>\n      <td>30.332</td>\n      <td>9240934</td>\n      <td>820.853030</td>\n    </tr>\n    <tr>\n      <th>2</th>\n      <td>Afghanistan</td>\n      <td>Asia</td>\n      <td>1962-01-01</td>\n      <td>31.997</td>\n      <td>10267083</td>\n      <td>853.100710</td>\n    </tr>\n    <tr>\n      <th>3</th>\n      <td>Afghanistan</td>\n      <td>Asia</td>\n      <td>1967-01-01</td>\n      <td>34.020</td>\n      <td>11537966</td>\n      <td>836.197138</td>\n    </tr>\n    <tr>\n      <th>4</th>\n      <td>Afghanistan</td>\n      <td>Asia</td>\n      <td>1972-01-01</td>\n      <td>36.088</td>\n      <td>13079460</td>\n      <td>739.981106</td>\n    </tr>\n    <tr>\n      <th>...</th>\n      <td>...</td>\n      <td>...</td>\n      <td>...</td>\n      <td>...</td>\n      <td>...</td>\n      <td>...</td>\n    </tr>\n    <tr>\n      <th>1699</th>\n      <td>Zimbabwe</td>\n      <td>Africa</td>\n      <td>1987-01-01</td>\n      <td>62.351</td>\n      <td>9216418</td>\n      <td>706.157306</td>\n    </tr>\n    <tr>\n      <th>1700</th>\n      <td>Zimbabwe</td>\n      <td>Africa</td>\n      <td>1992-01-01</td>\n      <td>60.377</td>\n      <td>10704340</td>\n      <td>693.420786</td>\n    </tr>\n    <tr>\n      <th>1701</th>\n      <td>Zimbabwe</td>\n      <td>Africa</td>\n      <td>1997-01-01</td>\n      <td>46.809</td>\n      <td>11404948</td>\n      <td>792.449960</td>\n    </tr>\n    <tr>\n      <th>1702</th>\n      <td>Zimbabwe</td>\n      <td>Africa</td>\n      <td>2002-01-01</td>\n      <td>39.989</td>\n      <td>11926563</td>\n      <td>672.038623</td>\n    </tr>\n    <tr>\n      <th>1703</th>\n      <td>Zimbabwe</td>\n      <td>Africa</td>\n      <td>2007-01-01</td>\n      <td>43.487</td>\n      <td>12311143</td>\n      <td>469.709298</td>\n    </tr>\n  </tbody>\n</table>\n<p>1704 rows × 6 columns</p>\n</div>"
          },
          "metadata": {}
        }
      ],
      "outputs_reference": null,
      "execution_count": null,
      "block_group": "606220a8ad124b03b1f5f5d3f663124e",
      "content_dependencies": null
    },
    {
      "cell_type": "markdown",
      "source": "Based on free material from gapminder.org, CC-BY license.",
      "metadata": {
        "formattedRanges": [
          {
            "type": "marks",
            "marks": {
              "italic": true
            },
            "toCodePoint": 28,
            "fromCodePoint": 0
          },
          {
            "url": "https://www.gapminder.org/",
            "type": "link",
            "ranges": [
              {
                "type": "marks",
                "marks": {
                  "italic": true
                },
                "toCodePoint": 13,
                "fromCodePoint": 0
              }
            ],
            "toCodePoint": 41,
            "fromCodePoint": 28
          },
          {
            "type": "marks",
            "marks": {
              "italic": true
            },
            "toCodePoint": 57,
            "fromCodePoint": 41
          }
        ],
        "tags": [],
        "is_collapsed": false,
        "cell_id": "e6d4593781634a989ee5f0be9a6a8132",
        "deepnote_cell_type": "text-cell-p"
      },
      "block_group": "6212ab5484394370af04c5cb354dcb33"
    },
    {
      "cell_type": "markdown",
      "source": "## Seamlessly switch to Python",
      "metadata": {
        "formattedRanges": [],
        "tags": [],
        "is_collapsed": false,
        "cell_id": "c790157568554145a1f53a919cce5ec8",
        "deepnote_cell_type": "text-cell-h2"
      },
      "block_group": "de8678dc3a284e3d9db7367a4617ebb8"
    },
    {
      "cell_type": "markdown",
      "source": "The results of your queries are stored as pandas DataFrames, which makes it easy to work with them in Python. For example, you can explore how life expectancy correlates with economic wealth. ",
      "metadata": {
        "formattedRanges": [],
        "tags": [],
        "is_collapsed": false,
        "cell_id": "0b5071c09f724e5cb9271f56bab6533e",
        "deepnote_cell_type": "text-cell-p"
      },
      "block_group": "31542f7e8cf84259b8ba0a14daa400a9"
    },
    {
      "cell_type": "code",
      "metadata": {
        "tags": [],
        "source_hash": null,
        "output_cleared": false,
        "execution_start": 1705487335875,
        "execution_millis": 13,
        "deepnote_to_be_reexecuted": false,
        "cell_id": "0fee116eb89b44568b34fb3a1bd20005",
        "deepnote_cell_type": "code"
      },
      "source": "df['life_expectancy'].corr(df['gdp_per_capita'])\n",
      "outputs": [
        {
          "output_type": "execute_result",
          "execution_count": 2,
          "data": {
            "text/plain": "0.5837062198659806"
          },
          "metadata": {}
        }
      ],
      "outputs_reference": null,
      "execution_count": null,
      "block_group": "5e47b51afc934af782e2c048f7157db2",
      "content_dependencies": null
    },
    {
      "cell_type": "markdown",
      "source": "## Finish with beautiful charts",
      "metadata": {
        "formattedRanges": [],
        "tags": [],
        "is_collapsed": false,
        "cell_id": "ebb9b0c57b34475a8c020dd662aa1cf7",
        "deepnote_cell_type": "text-cell-h2"
      },
      "block_group": "d8aa8038be8b45ad82d04943c3043f50"
    },
    {
      "cell_type": "markdown",
      "source": "Charts that push your presentation to the next level are easy to make in Deepnote. Here's a deeper look into the relationship between life expectancy and economic wealth, with additional indicators for continents and population size. ",
      "metadata": {
        "formattedRanges": [],
        "tags": [],
        "is_collapsed": false,
        "cell_id": "f8ee4ddd2adc4a2687c81c6f7c1bd522",
        "deepnote_cell_type": "text-cell-p"
      },
      "block_group": "e56449b407414082831e4c22c5177a1f"
    },
    {
      "cell_type": "code",
      "source": "(lambda: DeepnoteChart(df, \"\"\"{\"mark\":{\"clip\":true,\"type\":\"point\",\"tooltip\":true},\"title\":\"Life expectancy and economic wealth\",\"config\":{\"legend\":{}},\"$schema\":\"https://vega.github.io/schema/vega-lite/v5.json\",\"encoding\":{\"x\":{\"axis\":{\"title\":\"GDP per capita\"},\"sort\":null,\"type\":\"quantitative\",\"field\":\"gdp_per_capita\",\"scale\":{\"type\":\"log\",\"zero\":false,\"domainMax\":100000}},\"y\":{\"axis\":{\"title\":\"Life expectancy (years)\"},\"sort\":null,\"type\":\"quantitative\",\"field\":\"life_expectancy\",\"scale\":{\"type\":\"linear\",\"zero\":false}},\"size\":{\"sort\":null,\"type\":\"quantitative\",\"field\":\"population\"},\"color\":{\"sort\":null,\"type\":\"nominal\",\"field\":\"continent\",\"scale\":{\"scheme\":\"tableau10\"}}}}\"\"\") if 'DeepnoteChart' in globals() else _dntk.DeepnoteChart(df, \"\"\"{\"mark\":{\"clip\":true,\"type\":\"point\",\"tooltip\":true},\"title\":\"Life expectancy and economic wealth\",\"config\":{\"legend\":{}},\"$schema\":\"https://vega.github.io/schema/vega-lite/v5.json\",\"encoding\":{\"x\":{\"axis\":{\"title\":\"GDP per capita\"},\"sort\":null,\"type\":\"quantitative\",\"field\":\"gdp_per_capita\",\"scale\":{\"type\":\"log\",\"zero\":false,\"domainMax\":100000}},\"y\":{\"axis\":{\"title\":\"Life expectancy (years)\"},\"sort\":null,\"type\":\"quantitative\",\"field\":\"life_expectancy\",\"scale\":{\"type\":\"linear\",\"zero\":false}},\"size\":{\"sort\":null,\"type\":\"quantitative\",\"field\":\"population\"},\"color\":{\"sort\":null,\"type\":\"nominal\",\"field\":\"continent\",\"scale\":{\"scheme\":\"tableau10\"}}}}\"\"\"))()",
      "metadata": {
        "source_hash": null,
        "output_cleared": false,
        "execution_start": 1705487338439,
        "execution_millis": 27,
        "deepnote_chart_height": 570,
        "deepnote_variable_name": "df",
        "deepnote_config_collapsed": false,
        "deepnote_to_be_reexecuted": false,
        "deepnote_visualization_spec": {
          "mark": {
            "clip": true,
            "type": "point",
            "tooltip": true
          },
          "title": "Life expectancy and economic wealth",
          "config": {
            "legend": {}
          },
          "$schema": "https://vega.github.io/schema/vega-lite/v5.json",
          "encoding": {
            "x": {
              "axis": {
                "title": "GDP per capita"
              },
              "sort": null,
              "type": "quantitative",
              "field": "gdp_per_capita",
              "scale": {
                "type": "log",
                "zero": false,
                "domainMax": 100000
              }
            },
            "y": {
              "axis": {
                "title": "Life expectancy (years)"
              },
              "sort": null,
              "type": "quantitative",
              "field": "life_expectancy",
              "scale": {
                "type": "linear",
                "zero": false
              }
            },
            "size": {
              "sort": null,
              "type": "quantitative",
              "field": "population"
            },
            "color": {
              "sort": null,
              "type": "nominal",
              "field": "continent",
              "scale": {
                "scheme": "tableau10"
              }
            }
          }
        },
        "cell_id": "b1d7cded3b8e4fb8ad8514a8c2d998f7",
        "deepnote_cell_type": "visualization"
      },
      "outputs": [
        {
          "output_type": "execute_result",
          "execution_count": 4,
          "data": {
            "application/vnd.vegalite.v5+json": {
              "mark": {
                "clip": true,
                "type": "point",
                "tooltip": true
              },
              "title": "Life expectancy and economic wealth",
              "config": {
                "legend": {}
              },
              "$schema": "https://vega.github.io/schema/vega-lite/v5.json",
              "encoding": {
                "x": {
                  "axis": {
                    "title": "GDP per capita"
                  },
                  "sort": null,
                  "type": "quantitative",
                  "field": "gdp_per_capita",
                  "scale": {
                    "type": "log",
                    "zero": false,
                    "domainMax": 100000
                  }
                },
                "y": {
                  "axis": {
                    "title": "Life expectancy (years)"
                  },
                  "sort": null,
                  "type": "quantitative",
                  "field": "life_expectancy",
                  "scale": {
                    "type": "linear",
                    "zero": false
                  }
                },
                "size": {
                  "sort": null,
                  "type": "quantitative",
                  "field": "population"
                },
                "color": {
                  "sort": null,
                  "type": "nominal",
                  "field": "continent",
                  "scale": {
                    "scheme": "tableau10"
                  }
                }
              },
              "data": {
                "values": [
                  {
                    "country": "Afghanistan",
                    "continent": "Asia",
                    "year": "1952-01-01",
                    "life_expectancy": 28.801,
                    "population": 8425333,
                    "gdp_per_capita": 779.4453145
                  },
                  {
                    "country": "Afghanistan",
                    "continent": "Asia",
                    "year": "1957-01-01",
                    "life_expectancy": 30.332,
                    "population": 9240934,
                    "gdp_per_capita": 820.8530296
                  },
                  {
                    "country": "Afghanistan",
                    "continent": "Asia",
                    "year": "1962-01-01",
                    "life_expectancy": 31.997,
                    "population": 10267083,
                    "gdp_per_capita": 853.10071
                  },
                  {
                    "country": "Afghanistan",
                    "continent": "Asia",
                    "year": "1967-01-01",
                    "life_expectancy": 34.02,
                    "population": 11537966,
                    "gdp_per_capita": 836.1971382
                  },
                  {
                    "country": "Afghanistan",
                    "continent": "Asia",
                    "year": "1972-01-01",
                    "life_expectancy": 36.088,
                    "population": 13079460,
                    "gdp_per_capita": 739.9811058
                  },
                  {
                    "country": "Afghanistan",
                    "continent": "Asia",
                    "year": "1977-01-01",
                    "life_expectancy": 38.438,
                    "population": 14880372,
                    "gdp_per_capita": 786.11336
                  },
                  {
                    "country": "Afghanistan",
                    "continent": "Asia",
                    "year": "1982-01-01",
                    "life_expectancy": 39.854,
                    "population": 12881816,
                    "gdp_per_capita": 978.0114388
                  },
                  {
                    "country": "Afghanistan",
                    "continent": "Asia",
                    "year": "1987-01-01",
                    "life_expectancy": 40.822,
                    "population": 13867957,
                    "gdp_per_capita": 852.3959448
                  },
                  {
                    "country": "Afghanistan",
                    "continent": "Asia",
                    "year": "1992-01-01",
                    "life_expectancy": 41.674,
                    "population": 16317921,
                    "gdp_per_capita": 649.3413952
                  },
                  {
                    "country": "Afghanistan",
                    "continent": "Asia",
                    "year": "1997-01-01",
                    "life_expectancy": 41.763,
                    "population": 22227415,
                    "gdp_per_capita": 635.341351
                  },
                  {
                    "country": "Afghanistan",
                    "continent": "Asia",
                    "year": "2002-01-01",
                    "life_expectancy": 42.129,
                    "population": 25268405,
                    "gdp_per_capita": 726.7340548
                  },
                  {
                    "country": "Afghanistan",
                    "continent": "Asia",
                    "year": "2007-01-01",
                    "life_expectancy": 43.828,
                    "population": 31889923,
                    "gdp_per_capita": 974.5803384
                  },
                  {
                    "country": "Albania",
                    "continent": "Europe",
                    "year": "1952-01-01",
                    "life_expectancy": 55.23,
                    "population": 1282697,
                    "gdp_per_capita": 1601.056136
                  },
                  {
                    "country": "Albania",
                    "continent": "Europe",
                    "year": "1957-01-01",
                    "life_expectancy": 59.28,
                    "population": 1476505,
                    "gdp_per_capita": 1942.284244
                  },
                  {
                    "country": "Albania",
                    "continent": "Europe",
                    "year": "1962-01-01",
                    "life_expectancy": 64.82,
                    "population": 1728137,
                    "gdp_per_capita": 2312.888958
                  },
                  {
                    "country": "Albania",
                    "continent": "Europe",
                    "year": "1967-01-01",
                    "life_expectancy": 66.22,
                    "population": 1984060,
                    "gdp_per_capita": 2760.196931
                  },
                  {
                    "country": "Albania",
                    "continent": "Europe",
                    "year": "1972-01-01",
                    "life_expectancy": 67.69,
                    "population": 2263554,
                    "gdp_per_capita": 3313.422188
                  },
                  {
                    "country": "Albania",
                    "continent": "Europe",
                    "year": "1977-01-01",
                    "life_expectancy": 68.93,
                    "population": 2509048,
                    "gdp_per_capita": 3533.00391
                  },
                  {
                    "country": "Albania",
                    "continent": "Europe",
                    "year": "1982-01-01",
                    "life_expectancy": 70.42,
                    "population": 2780097,
                    "gdp_per_capita": 3630.880722
                  },
                  {
                    "country": "Albania",
                    "continent": "Europe",
                    "year": "1987-01-01",
                    "life_expectancy": 72,
                    "population": 3075321,
                    "gdp_per_capita": 3738.932735
                  },
                  {
                    "country": "Albania",
                    "continent": "Europe",
                    "year": "1992-01-01",
                    "life_expectancy": 71.581,
                    "population": 3326498,
                    "gdp_per_capita": 2497.437901
                  },
                  {
                    "country": "Albania",
                    "continent": "Europe",
                    "year": "1997-01-01",
                    "life_expectancy": 72.95,
                    "population": 3428038,
                    "gdp_per_capita": 3193.054604
                  },
                  {
                    "country": "Albania",
                    "continent": "Europe",
                    "year": "2002-01-01",
                    "life_expectancy": 75.651,
                    "population": 3508512,
                    "gdp_per_capita": 4604.211737
                  },
                  {
                    "country": "Albania",
                    "continent": "Europe",
                    "year": "2007-01-01",
                    "life_expectancy": 76.423,
                    "population": 3600523,
                    "gdp_per_capita": 5937.029526
                  },
                  {
                    "country": "Algeria",
                    "continent": "Africa",
                    "year": "1952-01-01",
                    "life_expectancy": 43.077,
                    "population": 9279525,
                    "gdp_per_capita": 2449.008185
                  },
                  {
                    "country": "Algeria",
                    "continent": "Africa",
                    "year": "1957-01-01",
                    "life_expectancy": 45.685,
                    "population": 10270856,
                    "gdp_per_capita": 3013.976023
                  },
                  {
                    "country": "Algeria",
                    "continent": "Africa",
                    "year": "1962-01-01",
                    "life_expectancy": 48.303,
                    "population": 11000948,
                    "gdp_per_capita": 2550.81688
                  },
                  {
                    "country": "Algeria",
                    "continent": "Africa",
                    "year": "1967-01-01",
                    "life_expectancy": 51.407,
                    "population": 12760499,
                    "gdp_per_capita": 3246.991771
                  },
                  {
                    "country": "Algeria",
                    "continent": "Africa",
                    "year": "1972-01-01",
                    "life_expectancy": 54.518,
                    "population": 14760787,
                    "gdp_per_capita": 4182.663766
                  },
                  {
                    "country": "Algeria",
                    "continent": "Africa",
                    "year": "1977-01-01",
                    "life_expectancy": 58.014,
                    "population": 17152804,
                    "gdp_per_capita": 4910.416756
                  },
                  {
                    "country": "Algeria",
                    "continent": "Africa",
                    "year": "1982-01-01",
                    "life_expectancy": 61.368,
                    "population": 20033753,
                    "gdp_per_capita": 5745.160213
                  },
                  {
                    "country": "Algeria",
                    "continent": "Africa",
                    "year": "1987-01-01",
                    "life_expectancy": 65.799,
                    "population": 23254956,
                    "gdp_per_capita": 5681.358539
                  },
                  {
                    "country": "Algeria",
                    "continent": "Africa",
                    "year": "1992-01-01",
                    "life_expectancy": 67.744,
                    "population": 26298373,
                    "gdp_per_capita": 5023.216647
                  },
                  {
                    "country": "Algeria",
                    "continent": "Africa",
                    "year": "1997-01-01",
                    "life_expectancy": 69.152,
                    "population": 29072015,
                    "gdp_per_capita": 4797.295051
                  },
                  {
                    "country": "Algeria",
                    "continent": "Africa",
                    "year": "2002-01-01",
                    "life_expectancy": 70.994,
                    "population": 31287142,
                    "gdp_per_capita": 5288.040382
                  },
                  {
                    "country": "Algeria",
                    "continent": "Africa",
                    "year": "2007-01-01",
                    "life_expectancy": 72.301,
                    "population": 33333216,
                    "gdp_per_capita": 6223.367465
                  },
                  {
                    "country": "Angola",
                    "continent": "Africa",
                    "year": "1952-01-01",
                    "life_expectancy": 30.015,
                    "population": 4232095,
                    "gdp_per_capita": 3520.610273
                  },
                  {
                    "country": "Angola",
                    "continent": "Africa",
                    "year": "1957-01-01",
                    "life_expectancy": 31.999,
                    "population": 4561361,
                    "gdp_per_capita": 3827.940465
                  },
                  {
                    "country": "Angola",
                    "continent": "Africa",
                    "year": "1962-01-01",
                    "life_expectancy": 34,
                    "population": 4826015,
                    "gdp_per_capita": 4269.276742
                  },
                  {
                    "country": "Angola",
                    "continent": "Africa",
                    "year": "1967-01-01",
                    "life_expectancy": 35.985,
                    "population": 5247469,
                    "gdp_per_capita": 5522.776375
                  },
                  {
                    "country": "Angola",
                    "continent": "Africa",
                    "year": "1972-01-01",
                    "life_expectancy": 37.928,
                    "population": 5894858,
                    "gdp_per_capita": 5473.288005
                  },
                  {
                    "country": "Angola",
                    "continent": "Africa",
                    "year": "1977-01-01",
                    "life_expectancy": 39.483,
                    "population": 6162675,
                    "gdp_per_capita": 3008.647355
                  },
                  {
                    "country": "Angola",
                    "continent": "Africa",
                    "year": "1982-01-01",
                    "life_expectancy": 39.942,
                    "population": 7016384,
                    "gdp_per_capita": 2756.953672
                  },
                  {
                    "country": "Angola",
                    "continent": "Africa",
                    "year": "1987-01-01",
                    "life_expectancy": 39.906,
                    "population": 7874230,
                    "gdp_per_capita": 2430.208311
                  },
                  {
                    "country": "Angola",
                    "continent": "Africa",
                    "year": "1992-01-01",
                    "life_expectancy": 40.647,
                    "population": 8735988,
                    "gdp_per_capita": 2627.845685
                  },
                  {
                    "country": "Angola",
                    "continent": "Africa",
                    "year": "1997-01-01",
                    "life_expectancy": 40.963,
                    "population": 9875024,
                    "gdp_per_capita": 2277.140884
                  },
                  {
                    "country": "Angola",
                    "continent": "Africa",
                    "year": "2002-01-01",
                    "life_expectancy": 41.003,
                    "population": 10866106,
                    "gdp_per_capita": 2773.287312
                  },
                  {
                    "country": "Angola",
                    "continent": "Africa",
                    "year": "2007-01-01",
                    "life_expectancy": 42.731,
                    "population": 12420476,
                    "gdp_per_capita": 4797.231267
                  },
                  {
                    "country": "Argentina",
                    "continent": "Americas",
                    "year": "1952-01-01",
                    "life_expectancy": 62.485,
                    "population": 17876956,
                    "gdp_per_capita": 5911.315053
                  },
                  {
                    "country": "Argentina",
                    "continent": "Americas",
                    "year": "1957-01-01",
                    "life_expectancy": 64.399,
                    "population": 19610538,
                    "gdp_per_capita": 6856.856212
                  },
                  {
                    "country": "Argentina",
                    "continent": "Americas",
                    "year": "1962-01-01",
                    "life_expectancy": 65.142,
                    "population": 21283783,
                    "gdp_per_capita": 7133.166023
                  },
                  {
                    "country": "Argentina",
                    "continent": "Americas",
                    "year": "1967-01-01",
                    "life_expectancy": 65.634,
                    "population": 22934225,
                    "gdp_per_capita": 8052.953021
                  },
                  {
                    "country": "Argentina",
                    "continent": "Americas",
                    "year": "1972-01-01",
                    "life_expectancy": 67.065,
                    "population": 24779799,
                    "gdp_per_capita": 9443.038526
                  },
                  {
                    "country": "Argentina",
                    "continent": "Americas",
                    "year": "1977-01-01",
                    "life_expectancy": 68.481,
                    "population": 26983828,
                    "gdp_per_capita": 10079.02674
                  },
                  {
                    "country": "Argentina",
                    "continent": "Americas",
                    "year": "1982-01-01",
                    "life_expectancy": 69.942,
                    "population": 29341374,
                    "gdp_per_capita": 8997.897412
                  },
                  {
                    "country": "Argentina",
                    "continent": "Americas",
                    "year": "1987-01-01",
                    "life_expectancy": 70.774,
                    "population": 31620918,
                    "gdp_per_capita": 9139.671389
                  },
                  {
                    "country": "Argentina",
                    "continent": "Americas",
                    "year": "1992-01-01",
                    "life_expectancy": 71.868,
                    "population": 33958947,
                    "gdp_per_capita": 9308.41871
                  },
                  {
                    "country": "Argentina",
                    "continent": "Americas",
                    "year": "1997-01-01",
                    "life_expectancy": 73.275,
                    "population": 36203463,
                    "gdp_per_capita": 10967.28195
                  },
                  {
                    "country": "Argentina",
                    "continent": "Americas",
                    "year": "2002-01-01",
                    "life_expectancy": 74.34,
                    "population": 38331121,
                    "gdp_per_capita": 8797.640716
                  },
                  {
                    "country": "Argentina",
                    "continent": "Americas",
                    "year": "2007-01-01",
                    "life_expectancy": 75.32,
                    "population": 40301927,
                    "gdp_per_capita": 12779.37964
                  },
                  {
                    "country": "Australia",
                    "continent": "Oceania",
                    "year": "1952-01-01",
                    "life_expectancy": 69.12,
                    "population": 8691212,
                    "gdp_per_capita": 10039.59564
                  },
                  {
                    "country": "Australia",
                    "continent": "Oceania",
                    "year": "1957-01-01",
                    "life_expectancy": 70.33,
                    "population": 9712569,
                    "gdp_per_capita": 10949.64959
                  },
                  {
                    "country": "Australia",
                    "continent": "Oceania",
                    "year": "1962-01-01",
                    "life_expectancy": 70.93,
                    "population": 10794968,
                    "gdp_per_capita": 12217.22686
                  },
                  {
                    "country": "Australia",
                    "continent": "Oceania",
                    "year": "1967-01-01",
                    "life_expectancy": 71.1,
                    "population": 11872264,
                    "gdp_per_capita": 14526.12465
                  },
                  {
                    "country": "Australia",
                    "continent": "Oceania",
                    "year": "1972-01-01",
                    "life_expectancy": 71.93,
                    "population": 13177000,
                    "gdp_per_capita": 16788.62948
                  },
                  {
                    "country": "Australia",
                    "continent": "Oceania",
                    "year": "1977-01-01",
                    "life_expectancy": 73.49,
                    "population": 14074100,
                    "gdp_per_capita": 18334.19751
                  },
                  {
                    "country": "Australia",
                    "continent": "Oceania",
                    "year": "1982-01-01",
                    "life_expectancy": 74.74,
                    "population": 15184200,
                    "gdp_per_capita": 19477.00928
                  },
                  {
                    "country": "Australia",
                    "continent": "Oceania",
                    "year": "1987-01-01",
                    "life_expectancy": 76.32,
                    "population": 16257249,
                    "gdp_per_capita": 21888.88903
                  },
                  {
                    "country": "Australia",
                    "continent": "Oceania",
                    "year": "1992-01-01",
                    "life_expectancy": 77.56,
                    "population": 17481977,
                    "gdp_per_capita": 23424.76683
                  },
                  {
                    "country": "Australia",
                    "continent": "Oceania",
                    "year": "1997-01-01",
                    "life_expectancy": 78.83,
                    "population": 18565243,
                    "gdp_per_capita": 26997.93657
                  },
                  {
                    "country": "Australia",
                    "continent": "Oceania",
                    "year": "2002-01-01",
                    "life_expectancy": 80.37,
                    "population": 19546792,
                    "gdp_per_capita": 30687.75473
                  },
                  {
                    "country": "Australia",
                    "continent": "Oceania",
                    "year": "2007-01-01",
                    "life_expectancy": 81.235,
                    "population": 20434176,
                    "gdp_per_capita": 34435.36744
                  },
                  {
                    "country": "Austria",
                    "continent": "Europe",
                    "year": "1952-01-01",
                    "life_expectancy": 66.8,
                    "population": 6927772,
                    "gdp_per_capita": 6137.076492
                  },
                  {
                    "country": "Austria",
                    "continent": "Europe",
                    "year": "1957-01-01",
                    "life_expectancy": 67.48,
                    "population": 6965860,
                    "gdp_per_capita": 8842.59803
                  },
                  {
                    "country": "Austria",
                    "continent": "Europe",
                    "year": "1962-01-01",
                    "life_expectancy": 69.54,
                    "population": 7129864,
                    "gdp_per_capita": 10750.72111
                  },
                  {
                    "country": "Austria",
                    "continent": "Europe",
                    "year": "1967-01-01",
                    "life_expectancy": 70.14,
                    "population": 7376998,
                    "gdp_per_capita": 12834.6024
                  },
                  {
                    "country": "Austria",
                    "continent": "Europe",
                    "year": "1972-01-01",
                    "life_expectancy": 70.63,
                    "population": 7544201,
                    "gdp_per_capita": 16661.6256
                  },
                  {
                    "country": "Austria",
                    "continent": "Europe",
                    "year": "1977-01-01",
                    "life_expectancy": 72.17,
                    "population": 7568430,
                    "gdp_per_capita": 19749.4223
                  },
                  {
                    "country": "Austria",
                    "continent": "Europe",
                    "year": "1982-01-01",
                    "life_expectancy": 73.18,
                    "population": 7574613,
                    "gdp_per_capita": 21597.08362
                  },
                  {
                    "country": "Austria",
                    "continent": "Europe",
                    "year": "1987-01-01",
                    "life_expectancy": 74.94,
                    "population": 7578903,
                    "gdp_per_capita": 23687.82607
                  },
                  {
                    "country": "Austria",
                    "continent": "Europe",
                    "year": "1992-01-01",
                    "life_expectancy": 76.04,
                    "population": 7914969,
                    "gdp_per_capita": 27042.01868
                  },
                  {
                    "country": "Austria",
                    "continent": "Europe",
                    "year": "1997-01-01",
                    "life_expectancy": 77.51,
                    "population": 8069876,
                    "gdp_per_capita": 29095.92066
                  },
                  {
                    "country": "Austria",
                    "continent": "Europe",
                    "year": "2002-01-01",
                    "life_expectancy": 78.98,
                    "population": 8148312,
                    "gdp_per_capita": 32417.60769
                  },
                  {
                    "country": "Austria",
                    "continent": "Europe",
                    "year": "2007-01-01",
                    "life_expectancy": 79.829,
                    "population": 8199783,
                    "gdp_per_capita": 36126.4927
                  },
                  {
                    "country": "Bahrain",
                    "continent": "Asia",
                    "year": "1952-01-01",
                    "life_expectancy": 50.939,
                    "population": 120447,
                    "gdp_per_capita": 9867.084765
                  },
                  {
                    "country": "Bahrain",
                    "continent": "Asia",
                    "year": "1957-01-01",
                    "life_expectancy": 53.832,
                    "population": 138655,
                    "gdp_per_capita": 11635.79945
                  },
                  {
                    "country": "Bahrain",
                    "continent": "Asia",
                    "year": "1962-01-01",
                    "life_expectancy": 56.923,
                    "population": 171863,
                    "gdp_per_capita": 12753.27514
                  },
                  {
                    "country": "Bahrain",
                    "continent": "Asia",
                    "year": "1967-01-01",
                    "life_expectancy": 59.923,
                    "population": 202182,
                    "gdp_per_capita": 14804.6727
                  },
                  {
                    "country": "Bahrain",
                    "continent": "Asia",
                    "year": "1972-01-01",
                    "life_expectancy": 63.3,
                    "population": 230800,
                    "gdp_per_capita": 18268.65839
                  },
                  {
                    "country": "Bahrain",
                    "continent": "Asia",
                    "year": "1977-01-01",
                    "life_expectancy": 65.593,
                    "population": 297410,
                    "gdp_per_capita": 19340.10196
                  },
                  {
                    "country": "Bahrain",
                    "continent": "Asia",
                    "year": "1982-01-01",
                    "life_expectancy": 69.052,
                    "population": 377967,
                    "gdp_per_capita": 19211.14731
                  },
                  {
                    "country": "Bahrain",
                    "continent": "Asia",
                    "year": "1987-01-01",
                    "life_expectancy": 70.75,
                    "population": 454612,
                    "gdp_per_capita": 18524.02406
                  },
                  {
                    "country": "Bahrain",
                    "continent": "Asia",
                    "year": "1992-01-01",
                    "life_expectancy": 72.601,
                    "population": 529491,
                    "gdp_per_capita": 19035.57917
                  },
                  {
                    "country": "Bahrain",
                    "continent": "Asia",
                    "year": "1997-01-01",
                    "life_expectancy": 73.925,
                    "population": 598561,
                    "gdp_per_capita": 20292.01679
                  },
                  {
                    "country": "Bahrain",
                    "continent": "Asia",
                    "year": "2002-01-01",
                    "life_expectancy": 74.795,
                    "population": 656397,
                    "gdp_per_capita": 23403.55927
                  },
                  {
                    "country": "Bahrain",
                    "continent": "Asia",
                    "year": "2007-01-01",
                    "life_expectancy": 75.635,
                    "population": 708573,
                    "gdp_per_capita": 29796.04834
                  },
                  {
                    "country": "Bangladesh",
                    "continent": "Asia",
                    "year": "1952-01-01",
                    "life_expectancy": 37.484,
                    "population": 46886859,
                    "gdp_per_capita": 684.2441716
                  },
                  {
                    "country": "Bangladesh",
                    "continent": "Asia",
                    "year": "1957-01-01",
                    "life_expectancy": 39.348,
                    "population": 51365468,
                    "gdp_per_capita": 661.6374577
                  },
                  {
                    "country": "Bangladesh",
                    "continent": "Asia",
                    "year": "1962-01-01",
                    "life_expectancy": 41.216,
                    "population": 56839289,
                    "gdp_per_capita": 686.3415538
                  },
                  {
                    "country": "Bangladesh",
                    "continent": "Asia",
                    "year": "1967-01-01",
                    "life_expectancy": 43.453,
                    "population": 62821884,
                    "gdp_per_capita": 721.1860862
                  },
                  {
                    "country": "Bangladesh",
                    "continent": "Asia",
                    "year": "1972-01-01",
                    "life_expectancy": 45.252,
                    "population": 70759295,
                    "gdp_per_capita": 630.2336265
                  },
                  {
                    "country": "Bangladesh",
                    "continent": "Asia",
                    "year": "1977-01-01",
                    "life_expectancy": 46.923,
                    "population": 80428306,
                    "gdp_per_capita": 659.8772322
                  },
                  {
                    "country": "Bangladesh",
                    "continent": "Asia",
                    "year": "1982-01-01",
                    "life_expectancy": 50.009,
                    "population": 93074406,
                    "gdp_per_capita": 676.9818656
                  },
                  {
                    "country": "Bangladesh",
                    "continent": "Asia",
                    "year": "1987-01-01",
                    "life_expectancy": 52.819,
                    "population": 103764241,
                    "gdp_per_capita": 751.9794035
                  },
                  {
                    "country": "Bangladesh",
                    "continent": "Asia",
                    "year": "1992-01-01",
                    "life_expectancy": 56.018,
                    "population": 113704579,
                    "gdp_per_capita": 837.8101643
                  },
                  {
                    "country": "Bangladesh",
                    "continent": "Asia",
                    "year": "1997-01-01",
                    "life_expectancy": 59.412,
                    "population": 123315288,
                    "gdp_per_capita": 972.7700352
                  },
                  {
                    "country": "Bangladesh",
                    "continent": "Asia",
                    "year": "2002-01-01",
                    "life_expectancy": 62.013,
                    "population": 135656790,
                    "gdp_per_capita": 1136.39043
                  },
                  {
                    "country": "Bangladesh",
                    "continent": "Asia",
                    "year": "2007-01-01",
                    "life_expectancy": 64.062,
                    "population": 150448339,
                    "gdp_per_capita": 1391.253792
                  },
                  {
                    "country": "Belgium",
                    "continent": "Europe",
                    "year": "1952-01-01",
                    "life_expectancy": 68,
                    "population": 8730405,
                    "gdp_per_capita": 8343.105127
                  },
                  {
                    "country": "Belgium",
                    "continent": "Europe",
                    "year": "1957-01-01",
                    "life_expectancy": 69.24,
                    "population": 8989111,
                    "gdp_per_capita": 9714.960623
                  },
                  {
                    "country": "Belgium",
                    "continent": "Europe",
                    "year": "1962-01-01",
                    "life_expectancy": 70.25,
                    "population": 9218400,
                    "gdp_per_capita": 10991.20676
                  },
                  {
                    "country": "Belgium",
                    "continent": "Europe",
                    "year": "1967-01-01",
                    "life_expectancy": 70.94,
                    "population": 9556500,
                    "gdp_per_capita": 13149.04119
                  },
                  {
                    "country": "Belgium",
                    "continent": "Europe",
                    "year": "1972-01-01",
                    "life_expectancy": 71.44,
                    "population": 9709100,
                    "gdp_per_capita": 16672.14356
                  },
                  {
                    "country": "Belgium",
                    "continent": "Europe",
                    "year": "1977-01-01",
                    "life_expectancy": 72.8,
                    "population": 9821800,
                    "gdp_per_capita": 19117.97448
                  },
                  {
                    "country": "Belgium",
                    "continent": "Europe",
                    "year": "1982-01-01",
                    "life_expectancy": 73.93,
                    "population": 9856303,
                    "gdp_per_capita": 20979.84589
                  },
                  {
                    "country": "Belgium",
                    "continent": "Europe",
                    "year": "1987-01-01",
                    "life_expectancy": 75.35,
                    "population": 9870200,
                    "gdp_per_capita": 22525.56308
                  },
                  {
                    "country": "Belgium",
                    "continent": "Europe",
                    "year": "1992-01-01",
                    "life_expectancy": 76.46,
                    "population": 10045622,
                    "gdp_per_capita": 25575.57069
                  },
                  {
                    "country": "Belgium",
                    "continent": "Europe",
                    "year": "1997-01-01",
                    "life_expectancy": 77.53,
                    "population": 10199787,
                    "gdp_per_capita": 27561.19663
                  },
                  {
                    "country": "Belgium",
                    "continent": "Europe",
                    "year": "2002-01-01",
                    "life_expectancy": 78.32,
                    "population": 10311970,
                    "gdp_per_capita": 30485.88375
                  },
                  {
                    "country": "Belgium",
                    "continent": "Europe",
                    "year": "2007-01-01",
                    "life_expectancy": 79.441,
                    "population": 10392226,
                    "gdp_per_capita": 33692.60508
                  },
                  {
                    "country": "Benin",
                    "continent": "Africa",
                    "year": "1952-01-01",
                    "life_expectancy": 38.223,
                    "population": 1738315,
                    "gdp_per_capita": 1062.7522
                  },
                  {
                    "country": "Benin",
                    "continent": "Africa",
                    "year": "1957-01-01",
                    "life_expectancy": 40.358,
                    "population": 1925173,
                    "gdp_per_capita": 959.6010805
                  },
                  {
                    "country": "Benin",
                    "continent": "Africa",
                    "year": "1962-01-01",
                    "life_expectancy": 42.618,
                    "population": 2151895,
                    "gdp_per_capita": 949.4990641
                  },
                  {
                    "country": "Benin",
                    "continent": "Africa",
                    "year": "1967-01-01",
                    "life_expectancy": 44.885,
                    "population": 2427334,
                    "gdp_per_capita": 1035.831411
                  },
                  {
                    "country": "Benin",
                    "continent": "Africa",
                    "year": "1972-01-01",
                    "life_expectancy": 47.014,
                    "population": 2761407,
                    "gdp_per_capita": 1085.796879
                  },
                  {
                    "country": "Benin",
                    "continent": "Africa",
                    "year": "1977-01-01",
                    "life_expectancy": 49.19,
                    "population": 3168267,
                    "gdp_per_capita": 1029.161251
                  },
                  {
                    "country": "Benin",
                    "continent": "Africa",
                    "year": "1982-01-01",
                    "life_expectancy": 50.904,
                    "population": 3641603,
                    "gdp_per_capita": 1277.897616
                  },
                  {
                    "country": "Benin",
                    "continent": "Africa",
                    "year": "1987-01-01",
                    "life_expectancy": 52.337,
                    "population": 4243788,
                    "gdp_per_capita": 1225.85601
                  },
                  {
                    "country": "Benin",
                    "continent": "Africa",
                    "year": "1992-01-01",
                    "life_expectancy": 53.919,
                    "population": 4981671,
                    "gdp_per_capita": 1191.207681
                  },
                  {
                    "country": "Benin",
                    "continent": "Africa",
                    "year": "1997-01-01",
                    "life_expectancy": 54.777,
                    "population": 6066080,
                    "gdp_per_capita": 1232.975292
                  },
                  {
                    "country": "Benin",
                    "continent": "Africa",
                    "year": "2002-01-01",
                    "life_expectancy": 54.406,
                    "population": 7026113,
                    "gdp_per_capita": 1372.877931
                  },
                  {
                    "country": "Benin",
                    "continent": "Africa",
                    "year": "2007-01-01",
                    "life_expectancy": 56.728,
                    "population": 8078314,
                    "gdp_per_capita": 1441.284873
                  },
                  {
                    "country": "Bolivia",
                    "continent": "Americas",
                    "year": "1952-01-01",
                    "life_expectancy": 40.414,
                    "population": 2883315,
                    "gdp_per_capita": 2677.326347
                  },
                  {
                    "country": "Bolivia",
                    "continent": "Americas",
                    "year": "1957-01-01",
                    "life_expectancy": 41.89,
                    "population": 3211738,
                    "gdp_per_capita": 2127.686326
                  },
                  {
                    "country": "Bolivia",
                    "continent": "Americas",
                    "year": "1962-01-01",
                    "life_expectancy": 43.428,
                    "population": 3593918,
                    "gdp_per_capita": 2180.972546
                  },
                  {
                    "country": "Bolivia",
                    "continent": "Americas",
                    "year": "1967-01-01",
                    "life_expectancy": 45.032,
                    "population": 4040665,
                    "gdp_per_capita": 2586.886053
                  },
                  {
                    "country": "Bolivia",
                    "continent": "Americas",
                    "year": "1972-01-01",
                    "life_expectancy": 46.714,
                    "population": 4565872,
                    "gdp_per_capita": 2980.331339
                  },
                  {
                    "country": "Bolivia",
                    "continent": "Americas",
                    "year": "1977-01-01",
                    "life_expectancy": 50.023,
                    "population": 5079716,
                    "gdp_per_capita": 3548.097832
                  },
                  {
                    "country": "Bolivia",
                    "continent": "Americas",
                    "year": "1982-01-01",
                    "life_expectancy": 53.859,
                    "population": 5642224,
                    "gdp_per_capita": 3156.510452
                  },
                  {
                    "country": "Bolivia",
                    "continent": "Americas",
                    "year": "1987-01-01",
                    "life_expectancy": 57.251,
                    "population": 6156369,
                    "gdp_per_capita": 2753.69149
                  },
                  {
                    "country": "Bolivia",
                    "continent": "Americas",
                    "year": "1992-01-01",
                    "life_expectancy": 59.957,
                    "population": 6893451,
                    "gdp_per_capita": 2961.699694
                  },
                  {
                    "country": "Bolivia",
                    "continent": "Americas",
                    "year": "1997-01-01",
                    "life_expectancy": 62.05,
                    "population": 7693188,
                    "gdp_per_capita": 3326.143191
                  },
                  {
                    "country": "Bolivia",
                    "continent": "Americas",
                    "year": "2002-01-01",
                    "life_expectancy": 63.883,
                    "population": 8445134,
                    "gdp_per_capita": 3413.26269
                  },
                  {
                    "country": "Bolivia",
                    "continent": "Americas",
                    "year": "2007-01-01",
                    "life_expectancy": 65.554,
                    "population": 9119152,
                    "gdp_per_capita": 3822.137084
                  },
                  {
                    "country": "Bosnia and Herzegovina",
                    "continent": "Europe",
                    "year": "1952-01-01",
                    "life_expectancy": 53.82,
                    "population": 2791000,
                    "gdp_per_capita": 973.5331948
                  },
                  {
                    "country": "Bosnia and Herzegovina",
                    "continent": "Europe",
                    "year": "1957-01-01",
                    "life_expectancy": 58.45,
                    "population": 3076000,
                    "gdp_per_capita": 1353.989176
                  },
                  {
                    "country": "Bosnia and Herzegovina",
                    "continent": "Europe",
                    "year": "1962-01-01",
                    "life_expectancy": 61.93,
                    "population": 3349000,
                    "gdp_per_capita": 1709.683679
                  },
                  {
                    "country": "Bosnia and Herzegovina",
                    "continent": "Europe",
                    "year": "1967-01-01",
                    "life_expectancy": 64.79,
                    "population": 3585000,
                    "gdp_per_capita": 2172.352423
                  },
                  {
                    "country": "Bosnia and Herzegovina",
                    "continent": "Europe",
                    "year": "1972-01-01",
                    "life_expectancy": 67.45,
                    "population": 3819000,
                    "gdp_per_capita": 2860.16975
                  },
                  {
                    "country": "Bosnia and Herzegovina",
                    "continent": "Europe",
                    "year": "1977-01-01",
                    "life_expectancy": 69.86,
                    "population": 4086000,
                    "gdp_per_capita": 3528.481305
                  },
                  {
                    "country": "Bosnia and Herzegovina",
                    "continent": "Europe",
                    "year": "1982-01-01",
                    "life_expectancy": 70.69,
                    "population": 4172693,
                    "gdp_per_capita": 4126.613157
                  },
                  {
                    "country": "Bosnia and Herzegovina",
                    "continent": "Europe",
                    "year": "1987-01-01",
                    "life_expectancy": 71.14,
                    "population": 4338977,
                    "gdp_per_capita": 4314.114757
                  },
                  {
                    "country": "Bosnia and Herzegovina",
                    "continent": "Europe",
                    "year": "1992-01-01",
                    "life_expectancy": 72.178,
                    "population": 4256013,
                    "gdp_per_capita": 2546.781445
                  },
                  {
                    "country": "Bosnia and Herzegovina",
                    "continent": "Europe",
                    "year": "1997-01-01",
                    "life_expectancy": 73.244,
                    "population": 3607000,
                    "gdp_per_capita": 4766.355904
                  },
                  {
                    "country": "Bosnia and Herzegovina",
                    "continent": "Europe",
                    "year": "2002-01-01",
                    "life_expectancy": 74.09,
                    "population": 4165416,
                    "gdp_per_capita": 6018.975239
                  },
                  {
                    "country": "Bosnia and Herzegovina",
                    "continent": "Europe",
                    "year": "2007-01-01",
                    "life_expectancy": 74.852,
                    "population": 4552198,
                    "gdp_per_capita": 7446.298803
                  },
                  {
                    "country": "Botswana",
                    "continent": "Africa",
                    "year": "1952-01-01",
                    "life_expectancy": 47.622,
                    "population": 442308,
                    "gdp_per_capita": 851.2411407
                  },
                  {
                    "country": "Botswana",
                    "continent": "Africa",
                    "year": "1957-01-01",
                    "life_expectancy": 49.618,
                    "population": 474639,
                    "gdp_per_capita": 918.2325349
                  },
                  {
                    "country": "Botswana",
                    "continent": "Africa",
                    "year": "1962-01-01",
                    "life_expectancy": 51.52,
                    "population": 512764,
                    "gdp_per_capita": 983.6539764
                  },
                  {
                    "country": "Botswana",
                    "continent": "Africa",
                    "year": "1967-01-01",
                    "life_expectancy": 53.298,
                    "population": 553541,
                    "gdp_per_capita": 1214.709294
                  },
                  {
                    "country": "Botswana",
                    "continent": "Africa",
                    "year": "1972-01-01",
                    "life_expectancy": 56.024,
                    "population": 619351,
                    "gdp_per_capita": 2263.611114
                  },
                  {
                    "country": "Botswana",
                    "continent": "Africa",
                    "year": "1977-01-01",
                    "life_expectancy": 59.319,
                    "population": 781472,
                    "gdp_per_capita": 3214.857818
                  },
                  {
                    "country": "Botswana",
                    "continent": "Africa",
                    "year": "1982-01-01",
                    "life_expectancy": 61.484,
                    "population": 970347,
                    "gdp_per_capita": 4551.14215
                  },
                  {
                    "country": "Botswana",
                    "continent": "Africa",
                    "year": "1987-01-01",
                    "life_expectancy": 63.622,
                    "population": 1151184,
                    "gdp_per_capita": 6205.88385
                  },
                  {
                    "country": "Botswana",
                    "continent": "Africa",
                    "year": "1992-01-01",
                    "life_expectancy": 62.745,
                    "population": 1342614,
                    "gdp_per_capita": 7954.111645
                  },
                  {
                    "country": "Botswana",
                    "continent": "Africa",
                    "year": "1997-01-01",
                    "life_expectancy": 52.556,
                    "population": 1536536,
                    "gdp_per_capita": 8647.142313
                  },
                  {
                    "country": "Botswana",
                    "continent": "Africa",
                    "year": "2002-01-01",
                    "life_expectancy": 46.634,
                    "population": 1630347,
                    "gdp_per_capita": 11003.60508
                  },
                  {
                    "country": "Botswana",
                    "continent": "Africa",
                    "year": "2007-01-01",
                    "life_expectancy": 50.728,
                    "population": 1639131,
                    "gdp_per_capita": 12569.85177
                  },
                  {
                    "country": "Brazil",
                    "continent": "Americas",
                    "year": "1952-01-01",
                    "life_expectancy": 50.917,
                    "population": 56602560,
                    "gdp_per_capita": 2108.944355
                  },
                  {
                    "country": "Brazil",
                    "continent": "Americas",
                    "year": "1957-01-01",
                    "life_expectancy": 53.285,
                    "population": 65551171,
                    "gdp_per_capita": 2487.365989
                  },
                  {
                    "country": "Brazil",
                    "continent": "Americas",
                    "year": "1962-01-01",
                    "life_expectancy": 55.665,
                    "population": 76039390,
                    "gdp_per_capita": 3336.585802
                  },
                  {
                    "country": "Brazil",
                    "continent": "Americas",
                    "year": "1967-01-01",
                    "life_expectancy": 57.632,
                    "population": 88049823,
                    "gdp_per_capita": 3429.864357
                  },
                  {
                    "country": "Brazil",
                    "continent": "Americas",
                    "year": "1972-01-01",
                    "life_expectancy": 59.504,
                    "population": 100840058,
                    "gdp_per_capita": 4985.711467
                  },
                  {
                    "country": "Brazil",
                    "continent": "Americas",
                    "year": "1977-01-01",
                    "life_expectancy": 61.489,
                    "population": 114313951,
                    "gdp_per_capita": 6660.118654
                  },
                  {
                    "country": "Brazil",
                    "continent": "Americas",
                    "year": "1982-01-01",
                    "life_expectancy": 63.336,
                    "population": 128962939,
                    "gdp_per_capita": 7030.835878
                  },
                  {
                    "country": "Brazil",
                    "continent": "Americas",
                    "year": "1987-01-01",
                    "life_expectancy": 65.205,
                    "population": 142938076,
                    "gdp_per_capita": 7807.095818
                  },
                  {
                    "country": "Brazil",
                    "continent": "Americas",
                    "year": "1992-01-01",
                    "life_expectancy": 67.057,
                    "population": 155975974,
                    "gdp_per_capita": 6950.283021
                  },
                  {
                    "country": "Brazil",
                    "continent": "Americas",
                    "year": "1997-01-01",
                    "life_expectancy": 69.388,
                    "population": 168546719,
                    "gdp_per_capita": 7957.980824
                  },
                  {
                    "country": "Brazil",
                    "continent": "Americas",
                    "year": "2002-01-01",
                    "life_expectancy": 71.006,
                    "population": 179914212,
                    "gdp_per_capita": 8131.212843
                  },
                  {
                    "country": "Brazil",
                    "continent": "Americas",
                    "year": "2007-01-01",
                    "life_expectancy": 72.39,
                    "population": 190010647,
                    "gdp_per_capita": 9065.800825
                  },
                  {
                    "country": "Bulgaria",
                    "continent": "Europe",
                    "year": "1952-01-01",
                    "life_expectancy": 59.6,
                    "population": 7274900,
                    "gdp_per_capita": 2444.286648
                  },
                  {
                    "country": "Bulgaria",
                    "continent": "Europe",
                    "year": "1957-01-01",
                    "life_expectancy": 66.61,
                    "population": 7651254,
                    "gdp_per_capita": 3008.670727
                  },
                  {
                    "country": "Bulgaria",
                    "continent": "Europe",
                    "year": "1962-01-01",
                    "life_expectancy": 69.51,
                    "population": 8012946,
                    "gdp_per_capita": 4254.337839
                  },
                  {
                    "country": "Bulgaria",
                    "continent": "Europe",
                    "year": "1967-01-01",
                    "life_expectancy": 70.42,
                    "population": 8310226,
                    "gdp_per_capita": 5577.0028
                  },
                  {
                    "country": "Bulgaria",
                    "continent": "Europe",
                    "year": "1972-01-01",
                    "life_expectancy": 70.9,
                    "population": 8576200,
                    "gdp_per_capita": 6597.494398
                  },
                  {
                    "country": "Bulgaria",
                    "continent": "Europe",
                    "year": "1977-01-01",
                    "life_expectancy": 70.81,
                    "population": 8797022,
                    "gdp_per_capita": 7612.240438
                  },
                  {
                    "country": "Bulgaria",
                    "continent": "Europe",
                    "year": "1982-01-01",
                    "life_expectancy": 71.08,
                    "population": 8892098,
                    "gdp_per_capita": 8224.191647
                  },
                  {
                    "country": "Bulgaria",
                    "continent": "Europe",
                    "year": "1987-01-01",
                    "life_expectancy": 71.34,
                    "population": 8971958,
                    "gdp_per_capita": 8239.854824
                  },
                  {
                    "country": "Bulgaria",
                    "continent": "Europe",
                    "year": "1992-01-01",
                    "life_expectancy": 71.19,
                    "population": 8658506,
                    "gdp_per_capita": 6302.623438
                  },
                  {
                    "country": "Bulgaria",
                    "continent": "Europe",
                    "year": "1997-01-01",
                    "life_expectancy": 70.32,
                    "population": 8066057,
                    "gdp_per_capita": 5970.38876
                  },
                  {
                    "country": "Bulgaria",
                    "continent": "Europe",
                    "year": "2002-01-01",
                    "life_expectancy": 72.14,
                    "population": 7661799,
                    "gdp_per_capita": 7696.777725
                  },
                  {
                    "country": "Bulgaria",
                    "continent": "Europe",
                    "year": "2007-01-01",
                    "life_expectancy": 73.005,
                    "population": 7322858,
                    "gdp_per_capita": 10680.79282
                  },
                  {
                    "country": "Burkina Faso",
                    "continent": "Africa",
                    "year": "1952-01-01",
                    "life_expectancy": 31.975,
                    "population": 4469979,
                    "gdp_per_capita": 543.2552413
                  },
                  {
                    "country": "Burkina Faso",
                    "continent": "Africa",
                    "year": "1957-01-01",
                    "life_expectancy": 34.906,
                    "population": 4713416,
                    "gdp_per_capita": 617.1834648
                  },
                  {
                    "country": "Burkina Faso",
                    "continent": "Africa",
                    "year": "1962-01-01",
                    "life_expectancy": 37.814,
                    "population": 4919632,
                    "gdp_per_capita": 722.5120206
                  },
                  {
                    "country": "Burkina Faso",
                    "continent": "Africa",
                    "year": "1967-01-01",
                    "life_expectancy": 40.697,
                    "population": 5127935,
                    "gdp_per_capita": 794.8265597
                  },
                  {
                    "country": "Burkina Faso",
                    "continent": "Africa",
                    "year": "1972-01-01",
                    "life_expectancy": 43.591,
                    "population": 5433886,
                    "gdp_per_capita": 854.7359763
                  },
                  {
                    "country": "Burkina Faso",
                    "continent": "Africa",
                    "year": "1977-01-01",
                    "life_expectancy": 46.137,
                    "population": 5889574,
                    "gdp_per_capita": 743.3870368
                  },
                  {
                    "country": "Burkina Faso",
                    "continent": "Africa",
                    "year": "1982-01-01",
                    "life_expectancy": 48.122,
                    "population": 6634596,
                    "gdp_per_capita": 807.1985855
                  },
                  {
                    "country": "Burkina Faso",
                    "continent": "Africa",
                    "year": "1987-01-01",
                    "life_expectancy": 49.557,
                    "population": 7586551,
                    "gdp_per_capita": 912.0631417
                  },
                  {
                    "country": "Burkina Faso",
                    "continent": "Africa",
                    "year": "1992-01-01",
                    "life_expectancy": 50.26,
                    "population": 8878303,
                    "gdp_per_capita": 931.7527731
                  },
                  {
                    "country": "Burkina Faso",
                    "continent": "Africa",
                    "year": "1997-01-01",
                    "life_expectancy": 50.324,
                    "population": 10352843,
                    "gdp_per_capita": 946.2949618
                  },
                  {
                    "country": "Burkina Faso",
                    "continent": "Africa",
                    "year": "2002-01-01",
                    "life_expectancy": 50.65,
                    "population": 12251209,
                    "gdp_per_capita": 1037.645221
                  },
                  {
                    "country": "Burkina Faso",
                    "continent": "Africa",
                    "year": "2007-01-01",
                    "life_expectancy": 52.295,
                    "population": 14326203,
                    "gdp_per_capita": 1217.032994
                  },
                  {
                    "country": "Burundi",
                    "continent": "Africa",
                    "year": "1952-01-01",
                    "life_expectancy": 39.031,
                    "population": 2445618,
                    "gdp_per_capita": 339.2964587
                  },
                  {
                    "country": "Burundi",
                    "continent": "Africa",
                    "year": "1957-01-01",
                    "life_expectancy": 40.533,
                    "population": 2667518,
                    "gdp_per_capita": 379.5646281
                  },
                  {
                    "country": "Burundi",
                    "continent": "Africa",
                    "year": "1962-01-01",
                    "life_expectancy": 42.045,
                    "population": 2961915,
                    "gdp_per_capita": 355.2032273
                  },
                  {
                    "country": "Burundi",
                    "continent": "Africa",
                    "year": "1967-01-01",
                    "life_expectancy": 43.548,
                    "population": 3330989,
                    "gdp_per_capita": 412.9775136
                  },
                  {
                    "country": "Burundi",
                    "continent": "Africa",
                    "year": "1972-01-01",
                    "life_expectancy": 44.057,
                    "population": 3529983,
                    "gdp_per_capita": 464.0995039
                  },
                  {
                    "country": "Burundi",
                    "continent": "Africa",
                    "year": "1977-01-01",
                    "life_expectancy": 45.91,
                    "population": 3834415,
                    "gdp_per_capita": 556.1032651
                  },
                  {
                    "country": "Burundi",
                    "continent": "Africa",
                    "year": "1982-01-01",
                    "life_expectancy": 47.471,
                    "population": 4580410,
                    "gdp_per_capita": 559.603231
                  },
                  {
                    "country": "Burundi",
                    "continent": "Africa",
                    "year": "1987-01-01",
                    "life_expectancy": 48.211,
                    "population": 5126023,
                    "gdp_per_capita": 621.8188189
                  },
                  {
                    "country": "Burundi",
                    "continent": "Africa",
                    "year": "1992-01-01",
                    "life_expectancy": 44.736,
                    "population": 5809236,
                    "gdp_per_capita": 631.6998778
                  },
                  {
                    "country": "Burundi",
                    "continent": "Africa",
                    "year": "1997-01-01",
                    "life_expectancy": 45.326,
                    "population": 6121610,
                    "gdp_per_capita": 463.1151478
                  },
                  {
                    "country": "Burundi",
                    "continent": "Africa",
                    "year": "2002-01-01",
                    "life_expectancy": 47.36,
                    "population": 7021078,
                    "gdp_per_capita": 446.4035126
                  },
                  {
                    "country": "Burundi",
                    "continent": "Africa",
                    "year": "2007-01-01",
                    "life_expectancy": 49.58,
                    "population": 8390505,
                    "gdp_per_capita": 430.0706916
                  },
                  {
                    "country": "Cambodia",
                    "continent": "Asia",
                    "year": "1952-01-01",
                    "life_expectancy": 39.417,
                    "population": 4693836,
                    "gdp_per_capita": 368.4692856
                  },
                  {
                    "country": "Cambodia",
                    "continent": "Asia",
                    "year": "1957-01-01",
                    "life_expectancy": 41.366,
                    "population": 5322536,
                    "gdp_per_capita": 434.0383364
                  },
                  {
                    "country": "Cambodia",
                    "continent": "Asia",
                    "year": "1962-01-01",
                    "life_expectancy": 43.415,
                    "population": 6083619,
                    "gdp_per_capita": 496.9136476
                  },
                  {
                    "country": "Cambodia",
                    "continent": "Asia",
                    "year": "1967-01-01",
                    "life_expectancy": 45.415,
                    "population": 6960067,
                    "gdp_per_capita": 523.4323142
                  },
                  {
                    "country": "Cambodia",
                    "continent": "Asia",
                    "year": "1972-01-01",
                    "life_expectancy": 40.317,
                    "population": 7450606,
                    "gdp_per_capita": 421.6240257
                  },
                  {
                    "country": "Cambodia",
                    "continent": "Asia",
                    "year": "1977-01-01",
                    "life_expectancy": 31.22,
                    "population": 6978607,
                    "gdp_per_capita": 524.9721832
                  },
                  {
                    "country": "Cambodia",
                    "continent": "Asia",
                    "year": "1982-01-01",
                    "life_expectancy": 50.957,
                    "population": 7272485,
                    "gdp_per_capita": 624.4754784
                  },
                  {
                    "country": "Cambodia",
                    "continent": "Asia",
                    "year": "1987-01-01",
                    "life_expectancy": 53.914,
                    "population": 8371791,
                    "gdp_per_capita": 683.8955732
                  },
                  {
                    "country": "Cambodia",
                    "continent": "Asia",
                    "year": "1992-01-01",
                    "life_expectancy": 55.803,
                    "population": 10150094,
                    "gdp_per_capita": 682.3031755
                  },
                  {
                    "country": "Cambodia",
                    "continent": "Asia",
                    "year": "1997-01-01",
                    "life_expectancy": 56.534,
                    "population": 11782962,
                    "gdp_per_capita": 734.28517
                  },
                  {
                    "country": "Cambodia",
                    "continent": "Asia",
                    "year": "2002-01-01",
                    "life_expectancy": 56.752,
                    "population": 12926707,
                    "gdp_per_capita": 896.2260153
                  },
                  {
                    "country": "Cambodia",
                    "continent": "Asia",
                    "year": "2007-01-01",
                    "life_expectancy": 59.723,
                    "population": 14131858,
                    "gdp_per_capita": 1713.778686
                  },
                  {
                    "country": "Cameroon",
                    "continent": "Africa",
                    "year": "1952-01-01",
                    "life_expectancy": 38.523,
                    "population": 5009067,
                    "gdp_per_capita": 1172.667655
                  },
                  {
                    "country": "Cameroon",
                    "continent": "Africa",
                    "year": "1957-01-01",
                    "life_expectancy": 40.428,
                    "population": 5359923,
                    "gdp_per_capita": 1313.048099
                  },
                  {
                    "country": "Cameroon",
                    "continent": "Africa",
                    "year": "1962-01-01",
                    "life_expectancy": 42.643,
                    "population": 5793633,
                    "gdp_per_capita": 1399.607441
                  },
                  {
                    "country": "Cameroon",
                    "continent": "Africa",
                    "year": "1967-01-01",
                    "life_expectancy": 44.799,
                    "population": 6335506,
                    "gdp_per_capita": 1508.453148
                  },
                  {
                    "country": "Cameroon",
                    "continent": "Africa",
                    "year": "1972-01-01",
                    "life_expectancy": 47.049,
                    "population": 7021028,
                    "gdp_per_capita": 1684.146528
                  },
                  {
                    "country": "Cameroon",
                    "continent": "Africa",
                    "year": "1977-01-01",
                    "life_expectancy": 49.355,
                    "population": 7959865,
                    "gdp_per_capita": 1783.432873
                  },
                  {
                    "country": "Cameroon",
                    "continent": "Africa",
                    "year": "1982-01-01",
                    "life_expectancy": 52.961,
                    "population": 9250831,
                    "gdp_per_capita": 2367.983282
                  },
                  {
                    "country": "Cameroon",
                    "continent": "Africa",
                    "year": "1987-01-01",
                    "life_expectancy": 54.985,
                    "population": 10780667,
                    "gdp_per_capita": 2602.664206
                  },
                  {
                    "country": "Cameroon",
                    "continent": "Africa",
                    "year": "1992-01-01",
                    "life_expectancy": 54.314,
                    "population": 12467171,
                    "gdp_per_capita": 1793.163278
                  },
                  {
                    "country": "Cameroon",
                    "continent": "Africa",
                    "year": "1997-01-01",
                    "life_expectancy": 52.199,
                    "population": 14195809,
                    "gdp_per_capita": 1694.337469
                  },
                  {
                    "country": "Cameroon",
                    "continent": "Africa",
                    "year": "2002-01-01",
                    "life_expectancy": 49.856,
                    "population": 15929988,
                    "gdp_per_capita": 1934.011449
                  },
                  {
                    "country": "Cameroon",
                    "continent": "Africa",
                    "year": "2007-01-01",
                    "life_expectancy": 50.43,
                    "population": 17696293,
                    "gdp_per_capita": 2042.09524
                  },
                  {
                    "country": "Canada",
                    "continent": "Americas",
                    "year": "1952-01-01",
                    "life_expectancy": 68.75,
                    "population": 14785584,
                    "gdp_per_capita": 11367.16112
                  },
                  {
                    "country": "Canada",
                    "continent": "Americas",
                    "year": "1957-01-01",
                    "life_expectancy": 69.96,
                    "population": 17010154,
                    "gdp_per_capita": 12489.95006
                  },
                  {
                    "country": "Canada",
                    "continent": "Americas",
                    "year": "1962-01-01",
                    "life_expectancy": 71.3,
                    "population": 18985849,
                    "gdp_per_capita": 13462.48555
                  },
                  {
                    "country": "Canada",
                    "continent": "Americas",
                    "year": "1967-01-01",
                    "life_expectancy": 72.13,
                    "population": 20819767,
                    "gdp_per_capita": 16076.58803
                  },
                  {
                    "country": "Canada",
                    "continent": "Americas",
                    "year": "1972-01-01",
                    "life_expectancy": 72.88,
                    "population": 22284500,
                    "gdp_per_capita": 18970.57086
                  },
                  {
                    "country": "Canada",
                    "continent": "Americas",
                    "year": "1977-01-01",
                    "life_expectancy": 74.21,
                    "population": 23796400,
                    "gdp_per_capita": 22090.88306
                  },
                  {
                    "country": "Canada",
                    "continent": "Americas",
                    "year": "1982-01-01",
                    "life_expectancy": 75.76,
                    "population": 25201900,
                    "gdp_per_capita": 22898.79214
                  },
                  {
                    "country": "Canada",
                    "continent": "Americas",
                    "year": "1987-01-01",
                    "life_expectancy": 76.86,
                    "population": 26549700,
                    "gdp_per_capita": 26626.51503
                  },
                  {
                    "country": "Canada",
                    "continent": "Americas",
                    "year": "1992-01-01",
                    "life_expectancy": 77.95,
                    "population": 28523502,
                    "gdp_per_capita": 26342.88426
                  },
                  {
                    "country": "Canada",
                    "continent": "Americas",
                    "year": "1997-01-01",
                    "life_expectancy": 78.61,
                    "population": 30305843,
                    "gdp_per_capita": 28954.92589
                  },
                  {
                    "country": "Canada",
                    "continent": "Americas",
                    "year": "2002-01-01",
                    "life_expectancy": 79.77,
                    "population": 31902268,
                    "gdp_per_capita": 33328.96507
                  },
                  {
                    "country": "Canada",
                    "continent": "Americas",
                    "year": "2007-01-01",
                    "life_expectancy": 80.653,
                    "population": 33390141,
                    "gdp_per_capita": 36319.23501
                  },
                  {
                    "country": "Central African Republic",
                    "continent": "Africa",
                    "year": "1952-01-01",
                    "life_expectancy": 35.463,
                    "population": 1291695,
                    "gdp_per_capita": 1071.310713
                  },
                  {
                    "country": "Central African Republic",
                    "continent": "Africa",
                    "year": "1957-01-01",
                    "life_expectancy": 37.464,
                    "population": 1392284,
                    "gdp_per_capita": 1190.844328
                  },
                  {
                    "country": "Central African Republic",
                    "continent": "Africa",
                    "year": "1962-01-01",
                    "life_expectancy": 39.475,
                    "population": 1523478,
                    "gdp_per_capita": 1193.068753
                  },
                  {
                    "country": "Central African Republic",
                    "continent": "Africa",
                    "year": "1967-01-01",
                    "life_expectancy": 41.478,
                    "population": 1733638,
                    "gdp_per_capita": 1136.056615
                  },
                  {
                    "country": "Central African Republic",
                    "continent": "Africa",
                    "year": "1972-01-01",
                    "life_expectancy": 43.457,
                    "population": 1927260,
                    "gdp_per_capita": 1070.013275
                  },
                  {
                    "country": "Central African Republic",
                    "continent": "Africa",
                    "year": "1977-01-01",
                    "life_expectancy": 46.775,
                    "population": 2167533,
                    "gdp_per_capita": 1109.374338
                  },
                  {
                    "country": "Central African Republic",
                    "continent": "Africa",
                    "year": "1982-01-01",
                    "life_expectancy": 48.295,
                    "population": 2476971,
                    "gdp_per_capita": 956.7529907
                  },
                  {
                    "country": "Central African Republic",
                    "continent": "Africa",
                    "year": "1987-01-01",
                    "life_expectancy": 50.485,
                    "population": 2840009,
                    "gdp_per_capita": 844.8763504
                  },
                  {
                    "country": "Central African Republic",
                    "continent": "Africa",
                    "year": "1992-01-01",
                    "life_expectancy": 49.396,
                    "population": 3265124,
                    "gdp_per_capita": 747.9055252
                  },
                  {
                    "country": "Central African Republic",
                    "continent": "Africa",
                    "year": "1997-01-01",
                    "life_expectancy": 46.066,
                    "population": 3696513,
                    "gdp_per_capita": 740.5063317
                  },
                  {
                    "country": "Central African Republic",
                    "continent": "Africa",
                    "year": "2002-01-01",
                    "life_expectancy": 43.308,
                    "population": 4048013,
                    "gdp_per_capita": 738.6906068
                  },
                  {
                    "country": "Central African Republic",
                    "continent": "Africa",
                    "year": "2007-01-01",
                    "life_expectancy": 44.741,
                    "population": 4369038,
                    "gdp_per_capita": 706.016537
                  },
                  {
                    "country": "Chad",
                    "continent": "Africa",
                    "year": "1952-01-01",
                    "life_expectancy": 38.092,
                    "population": 2682462,
                    "gdp_per_capita": 1178.665927
                  },
                  {
                    "country": "Chad",
                    "continent": "Africa",
                    "year": "1957-01-01",
                    "life_expectancy": 39.881,
                    "population": 2894855,
                    "gdp_per_capita": 1308.495577
                  },
                  {
                    "country": "Chad",
                    "continent": "Africa",
                    "year": "1962-01-01",
                    "life_expectancy": 41.716,
                    "population": 3150417,
                    "gdp_per_capita": 1389.817618
                  },
                  {
                    "country": "Chad",
                    "continent": "Africa",
                    "year": "1967-01-01",
                    "life_expectancy": 43.601,
                    "population": 3495967,
                    "gdp_per_capita": 1196.810565
                  },
                  {
                    "country": "Chad",
                    "continent": "Africa",
                    "year": "1972-01-01",
                    "life_expectancy": 45.569,
                    "population": 3899068,
                    "gdp_per_capita": 1104.103987
                  },
                  {
                    "country": "Chad",
                    "continent": "Africa",
                    "year": "1977-01-01",
                    "life_expectancy": 47.383,
                    "population": 4388260,
                    "gdp_per_capita": 1133.98495
                  },
                  {
                    "country": "Chad",
                    "continent": "Africa",
                    "year": "1982-01-01",
                    "life_expectancy": 49.517,
                    "population": 4875118,
                    "gdp_per_capita": 797.9081006
                  },
                  {
                    "country": "Chad",
                    "continent": "Africa",
                    "year": "1987-01-01",
                    "life_expectancy": 51.051,
                    "population": 5498955,
                    "gdp_per_capita": 952.386129
                  },
                  {
                    "country": "Chad",
                    "continent": "Africa",
                    "year": "1992-01-01",
                    "life_expectancy": 51.724,
                    "population": 6429417,
                    "gdp_per_capita": 1058.0643
                  },
                  {
                    "country": "Chad",
                    "continent": "Africa",
                    "year": "1997-01-01",
                    "life_expectancy": 51.573,
                    "population": 7562011,
                    "gdp_per_capita": 1004.961353
                  },
                  {
                    "country": "Chad",
                    "continent": "Africa",
                    "year": "2002-01-01",
                    "life_expectancy": 50.525,
                    "population": 8835739,
                    "gdp_per_capita": 1156.18186
                  },
                  {
                    "country": "Chad",
                    "continent": "Africa",
                    "year": "2007-01-01",
                    "life_expectancy": 50.651,
                    "population": 10238807,
                    "gdp_per_capita": 1704.063724
                  },
                  {
                    "country": "Chile",
                    "continent": "Americas",
                    "year": "1952-01-01",
                    "life_expectancy": 54.745,
                    "population": 6377619,
                    "gdp_per_capita": 3939.978789
                  },
                  {
                    "country": "Chile",
                    "continent": "Americas",
                    "year": "1957-01-01",
                    "life_expectancy": 56.074,
                    "population": 7048426,
                    "gdp_per_capita": 4315.622723
                  },
                  {
                    "country": "Chile",
                    "continent": "Americas",
                    "year": "1962-01-01",
                    "life_expectancy": 57.924,
                    "population": 7961258,
                    "gdp_per_capita": 4519.094331
                  },
                  {
                    "country": "Chile",
                    "continent": "Americas",
                    "year": "1967-01-01",
                    "life_expectancy": 60.523,
                    "population": 8858908,
                    "gdp_per_capita": 5106.654313
                  },
                  {
                    "country": "Chile",
                    "continent": "Americas",
                    "year": "1972-01-01",
                    "life_expectancy": 63.441,
                    "population": 9717524,
                    "gdp_per_capita": 5494.024437
                  },
                  {
                    "country": "Chile",
                    "continent": "Americas",
                    "year": "1977-01-01",
                    "life_expectancy": 67.052,
                    "population": 10599793,
                    "gdp_per_capita": 4756.763836
                  },
                  {
                    "country": "Chile",
                    "continent": "Americas",
                    "year": "1982-01-01",
                    "life_expectancy": 70.565,
                    "population": 11487112,
                    "gdp_per_capita": 5095.665738
                  },
                  {
                    "country": "Chile",
                    "continent": "Americas",
                    "year": "1987-01-01",
                    "life_expectancy": 72.492,
                    "population": 12463354,
                    "gdp_per_capita": 5547.063754
                  },
                  {
                    "country": "Chile",
                    "continent": "Americas",
                    "year": "1992-01-01",
                    "life_expectancy": 74.126,
                    "population": 13572994,
                    "gdp_per_capita": 7596.125964
                  },
                  {
                    "country": "Chile",
                    "continent": "Americas",
                    "year": "1997-01-01",
                    "life_expectancy": 75.816,
                    "population": 14599929,
                    "gdp_per_capita": 10118.05318
                  },
                  {
                    "country": "Chile",
                    "continent": "Americas",
                    "year": "2002-01-01",
                    "life_expectancy": 77.86,
                    "population": 15497046,
                    "gdp_per_capita": 10778.78385
                  },
                  {
                    "country": "Chile",
                    "continent": "Americas",
                    "year": "2007-01-01",
                    "life_expectancy": 78.553,
                    "population": 16284741,
                    "gdp_per_capita": 13171.63885
                  },
                  {
                    "country": "China",
                    "continent": "Asia",
                    "year": "1952-01-01",
                    "life_expectancy": 44,
                    "population": 556263527,
                    "gdp_per_capita": 400.448611
                  },
                  {
                    "country": "China",
                    "continent": "Asia",
                    "year": "1957-01-01",
                    "life_expectancy": 50.54896,
                    "population": 637408000,
                    "gdp_per_capita": 575.9870009
                  },
                  {
                    "country": "China",
                    "continent": "Asia",
                    "year": "1962-01-01",
                    "life_expectancy": 44.50136,
                    "population": 665770000,
                    "gdp_per_capita": 487.6740183
                  },
                  {
                    "country": "China",
                    "continent": "Asia",
                    "year": "1967-01-01",
                    "life_expectancy": 58.38112,
                    "population": 754550000,
                    "gdp_per_capita": 612.7056934
                  },
                  {
                    "country": "China",
                    "continent": "Asia",
                    "year": "1972-01-01",
                    "life_expectancy": 63.11888,
                    "population": 862030000,
                    "gdp_per_capita": 676.9000921
                  },
                  {
                    "country": "China",
                    "continent": "Asia",
                    "year": "1977-01-01",
                    "life_expectancy": 63.96736,
                    "population": 943455000,
                    "gdp_per_capita": 741.2374699
                  },
                  {
                    "country": "China",
                    "continent": "Asia",
                    "year": "1982-01-01",
                    "life_expectancy": 65.525,
                    "population": 1000281000,
                    "gdp_per_capita": 962.4213805
                  },
                  {
                    "country": "China",
                    "continent": "Asia",
                    "year": "1987-01-01",
                    "life_expectancy": 67.274,
                    "population": 1084035000,
                    "gdp_per_capita": 1378.904018
                  },
                  {
                    "country": "China",
                    "continent": "Asia",
                    "year": "1992-01-01",
                    "life_expectancy": 68.69,
                    "population": 1164970000,
                    "gdp_per_capita": 1655.784158
                  },
                  {
                    "country": "China",
                    "continent": "Asia",
                    "year": "1997-01-01",
                    "life_expectancy": 70.426,
                    "population": 1230075000,
                    "gdp_per_capita": 2289.234136
                  },
                  {
                    "country": "China",
                    "continent": "Asia",
                    "year": "2002-01-01",
                    "life_expectancy": 72.028,
                    "population": 1280400000,
                    "gdp_per_capita": 3119.280896
                  },
                  {
                    "country": "China",
                    "continent": "Asia",
                    "year": "2007-01-01",
                    "life_expectancy": 72.961,
                    "population": 1318683096,
                    "gdp_per_capita": 4959.114854
                  },
                  {
                    "country": "Colombia",
                    "continent": "Americas",
                    "year": "1952-01-01",
                    "life_expectancy": 50.643,
                    "population": 12350771,
                    "gdp_per_capita": 2144.115096
                  },
                  {
                    "country": "Colombia",
                    "continent": "Americas",
                    "year": "1957-01-01",
                    "life_expectancy": 55.118,
                    "population": 14485993,
                    "gdp_per_capita": 2323.805581
                  },
                  {
                    "country": "Colombia",
                    "continent": "Americas",
                    "year": "1962-01-01",
                    "life_expectancy": 57.863,
                    "population": 17009885,
                    "gdp_per_capita": 2492.351109
                  },
                  {
                    "country": "Colombia",
                    "continent": "Americas",
                    "year": "1967-01-01",
                    "life_expectancy": 59.963,
                    "population": 19764027,
                    "gdp_per_capita": 2678.729839
                  },
                  {
                    "country": "Colombia",
                    "continent": "Americas",
                    "year": "1972-01-01",
                    "life_expectancy": 61.623,
                    "population": 22542890,
                    "gdp_per_capita": 3264.660041
                  },
                  {
                    "country": "Colombia",
                    "continent": "Americas",
                    "year": "1977-01-01",
                    "life_expectancy": 63.837,
                    "population": 25094412,
                    "gdp_per_capita": 3815.80787
                  },
                  {
                    "country": "Colombia",
                    "continent": "Americas",
                    "year": "1982-01-01",
                    "life_expectancy": 66.653,
                    "population": 27764644,
                    "gdp_per_capita": 4397.575659
                  },
                  {
                    "country": "Colombia",
                    "continent": "Americas",
                    "year": "1987-01-01",
                    "life_expectancy": 67.768,
                    "population": 30964245,
                    "gdp_per_capita": 4903.2191
                  },
                  {
                    "country": "Colombia",
                    "continent": "Americas",
                    "year": "1992-01-01",
                    "life_expectancy": 68.421,
                    "population": 34202721,
                    "gdp_per_capita": 5444.648617
                  },
                  {
                    "country": "Colombia",
                    "continent": "Americas",
                    "year": "1997-01-01",
                    "life_expectancy": 70.313,
                    "population": 37657830,
                    "gdp_per_capita": 6117.361746
                  },
                  {
                    "country": "Colombia",
                    "continent": "Americas",
                    "year": "2002-01-01",
                    "life_expectancy": 71.682,
                    "population": 41008227,
                    "gdp_per_capita": 5755.259962
                  },
                  {
                    "country": "Colombia",
                    "continent": "Americas",
                    "year": "2007-01-01",
                    "life_expectancy": 72.889,
                    "population": 44227550,
                    "gdp_per_capita": 7006.580419
                  },
                  {
                    "country": "Comoros",
                    "continent": "Africa",
                    "year": "1952-01-01",
                    "life_expectancy": 40.715,
                    "population": 153936,
                    "gdp_per_capita": 1102.990936
                  },
                  {
                    "country": "Comoros",
                    "continent": "Africa",
                    "year": "1957-01-01",
                    "life_expectancy": 42.46,
                    "population": 170928,
                    "gdp_per_capita": 1211.148548
                  },
                  {
                    "country": "Comoros",
                    "continent": "Africa",
                    "year": "1962-01-01",
                    "life_expectancy": 44.467,
                    "population": 191689,
                    "gdp_per_capita": 1406.648278
                  },
                  {
                    "country": "Comoros",
                    "continent": "Africa",
                    "year": "1967-01-01",
                    "life_expectancy": 46.472,
                    "population": 217378,
                    "gdp_per_capita": 1876.029643
                  },
                  {
                    "country": "Comoros",
                    "continent": "Africa",
                    "year": "1972-01-01",
                    "life_expectancy": 48.944,
                    "population": 250027,
                    "gdp_per_capita": 1937.577675
                  },
                  {
                    "country": "Comoros",
                    "continent": "Africa",
                    "year": "1977-01-01",
                    "life_expectancy": 50.939,
                    "population": 304739,
                    "gdp_per_capita": 1172.603047
                  },
                  {
                    "country": "Comoros",
                    "continent": "Africa",
                    "year": "1982-01-01",
                    "life_expectancy": 52.933,
                    "population": 348643,
                    "gdp_per_capita": 1267.100083
                  },
                  {
                    "country": "Comoros",
                    "continent": "Africa",
                    "year": "1987-01-01",
                    "life_expectancy": 54.926,
                    "population": 395114,
                    "gdp_per_capita": 1315.980812
                  },
                  {
                    "country": "Comoros",
                    "continent": "Africa",
                    "year": "1992-01-01",
                    "life_expectancy": 57.939,
                    "population": 454429,
                    "gdp_per_capita": 1246.90737
                  },
                  {
                    "country": "Comoros",
                    "continent": "Africa",
                    "year": "1997-01-01",
                    "life_expectancy": 60.66,
                    "population": 527982,
                    "gdp_per_capita": 1173.618235
                  },
                  {
                    "country": "Comoros",
                    "continent": "Africa",
                    "year": "2002-01-01",
                    "life_expectancy": 62.974,
                    "population": 614382,
                    "gdp_per_capita": 1075.811558
                  },
                  {
                    "country": "Comoros",
                    "continent": "Africa",
                    "year": "2007-01-01",
                    "life_expectancy": 65.152,
                    "population": 710960,
                    "gdp_per_capita": 986.1478792
                  },
                  {
                    "country": "Congo, Dem. Rep.",
                    "continent": "Africa",
                    "year": "1952-01-01",
                    "life_expectancy": 39.143,
                    "population": 14100005,
                    "gdp_per_capita": 780.5423257
                  },
                  {
                    "country": "Congo, Dem. Rep.",
                    "continent": "Africa",
                    "year": "1957-01-01",
                    "life_expectancy": 40.652,
                    "population": 15577932,
                    "gdp_per_capita": 905.8602303
                  },
                  {
                    "country": "Congo, Dem. Rep.",
                    "continent": "Africa",
                    "year": "1962-01-01",
                    "life_expectancy": 42.122,
                    "population": 17486434,
                    "gdp_per_capita": 896.3146335
                  },
                  {
                    "country": "Congo, Dem. Rep.",
                    "continent": "Africa",
                    "year": "1967-01-01",
                    "life_expectancy": 44.056,
                    "population": 19941073,
                    "gdp_per_capita": 861.5932424
                  },
                  {
                    "country": "Congo, Dem. Rep.",
                    "continent": "Africa",
                    "year": "1972-01-01",
                    "life_expectancy": 45.989,
                    "population": 23007669,
                    "gdp_per_capita": 904.8960685
                  },
                  {
                    "country": "Congo, Dem. Rep.",
                    "continent": "Africa",
                    "year": "1977-01-01",
                    "life_expectancy": 47.804,
                    "population": 26480870,
                    "gdp_per_capita": 795.757282
                  },
                  {
                    "country": "Congo, Dem. Rep.",
                    "continent": "Africa",
                    "year": "1982-01-01",
                    "life_expectancy": 47.784,
                    "population": 30646495,
                    "gdp_per_capita": 673.7478181
                  },
                  {
                    "country": "Congo, Dem. Rep.",
                    "continent": "Africa",
                    "year": "1987-01-01",
                    "life_expectancy": 47.412,
                    "population": 35481645,
                    "gdp_per_capita": 672.774812
                  },
                  {
                    "country": "Congo, Dem. Rep.",
                    "continent": "Africa",
                    "year": "1992-01-01",
                    "life_expectancy": 45.548,
                    "population": 41672143,
                    "gdp_per_capita": 457.7191807
                  },
                  {
                    "country": "Congo, Dem. Rep.",
                    "continent": "Africa",
                    "year": "1997-01-01",
                    "life_expectancy": 42.587,
                    "population": 47798986,
                    "gdp_per_capita": 312.188423
                  },
                  {
                    "country": "Congo, Dem. Rep.",
                    "continent": "Africa",
                    "year": "2002-01-01",
                    "life_expectancy": 44.966,
                    "population": 55379852,
                    "gdp_per_capita": 241.1658765
                  },
                  {
                    "country": "Congo, Dem. Rep.",
                    "continent": "Africa",
                    "year": "2007-01-01",
                    "life_expectancy": 46.462,
                    "population": 64606759,
                    "gdp_per_capita": 277.5518587
                  },
                  {
                    "country": "Congo, Rep.",
                    "continent": "Africa",
                    "year": "1952-01-01",
                    "life_expectancy": 42.111,
                    "population": 854885,
                    "gdp_per_capita": 2125.621418
                  },
                  {
                    "country": "Congo, Rep.",
                    "continent": "Africa",
                    "year": "1957-01-01",
                    "life_expectancy": 45.053,
                    "population": 940458,
                    "gdp_per_capita": 2315.056572
                  },
                  {
                    "country": "Congo, Rep.",
                    "continent": "Africa",
                    "year": "1962-01-01",
                    "life_expectancy": 48.435,
                    "population": 1047924,
                    "gdp_per_capita": 2464.783157
                  },
                  {
                    "country": "Congo, Rep.",
                    "continent": "Africa",
                    "year": "1967-01-01",
                    "life_expectancy": 52.04,
                    "population": 1179760,
                    "gdp_per_capita": 2677.939642
                  },
                  {
                    "country": "Congo, Rep.",
                    "continent": "Africa",
                    "year": "1972-01-01",
                    "life_expectancy": 54.907,
                    "population": 1340458,
                    "gdp_per_capita": 3213.152683
                  },
                  {
                    "country": "Congo, Rep.",
                    "continent": "Africa",
                    "year": "1977-01-01",
                    "life_expectancy": 55.625,
                    "population": 1536769,
                    "gdp_per_capita": 3259.178978
                  },
                  {
                    "country": "Congo, Rep.",
                    "continent": "Africa",
                    "year": "1982-01-01",
                    "life_expectancy": 56.695,
                    "population": 1774735,
                    "gdp_per_capita": 4879.507522
                  },
                  {
                    "country": "Congo, Rep.",
                    "continent": "Africa",
                    "year": "1987-01-01",
                    "life_expectancy": 57.47,
                    "population": 2064095,
                    "gdp_per_capita": 4201.194937
                  },
                  {
                    "country": "Congo, Rep.",
                    "continent": "Africa",
                    "year": "1992-01-01",
                    "life_expectancy": 56.433,
                    "population": 2409073,
                    "gdp_per_capita": 4016.239529
                  },
                  {
                    "country": "Congo, Rep.",
                    "continent": "Africa",
                    "year": "1997-01-01",
                    "life_expectancy": 52.962,
                    "population": 2800947,
                    "gdp_per_capita": 3484.164376
                  },
                  {
                    "country": "Congo, Rep.",
                    "continent": "Africa",
                    "year": "2002-01-01",
                    "life_expectancy": 52.97,
                    "population": 3328795,
                    "gdp_per_capita": 3484.06197
                  },
                  {
                    "country": "Congo, Rep.",
                    "continent": "Africa",
                    "year": "2007-01-01",
                    "life_expectancy": 55.322,
                    "population": 3800610,
                    "gdp_per_capita": 3632.557798
                  },
                  {
                    "country": "Costa Rica",
                    "continent": "Americas",
                    "year": "1952-01-01",
                    "life_expectancy": 57.206,
                    "population": 926317,
                    "gdp_per_capita": 2627.009471
                  },
                  {
                    "country": "Costa Rica",
                    "continent": "Americas",
                    "year": "1957-01-01",
                    "life_expectancy": 60.026,
                    "population": 1112300,
                    "gdp_per_capita": 2990.010802
                  },
                  {
                    "country": "Costa Rica",
                    "continent": "Americas",
                    "year": "1962-01-01",
                    "life_expectancy": 62.842,
                    "population": 1345187,
                    "gdp_per_capita": 3460.937025
                  },
                  {
                    "country": "Costa Rica",
                    "continent": "Americas",
                    "year": "1967-01-01",
                    "life_expectancy": 65.424,
                    "population": 1588717,
                    "gdp_per_capita": 4161.727834
                  },
                  {
                    "country": "Costa Rica",
                    "continent": "Americas",
                    "year": "1972-01-01",
                    "life_expectancy": 67.849,
                    "population": 1834796,
                    "gdp_per_capita": 5118.146939
                  },
                  {
                    "country": "Costa Rica",
                    "continent": "Americas",
                    "year": "1977-01-01",
                    "life_expectancy": 70.75,
                    "population": 2108457,
                    "gdp_per_capita": 5926.876967
                  },
                  {
                    "country": "Costa Rica",
                    "continent": "Americas",
                    "year": "1982-01-01",
                    "life_expectancy": 73.45,
                    "population": 2424367,
                    "gdp_per_capita": 5262.734751
                  },
                  {
                    "country": "Costa Rica",
                    "continent": "Americas",
                    "year": "1987-01-01",
                    "life_expectancy": 74.752,
                    "population": 2799811,
                    "gdp_per_capita": 5629.915318
                  },
                  {
                    "country": "Costa Rica",
                    "continent": "Americas",
                    "year": "1992-01-01",
                    "life_expectancy": 75.713,
                    "population": 3173216,
                    "gdp_per_capita": 6160.416317
                  },
                  {
                    "country": "Costa Rica",
                    "continent": "Americas",
                    "year": "1997-01-01",
                    "life_expectancy": 77.26,
                    "population": 3518107,
                    "gdp_per_capita": 6677.045314
                  },
                  {
                    "country": "Costa Rica",
                    "continent": "Americas",
                    "year": "2002-01-01",
                    "life_expectancy": 78.123,
                    "population": 3834934,
                    "gdp_per_capita": 7723.447195
                  },
                  {
                    "country": "Costa Rica",
                    "continent": "Americas",
                    "year": "2007-01-01",
                    "life_expectancy": 78.782,
                    "population": 4133884,
                    "gdp_per_capita": 9645.06142
                  },
                  {
                    "country": "Cote d'Ivoire",
                    "continent": "Africa",
                    "year": "1952-01-01",
                    "life_expectancy": 40.477,
                    "population": 2977019,
                    "gdp_per_capita": 1388.594732
                  },
                  {
                    "country": "Cote d'Ivoire",
                    "continent": "Africa",
                    "year": "1957-01-01",
                    "life_expectancy": 42.469,
                    "population": 3300000,
                    "gdp_per_capita": 1500.895925
                  },
                  {
                    "country": "Cote d'Ivoire",
                    "continent": "Africa",
                    "year": "1962-01-01",
                    "life_expectancy": 44.93,
                    "population": 3832408,
                    "gdp_per_capita": 1728.869428
                  },
                  {
                    "country": "Cote d'Ivoire",
                    "continent": "Africa",
                    "year": "1967-01-01",
                    "life_expectancy": 47.35,
                    "population": 4744870,
                    "gdp_per_capita": 2052.050473
                  },
                  {
                    "country": "Cote d'Ivoire",
                    "continent": "Africa",
                    "year": "1972-01-01",
                    "life_expectancy": 49.801,
                    "population": 6071696,
                    "gdp_per_capita": 2378.201111
                  },
                  {
                    "country": "Cote d'Ivoire",
                    "continent": "Africa",
                    "year": "1977-01-01",
                    "life_expectancy": 52.374,
                    "population": 7459574,
                    "gdp_per_capita": 2517.736547
                  },
                  {
                    "country": "Cote d'Ivoire",
                    "continent": "Africa",
                    "year": "1982-01-01",
                    "life_expectancy": 53.983,
                    "population": 9025951,
                    "gdp_per_capita": 2602.710169
                  },
                  {
                    "country": "Cote d'Ivoire",
                    "continent": "Africa",
                    "year": "1987-01-01",
                    "life_expectancy": 54.655,
                    "population": 10761098,
                    "gdp_per_capita": 2156.956069
                  },
                  {
                    "country": "Cote d'Ivoire",
                    "continent": "Africa",
                    "year": "1992-01-01",
                    "life_expectancy": 52.044,
                    "population": 12772596,
                    "gdp_per_capita": 1648.073791
                  },
                  {
                    "country": "Cote d'Ivoire",
                    "continent": "Africa",
                    "year": "1997-01-01",
                    "life_expectancy": 47.991,
                    "population": 14625967,
                    "gdp_per_capita": 1786.265407
                  },
                  {
                    "country": "Cote d'Ivoire",
                    "continent": "Africa",
                    "year": "2002-01-01",
                    "life_expectancy": 46.832,
                    "population": 16252726,
                    "gdp_per_capita": 1648.800823
                  },
                  {
                    "country": "Cote d'Ivoire",
                    "continent": "Africa",
                    "year": "2007-01-01",
                    "life_expectancy": 48.328,
                    "population": 18013409,
                    "gdp_per_capita": 1544.750112
                  },
                  {
                    "country": "Croatia",
                    "continent": "Europe",
                    "year": "1952-01-01",
                    "life_expectancy": 61.21,
                    "population": 3882229,
                    "gdp_per_capita": 3119.23652
                  },
                  {
                    "country": "Croatia",
                    "continent": "Europe",
                    "year": "1957-01-01",
                    "life_expectancy": 64.77,
                    "population": 3991242,
                    "gdp_per_capita": 4338.231617
                  },
                  {
                    "country": "Croatia",
                    "continent": "Europe",
                    "year": "1962-01-01",
                    "life_expectancy": 67.13,
                    "population": 4076557,
                    "gdp_per_capita": 5477.890018
                  },
                  {
                    "country": "Croatia",
                    "continent": "Europe",
                    "year": "1967-01-01",
                    "life_expectancy": 68.5,
                    "population": 4174366,
                    "gdp_per_capita": 6960.297861
                  },
                  {
                    "country": "Croatia",
                    "continent": "Europe",
                    "year": "1972-01-01",
                    "life_expectancy": 69.61,
                    "population": 4225310,
                    "gdp_per_capita": 9164.090127
                  },
                  {
                    "country": "Croatia",
                    "continent": "Europe",
                    "year": "1977-01-01",
                    "life_expectancy": 70.64,
                    "population": 4318673,
                    "gdp_per_capita": 11305.38517
                  },
                  {
                    "country": "Croatia",
                    "continent": "Europe",
                    "year": "1982-01-01",
                    "life_expectancy": 70.46,
                    "population": 4413368,
                    "gdp_per_capita": 13221.82184
                  },
                  {
                    "country": "Croatia",
                    "continent": "Europe",
                    "year": "1987-01-01",
                    "life_expectancy": 71.52,
                    "population": 4484310,
                    "gdp_per_capita": 13822.58394
                  },
                  {
                    "country": "Croatia",
                    "continent": "Europe",
                    "year": "1992-01-01",
                    "life_expectancy": 72.527,
                    "population": 4494013,
                    "gdp_per_capita": 8447.794873
                  },
                  {
                    "country": "Croatia",
                    "continent": "Europe",
                    "year": "1997-01-01",
                    "life_expectancy": 73.68,
                    "population": 4444595,
                    "gdp_per_capita": 9875.604515
                  },
                  {
                    "country": "Croatia",
                    "continent": "Europe",
                    "year": "2002-01-01",
                    "life_expectancy": 74.876,
                    "population": 4481020,
                    "gdp_per_capita": 11628.38895
                  },
                  {
                    "country": "Croatia",
                    "continent": "Europe",
                    "year": "2007-01-01",
                    "life_expectancy": 75.748,
                    "population": 4493312,
                    "gdp_per_capita": 14619.22272
                  },
                  {
                    "country": "Cuba",
                    "continent": "Americas",
                    "year": "1952-01-01",
                    "life_expectancy": 59.421,
                    "population": 6007797,
                    "gdp_per_capita": 5586.53878
                  },
                  {
                    "country": "Cuba",
                    "continent": "Americas",
                    "year": "1957-01-01",
                    "life_expectancy": 62.325,
                    "population": 6640752,
                    "gdp_per_capita": 6092.174359
                  },
                  {
                    "country": "Cuba",
                    "continent": "Americas",
                    "year": "1962-01-01",
                    "life_expectancy": 65.246,
                    "population": 7254373,
                    "gdp_per_capita": 5180.75591
                  },
                  {
                    "country": "Cuba",
                    "continent": "Americas",
                    "year": "1967-01-01",
                    "life_expectancy": 68.29,
                    "population": 8139332,
                    "gdp_per_capita": 5690.268015
                  },
                  {
                    "country": "Cuba",
                    "continent": "Americas",
                    "year": "1972-01-01",
                    "life_expectancy": 70.723,
                    "population": 8831348,
                    "gdp_per_capita": 5305.445256
                  },
                  {
                    "country": "Cuba",
                    "continent": "Americas",
                    "year": "1977-01-01",
                    "life_expectancy": 72.649,
                    "population": 9537988,
                    "gdp_per_capita": 6380.494966
                  },
                  {
                    "country": "Cuba",
                    "continent": "Americas",
                    "year": "1982-01-01",
                    "life_expectancy": 73.717,
                    "population": 9789224,
                    "gdp_per_capita": 7316.918107
                  },
                  {
                    "country": "Cuba",
                    "continent": "Americas",
                    "year": "1987-01-01",
                    "life_expectancy": 74.174,
                    "population": 10239839,
                    "gdp_per_capita": 7532.924763
                  },
                  {
                    "country": "Cuba",
                    "continent": "Americas",
                    "year": "1992-01-01",
                    "life_expectancy": 74.414,
                    "population": 10723260,
                    "gdp_per_capita": 5592.843963
                  },
                  {
                    "country": "Cuba",
                    "continent": "Americas",
                    "year": "1997-01-01",
                    "life_expectancy": 76.151,
                    "population": 10983007,
                    "gdp_per_capita": 5431.990415
                  },
                  {
                    "country": "Cuba",
                    "continent": "Americas",
                    "year": "2002-01-01",
                    "life_expectancy": 77.158,
                    "population": 11226999,
                    "gdp_per_capita": 6340.646683
                  },
                  {
                    "country": "Cuba",
                    "continent": "Americas",
                    "year": "2007-01-01",
                    "life_expectancy": 78.273,
                    "population": 11416987,
                    "gdp_per_capita": 8948.102923
                  },
                  {
                    "country": "Czech Republic",
                    "continent": "Europe",
                    "year": "1952-01-01",
                    "life_expectancy": 66.87,
                    "population": 9125183,
                    "gdp_per_capita": 6876.14025
                  },
                  {
                    "country": "Czech Republic",
                    "continent": "Europe",
                    "year": "1957-01-01",
                    "life_expectancy": 69.03,
                    "population": 9513758,
                    "gdp_per_capita": 8256.343918
                  },
                  {
                    "country": "Czech Republic",
                    "continent": "Europe",
                    "year": "1962-01-01",
                    "life_expectancy": 69.9,
                    "population": 9620282,
                    "gdp_per_capita": 10136.86713
                  },
                  {
                    "country": "Czech Republic",
                    "continent": "Europe",
                    "year": "1967-01-01",
                    "life_expectancy": 70.38,
                    "population": 9835109,
                    "gdp_per_capita": 11399.44489
                  },
                  {
                    "country": "Czech Republic",
                    "continent": "Europe",
                    "year": "1972-01-01",
                    "life_expectancy": 70.29,
                    "population": 9862158,
                    "gdp_per_capita": 13108.4536
                  },
                  {
                    "country": "Czech Republic",
                    "continent": "Europe",
                    "year": "1977-01-01",
                    "life_expectancy": 70.71,
                    "population": 10161915,
                    "gdp_per_capita": 14800.16062
                  },
                  {
                    "country": "Czech Republic",
                    "continent": "Europe",
                    "year": "1982-01-01",
                    "life_expectancy": 70.96,
                    "population": 10303704,
                    "gdp_per_capita": 15377.22855
                  },
                  {
                    "country": "Czech Republic",
                    "continent": "Europe",
                    "year": "1987-01-01",
                    "life_expectancy": 71.58,
                    "population": 10311597,
                    "gdp_per_capita": 16310.4434
                  },
                  {
                    "country": "Czech Republic",
                    "continent": "Europe",
                    "year": "1992-01-01",
                    "life_expectancy": 72.4,
                    "population": 10315702,
                    "gdp_per_capita": 14297.02122
                  },
                  {
                    "country": "Czech Republic",
                    "continent": "Europe",
                    "year": "1997-01-01",
                    "life_expectancy": 74.01,
                    "population": 10300707,
                    "gdp_per_capita": 16048.51424
                  },
                  {
                    "country": "Czech Republic",
                    "continent": "Europe",
                    "year": "2002-01-01",
                    "life_expectancy": 75.51,
                    "population": 10256295,
                    "gdp_per_capita": 17596.21022
                  },
                  {
                    "country": "Czech Republic",
                    "continent": "Europe",
                    "year": "2007-01-01",
                    "life_expectancy": 76.486,
                    "population": 10228744,
                    "gdp_per_capita": 22833.30851
                  },
                  {
                    "country": "Denmark",
                    "continent": "Europe",
                    "year": "1952-01-01",
                    "life_expectancy": 70.78,
                    "population": 4334000,
                    "gdp_per_capita": 9692.385245
                  },
                  {
                    "country": "Denmark",
                    "continent": "Europe",
                    "year": "1957-01-01",
                    "life_expectancy": 71.81,
                    "population": 4487831,
                    "gdp_per_capita": 11099.65935
                  },
                  {
                    "country": "Denmark",
                    "continent": "Europe",
                    "year": "1962-01-01",
                    "life_expectancy": 72.35,
                    "population": 4646899,
                    "gdp_per_capita": 13583.31351
                  },
                  {
                    "country": "Denmark",
                    "continent": "Europe",
                    "year": "1967-01-01",
                    "life_expectancy": 72.96,
                    "population": 4838800,
                    "gdp_per_capita": 15937.21123
                  },
                  {
                    "country": "Denmark",
                    "continent": "Europe",
                    "year": "1972-01-01",
                    "life_expectancy": 73.47,
                    "population": 4991596,
                    "gdp_per_capita": 18866.20721
                  },
                  {
                    "country": "Denmark",
                    "continent": "Europe",
                    "year": "1977-01-01",
                    "life_expectancy": 74.69,
                    "population": 5088419,
                    "gdp_per_capita": 20422.9015
                  },
                  {
                    "country": "Denmark",
                    "continent": "Europe",
                    "year": "1982-01-01",
                    "life_expectancy": 74.63,
                    "population": 5117810,
                    "gdp_per_capita": 21688.04048
                  },
                  {
                    "country": "Denmark",
                    "continent": "Europe",
                    "year": "1987-01-01",
                    "life_expectancy": 74.8,
                    "population": 5127024,
                    "gdp_per_capita": 25116.17581
                  },
                  {
                    "country": "Denmark",
                    "continent": "Europe",
                    "year": "1992-01-01",
                    "life_expectancy": 75.33,
                    "population": 5171393,
                    "gdp_per_capita": 26406.73985
                  },
                  {
                    "country": "Denmark",
                    "continent": "Europe",
                    "year": "1997-01-01",
                    "life_expectancy": 76.11,
                    "population": 5283663,
                    "gdp_per_capita": 29804.34567
                  },
                  {
                    "country": "Denmark",
                    "continent": "Europe",
                    "year": "2002-01-01",
                    "life_expectancy": 77.18,
                    "population": 5374693,
                    "gdp_per_capita": 32166.50006
                  },
                  {
                    "country": "Denmark",
                    "continent": "Europe",
                    "year": "2007-01-01",
                    "life_expectancy": 78.332,
                    "population": 5468120,
                    "gdp_per_capita": 35278.41874
                  },
                  {
                    "country": "Djibouti",
                    "continent": "Africa",
                    "year": "1952-01-01",
                    "life_expectancy": 34.812,
                    "population": 63149,
                    "gdp_per_capita": 2669.529475
                  },
                  {
                    "country": "Djibouti",
                    "continent": "Africa",
                    "year": "1957-01-01",
                    "life_expectancy": 37.328,
                    "population": 71851,
                    "gdp_per_capita": 2864.969076
                  },
                  {
                    "country": "Djibouti",
                    "continent": "Africa",
                    "year": "1962-01-01",
                    "life_expectancy": 39.693,
                    "population": 89898,
                    "gdp_per_capita": 3020.989263
                  },
                  {
                    "country": "Djibouti",
                    "continent": "Africa",
                    "year": "1967-01-01",
                    "life_expectancy": 42.074,
                    "population": 127617,
                    "gdp_per_capita": 3020.050513
                  },
                  {
                    "country": "Djibouti",
                    "continent": "Africa",
                    "year": "1972-01-01",
                    "life_expectancy": 44.366,
                    "population": 178848,
                    "gdp_per_capita": 3694.212352
                  },
                  {
                    "country": "Djibouti",
                    "continent": "Africa",
                    "year": "1977-01-01",
                    "life_expectancy": 46.519,
                    "population": 228694,
                    "gdp_per_capita": 3081.761022
                  },
                  {
                    "country": "Djibouti",
                    "continent": "Africa",
                    "year": "1982-01-01",
                    "life_expectancy": 48.812,
                    "population": 305991,
                    "gdp_per_capita": 2879.468067
                  },
                  {
                    "country": "Djibouti",
                    "continent": "Africa",
                    "year": "1987-01-01",
                    "life_expectancy": 50.04,
                    "population": 311025,
                    "gdp_per_capita": 2880.102568
                  },
                  {
                    "country": "Djibouti",
                    "continent": "Africa",
                    "year": "1992-01-01",
                    "life_expectancy": 51.604,
                    "population": 384156,
                    "gdp_per_capita": 2377.156192
                  },
                  {
                    "country": "Djibouti",
                    "continent": "Africa",
                    "year": "1997-01-01",
                    "life_expectancy": 53.157,
                    "population": 417908,
                    "gdp_per_capita": 1895.016984
                  },
                  {
                    "country": "Djibouti",
                    "continent": "Africa",
                    "year": "2002-01-01",
                    "life_expectancy": 53.373,
                    "population": 447416,
                    "gdp_per_capita": 1908.260867
                  },
                  {
                    "country": "Djibouti",
                    "continent": "Africa",
                    "year": "2007-01-01",
                    "life_expectancy": 54.791,
                    "population": 496374,
                    "gdp_per_capita": 2082.481567
                  },
                  {
                    "country": "Dominican Republic",
                    "continent": "Americas",
                    "year": "1952-01-01",
                    "life_expectancy": 45.928,
                    "population": 2491346,
                    "gdp_per_capita": 1397.717137
                  },
                  {
                    "country": "Dominican Republic",
                    "continent": "Americas",
                    "year": "1957-01-01",
                    "life_expectancy": 49.828,
                    "population": 2923186,
                    "gdp_per_capita": 1544.402995
                  },
                  {
                    "country": "Dominican Republic",
                    "continent": "Americas",
                    "year": "1962-01-01",
                    "life_expectancy": 53.459,
                    "population": 3453434,
                    "gdp_per_capita": 1662.137359
                  },
                  {
                    "country": "Dominican Republic",
                    "continent": "Americas",
                    "year": "1967-01-01",
                    "life_expectancy": 56.751,
                    "population": 4049146,
                    "gdp_per_capita": 1653.723003
                  },
                  {
                    "country": "Dominican Republic",
                    "continent": "Americas",
                    "year": "1972-01-01",
                    "life_expectancy": 59.631,
                    "population": 4671329,
                    "gdp_per_capita": 2189.874499
                  },
                  {
                    "country": "Dominican Republic",
                    "continent": "Americas",
                    "year": "1977-01-01",
                    "life_expectancy": 61.788,
                    "population": 5302800,
                    "gdp_per_capita": 2681.9889
                  },
                  {
                    "country": "Dominican Republic",
                    "continent": "Americas",
                    "year": "1982-01-01",
                    "life_expectancy": 63.727,
                    "population": 5968349,
                    "gdp_per_capita": 2861.092386
                  },
                  {
                    "country": "Dominican Republic",
                    "continent": "Americas",
                    "year": "1987-01-01",
                    "life_expectancy": 66.046,
                    "population": 6655297,
                    "gdp_per_capita": 2899.842175
                  },
                  {
                    "country": "Dominican Republic",
                    "continent": "Americas",
                    "year": "1992-01-01",
                    "life_expectancy": 68.457,
                    "population": 7351181,
                    "gdp_per_capita": 3044.214214
                  },
                  {
                    "country": "Dominican Republic",
                    "continent": "Americas",
                    "year": "1997-01-01",
                    "life_expectancy": 69.957,
                    "population": 7992357,
                    "gdp_per_capita": 3614.101285
                  },
                  {
                    "country": "Dominican Republic",
                    "continent": "Americas",
                    "year": "2002-01-01",
                    "life_expectancy": 70.847,
                    "population": 8650322,
                    "gdp_per_capita": 4563.808154
                  },
                  {
                    "country": "Dominican Republic",
                    "continent": "Americas",
                    "year": "2007-01-01",
                    "life_expectancy": 72.235,
                    "population": 9319622,
                    "gdp_per_capita": 6025.374752
                  },
                  {
                    "country": "Ecuador",
                    "continent": "Americas",
                    "year": "1952-01-01",
                    "life_expectancy": 48.357,
                    "population": 3548753,
                    "gdp_per_capita": 3522.110717
                  },
                  {
                    "country": "Ecuador",
                    "continent": "Americas",
                    "year": "1957-01-01",
                    "life_expectancy": 51.356,
                    "population": 4058385,
                    "gdp_per_capita": 3780.546651
                  },
                  {
                    "country": "Ecuador",
                    "continent": "Americas",
                    "year": "1962-01-01",
                    "life_expectancy": 54.64,
                    "population": 4681707,
                    "gdp_per_capita": 4086.114078
                  },
                  {
                    "country": "Ecuador",
                    "continent": "Americas",
                    "year": "1967-01-01",
                    "life_expectancy": 56.678,
                    "population": 5432424,
                    "gdp_per_capita": 4579.074215
                  },
                  {
                    "country": "Ecuador",
                    "continent": "Americas",
                    "year": "1972-01-01",
                    "life_expectancy": 58.796,
                    "population": 6298651,
                    "gdp_per_capita": 5280.99471
                  },
                  {
                    "country": "Ecuador",
                    "continent": "Americas",
                    "year": "1977-01-01",
                    "life_expectancy": 61.31,
                    "population": 7278866,
                    "gdp_per_capita": 6679.62326
                  },
                  {
                    "country": "Ecuador",
                    "continent": "Americas",
                    "year": "1982-01-01",
                    "life_expectancy": 64.342,
                    "population": 8365850,
                    "gdp_per_capita": 7213.791267
                  },
                  {
                    "country": "Ecuador",
                    "continent": "Americas",
                    "year": "1987-01-01",
                    "life_expectancy": 67.231,
                    "population": 9545158,
                    "gdp_per_capita": 6481.776993
                  },
                  {
                    "country": "Ecuador",
                    "continent": "Americas",
                    "year": "1992-01-01",
                    "life_expectancy": 69.613,
                    "population": 10748394,
                    "gdp_per_capita": 7103.702595
                  },
                  {
                    "country": "Ecuador",
                    "continent": "Americas",
                    "year": "1997-01-01",
                    "life_expectancy": 72.312,
                    "population": 11911819,
                    "gdp_per_capita": 7429.455877
                  },
                  {
                    "country": "Ecuador",
                    "continent": "Americas",
                    "year": "2002-01-01",
                    "life_expectancy": 74.173,
                    "population": 12921234,
                    "gdp_per_capita": 5773.044512
                  },
                  {
                    "country": "Ecuador",
                    "continent": "Americas",
                    "year": "2007-01-01",
                    "life_expectancy": 74.994,
                    "population": 13755680,
                    "gdp_per_capita": 6873.262326
                  },
                  {
                    "country": "Egypt",
                    "continent": "Africa",
                    "year": "1952-01-01",
                    "life_expectancy": 41.893,
                    "population": 22223309,
                    "gdp_per_capita": 1418.822445
                  },
                  {
                    "country": "Egypt",
                    "continent": "Africa",
                    "year": "1957-01-01",
                    "life_expectancy": 44.444,
                    "population": 25009741,
                    "gdp_per_capita": 1458.915272
                  },
                  {
                    "country": "Egypt",
                    "continent": "Africa",
                    "year": "1962-01-01",
                    "life_expectancy": 46.992,
                    "population": 28173309,
                    "gdp_per_capita": 1693.335853
                  },
                  {
                    "country": "Egypt",
                    "continent": "Africa",
                    "year": "1967-01-01",
                    "life_expectancy": 49.293,
                    "population": 31681188,
                    "gdp_per_capita": 1814.880728
                  },
                  {
                    "country": "Egypt",
                    "continent": "Africa",
                    "year": "1972-01-01",
                    "life_expectancy": 51.137,
                    "population": 34807417,
                    "gdp_per_capita": 2024.008147
                  },
                  {
                    "country": "Egypt",
                    "continent": "Africa",
                    "year": "1977-01-01",
                    "life_expectancy": 53.319,
                    "population": 38783863,
                    "gdp_per_capita": 2785.493582
                  },
                  {
                    "country": "Egypt",
                    "continent": "Africa",
                    "year": "1982-01-01",
                    "life_expectancy": 56.006,
                    "population": 45681811,
                    "gdp_per_capita": 3503.729636
                  },
                  {
                    "country": "Egypt",
                    "continent": "Africa",
                    "year": "1987-01-01",
                    "life_expectancy": 59.797,
                    "population": 52799062,
                    "gdp_per_capita": 3885.46071
                  },
                  {
                    "country": "Egypt",
                    "continent": "Africa",
                    "year": "1992-01-01",
                    "life_expectancy": 63.674,
                    "population": 59402198,
                    "gdp_per_capita": 3794.755195
                  },
                  {
                    "country": "Egypt",
                    "continent": "Africa",
                    "year": "1997-01-01",
                    "life_expectancy": 67.217,
                    "population": 66134291,
                    "gdp_per_capita": 4173.181797
                  },
                  {
                    "country": "Egypt",
                    "continent": "Africa",
                    "year": "2002-01-01",
                    "life_expectancy": 69.806,
                    "population": 73312559,
                    "gdp_per_capita": 4754.604414
                  },
                  {
                    "country": "Egypt",
                    "continent": "Africa",
                    "year": "2007-01-01",
                    "life_expectancy": 71.338,
                    "population": 80264543,
                    "gdp_per_capita": 5581.180998
                  },
                  {
                    "country": "El Salvador",
                    "continent": "Americas",
                    "year": "1952-01-01",
                    "life_expectancy": 45.262,
                    "population": 2042865,
                    "gdp_per_capita": 3048.3029
                  },
                  {
                    "country": "El Salvador",
                    "continent": "Americas",
                    "year": "1957-01-01",
                    "life_expectancy": 48.57,
                    "population": 2355805,
                    "gdp_per_capita": 3421.523218
                  },
                  {
                    "country": "El Salvador",
                    "continent": "Americas",
                    "year": "1962-01-01",
                    "life_expectancy": 52.307,
                    "population": 2747687,
                    "gdp_per_capita": 3776.803627
                  },
                  {
                    "country": "El Salvador",
                    "continent": "Americas",
                    "year": "1967-01-01",
                    "life_expectancy": 55.855,
                    "population": 3232927,
                    "gdp_per_capita": 4358.595393
                  },
                  {
                    "country": "El Salvador",
                    "continent": "Americas",
                    "year": "1972-01-01",
                    "life_expectancy": 58.207,
                    "population": 3790903,
                    "gdp_per_capita": 4520.246008
                  },
                  {
                    "country": "El Salvador",
                    "continent": "Americas",
                    "year": "1977-01-01",
                    "life_expectancy": 56.696,
                    "population": 4282586,
                    "gdp_per_capita": 5138.922374
                  },
                  {
                    "country": "El Salvador",
                    "continent": "Americas",
                    "year": "1982-01-01",
                    "life_expectancy": 56.604,
                    "population": 4474873,
                    "gdp_per_capita": 4098.344175
                  },
                  {
                    "country": "El Salvador",
                    "continent": "Americas",
                    "year": "1987-01-01",
                    "life_expectancy": 63.154,
                    "population": 4842194,
                    "gdp_per_capita": 4140.442097
                  },
                  {
                    "country": "El Salvador",
                    "continent": "Americas",
                    "year": "1992-01-01",
                    "life_expectancy": 66.798,
                    "population": 5274649,
                    "gdp_per_capita": 4444.2317
                  },
                  {
                    "country": "El Salvador",
                    "continent": "Americas",
                    "year": "1997-01-01",
                    "life_expectancy": 69.535,
                    "population": 5783439,
                    "gdp_per_capita": 5154.825496
                  },
                  {
                    "country": "El Salvador",
                    "continent": "Americas",
                    "year": "2002-01-01",
                    "life_expectancy": 70.734,
                    "population": 6353681,
                    "gdp_per_capita": 5351.568666
                  },
                  {
                    "country": "El Salvador",
                    "continent": "Americas",
                    "year": "2007-01-01",
                    "life_expectancy": 71.878,
                    "population": 6939688,
                    "gdp_per_capita": 5728.353514
                  },
                  {
                    "country": "Equatorial Guinea",
                    "continent": "Africa",
                    "year": "1952-01-01",
                    "life_expectancy": 34.482,
                    "population": 216964,
                    "gdp_per_capita": 375.6431231
                  },
                  {
                    "country": "Equatorial Guinea",
                    "continent": "Africa",
                    "year": "1957-01-01",
                    "life_expectancy": 35.983,
                    "population": 232922,
                    "gdp_per_capita": 426.0964081
                  },
                  {
                    "country": "Equatorial Guinea",
                    "continent": "Africa",
                    "year": "1962-01-01",
                    "life_expectancy": 37.485,
                    "population": 249220,
                    "gdp_per_capita": 582.8419714
                  },
                  {
                    "country": "Equatorial Guinea",
                    "continent": "Africa",
                    "year": "1967-01-01",
                    "life_expectancy": 38.987,
                    "population": 259864,
                    "gdp_per_capita": 915.5960025
                  },
                  {
                    "country": "Equatorial Guinea",
                    "continent": "Africa",
                    "year": "1972-01-01",
                    "life_expectancy": 40.516,
                    "population": 277603,
                    "gdp_per_capita": 672.4122571
                  },
                  {
                    "country": "Equatorial Guinea",
                    "continent": "Africa",
                    "year": "1977-01-01",
                    "life_expectancy": 42.024,
                    "population": 192675,
                    "gdp_per_capita": 958.5668124
                  },
                  {
                    "country": "Equatorial Guinea",
                    "continent": "Africa",
                    "year": "1982-01-01",
                    "life_expectancy": 43.662,
                    "population": 285483,
                    "gdp_per_capita": 927.8253427
                  },
                  {
                    "country": "Equatorial Guinea",
                    "continent": "Africa",
                    "year": "1987-01-01",
                    "life_expectancy": 45.664,
                    "population": 341244,
                    "gdp_per_capita": 966.8968149
                  },
                  {
                    "country": "Equatorial Guinea",
                    "continent": "Africa",
                    "year": "1992-01-01",
                    "life_expectancy": 47.545,
                    "population": 387838,
                    "gdp_per_capita": 1132.055034
                  },
                  {
                    "country": "Equatorial Guinea",
                    "continent": "Africa",
                    "year": "1997-01-01",
                    "life_expectancy": 48.245,
                    "population": 439971,
                    "gdp_per_capita": 2814.480755
                  },
                  {
                    "country": "Equatorial Guinea",
                    "continent": "Africa",
                    "year": "2002-01-01",
                    "life_expectancy": 49.348,
                    "population": 495627,
                    "gdp_per_capita": 7703.4959
                  },
                  {
                    "country": "Equatorial Guinea",
                    "continent": "Africa",
                    "year": "2007-01-01",
                    "life_expectancy": 51.579,
                    "population": 551201,
                    "gdp_per_capita": 12154.08975
                  },
                  {
                    "country": "Eritrea",
                    "continent": "Africa",
                    "year": "1952-01-01",
                    "life_expectancy": 35.928,
                    "population": 1438760,
                    "gdp_per_capita": 328.9405571
                  },
                  {
                    "country": "Eritrea",
                    "continent": "Africa",
                    "year": "1957-01-01",
                    "life_expectancy": 38.047,
                    "population": 1542611,
                    "gdp_per_capita": 344.1618859
                  },
                  {
                    "country": "Eritrea",
                    "continent": "Africa",
                    "year": "1962-01-01",
                    "life_expectancy": 40.158,
                    "population": 1666618,
                    "gdp_per_capita": 380.9958433
                  },
                  {
                    "country": "Eritrea",
                    "continent": "Africa",
                    "year": "1967-01-01",
                    "life_expectancy": 42.189,
                    "population": 1820319,
                    "gdp_per_capita": 468.7949699
                  },
                  {
                    "country": "Eritrea",
                    "continent": "Africa",
                    "year": "1972-01-01",
                    "life_expectancy": 44.142,
                    "population": 2260187,
                    "gdp_per_capita": 514.3242082
                  },
                  {
                    "country": "Eritrea",
                    "continent": "Africa",
                    "year": "1977-01-01",
                    "life_expectancy": 44.535,
                    "population": 2512642,
                    "gdp_per_capita": 505.7538077
                  },
                  {
                    "country": "Eritrea",
                    "continent": "Africa",
                    "year": "1982-01-01",
                    "life_expectancy": 43.89,
                    "population": 2637297,
                    "gdp_per_capita": 524.8758493
                  },
                  {
                    "country": "Eritrea",
                    "continent": "Africa",
                    "year": "1987-01-01",
                    "life_expectancy": 46.453,
                    "population": 2915959,
                    "gdp_per_capita": 521.1341333
                  },
                  {
                    "country": "Eritrea",
                    "continent": "Africa",
                    "year": "1992-01-01",
                    "life_expectancy": 49.991,
                    "population": 3668440,
                    "gdp_per_capita": 582.8585102
                  },
                  {
                    "country": "Eritrea",
                    "continent": "Africa",
                    "year": "1997-01-01",
                    "life_expectancy": 53.378,
                    "population": 4058319,
                    "gdp_per_capita": 913.47079
                  },
                  {
                    "country": "Eritrea",
                    "continent": "Africa",
                    "year": "2002-01-01",
                    "life_expectancy": 55.24,
                    "population": 4414865,
                    "gdp_per_capita": 765.3500015
                  },
                  {
                    "country": "Eritrea",
                    "continent": "Africa",
                    "year": "2007-01-01",
                    "life_expectancy": 58.04,
                    "population": 4906585,
                    "gdp_per_capita": 641.3695236
                  },
                  {
                    "country": "Ethiopia",
                    "continent": "Africa",
                    "year": "1952-01-01",
                    "life_expectancy": 34.078,
                    "population": 20860941,
                    "gdp_per_capita": 362.1462796
                  },
                  {
                    "country": "Ethiopia",
                    "continent": "Africa",
                    "year": "1957-01-01",
                    "life_expectancy": 36.667,
                    "population": 22815614,
                    "gdp_per_capita": 378.9041632
                  },
                  {
                    "country": "Ethiopia",
                    "continent": "Africa",
                    "year": "1962-01-01",
                    "life_expectancy": 40.059,
                    "population": 25145372,
                    "gdp_per_capita": 419.4564161
                  },
                  {
                    "country": "Ethiopia",
                    "continent": "Africa",
                    "year": "1967-01-01",
                    "life_expectancy": 42.115,
                    "population": 27860297,
                    "gdp_per_capita": 516.1186438
                  },
                  {
                    "country": "Ethiopia",
                    "continent": "Africa",
                    "year": "1972-01-01",
                    "life_expectancy": 43.515,
                    "population": 30770372,
                    "gdp_per_capita": 566.2439442
                  },
                  {
                    "country": "Ethiopia",
                    "continent": "Africa",
                    "year": "1977-01-01",
                    "life_expectancy": 44.51,
                    "population": 34617799,
                    "gdp_per_capita": 556.8083834
                  },
                  {
                    "country": "Ethiopia",
                    "continent": "Africa",
                    "year": "1982-01-01",
                    "life_expectancy": 44.916,
                    "population": 38111756,
                    "gdp_per_capita": 577.8607471
                  },
                  {
                    "country": "Ethiopia",
                    "continent": "Africa",
                    "year": "1987-01-01",
                    "life_expectancy": 46.684,
                    "population": 42999530,
                    "gdp_per_capita": 573.7413142
                  },
                  {
                    "country": "Ethiopia",
                    "continent": "Africa",
                    "year": "1992-01-01",
                    "life_expectancy": 48.091,
                    "population": 52088559,
                    "gdp_per_capita": 421.3534653
                  },
                  {
                    "country": "Ethiopia",
                    "continent": "Africa",
                    "year": "1997-01-01",
                    "life_expectancy": 49.402,
                    "population": 59861301,
                    "gdp_per_capita": 515.8894013
                  },
                  {
                    "country": "Ethiopia",
                    "continent": "Africa",
                    "year": "2002-01-01",
                    "life_expectancy": 50.725,
                    "population": 67946797,
                    "gdp_per_capita": 530.0535319
                  },
                  {
                    "country": "Ethiopia",
                    "continent": "Africa",
                    "year": "2007-01-01",
                    "life_expectancy": 52.947,
                    "population": 76511887,
                    "gdp_per_capita": 690.8055759
                  },
                  {
                    "country": "Finland",
                    "continent": "Europe",
                    "year": "1952-01-01",
                    "life_expectancy": 66.55,
                    "population": 4090500,
                    "gdp_per_capita": 6424.519071
                  },
                  {
                    "country": "Finland",
                    "continent": "Europe",
                    "year": "1957-01-01",
                    "life_expectancy": 67.49,
                    "population": 4324000,
                    "gdp_per_capita": 7545.415386
                  },
                  {
                    "country": "Finland",
                    "continent": "Europe",
                    "year": "1962-01-01",
                    "life_expectancy": 68.75,
                    "population": 4491443,
                    "gdp_per_capita": 9371.842561
                  },
                  {
                    "country": "Finland",
                    "continent": "Europe",
                    "year": "1967-01-01",
                    "life_expectancy": 69.83,
                    "population": 4605744,
                    "gdp_per_capita": 10921.63626
                  },
                  {
                    "country": "Finland",
                    "continent": "Europe",
                    "year": "1972-01-01",
                    "life_expectancy": 70.87,
                    "population": 4639657,
                    "gdp_per_capita": 14358.8759
                  },
                  {
                    "country": "Finland",
                    "continent": "Europe",
                    "year": "1977-01-01",
                    "life_expectancy": 72.52,
                    "population": 4738902,
                    "gdp_per_capita": 15605.42283
                  },
                  {
                    "country": "Finland",
                    "continent": "Europe",
                    "year": "1982-01-01",
                    "life_expectancy": 74.55,
                    "population": 4826933,
                    "gdp_per_capita": 18533.15761
                  },
                  {
                    "country": "Finland",
                    "continent": "Europe",
                    "year": "1987-01-01",
                    "life_expectancy": 74.83,
                    "population": 4931729,
                    "gdp_per_capita": 21141.01223
                  },
                  {
                    "country": "Finland",
                    "continent": "Europe",
                    "year": "1992-01-01",
                    "life_expectancy": 75.7,
                    "population": 5041039,
                    "gdp_per_capita": 20647.16499
                  },
                  {
                    "country": "Finland",
                    "continent": "Europe",
                    "year": "1997-01-01",
                    "life_expectancy": 77.13,
                    "population": 5134406,
                    "gdp_per_capita": 23723.9502
                  },
                  {
                    "country": "Finland",
                    "continent": "Europe",
                    "year": "2002-01-01",
                    "life_expectancy": 78.37,
                    "population": 5193039,
                    "gdp_per_capita": 28204.59057
                  },
                  {
                    "country": "Finland",
                    "continent": "Europe",
                    "year": "2007-01-01",
                    "life_expectancy": 79.313,
                    "population": 5238460,
                    "gdp_per_capita": 33207.0844
                  },
                  {
                    "country": "France",
                    "continent": "Europe",
                    "year": "1952-01-01",
                    "life_expectancy": 67.41,
                    "population": 42459667,
                    "gdp_per_capita": 7029.809327
                  },
                  {
                    "country": "France",
                    "continent": "Europe",
                    "year": "1957-01-01",
                    "life_expectancy": 68.93,
                    "population": 44310863,
                    "gdp_per_capita": 8662.834898
                  },
                  {
                    "country": "France",
                    "continent": "Europe",
                    "year": "1962-01-01",
                    "life_expectancy": 70.51,
                    "population": 47124000,
                    "gdp_per_capita": 10560.48553
                  },
                  {
                    "country": "France",
                    "continent": "Europe",
                    "year": "1967-01-01",
                    "life_expectancy": 71.55,
                    "population": 49569000,
                    "gdp_per_capita": 12999.91766
                  },
                  {
                    "country": "France",
                    "continent": "Europe",
                    "year": "1972-01-01",
                    "life_expectancy": 72.38,
                    "population": 51732000,
                    "gdp_per_capita": 16107.19171
                  },
                  {
                    "country": "France",
                    "continent": "Europe",
                    "year": "1977-01-01",
                    "life_expectancy": 73.83,
                    "population": 53165019,
                    "gdp_per_capita": 18292.63514
                  },
                  {
                    "country": "France",
                    "continent": "Europe",
                    "year": "1982-01-01",
                    "life_expectancy": 74.89,
                    "population": 54433565,
                    "gdp_per_capita": 20293.89746
                  },
                  {
                    "country": "France",
                    "continent": "Europe",
                    "year": "1987-01-01",
                    "life_expectancy": 76.34,
                    "population": 55630100,
                    "gdp_per_capita": 22066.44214
                  },
                  {
                    "country": "France",
                    "continent": "Europe",
                    "year": "1992-01-01",
                    "life_expectancy": 77.46,
                    "population": 57374179,
                    "gdp_per_capita": 24703.79615
                  },
                  {
                    "country": "France",
                    "continent": "Europe",
                    "year": "1997-01-01",
                    "life_expectancy": 78.64,
                    "population": 58623428,
                    "gdp_per_capita": 25889.78487
                  },
                  {
                    "country": "France",
                    "continent": "Europe",
                    "year": "2002-01-01",
                    "life_expectancy": 79.59,
                    "population": 59925035,
                    "gdp_per_capita": 28926.03234
                  },
                  {
                    "country": "France",
                    "continent": "Europe",
                    "year": "2007-01-01",
                    "life_expectancy": 80.657,
                    "population": 61083916,
                    "gdp_per_capita": 30470.0167
                  },
                  {
                    "country": "Gabon",
                    "continent": "Africa",
                    "year": "1952-01-01",
                    "life_expectancy": 37.003,
                    "population": 420702,
                    "gdp_per_capita": 4293.476475
                  },
                  {
                    "country": "Gabon",
                    "continent": "Africa",
                    "year": "1957-01-01",
                    "life_expectancy": 38.999,
                    "population": 434904,
                    "gdp_per_capita": 4976.198099
                  },
                  {
                    "country": "Gabon",
                    "continent": "Africa",
                    "year": "1962-01-01",
                    "life_expectancy": 40.489,
                    "population": 455661,
                    "gdp_per_capita": 6631.459222
                  },
                  {
                    "country": "Gabon",
                    "continent": "Africa",
                    "year": "1967-01-01",
                    "life_expectancy": 44.598,
                    "population": 489004,
                    "gdp_per_capita": 8358.761987
                  },
                  {
                    "country": "Gabon",
                    "continent": "Africa",
                    "year": "1972-01-01",
                    "life_expectancy": 48.69,
                    "population": 537977,
                    "gdp_per_capita": 11401.94841
                  },
                  {
                    "country": "Gabon",
                    "continent": "Africa",
                    "year": "1977-01-01",
                    "life_expectancy": 52.79,
                    "population": 706367,
                    "gdp_per_capita": 21745.57328
                  },
                  {
                    "country": "Gabon",
                    "continent": "Africa",
                    "year": "1982-01-01",
                    "life_expectancy": 56.564,
                    "population": 753874,
                    "gdp_per_capita": 15113.36194
                  },
                  {
                    "country": "Gabon",
                    "continent": "Africa",
                    "year": "1987-01-01",
                    "life_expectancy": 60.19,
                    "population": 880397,
                    "gdp_per_capita": 11864.40844
                  },
                  {
                    "country": "Gabon",
                    "continent": "Africa",
                    "year": "1992-01-01",
                    "life_expectancy": 61.366,
                    "population": 985739,
                    "gdp_per_capita": 13522.15752
                  },
                  {
                    "country": "Gabon",
                    "continent": "Africa",
                    "year": "1997-01-01",
                    "life_expectancy": 60.461,
                    "population": 1126189,
                    "gdp_per_capita": 14722.84188
                  },
                  {
                    "country": "Gabon",
                    "continent": "Africa",
                    "year": "2002-01-01",
                    "life_expectancy": 56.761,
                    "population": 1299304,
                    "gdp_per_capita": 12521.71392
                  },
                  {
                    "country": "Gabon",
                    "continent": "Africa",
                    "year": "2007-01-01",
                    "life_expectancy": 56.735,
                    "population": 1454867,
                    "gdp_per_capita": 13206.48452
                  },
                  {
                    "country": "Gambia",
                    "continent": "Africa",
                    "year": "1952-01-01",
                    "life_expectancy": 30,
                    "population": 284320,
                    "gdp_per_capita": 485.2306591
                  },
                  {
                    "country": "Gambia",
                    "continent": "Africa",
                    "year": "1957-01-01",
                    "life_expectancy": 32.065,
                    "population": 323150,
                    "gdp_per_capita": 520.9267111
                  },
                  {
                    "country": "Gambia",
                    "continent": "Africa",
                    "year": "1962-01-01",
                    "life_expectancy": 33.896,
                    "population": 374020,
                    "gdp_per_capita": 599.650276
                  },
                  {
                    "country": "Gambia",
                    "continent": "Africa",
                    "year": "1967-01-01",
                    "life_expectancy": 35.857,
                    "population": 439593,
                    "gdp_per_capita": 734.7829124
                  },
                  {
                    "country": "Gambia",
                    "continent": "Africa",
                    "year": "1972-01-01",
                    "life_expectancy": 38.308,
                    "population": 517101,
                    "gdp_per_capita": 756.0868363
                  },
                  {
                    "country": "Gambia",
                    "continent": "Africa",
                    "year": "1977-01-01",
                    "life_expectancy": 41.842,
                    "population": 608274,
                    "gdp_per_capita": 884.7552507
                  },
                  {
                    "country": "Gambia",
                    "continent": "Africa",
                    "year": "1982-01-01",
                    "life_expectancy": 45.58,
                    "population": 715523,
                    "gdp_per_capita": 835.8096108
                  },
                  {
                    "country": "Gambia",
                    "continent": "Africa",
                    "year": "1987-01-01",
                    "life_expectancy": 49.265,
                    "population": 848406,
                    "gdp_per_capita": 611.6588611
                  },
                  {
                    "country": "Gambia",
                    "continent": "Africa",
                    "year": "1992-01-01",
                    "life_expectancy": 52.644,
                    "population": 1025384,
                    "gdp_per_capita": 665.6244126
                  },
                  {
                    "country": "Gambia",
                    "continent": "Africa",
                    "year": "1997-01-01",
                    "life_expectancy": 55.861,
                    "population": 1235767,
                    "gdp_per_capita": 653.7301704
                  },
                  {
                    "country": "Gambia",
                    "continent": "Africa",
                    "year": "2002-01-01",
                    "life_expectancy": 58.041,
                    "population": 1457766,
                    "gdp_per_capita": 660.5855997
                  },
                  {
                    "country": "Gambia",
                    "continent": "Africa",
                    "year": "2007-01-01",
                    "life_expectancy": 59.448,
                    "population": 1688359,
                    "gdp_per_capita": 752.7497265
                  },
                  {
                    "country": "Germany",
                    "continent": "Europe",
                    "year": "1952-01-01",
                    "life_expectancy": 67.5,
                    "population": 69145952,
                    "gdp_per_capita": 7144.114393
                  },
                  {
                    "country": "Germany",
                    "continent": "Europe",
                    "year": "1957-01-01",
                    "life_expectancy": 69.1,
                    "population": 71019069,
                    "gdp_per_capita": 10187.82665
                  },
                  {
                    "country": "Germany",
                    "continent": "Europe",
                    "year": "1962-01-01",
                    "life_expectancy": 70.3,
                    "population": 73739117,
                    "gdp_per_capita": 12902.46291
                  },
                  {
                    "country": "Germany",
                    "continent": "Europe",
                    "year": "1967-01-01",
                    "life_expectancy": 70.8,
                    "population": 76368453,
                    "gdp_per_capita": 14745.62561
                  },
                  {
                    "country": "Germany",
                    "continent": "Europe",
                    "year": "1972-01-01",
                    "life_expectancy": 71,
                    "population": 78717088,
                    "gdp_per_capita": 18016.18027
                  },
                  {
                    "country": "Germany",
                    "continent": "Europe",
                    "year": "1977-01-01",
                    "life_expectancy": 72.5,
                    "population": 78160773,
                    "gdp_per_capita": 20512.92123
                  },
                  {
                    "country": "Germany",
                    "continent": "Europe",
                    "year": "1982-01-01",
                    "life_expectancy": 73.8,
                    "population": 78335266,
                    "gdp_per_capita": 22031.53274
                  },
                  {
                    "country": "Germany",
                    "continent": "Europe",
                    "year": "1987-01-01",
                    "life_expectancy": 74.847,
                    "population": 77718298,
                    "gdp_per_capita": 24639.18566
                  },
                  {
                    "country": "Germany",
                    "continent": "Europe",
                    "year": "1992-01-01",
                    "life_expectancy": 76.07,
                    "population": 80597764,
                    "gdp_per_capita": 26505.30317
                  },
                  {
                    "country": "Germany",
                    "continent": "Europe",
                    "year": "1997-01-01",
                    "life_expectancy": 77.34,
                    "population": 82011073,
                    "gdp_per_capita": 27788.88416
                  },
                  {
                    "country": "Germany",
                    "continent": "Europe",
                    "year": "2002-01-01",
                    "life_expectancy": 78.67,
                    "population": 82350671,
                    "gdp_per_capita": 30035.80198
                  },
                  {
                    "country": "Germany",
                    "continent": "Europe",
                    "year": "2007-01-01",
                    "life_expectancy": 79.406,
                    "population": 82400996,
                    "gdp_per_capita": 32170.37442
                  },
                  {
                    "country": "Ghana",
                    "continent": "Africa",
                    "year": "1952-01-01",
                    "life_expectancy": 43.149,
                    "population": 5581001,
                    "gdp_per_capita": 911.2989371
                  },
                  {
                    "country": "Ghana",
                    "continent": "Africa",
                    "year": "1957-01-01",
                    "life_expectancy": 44.779,
                    "population": 6391288,
                    "gdp_per_capita": 1043.561537
                  },
                  {
                    "country": "Ghana",
                    "continent": "Africa",
                    "year": "1962-01-01",
                    "life_expectancy": 46.452,
                    "population": 7355248,
                    "gdp_per_capita": 1190.041118
                  },
                  {
                    "country": "Ghana",
                    "continent": "Africa",
                    "year": "1967-01-01",
                    "life_expectancy": 48.072,
                    "population": 8490213,
                    "gdp_per_capita": 1125.69716
                  },
                  {
                    "country": "Ghana",
                    "continent": "Africa",
                    "year": "1972-01-01",
                    "life_expectancy": 49.875,
                    "population": 9354120,
                    "gdp_per_capita": 1178.223708
                  },
                  {
                    "country": "Ghana",
                    "continent": "Africa",
                    "year": "1977-01-01",
                    "life_expectancy": 51.756,
                    "population": 10538093,
                    "gdp_per_capita": 993.2239571
                  },
                  {
                    "country": "Ghana",
                    "continent": "Africa",
                    "year": "1982-01-01",
                    "life_expectancy": 53.744,
                    "population": 11400338,
                    "gdp_per_capita": 876.032569
                  },
                  {
                    "country": "Ghana",
                    "continent": "Africa",
                    "year": "1987-01-01",
                    "life_expectancy": 55.729,
                    "population": 14168101,
                    "gdp_per_capita": 847.0061135
                  },
                  {
                    "country": "Ghana",
                    "continent": "Africa",
                    "year": "1992-01-01",
                    "life_expectancy": 57.501,
                    "population": 16278738,
                    "gdp_per_capita": 925.060154
                  },
                  {
                    "country": "Ghana",
                    "continent": "Africa",
                    "year": "1997-01-01",
                    "life_expectancy": 58.556,
                    "population": 18418288,
                    "gdp_per_capita": 1005.245812
                  },
                  {
                    "country": "Ghana",
                    "continent": "Africa",
                    "year": "2002-01-01",
                    "life_expectancy": 58.453,
                    "population": 20550751,
                    "gdp_per_capita": 1111.984578
                  },
                  {
                    "country": "Ghana",
                    "continent": "Africa",
                    "year": "2007-01-01",
                    "life_expectancy": 60.022,
                    "population": 22873338,
                    "gdp_per_capita": 1327.60891
                  },
                  {
                    "country": "Greece",
                    "continent": "Europe",
                    "year": "1952-01-01",
                    "life_expectancy": 65.86,
                    "population": 7733250,
                    "gdp_per_capita": 3530.690067
                  },
                  {
                    "country": "Greece",
                    "continent": "Europe",
                    "year": "1957-01-01",
                    "life_expectancy": 67.86,
                    "population": 8096218,
                    "gdp_per_capita": 4916.299889
                  },
                  {
                    "country": "Greece",
                    "continent": "Europe",
                    "year": "1962-01-01",
                    "life_expectancy": 69.51,
                    "population": 8448233,
                    "gdp_per_capita": 6017.190733
                  },
                  {
                    "country": "Greece",
                    "continent": "Europe",
                    "year": "1967-01-01",
                    "life_expectancy": 71,
                    "population": 8716441,
                    "gdp_per_capita": 8513.097016
                  },
                  {
                    "country": "Greece",
                    "continent": "Europe",
                    "year": "1972-01-01",
                    "life_expectancy": 72.34,
                    "population": 8888628,
                    "gdp_per_capita": 12724.82957
                  },
                  {
                    "country": "Greece",
                    "continent": "Europe",
                    "year": "1977-01-01",
                    "life_expectancy": 73.68,
                    "population": 9308479,
                    "gdp_per_capita": 14195.52428
                  },
                  {
                    "country": "Greece",
                    "continent": "Europe",
                    "year": "1982-01-01",
                    "life_expectancy": 75.24,
                    "population": 9786480,
                    "gdp_per_capita": 15268.42089
                  },
                  {
                    "country": "Greece",
                    "continent": "Europe",
                    "year": "1987-01-01",
                    "life_expectancy": 76.67,
                    "population": 9974490,
                    "gdp_per_capita": 16120.52839
                  },
                  {
                    "country": "Greece",
                    "continent": "Europe",
                    "year": "1992-01-01",
                    "life_expectancy": 77.03,
                    "population": 10325429,
                    "gdp_per_capita": 17541.49634
                  },
                  {
                    "country": "Greece",
                    "continent": "Europe",
                    "year": "1997-01-01",
                    "life_expectancy": 77.869,
                    "population": 10502372,
                    "gdp_per_capita": 18747.69814
                  },
                  {
                    "country": "Greece",
                    "continent": "Europe",
                    "year": "2002-01-01",
                    "life_expectancy": 78.256,
                    "population": 10603863,
                    "gdp_per_capita": 22514.2548
                  },
                  {
                    "country": "Greece",
                    "continent": "Europe",
                    "year": "2007-01-01",
                    "life_expectancy": 79.483,
                    "population": 10706290,
                    "gdp_per_capita": 27538.41188
                  },
                  {
                    "country": "Guatemala",
                    "continent": "Americas",
                    "year": "1952-01-01",
                    "life_expectancy": 42.023,
                    "population": 3146381,
                    "gdp_per_capita": 2428.237769
                  },
                  {
                    "country": "Guatemala",
                    "continent": "Americas",
                    "year": "1957-01-01",
                    "life_expectancy": 44.142,
                    "population": 3640876,
                    "gdp_per_capita": 2617.155967
                  },
                  {
                    "country": "Guatemala",
                    "continent": "Americas",
                    "year": "1962-01-01",
                    "life_expectancy": 46.954,
                    "population": 4208858,
                    "gdp_per_capita": 2750.364446
                  },
                  {
                    "country": "Guatemala",
                    "continent": "Americas",
                    "year": "1967-01-01",
                    "life_expectancy": 50.016,
                    "population": 4690773,
                    "gdp_per_capita": 3242.531147
                  },
                  {
                    "country": "Guatemala",
                    "continent": "Americas",
                    "year": "1972-01-01",
                    "life_expectancy": 53.738,
                    "population": 5149581,
                    "gdp_per_capita": 4031.408271
                  },
                  {
                    "country": "Guatemala",
                    "continent": "Americas",
                    "year": "1977-01-01",
                    "life_expectancy": 56.029,
                    "population": 5703430,
                    "gdp_per_capita": 4879.992748
                  },
                  {
                    "country": "Guatemala",
                    "continent": "Americas",
                    "year": "1982-01-01",
                    "life_expectancy": 58.137,
                    "population": 6395630,
                    "gdp_per_capita": 4820.49479
                  },
                  {
                    "country": "Guatemala",
                    "continent": "Americas",
                    "year": "1987-01-01",
                    "life_expectancy": 60.782,
                    "population": 7326406,
                    "gdp_per_capita": 4246.485974
                  },
                  {
                    "country": "Guatemala",
                    "continent": "Americas",
                    "year": "1992-01-01",
                    "life_expectancy": 63.373,
                    "population": 8486949,
                    "gdp_per_capita": 4439.45084
                  },
                  {
                    "country": "Guatemala",
                    "continent": "Americas",
                    "year": "1997-01-01",
                    "life_expectancy": 66.322,
                    "population": 9803875,
                    "gdp_per_capita": 4684.313807
                  },
                  {
                    "country": "Guatemala",
                    "continent": "Americas",
                    "year": "2002-01-01",
                    "life_expectancy": 68.978,
                    "population": 11178650,
                    "gdp_per_capita": 4858.347495
                  },
                  {
                    "country": "Guatemala",
                    "continent": "Americas",
                    "year": "2007-01-01",
                    "life_expectancy": 70.259,
                    "population": 12572928,
                    "gdp_per_capita": 5186.050003
                  },
                  {
                    "country": "Guinea",
                    "continent": "Africa",
                    "year": "1952-01-01",
                    "life_expectancy": 33.609,
                    "population": 2664249,
                    "gdp_per_capita": 510.1964923
                  },
                  {
                    "country": "Guinea",
                    "continent": "Africa",
                    "year": "1957-01-01",
                    "life_expectancy": 34.558,
                    "population": 2876726,
                    "gdp_per_capita": 576.2670245
                  },
                  {
                    "country": "Guinea",
                    "continent": "Africa",
                    "year": "1962-01-01",
                    "life_expectancy": 35.753,
                    "population": 3140003,
                    "gdp_per_capita": 686.3736739
                  },
                  {
                    "country": "Guinea",
                    "continent": "Africa",
                    "year": "1967-01-01",
                    "life_expectancy": 37.197,
                    "population": 3451418,
                    "gdp_per_capita": 708.7595409
                  },
                  {
                    "country": "Guinea",
                    "continent": "Africa",
                    "year": "1972-01-01",
                    "life_expectancy": 38.842,
                    "population": 3811387,
                    "gdp_per_capita": 741.6662307
                  },
                  {
                    "country": "Guinea",
                    "continent": "Africa",
                    "year": "1977-01-01",
                    "life_expectancy": 40.762,
                    "population": 4227026,
                    "gdp_per_capita": 874.6858643
                  },
                  {
                    "country": "Guinea",
                    "continent": "Africa",
                    "year": "1982-01-01",
                    "life_expectancy": 42.891,
                    "population": 4710497,
                    "gdp_per_capita": 857.2503577
                  },
                  {
                    "country": "Guinea",
                    "continent": "Africa",
                    "year": "1987-01-01",
                    "life_expectancy": 45.552,
                    "population": 5650262,
                    "gdp_per_capita": 805.5724718
                  },
                  {
                    "country": "Guinea",
                    "continent": "Africa",
                    "year": "1992-01-01",
                    "life_expectancy": 48.576,
                    "population": 6990574,
                    "gdp_per_capita": 794.3484384
                  },
                  {
                    "country": "Guinea",
                    "continent": "Africa",
                    "year": "1997-01-01",
                    "life_expectancy": 51.455,
                    "population": 8048834,
                    "gdp_per_capita": 869.4497668
                  },
                  {
                    "country": "Guinea",
                    "continent": "Africa",
                    "year": "2002-01-01",
                    "life_expectancy": 53.676,
                    "population": 8807818,
                    "gdp_per_capita": 945.5835837
                  },
                  {
                    "country": "Guinea",
                    "continent": "Africa",
                    "year": "2007-01-01",
                    "life_expectancy": 56.007,
                    "population": 9947814,
                    "gdp_per_capita": 942.6542111
                  },
                  {
                    "country": "Guinea-Bissau",
                    "continent": "Africa",
                    "year": "1952-01-01",
                    "life_expectancy": 32.5,
                    "population": 580653,
                    "gdp_per_capita": 299.850319
                  },
                  {
                    "country": "Guinea-Bissau",
                    "continent": "Africa",
                    "year": "1957-01-01",
                    "life_expectancy": 33.489,
                    "population": 601095,
                    "gdp_per_capita": 431.7904566
                  },
                  {
                    "country": "Guinea-Bissau",
                    "continent": "Africa",
                    "year": "1962-01-01",
                    "life_expectancy": 34.488,
                    "population": 627820,
                    "gdp_per_capita": 522.0343725
                  },
                  {
                    "country": "Guinea-Bissau",
                    "continent": "Africa",
                    "year": "1967-01-01",
                    "life_expectancy": 35.492,
                    "population": 601287,
                    "gdp_per_capita": 715.5806402
                  },
                  {
                    "country": "Guinea-Bissau",
                    "continent": "Africa",
                    "year": "1972-01-01",
                    "life_expectancy": 36.486,
                    "population": 625361,
                    "gdp_per_capita": 820.2245876
                  },
                  {
                    "country": "Guinea-Bissau",
                    "continent": "Africa",
                    "year": "1977-01-01",
                    "life_expectancy": 37.465,
                    "population": 745228,
                    "gdp_per_capita": 764.7259628
                  },
                  {
                    "country": "Guinea-Bissau",
                    "continent": "Africa",
                    "year": "1982-01-01",
                    "life_expectancy": 39.327,
                    "population": 825987,
                    "gdp_per_capita": 838.1239671
                  },
                  {
                    "country": "Guinea-Bissau",
                    "continent": "Africa",
                    "year": "1987-01-01",
                    "life_expectancy": 41.245,
                    "population": 927524,
                    "gdp_per_capita": 736.4153921
                  },
                  {
                    "country": "Guinea-Bissau",
                    "continent": "Africa",
                    "year": "1992-01-01",
                    "life_expectancy": 43.266,
                    "population": 1050938,
                    "gdp_per_capita": 745.5398706
                  },
                  {
                    "country": "Guinea-Bissau",
                    "continent": "Africa",
                    "year": "1997-01-01",
                    "life_expectancy": 44.873,
                    "population": 1193708,
                    "gdp_per_capita": 796.6644681
                  },
                  {
                    "country": "Guinea-Bissau",
                    "continent": "Africa",
                    "year": "2002-01-01",
                    "life_expectancy": 45.504,
                    "population": 1332459,
                    "gdp_per_capita": 575.7047176
                  },
                  {
                    "country": "Guinea-Bissau",
                    "continent": "Africa",
                    "year": "2007-01-01",
                    "life_expectancy": 46.388,
                    "population": 1472041,
                    "gdp_per_capita": 579.231743
                  },
                  {
                    "country": "Haiti",
                    "continent": "Americas",
                    "year": "1952-01-01",
                    "life_expectancy": 37.579,
                    "population": 3201488,
                    "gdp_per_capita": 1840.366939
                  },
                  {
                    "country": "Haiti",
                    "continent": "Americas",
                    "year": "1957-01-01",
                    "life_expectancy": 40.696,
                    "population": 3507701,
                    "gdp_per_capita": 1726.887882
                  },
                  {
                    "country": "Haiti",
                    "continent": "Americas",
                    "year": "1962-01-01",
                    "life_expectancy": 43.59,
                    "population": 3880130,
                    "gdp_per_capita": 1796.589032
                  },
                  {
                    "country": "Haiti",
                    "continent": "Americas",
                    "year": "1967-01-01",
                    "life_expectancy": 46.243,
                    "population": 4318137,
                    "gdp_per_capita": 1452.057666
                  },
                  {
                    "country": "Haiti",
                    "continent": "Americas",
                    "year": "1972-01-01",
                    "life_expectancy": 48.042,
                    "population": 4698301,
                    "gdp_per_capita": 1654.456946
                  },
                  {
                    "country": "Haiti",
                    "continent": "Americas",
                    "year": "1977-01-01",
                    "life_expectancy": 49.923,
                    "population": 4908554,
                    "gdp_per_capita": 1874.298931
                  },
                  {
                    "country": "Haiti",
                    "continent": "Americas",
                    "year": "1982-01-01",
                    "life_expectancy": 51.461,
                    "population": 5198399,
                    "gdp_per_capita": 2011.159549
                  },
                  {
                    "country": "Haiti",
                    "continent": "Americas",
                    "year": "1987-01-01",
                    "life_expectancy": 53.636,
                    "population": 5756203,
                    "gdp_per_capita": 1823.015995
                  },
                  {
                    "country": "Haiti",
                    "continent": "Americas",
                    "year": "1992-01-01",
                    "life_expectancy": 55.089,
                    "population": 6326682,
                    "gdp_per_capita": 1456.309517
                  },
                  {
                    "country": "Haiti",
                    "continent": "Americas",
                    "year": "1997-01-01",
                    "life_expectancy": 56.671,
                    "population": 6913545,
                    "gdp_per_capita": 1341.726931
                  },
                  {
                    "country": "Haiti",
                    "continent": "Americas",
                    "year": "2002-01-01",
                    "life_expectancy": 58.137,
                    "population": 7607651,
                    "gdp_per_capita": 1270.364932
                  },
                  {
                    "country": "Haiti",
                    "continent": "Americas",
                    "year": "2007-01-01",
                    "life_expectancy": 60.916,
                    "population": 8502814,
                    "gdp_per_capita": 1201.637154
                  },
                  {
                    "country": "Honduras",
                    "continent": "Americas",
                    "year": "1952-01-01",
                    "life_expectancy": 41.912,
                    "population": 1517453,
                    "gdp_per_capita": 2194.926204
                  },
                  {
                    "country": "Honduras",
                    "continent": "Americas",
                    "year": "1957-01-01",
                    "life_expectancy": 44.665,
                    "population": 1770390,
                    "gdp_per_capita": 2220.487682
                  },
                  {
                    "country": "Honduras",
                    "continent": "Americas",
                    "year": "1962-01-01",
                    "life_expectancy": 48.041,
                    "population": 2090162,
                    "gdp_per_capita": 2291.156835
                  },
                  {
                    "country": "Honduras",
                    "continent": "Americas",
                    "year": "1967-01-01",
                    "life_expectancy": 50.924,
                    "population": 2500689,
                    "gdp_per_capita": 2538.269358
                  },
                  {
                    "country": "Honduras",
                    "continent": "Americas",
                    "year": "1972-01-01",
                    "life_expectancy": 53.884,
                    "population": 2965146,
                    "gdp_per_capita": 2529.842345
                  },
                  {
                    "country": "Honduras",
                    "continent": "Americas",
                    "year": "1977-01-01",
                    "life_expectancy": 57.402,
                    "population": 3055235,
                    "gdp_per_capita": 3203.208066
                  },
                  {
                    "country": "Honduras",
                    "continent": "Americas",
                    "year": "1982-01-01",
                    "life_expectancy": 60.909,
                    "population": 3669448,
                    "gdp_per_capita": 3121.760794
                  },
                  {
                    "country": "Honduras",
                    "continent": "Americas",
                    "year": "1987-01-01",
                    "life_expectancy": 64.492,
                    "population": 4372203,
                    "gdp_per_capita": 3023.096699
                  },
                  {
                    "country": "Honduras",
                    "continent": "Americas",
                    "year": "1992-01-01",
                    "life_expectancy": 66.399,
                    "population": 5077347,
                    "gdp_per_capita": 3081.694603
                  },
                  {
                    "country": "Honduras",
                    "continent": "Americas",
                    "year": "1997-01-01",
                    "life_expectancy": 67.659,
                    "population": 5867957,
                    "gdp_per_capita": 3160.454906
                  },
                  {
                    "country": "Honduras",
                    "continent": "Americas",
                    "year": "2002-01-01",
                    "life_expectancy": 68.565,
                    "population": 6677328,
                    "gdp_per_capita": 3099.72866
                  },
                  {
                    "country": "Honduras",
                    "continent": "Americas",
                    "year": "2007-01-01",
                    "life_expectancy": 70.198,
                    "population": 7483763,
                    "gdp_per_capita": 3548.330846
                  },
                  {
                    "country": "Hong Kong, China",
                    "continent": "Asia",
                    "year": "1952-01-01",
                    "life_expectancy": 60.96,
                    "population": 2125900,
                    "gdp_per_capita": 3054.421209
                  },
                  {
                    "country": "Hong Kong, China",
                    "continent": "Asia",
                    "year": "1957-01-01",
                    "life_expectancy": 64.75,
                    "population": 2736300,
                    "gdp_per_capita": 3629.076457
                  },
                  {
                    "country": "Hong Kong, China",
                    "continent": "Asia",
                    "year": "1962-01-01",
                    "life_expectancy": 67.65,
                    "population": 3305200,
                    "gdp_per_capita": 4692.648272
                  },
                  {
                    "country": "Hong Kong, China",
                    "continent": "Asia",
                    "year": "1967-01-01",
                    "life_expectancy": 70,
                    "population": 3722800,
                    "gdp_per_capita": 6197.962814
                  },
                  {
                    "country": "Hong Kong, China",
                    "continent": "Asia",
                    "year": "1972-01-01",
                    "life_expectancy": 72,
                    "population": 4115700,
                    "gdp_per_capita": 8315.928145
                  },
                  {
                    "country": "Hong Kong, China",
                    "continent": "Asia",
                    "year": "1977-01-01",
                    "life_expectancy": 73.6,
                    "population": 4583700,
                    "gdp_per_capita": 11186.14125
                  },
                  {
                    "country": "Hong Kong, China",
                    "continent": "Asia",
                    "year": "1982-01-01",
                    "life_expectancy": 75.45,
                    "population": 5264500,
                    "gdp_per_capita": 14560.53051
                  },
                  {
                    "country": "Hong Kong, China",
                    "continent": "Asia",
                    "year": "1987-01-01",
                    "life_expectancy": 76.2,
                    "population": 5584510,
                    "gdp_per_capita": 20038.47269
                  },
                  {
                    "country": "Hong Kong, China",
                    "continent": "Asia",
                    "year": "1992-01-01",
                    "life_expectancy": 77.601,
                    "population": 5829696,
                    "gdp_per_capita": 24757.60301
                  },
                  {
                    "country": "Hong Kong, China",
                    "continent": "Asia",
                    "year": "1997-01-01",
                    "life_expectancy": 80,
                    "population": 6495918,
                    "gdp_per_capita": 28377.63219
                  },
                  {
                    "country": "Hong Kong, China",
                    "continent": "Asia",
                    "year": "2002-01-01",
                    "life_expectancy": 81.495,
                    "population": 6762476,
                    "gdp_per_capita": 30209.01516
                  },
                  {
                    "country": "Hong Kong, China",
                    "continent": "Asia",
                    "year": "2007-01-01",
                    "life_expectancy": 82.208,
                    "population": 6980412,
                    "gdp_per_capita": 39724.97867
                  },
                  {
                    "country": "Hungary",
                    "continent": "Europe",
                    "year": "1952-01-01",
                    "life_expectancy": 64.03,
                    "population": 9504000,
                    "gdp_per_capita": 5263.673816
                  },
                  {
                    "country": "Hungary",
                    "continent": "Europe",
                    "year": "1957-01-01",
                    "life_expectancy": 66.41,
                    "population": 9839000,
                    "gdp_per_capita": 6040.180011
                  },
                  {
                    "country": "Hungary",
                    "continent": "Europe",
                    "year": "1962-01-01",
                    "life_expectancy": 67.96,
                    "population": 10063000,
                    "gdp_per_capita": 7550.359877
                  },
                  {
                    "country": "Hungary",
                    "continent": "Europe",
                    "year": "1967-01-01",
                    "life_expectancy": 69.5,
                    "population": 10223422,
                    "gdp_per_capita": 9326.64467
                  },
                  {
                    "country": "Hungary",
                    "continent": "Europe",
                    "year": "1972-01-01",
                    "life_expectancy": 69.76,
                    "population": 10394091,
                    "gdp_per_capita": 10168.65611
                  },
                  {
                    "country": "Hungary",
                    "continent": "Europe",
                    "year": "1977-01-01",
                    "life_expectancy": 69.95,
                    "population": 10637171,
                    "gdp_per_capita": 11674.83737
                  },
                  {
                    "country": "Hungary",
                    "continent": "Europe",
                    "year": "1982-01-01",
                    "life_expectancy": 69.39,
                    "population": 10705535,
                    "gdp_per_capita": 12545.99066
                  },
                  {
                    "country": "Hungary",
                    "continent": "Europe",
                    "year": "1987-01-01",
                    "life_expectancy": 69.58,
                    "population": 10612740,
                    "gdp_per_capita": 12986.47998
                  },
                  {
                    "country": "Hungary",
                    "continent": "Europe",
                    "year": "1992-01-01",
                    "life_expectancy": 69.17,
                    "population": 10348684,
                    "gdp_per_capita": 10535.62855
                  },
                  {
                    "country": "Hungary",
                    "continent": "Europe",
                    "year": "1997-01-01",
                    "life_expectancy": 71.04,
                    "population": 10244684,
                    "gdp_per_capita": 11712.7768
                  },
                  {
                    "country": "Hungary",
                    "continent": "Europe",
                    "year": "2002-01-01",
                    "life_expectancy": 72.59,
                    "population": 10083313,
                    "gdp_per_capita": 14843.93556
                  },
                  {
                    "country": "Hungary",
                    "continent": "Europe",
                    "year": "2007-01-01",
                    "life_expectancy": 73.338,
                    "population": 9956108,
                    "gdp_per_capita": 18008.94444
                  },
                  {
                    "country": "Iceland",
                    "continent": "Europe",
                    "year": "1952-01-01",
                    "life_expectancy": 72.49,
                    "population": 147962,
                    "gdp_per_capita": 7267.688428
                  },
                  {
                    "country": "Iceland",
                    "continent": "Europe",
                    "year": "1957-01-01",
                    "life_expectancy": 73.47,
                    "population": 165110,
                    "gdp_per_capita": 9244.001412
                  },
                  {
                    "country": "Iceland",
                    "continent": "Europe",
                    "year": "1962-01-01",
                    "life_expectancy": 73.68,
                    "population": 182053,
                    "gdp_per_capita": 10350.15906
                  },
                  {
                    "country": "Iceland",
                    "continent": "Europe",
                    "year": "1967-01-01",
                    "life_expectancy": 73.73,
                    "population": 198676,
                    "gdp_per_capita": 13319.89568
                  },
                  {
                    "country": "Iceland",
                    "continent": "Europe",
                    "year": "1972-01-01",
                    "life_expectancy": 74.46,
                    "population": 209275,
                    "gdp_per_capita": 15798.06362
                  },
                  {
                    "country": "Iceland",
                    "continent": "Europe",
                    "year": "1977-01-01",
                    "life_expectancy": 76.11,
                    "population": 221823,
                    "gdp_per_capita": 19654.96247
                  },
                  {
                    "country": "Iceland",
                    "continent": "Europe",
                    "year": "1982-01-01",
                    "life_expectancy": 76.99,
                    "population": 233997,
                    "gdp_per_capita": 23269.6075
                  },
                  {
                    "country": "Iceland",
                    "continent": "Europe",
                    "year": "1987-01-01",
                    "life_expectancy": 77.23,
                    "population": 244676,
                    "gdp_per_capita": 26923.20628
                  },
                  {
                    "country": "Iceland",
                    "continent": "Europe",
                    "year": "1992-01-01",
                    "life_expectancy": 78.77,
                    "population": 259012,
                    "gdp_per_capita": 25144.39201
                  },
                  {
                    "country": "Iceland",
                    "continent": "Europe",
                    "year": "1997-01-01",
                    "life_expectancy": 78.95,
                    "population": 271192,
                    "gdp_per_capita": 28061.09966
                  },
                  {
                    "country": "Iceland",
                    "continent": "Europe",
                    "year": "2002-01-01",
                    "life_expectancy": 80.5,
                    "population": 288030,
                    "gdp_per_capita": 31163.20196
                  },
                  {
                    "country": "Iceland",
                    "continent": "Europe",
                    "year": "2007-01-01",
                    "life_expectancy": 81.757,
                    "population": 301931,
                    "gdp_per_capita": 36180.78919
                  },
                  {
                    "country": "India",
                    "continent": "Asia",
                    "year": "1952-01-01",
                    "life_expectancy": 37.373,
                    "population": 372000000,
                    "gdp_per_capita": 546.5657493
                  },
                  {
                    "country": "India",
                    "continent": "Asia",
                    "year": "1957-01-01",
                    "life_expectancy": 40.249,
                    "population": 409000000,
                    "gdp_per_capita": 590.061996
                  },
                  {
                    "country": "India",
                    "continent": "Asia",
                    "year": "1962-01-01",
                    "life_expectancy": 43.605,
                    "population": 454000000,
                    "gdp_per_capita": 658.3471509
                  },
                  {
                    "country": "India",
                    "continent": "Asia",
                    "year": "1967-01-01",
                    "life_expectancy": 47.193,
                    "population": 506000000,
                    "gdp_per_capita": 700.7706107
                  },
                  {
                    "country": "India",
                    "continent": "Asia",
                    "year": "1972-01-01",
                    "life_expectancy": 50.651,
                    "population": 567000000,
                    "gdp_per_capita": 724.032527
                  },
                  {
                    "country": "India",
                    "continent": "Asia",
                    "year": "1977-01-01",
                    "life_expectancy": 54.208,
                    "population": 634000000,
                    "gdp_per_capita": 813.337323
                  },
                  {
                    "country": "India",
                    "continent": "Asia",
                    "year": "1982-01-01",
                    "life_expectancy": 56.596,
                    "population": 708000000,
                    "gdp_per_capita": 855.7235377
                  },
                  {
                    "country": "India",
                    "continent": "Asia",
                    "year": "1987-01-01",
                    "life_expectancy": 58.553,
                    "population": 788000000,
                    "gdp_per_capita": 976.5126756
                  },
                  {
                    "country": "India",
                    "continent": "Asia",
                    "year": "1992-01-01",
                    "life_expectancy": 60.223,
                    "population": 872000000,
                    "gdp_per_capita": 1164.406809
                  },
                  {
                    "country": "India",
                    "continent": "Asia",
                    "year": "1997-01-01",
                    "life_expectancy": 61.765,
                    "population": 959000000,
                    "gdp_per_capita": 1458.817442
                  },
                  {
                    "country": "India",
                    "continent": "Asia",
                    "year": "2002-01-01",
                    "life_expectancy": 62.879,
                    "population": 1034172547,
                    "gdp_per_capita": 1746.769454
                  },
                  {
                    "country": "India",
                    "continent": "Asia",
                    "year": "2007-01-01",
                    "life_expectancy": 64.698,
                    "population": 1110396331,
                    "gdp_per_capita": 2452.210407
                  },
                  {
                    "country": "Indonesia",
                    "continent": "Asia",
                    "year": "1952-01-01",
                    "life_expectancy": 37.468,
                    "population": 82052000,
                    "gdp_per_capita": 749.6816546
                  },
                  {
                    "country": "Indonesia",
                    "continent": "Asia",
                    "year": "1957-01-01",
                    "life_expectancy": 39.918,
                    "population": 90124000,
                    "gdp_per_capita": 858.9002707
                  },
                  {
                    "country": "Indonesia",
                    "continent": "Asia",
                    "year": "1962-01-01",
                    "life_expectancy": 42.518,
                    "population": 99028000,
                    "gdp_per_capita": 849.2897701
                  },
                  {
                    "country": "Indonesia",
                    "continent": "Asia",
                    "year": "1967-01-01",
                    "life_expectancy": 45.964,
                    "population": 109343000,
                    "gdp_per_capita": 762.4317721
                  },
                  {
                    "country": "Indonesia",
                    "continent": "Asia",
                    "year": "1972-01-01",
                    "life_expectancy": 49.203,
                    "population": 121282000,
                    "gdp_per_capita": 1111.107907
                  },
                  {
                    "country": "Indonesia",
                    "continent": "Asia",
                    "year": "1977-01-01",
                    "life_expectancy": 52.702,
                    "population": 136725000,
                    "gdp_per_capita": 1382.702056
                  },
                  {
                    "country": "Indonesia",
                    "continent": "Asia",
                    "year": "1982-01-01",
                    "life_expectancy": 56.159,
                    "population": 153343000,
                    "gdp_per_capita": 1516.872988
                  },
                  {
                    "country": "Indonesia",
                    "continent": "Asia",
                    "year": "1987-01-01",
                    "life_expectancy": 60.137,
                    "population": 169276000,
                    "gdp_per_capita": 1748.356961
                  },
                  {
                    "country": "Indonesia",
                    "continent": "Asia",
                    "year": "1992-01-01",
                    "life_expectancy": 62.681,
                    "population": 184816000,
                    "gdp_per_capita": 2383.140898
                  },
                  {
                    "country": "Indonesia",
                    "continent": "Asia",
                    "year": "1997-01-01",
                    "life_expectancy": 66.041,
                    "population": 199278000,
                    "gdp_per_capita": 3119.335603
                  },
                  {
                    "country": "Indonesia",
                    "continent": "Asia",
                    "year": "2002-01-01",
                    "life_expectancy": 68.588,
                    "population": 211060000,
                    "gdp_per_capita": 2873.91287
                  },
                  {
                    "country": "Indonesia",
                    "continent": "Asia",
                    "year": "2007-01-01",
                    "life_expectancy": 70.65,
                    "population": 223547000,
                    "gdp_per_capita": 3540.651564
                  },
                  {
                    "country": "Iran",
                    "continent": "Asia",
                    "year": "1952-01-01",
                    "life_expectancy": 44.869,
                    "population": 17272000,
                    "gdp_per_capita": 3035.326002
                  },
                  {
                    "country": "Iran",
                    "continent": "Asia",
                    "year": "1957-01-01",
                    "life_expectancy": 47.181,
                    "population": 19792000,
                    "gdp_per_capita": 3290.257643
                  },
                  {
                    "country": "Iran",
                    "continent": "Asia",
                    "year": "1962-01-01",
                    "life_expectancy": 49.325,
                    "population": 22874000,
                    "gdp_per_capita": 4187.329802
                  },
                  {
                    "country": "Iran",
                    "continent": "Asia",
                    "year": "1967-01-01",
                    "life_expectancy": 52.469,
                    "population": 26538000,
                    "gdp_per_capita": 5906.731805
                  },
                  {
                    "country": "Iran",
                    "continent": "Asia",
                    "year": "1972-01-01",
                    "life_expectancy": 55.234,
                    "population": 30614000,
                    "gdp_per_capita": 9613.818607
                  },
                  {
                    "country": "Iran",
                    "continent": "Asia",
                    "year": "1977-01-01",
                    "life_expectancy": 57.702,
                    "population": 35480679,
                    "gdp_per_capita": 11888.59508
                  },
                  {
                    "country": "Iran",
                    "continent": "Asia",
                    "year": "1982-01-01",
                    "life_expectancy": 59.62,
                    "population": 43072751,
                    "gdp_per_capita": 7608.334602
                  },
                  {
                    "country": "Iran",
                    "continent": "Asia",
                    "year": "1987-01-01",
                    "life_expectancy": 63.04,
                    "population": 51889696,
                    "gdp_per_capita": 6642.881371
                  },
                  {
                    "country": "Iran",
                    "continent": "Asia",
                    "year": "1992-01-01",
                    "life_expectancy": 65.742,
                    "population": 60397973,
                    "gdp_per_capita": 7235.653188
                  },
                  {
                    "country": "Iran",
                    "continent": "Asia",
                    "year": "1997-01-01",
                    "life_expectancy": 68.042,
                    "population": 63327987,
                    "gdp_per_capita": 8263.590301
                  },
                  {
                    "country": "Iran",
                    "continent": "Asia",
                    "year": "2002-01-01",
                    "life_expectancy": 69.451,
                    "population": 66907826,
                    "gdp_per_capita": 9240.761975
                  },
                  {
                    "country": "Iran",
                    "continent": "Asia",
                    "year": "2007-01-01",
                    "life_expectancy": 70.964,
                    "population": 69453570,
                    "gdp_per_capita": 11605.71449
                  },
                  {
                    "country": "Iraq",
                    "continent": "Asia",
                    "year": "1952-01-01",
                    "life_expectancy": 45.32,
                    "population": 5441766,
                    "gdp_per_capita": 4129.766056
                  },
                  {
                    "country": "Iraq",
                    "continent": "Asia",
                    "year": "1957-01-01",
                    "life_expectancy": 48.437,
                    "population": 6248643,
                    "gdp_per_capita": 6229.333562
                  },
                  {
                    "country": "Iraq",
                    "continent": "Asia",
                    "year": "1962-01-01",
                    "life_expectancy": 51.457,
                    "population": 7240260,
                    "gdp_per_capita": 8341.737815
                  },
                  {
                    "country": "Iraq",
                    "continent": "Asia",
                    "year": "1967-01-01",
                    "life_expectancy": 54.459,
                    "population": 8519282,
                    "gdp_per_capita": 8931.459811
                  },
                  {
                    "country": "Iraq",
                    "continent": "Asia",
                    "year": "1972-01-01",
                    "life_expectancy": 56.95,
                    "population": 10061506,
                    "gdp_per_capita": 9576.037596
                  },
                  {
                    "country": "Iraq",
                    "continent": "Asia",
                    "year": "1977-01-01",
                    "life_expectancy": 60.413,
                    "population": 11882916,
                    "gdp_per_capita": 14688.23507
                  },
                  {
                    "country": "Iraq",
                    "continent": "Asia",
                    "year": "1982-01-01",
                    "life_expectancy": 62.038,
                    "population": 14173318,
                    "gdp_per_capita": 14517.90711
                  },
                  {
                    "country": "Iraq",
                    "continent": "Asia",
                    "year": "1987-01-01",
                    "life_expectancy": 65.044,
                    "population": 16543189,
                    "gdp_per_capita": 11643.57268
                  },
                  {
                    "country": "Iraq",
                    "continent": "Asia",
                    "year": "1992-01-01",
                    "life_expectancy": 59.461,
                    "population": 17861905,
                    "gdp_per_capita": 3745.640687
                  },
                  {
                    "country": "Iraq",
                    "continent": "Asia",
                    "year": "1997-01-01",
                    "life_expectancy": 58.811,
                    "population": 20775703,
                    "gdp_per_capita": 3076.239795
                  },
                  {
                    "country": "Iraq",
                    "continent": "Asia",
                    "year": "2002-01-01",
                    "life_expectancy": 57.046,
                    "population": 24001816,
                    "gdp_per_capita": 4390.717312
                  },
                  {
                    "country": "Iraq",
                    "continent": "Asia",
                    "year": "2007-01-01",
                    "life_expectancy": 59.545,
                    "population": 27499638,
                    "gdp_per_capita": 4471.061906
                  },
                  {
                    "country": "Ireland",
                    "continent": "Europe",
                    "year": "1952-01-01",
                    "life_expectancy": 66.91,
                    "population": 2952156,
                    "gdp_per_capita": 5210.280328
                  },
                  {
                    "country": "Ireland",
                    "continent": "Europe",
                    "year": "1957-01-01",
                    "life_expectancy": 68.9,
                    "population": 2878220,
                    "gdp_per_capita": 5599.077872
                  },
                  {
                    "country": "Ireland",
                    "continent": "Europe",
                    "year": "1962-01-01",
                    "life_expectancy": 70.29,
                    "population": 2830000,
                    "gdp_per_capita": 6631.597314
                  },
                  {
                    "country": "Ireland",
                    "continent": "Europe",
                    "year": "1967-01-01",
                    "life_expectancy": 71.08,
                    "population": 2900100,
                    "gdp_per_capita": 7655.568963
                  },
                  {
                    "country": "Ireland",
                    "continent": "Europe",
                    "year": "1972-01-01",
                    "life_expectancy": 71.28,
                    "population": 3024400,
                    "gdp_per_capita": 9530.772896
                  },
                  {
                    "country": "Ireland",
                    "continent": "Europe",
                    "year": "1977-01-01",
                    "life_expectancy": 72.03,
                    "population": 3271900,
                    "gdp_per_capita": 11150.98113
                  },
                  {
                    "country": "Ireland",
                    "continent": "Europe",
                    "year": "1982-01-01",
                    "life_expectancy": 73.1,
                    "population": 3480000,
                    "gdp_per_capita": 12618.32141
                  },
                  {
                    "country": "Ireland",
                    "continent": "Europe",
                    "year": "1987-01-01",
                    "life_expectancy": 74.36,
                    "population": 3539900,
                    "gdp_per_capita": 13872.86652
                  },
                  {
                    "country": "Ireland",
                    "continent": "Europe",
                    "year": "1992-01-01",
                    "life_expectancy": 75.467,
                    "population": 3557761,
                    "gdp_per_capita": 17558.81555
                  },
                  {
                    "country": "Ireland",
                    "continent": "Europe",
                    "year": "1997-01-01",
                    "life_expectancy": 76.122,
                    "population": 3667233,
                    "gdp_per_capita": 24521.94713
                  },
                  {
                    "country": "Ireland",
                    "continent": "Europe",
                    "year": "2002-01-01",
                    "life_expectancy": 77.783,
                    "population": 3879155,
                    "gdp_per_capita": 34077.04939
                  },
                  {
                    "country": "Ireland",
                    "continent": "Europe",
                    "year": "2007-01-01",
                    "life_expectancy": 78.885,
                    "population": 4109086,
                    "gdp_per_capita": 40675.99635
                  },
                  {
                    "country": "Israel",
                    "continent": "Asia",
                    "year": "1952-01-01",
                    "life_expectancy": 65.39,
                    "population": 1620914,
                    "gdp_per_capita": 4086.522128
                  },
                  {
                    "country": "Israel",
                    "continent": "Asia",
                    "year": "1957-01-01",
                    "life_expectancy": 67.84,
                    "population": 1944401,
                    "gdp_per_capita": 5385.278451
                  },
                  {
                    "country": "Israel",
                    "continent": "Asia",
                    "year": "1962-01-01",
                    "life_expectancy": 69.39,
                    "population": 2310904,
                    "gdp_per_capita": 7105.630706
                  },
                  {
                    "country": "Israel",
                    "continent": "Asia",
                    "year": "1967-01-01",
                    "life_expectancy": 70.75,
                    "population": 2693585,
                    "gdp_per_capita": 8393.741404
                  },
                  {
                    "country": "Israel",
                    "continent": "Asia",
                    "year": "1972-01-01",
                    "life_expectancy": 71.63,
                    "population": 3095893,
                    "gdp_per_capita": 12786.93223
                  },
                  {
                    "country": "Israel",
                    "continent": "Asia",
                    "year": "1977-01-01",
                    "life_expectancy": 73.06,
                    "population": 3495918,
                    "gdp_per_capita": 13306.61921
                  },
                  {
                    "country": "Israel",
                    "continent": "Asia",
                    "year": "1982-01-01",
                    "life_expectancy": 74.45,
                    "population": 3858421,
                    "gdp_per_capita": 15367.0292
                  },
                  {
                    "country": "Israel",
                    "continent": "Asia",
                    "year": "1987-01-01",
                    "life_expectancy": 75.6,
                    "population": 4203148,
                    "gdp_per_capita": 17122.47986
                  },
                  {
                    "country": "Israel",
                    "continent": "Asia",
                    "year": "1992-01-01",
                    "life_expectancy": 76.93,
                    "population": 4936550,
                    "gdp_per_capita": 18051.52254
                  },
                  {
                    "country": "Israel",
                    "continent": "Asia",
                    "year": "1997-01-01",
                    "life_expectancy": 78.269,
                    "population": 5531387,
                    "gdp_per_capita": 20896.60924
                  },
                  {
                    "country": "Israel",
                    "continent": "Asia",
                    "year": "2002-01-01",
                    "life_expectancy": 79.696,
                    "population": 6029529,
                    "gdp_per_capita": 21905.59514
                  },
                  {
                    "country": "Israel",
                    "continent": "Asia",
                    "year": "2007-01-01",
                    "life_expectancy": 80.745,
                    "population": 6426679,
                    "gdp_per_capita": 25523.2771
                  },
                  {
                    "country": "Italy",
                    "continent": "Europe",
                    "year": "1952-01-01",
                    "life_expectancy": 65.94,
                    "population": 47666000,
                    "gdp_per_capita": 4931.404155
                  },
                  {
                    "country": "Italy",
                    "continent": "Europe",
                    "year": "1957-01-01",
                    "life_expectancy": 67.81,
                    "population": 49182000,
                    "gdp_per_capita": 6248.656232
                  },
                  {
                    "country": "Italy",
                    "continent": "Europe",
                    "year": "1962-01-01",
                    "life_expectancy": 69.24,
                    "population": 50843200,
                    "gdp_per_capita": 8243.58234
                  },
                  {
                    "country": "Italy",
                    "continent": "Europe",
                    "year": "1967-01-01",
                    "life_expectancy": 71.06,
                    "population": 52667100,
                    "gdp_per_capita": 10022.40131
                  },
                  {
                    "country": "Italy",
                    "continent": "Europe",
                    "year": "1972-01-01",
                    "life_expectancy": 72.19,
                    "population": 54365564,
                    "gdp_per_capita": 12269.27378
                  },
                  {
                    "country": "Italy",
                    "continent": "Europe",
                    "year": "1977-01-01",
                    "life_expectancy": 73.48,
                    "population": 56059245,
                    "gdp_per_capita": 14255.98475
                  },
                  {
                    "country": "Italy",
                    "continent": "Europe",
                    "year": "1982-01-01",
                    "life_expectancy": 74.98,
                    "population": 56535636,
                    "gdp_per_capita": 16537.4835
                  },
                  {
                    "country": "Italy",
                    "continent": "Europe",
                    "year": "1987-01-01",
                    "life_expectancy": 76.42,
                    "population": 56729703,
                    "gdp_per_capita": 19207.23482
                  },
                  {
                    "country": "Italy",
                    "continent": "Europe",
                    "year": "1992-01-01",
                    "life_expectancy": 77.44,
                    "population": 56840847,
                    "gdp_per_capita": 22013.64486
                  },
                  {
                    "country": "Italy",
                    "continent": "Europe",
                    "year": "1997-01-01",
                    "life_expectancy": 78.82,
                    "population": 57479469,
                    "gdp_per_capita": 24675.02446
                  },
                  {
                    "country": "Italy",
                    "continent": "Europe",
                    "year": "2002-01-01",
                    "life_expectancy": 80.24,
                    "population": 57926999,
                    "gdp_per_capita": 27968.09817
                  },
                  {
                    "country": "Italy",
                    "continent": "Europe",
                    "year": "2007-01-01",
                    "life_expectancy": 80.546,
                    "population": 58147733,
                    "gdp_per_capita": 28569.7197
                  },
                  {
                    "country": "Jamaica",
                    "continent": "Americas",
                    "year": "1952-01-01",
                    "life_expectancy": 58.53,
                    "population": 1426095,
                    "gdp_per_capita": 2898.530881
                  },
                  {
                    "country": "Jamaica",
                    "continent": "Americas",
                    "year": "1957-01-01",
                    "life_expectancy": 62.61,
                    "population": 1535090,
                    "gdp_per_capita": 4756.525781
                  },
                  {
                    "country": "Jamaica",
                    "continent": "Americas",
                    "year": "1962-01-01",
                    "life_expectancy": 65.61,
                    "population": 1665128,
                    "gdp_per_capita": 5246.107524
                  },
                  {
                    "country": "Jamaica",
                    "continent": "Americas",
                    "year": "1967-01-01",
                    "life_expectancy": 67.51,
                    "population": 1861096,
                    "gdp_per_capita": 6124.703451
                  },
                  {
                    "country": "Jamaica",
                    "continent": "Americas",
                    "year": "1972-01-01",
                    "life_expectancy": 69,
                    "population": 1997616,
                    "gdp_per_capita": 7433.889293
                  },
                  {
                    "country": "Jamaica",
                    "continent": "Americas",
                    "year": "1977-01-01",
                    "life_expectancy": 70.11,
                    "population": 2156814,
                    "gdp_per_capita": 6650.195573
                  },
                  {
                    "country": "Jamaica",
                    "continent": "Americas",
                    "year": "1982-01-01",
                    "life_expectancy": 71.21,
                    "population": 2298309,
                    "gdp_per_capita": 6068.05135
                  },
                  {
                    "country": "Jamaica",
                    "continent": "Americas",
                    "year": "1987-01-01",
                    "life_expectancy": 71.77,
                    "population": 2326606,
                    "gdp_per_capita": 6351.237495
                  },
                  {
                    "country": "Jamaica",
                    "continent": "Americas",
                    "year": "1992-01-01",
                    "life_expectancy": 71.766,
                    "population": 2378618,
                    "gdp_per_capita": 7404.923685
                  },
                  {
                    "country": "Jamaica",
                    "continent": "Americas",
                    "year": "1997-01-01",
                    "life_expectancy": 72.262,
                    "population": 2531311,
                    "gdp_per_capita": 7121.924704
                  },
                  {
                    "country": "Jamaica",
                    "continent": "Americas",
                    "year": "2002-01-01",
                    "life_expectancy": 72.047,
                    "population": 2664659,
                    "gdp_per_capita": 6994.774861
                  },
                  {
                    "country": "Jamaica",
                    "continent": "Americas",
                    "year": "2007-01-01",
                    "life_expectancy": 72.567,
                    "population": 2780132,
                    "gdp_per_capita": 7320.880262
                  },
                  {
                    "country": "Japan",
                    "continent": "Asia",
                    "year": "1952-01-01",
                    "life_expectancy": 63.03,
                    "population": 86459025,
                    "gdp_per_capita": 3216.956347
                  },
                  {
                    "country": "Japan",
                    "continent": "Asia",
                    "year": "1957-01-01",
                    "life_expectancy": 65.5,
                    "population": 91563009,
                    "gdp_per_capita": 4317.694365
                  },
                  {
                    "country": "Japan",
                    "continent": "Asia",
                    "year": "1962-01-01",
                    "life_expectancy": 68.73,
                    "population": 95831757,
                    "gdp_per_capita": 6576.649461
                  },
                  {
                    "country": "Japan",
                    "continent": "Asia",
                    "year": "1967-01-01",
                    "life_expectancy": 71.43,
                    "population": 100825279,
                    "gdp_per_capita": 9847.788607
                  },
                  {
                    "country": "Japan",
                    "continent": "Asia",
                    "year": "1972-01-01",
                    "life_expectancy": 73.42,
                    "population": 107188273,
                    "gdp_per_capita": 14778.78636
                  },
                  {
                    "country": "Japan",
                    "continent": "Asia",
                    "year": "1977-01-01",
                    "life_expectancy": 75.38,
                    "population": 113872473,
                    "gdp_per_capita": 16610.37701
                  },
                  {
                    "country": "Japan",
                    "continent": "Asia",
                    "year": "1982-01-01",
                    "life_expectancy": 77.11,
                    "population": 118454974,
                    "gdp_per_capita": 19384.10571
                  },
                  {
                    "country": "Japan",
                    "continent": "Asia",
                    "year": "1987-01-01",
                    "life_expectancy": 78.67,
                    "population": 122091325,
                    "gdp_per_capita": 22375.94189
                  },
                  {
                    "country": "Japan",
                    "continent": "Asia",
                    "year": "1992-01-01",
                    "life_expectancy": 79.36,
                    "population": 124329269,
                    "gdp_per_capita": 26824.89511
                  },
                  {
                    "country": "Japan",
                    "continent": "Asia",
                    "year": "1997-01-01",
                    "life_expectancy": 80.69,
                    "population": 125956499,
                    "gdp_per_capita": 28816.58499
                  },
                  {
                    "country": "Japan",
                    "continent": "Asia",
                    "year": "2002-01-01",
                    "life_expectancy": 82,
                    "population": 127065841,
                    "gdp_per_capita": 28604.5919
                  },
                  {
                    "country": "Japan",
                    "continent": "Asia",
                    "year": "2007-01-01",
                    "life_expectancy": 82.603,
                    "population": 127467972,
                    "gdp_per_capita": 31656.06806
                  },
                  {
                    "country": "Jordan",
                    "continent": "Asia",
                    "year": "1952-01-01",
                    "life_expectancy": 43.158,
                    "population": 607914,
                    "gdp_per_capita": 1546.907807
                  },
                  {
                    "country": "Jordan",
                    "continent": "Asia",
                    "year": "1957-01-01",
                    "life_expectancy": 45.669,
                    "population": 746559,
                    "gdp_per_capita": 1886.080591
                  },
                  {
                    "country": "Jordan",
                    "continent": "Asia",
                    "year": "1962-01-01",
                    "life_expectancy": 48.126,
                    "population": 933559,
                    "gdp_per_capita": 2348.009158
                  },
                  {
                    "country": "Jordan",
                    "continent": "Asia",
                    "year": "1967-01-01",
                    "life_expectancy": 51.629,
                    "population": 1255058,
                    "gdp_per_capita": 2741.796252
                  },
                  {
                    "country": "Jordan",
                    "continent": "Asia",
                    "year": "1972-01-01",
                    "life_expectancy": 56.528,
                    "population": 1613551,
                    "gdp_per_capita": 2110.856309
                  },
                  {
                    "country": "Jordan",
                    "continent": "Asia",
                    "year": "1977-01-01",
                    "life_expectancy": 61.134,
                    "population": 1937652,
                    "gdp_per_capita": 2852.351568
                  },
                  {
                    "country": "Jordan",
                    "continent": "Asia",
                    "year": "1982-01-01",
                    "life_expectancy": 63.739,
                    "population": 2347031,
                    "gdp_per_capita": 4161.415959
                  },
                  {
                    "country": "Jordan",
                    "continent": "Asia",
                    "year": "1987-01-01",
                    "life_expectancy": 65.869,
                    "population": 2820042,
                    "gdp_per_capita": 4448.679912
                  },
                  {
                    "country": "Jordan",
                    "continent": "Asia",
                    "year": "1992-01-01",
                    "life_expectancy": 68.015,
                    "population": 3867409,
                    "gdp_per_capita": 3431.593647
                  },
                  {
                    "country": "Jordan",
                    "continent": "Asia",
                    "year": "1997-01-01",
                    "life_expectancy": 69.772,
                    "population": 4526235,
                    "gdp_per_capita": 3645.379572
                  },
                  {
                    "country": "Jordan",
                    "continent": "Asia",
                    "year": "2002-01-01",
                    "life_expectancy": 71.263,
                    "population": 5307470,
                    "gdp_per_capita": 3844.917194
                  },
                  {
                    "country": "Jordan",
                    "continent": "Asia",
                    "year": "2007-01-01",
                    "life_expectancy": 72.535,
                    "population": 6053193,
                    "gdp_per_capita": 4519.461171
                  },
                  {
                    "country": "Kenya",
                    "continent": "Africa",
                    "year": "1952-01-01",
                    "life_expectancy": 42.27,
                    "population": 6464046,
                    "gdp_per_capita": 853.540919
                  },
                  {
                    "country": "Kenya",
                    "continent": "Africa",
                    "year": "1957-01-01",
                    "life_expectancy": 44.686,
                    "population": 7454779,
                    "gdp_per_capita": 944.4383152
                  },
                  {
                    "country": "Kenya",
                    "continent": "Africa",
                    "year": "1962-01-01",
                    "life_expectancy": 47.949,
                    "population": 8678557,
                    "gdp_per_capita": 896.9663732
                  },
                  {
                    "country": "Kenya",
                    "continent": "Africa",
                    "year": "1967-01-01",
                    "life_expectancy": 50.654,
                    "population": 10191512,
                    "gdp_per_capita": 1056.736457
                  },
                  {
                    "country": "Kenya",
                    "continent": "Africa",
                    "year": "1972-01-01",
                    "life_expectancy": 53.559,
                    "population": 12044785,
                    "gdp_per_capita": 1222.359968
                  },
                  {
                    "country": "Kenya",
                    "continent": "Africa",
                    "year": "1977-01-01",
                    "life_expectancy": 56.155,
                    "population": 14500404,
                    "gdp_per_capita": 1267.613204
                  },
                  {
                    "country": "Kenya",
                    "continent": "Africa",
                    "year": "1982-01-01",
                    "life_expectancy": 58.766,
                    "population": 17661452,
                    "gdp_per_capita": 1348.225791
                  },
                  {
                    "country": "Kenya",
                    "continent": "Africa",
                    "year": "1987-01-01",
                    "life_expectancy": 59.339,
                    "population": 21198082,
                    "gdp_per_capita": 1361.936856
                  },
                  {
                    "country": "Kenya",
                    "continent": "Africa",
                    "year": "1992-01-01",
                    "life_expectancy": 59.285,
                    "population": 25020539,
                    "gdp_per_capita": 1341.921721
                  },
                  {
                    "country": "Kenya",
                    "continent": "Africa",
                    "year": "1997-01-01",
                    "life_expectancy": 54.407,
                    "population": 28263827,
                    "gdp_per_capita": 1360.485021
                  },
                  {
                    "country": "Kenya",
                    "continent": "Africa",
                    "year": "2002-01-01",
                    "life_expectancy": 50.992,
                    "population": 31386842,
                    "gdp_per_capita": 1287.514732
                  },
                  {
                    "country": "Kenya",
                    "continent": "Africa",
                    "year": "2007-01-01",
                    "life_expectancy": 54.11,
                    "population": 35610177,
                    "gdp_per_capita": 1463.249282
                  },
                  {
                    "country": "Korea, Dem. Rep.",
                    "continent": "Asia",
                    "year": "1952-01-01",
                    "life_expectancy": 50.056,
                    "population": 8865488,
                    "gdp_per_capita": 1088.277758
                  },
                  {
                    "country": "Korea, Dem. Rep.",
                    "continent": "Asia",
                    "year": "1957-01-01",
                    "life_expectancy": 54.081,
                    "population": 9411381,
                    "gdp_per_capita": 1571.134655
                  },
                  {
                    "country": "Korea, Dem. Rep.",
                    "continent": "Asia",
                    "year": "1962-01-01",
                    "life_expectancy": 56.656,
                    "population": 10917494,
                    "gdp_per_capita": 1621.693598
                  },
                  {
                    "country": "Korea, Dem. Rep.",
                    "continent": "Asia",
                    "year": "1967-01-01",
                    "life_expectancy": 59.942,
                    "population": 12617009,
                    "gdp_per_capita": 2143.540609
                  },
                  {
                    "country": "Korea, Dem. Rep.",
                    "continent": "Asia",
                    "year": "1972-01-01",
                    "life_expectancy": 63.983,
                    "population": 14781241,
                    "gdp_per_capita": 3701.621503
                  },
                  {
                    "country": "Korea, Dem. Rep.",
                    "continent": "Asia",
                    "year": "1977-01-01",
                    "life_expectancy": 67.159,
                    "population": 16325320,
                    "gdp_per_capita": 4106.301249
                  },
                  {
                    "country": "Korea, Dem. Rep.",
                    "continent": "Asia",
                    "year": "1982-01-01",
                    "life_expectancy": 69.1,
                    "population": 17647518,
                    "gdp_per_capita": 4106.525293
                  },
                  {
                    "country": "Korea, Dem. Rep.",
                    "continent": "Asia",
                    "year": "1987-01-01",
                    "life_expectancy": 70.647,
                    "population": 19067554,
                    "gdp_per_capita": 4106.492315
                  },
                  {
                    "country": "Korea, Dem. Rep.",
                    "continent": "Asia",
                    "year": "1992-01-01",
                    "life_expectancy": 69.978,
                    "population": 20711375,
                    "gdp_per_capita": 3726.063507
                  },
                  {
                    "country": "Korea, Dem. Rep.",
                    "continent": "Asia",
                    "year": "1997-01-01",
                    "life_expectancy": 67.727,
                    "population": 21585105,
                    "gdp_per_capita": 1690.756814
                  },
                  {
                    "country": "Korea, Dem. Rep.",
                    "continent": "Asia",
                    "year": "2002-01-01",
                    "life_expectancy": 66.662,
                    "population": 22215365,
                    "gdp_per_capita": 1646.758151
                  },
                  {
                    "country": "Korea, Dem. Rep.",
                    "continent": "Asia",
                    "year": "2007-01-01",
                    "life_expectancy": 67.297,
                    "population": 23301725,
                    "gdp_per_capita": 1593.06548
                  },
                  {
                    "country": "Korea, Rep.",
                    "continent": "Asia",
                    "year": "1952-01-01",
                    "life_expectancy": 47.453,
                    "population": 20947571,
                    "gdp_per_capita": 1030.592226
                  },
                  {
                    "country": "Korea, Rep.",
                    "continent": "Asia",
                    "year": "1957-01-01",
                    "life_expectancy": 52.681,
                    "population": 22611552,
                    "gdp_per_capita": 1487.593537
                  },
                  {
                    "country": "Korea, Rep.",
                    "continent": "Asia",
                    "year": "1962-01-01",
                    "life_expectancy": 55.292,
                    "population": 26420307,
                    "gdp_per_capita": 1536.344387
                  },
                  {
                    "country": "Korea, Rep.",
                    "continent": "Asia",
                    "year": "1967-01-01",
                    "life_expectancy": 57.716,
                    "population": 30131000,
                    "gdp_per_capita": 2029.228142
                  },
                  {
                    "country": "Korea, Rep.",
                    "continent": "Asia",
                    "year": "1972-01-01",
                    "life_expectancy": 62.612,
                    "population": 33505000,
                    "gdp_per_capita": 3030.87665
                  },
                  {
                    "country": "Korea, Rep.",
                    "continent": "Asia",
                    "year": "1977-01-01",
                    "life_expectancy": 64.766,
                    "population": 36436000,
                    "gdp_per_capita": 4657.22102
                  },
                  {
                    "country": "Korea, Rep.",
                    "continent": "Asia",
                    "year": "1982-01-01",
                    "life_expectancy": 67.123,
                    "population": 39326000,
                    "gdp_per_capita": 5622.942464
                  },
                  {
                    "country": "Korea, Rep.",
                    "continent": "Asia",
                    "year": "1987-01-01",
                    "life_expectancy": 69.81,
                    "population": 41622000,
                    "gdp_per_capita": 8533.088805
                  },
                  {
                    "country": "Korea, Rep.",
                    "continent": "Asia",
                    "year": "1992-01-01",
                    "life_expectancy": 72.244,
                    "population": 43805450,
                    "gdp_per_capita": 12104.27872
                  },
                  {
                    "country": "Korea, Rep.",
                    "continent": "Asia",
                    "year": "1997-01-01",
                    "life_expectancy": 74.647,
                    "population": 46173816,
                    "gdp_per_capita": 15993.52796
                  },
                  {
                    "country": "Korea, Rep.",
                    "continent": "Asia",
                    "year": "2002-01-01",
                    "life_expectancy": 77.045,
                    "population": 47969150,
                    "gdp_per_capita": 19233.98818
                  },
                  {
                    "country": "Korea, Rep.",
                    "continent": "Asia",
                    "year": "2007-01-01",
                    "life_expectancy": 78.623,
                    "population": 49044790,
                    "gdp_per_capita": 23348.13973
                  },
                  {
                    "country": "Kuwait",
                    "continent": "Asia",
                    "year": "1952-01-01",
                    "life_expectancy": 55.565,
                    "population": 160000,
                    "gdp_per_capita": 108382.3529
                  },
                  {
                    "country": "Kuwait",
                    "continent": "Asia",
                    "year": "1957-01-01",
                    "life_expectancy": 58.033,
                    "population": 212846,
                    "gdp_per_capita": 113523.1329
                  },
                  {
                    "country": "Kuwait",
                    "continent": "Asia",
                    "year": "1962-01-01",
                    "life_expectancy": 60.47,
                    "population": 358266,
                    "gdp_per_capita": 95458.11176
                  },
                  {
                    "country": "Kuwait",
                    "continent": "Asia",
                    "year": "1967-01-01",
                    "life_expectancy": 64.624,
                    "population": 575003,
                    "gdp_per_capita": 80894.88326
                  },
                  {
                    "country": "Kuwait",
                    "continent": "Asia",
                    "year": "1972-01-01",
                    "life_expectancy": 67.712,
                    "population": 841934,
                    "gdp_per_capita": 109347.867
                  },
                  {
                    "country": "Kuwait",
                    "continent": "Asia",
                    "year": "1977-01-01",
                    "life_expectancy": 69.343,
                    "population": 1140357,
                    "gdp_per_capita": 59265.47714
                  },
                  {
                    "country": "Kuwait",
                    "continent": "Asia",
                    "year": "1982-01-01",
                    "life_expectancy": 71.309,
                    "population": 1497494,
                    "gdp_per_capita": 31354.03573
                  },
                  {
                    "country": "Kuwait",
                    "continent": "Asia",
                    "year": "1987-01-01",
                    "life_expectancy": 74.174,
                    "population": 1891487,
                    "gdp_per_capita": 28118.42998
                  },
                  {
                    "country": "Kuwait",
                    "continent": "Asia",
                    "year": "1992-01-01",
                    "life_expectancy": 75.19,
                    "population": 1418095,
                    "gdp_per_capita": 34932.91959
                  },
                  {
                    "country": "Kuwait",
                    "continent": "Asia",
                    "year": "1997-01-01",
                    "life_expectancy": 76.156,
                    "population": 1765345,
                    "gdp_per_capita": 40300.61996
                  },
                  {
                    "country": "Kuwait",
                    "continent": "Asia",
                    "year": "2002-01-01",
                    "life_expectancy": 76.904,
                    "population": 2111561,
                    "gdp_per_capita": 35110.10566
                  },
                  {
                    "country": "Kuwait",
                    "continent": "Asia",
                    "year": "2007-01-01",
                    "life_expectancy": 77.588,
                    "population": 2505559,
                    "gdp_per_capita": 47306.98978
                  },
                  {
                    "country": "Lebanon",
                    "continent": "Asia",
                    "year": "1952-01-01",
                    "life_expectancy": 55.928,
                    "population": 1439529,
                    "gdp_per_capita": 4834.804067
                  },
                  {
                    "country": "Lebanon",
                    "continent": "Asia",
                    "year": "1957-01-01",
                    "life_expectancy": 59.489,
                    "population": 1647412,
                    "gdp_per_capita": 6089.786934
                  },
                  {
                    "country": "Lebanon",
                    "continent": "Asia",
                    "year": "1962-01-01",
                    "life_expectancy": 62.094,
                    "population": 1886848,
                    "gdp_per_capita": 5714.560611
                  },
                  {
                    "country": "Lebanon",
                    "continent": "Asia",
                    "year": "1967-01-01",
                    "life_expectancy": 63.87,
                    "population": 2186894,
                    "gdp_per_capita": 6006.983042
                  },
                  {
                    "country": "Lebanon",
                    "continent": "Asia",
                    "year": "1972-01-01",
                    "life_expectancy": 65.421,
                    "population": 2680018,
                    "gdp_per_capita": 7486.384341
                  },
                  {
                    "country": "Lebanon",
                    "continent": "Asia",
                    "year": "1977-01-01",
                    "life_expectancy": 66.099,
                    "population": 3115787,
                    "gdp_per_capita": 8659.696836
                  },
                  {
                    "country": "Lebanon",
                    "continent": "Asia",
                    "year": "1982-01-01",
                    "life_expectancy": 66.983,
                    "population": 3086876,
                    "gdp_per_capita": 7640.519521
                  },
                  {
                    "country": "Lebanon",
                    "continent": "Asia",
                    "year": "1987-01-01",
                    "life_expectancy": 67.926,
                    "population": 3089353,
                    "gdp_per_capita": 5377.091329
                  },
                  {
                    "country": "Lebanon",
                    "continent": "Asia",
                    "year": "1992-01-01",
                    "life_expectancy": 69.292,
                    "population": 3219994,
                    "gdp_per_capita": 6890.806854
                  },
                  {
                    "country": "Lebanon",
                    "continent": "Asia",
                    "year": "1997-01-01",
                    "life_expectancy": 70.265,
                    "population": 3430388,
                    "gdp_per_capita": 8754.96385
                  },
                  {
                    "country": "Lebanon",
                    "continent": "Asia",
                    "year": "2002-01-01",
                    "life_expectancy": 71.028,
                    "population": 3677780,
                    "gdp_per_capita": 9313.93883
                  },
                  {
                    "country": "Lebanon",
                    "continent": "Asia",
                    "year": "2007-01-01",
                    "life_expectancy": 71.993,
                    "population": 3921278,
                    "gdp_per_capita": 10461.05868
                  },
                  {
                    "country": "Lesotho",
                    "continent": "Africa",
                    "year": "1952-01-01",
                    "life_expectancy": 42.138,
                    "population": 748747,
                    "gdp_per_capita": 298.8462121
                  },
                  {
                    "country": "Lesotho",
                    "continent": "Africa",
                    "year": "1957-01-01",
                    "life_expectancy": 45.047,
                    "population": 813338,
                    "gdp_per_capita": 335.9971151
                  },
                  {
                    "country": "Lesotho",
                    "continent": "Africa",
                    "year": "1962-01-01",
                    "life_expectancy": 47.747,
                    "population": 893143,
                    "gdp_per_capita": 411.8006266
                  },
                  {
                    "country": "Lesotho",
                    "continent": "Africa",
                    "year": "1967-01-01",
                    "life_expectancy": 48.492,
                    "population": 996380,
                    "gdp_per_capita": 498.6390265
                  },
                  {
                    "country": "Lesotho",
                    "continent": "Africa",
                    "year": "1972-01-01",
                    "life_expectancy": 49.767,
                    "population": 1116779,
                    "gdp_per_capita": 496.5815922
                  },
                  {
                    "country": "Lesotho",
                    "continent": "Africa",
                    "year": "1977-01-01",
                    "life_expectancy": 52.208,
                    "population": 1251524,
                    "gdp_per_capita": 745.3695408
                  },
                  {
                    "country": "Lesotho",
                    "continent": "Africa",
                    "year": "1982-01-01",
                    "life_expectancy": 55.078,
                    "population": 1411807,
                    "gdp_per_capita": 797.2631074
                  },
                  {
                    "country": "Lesotho",
                    "continent": "Africa",
                    "year": "1987-01-01",
                    "life_expectancy": 57.18,
                    "population": 1599200,
                    "gdp_per_capita": 773.9932141
                  },
                  {
                    "country": "Lesotho",
                    "continent": "Africa",
                    "year": "1992-01-01",
                    "life_expectancy": 59.685,
                    "population": 1803195,
                    "gdp_per_capita": 977.4862725
                  },
                  {
                    "country": "Lesotho",
                    "continent": "Africa",
                    "year": "1997-01-01",
                    "life_expectancy": 55.558,
                    "population": 1982823,
                    "gdp_per_capita": 1186.147994
                  },
                  {
                    "country": "Lesotho",
                    "continent": "Africa",
                    "year": "2002-01-01",
                    "life_expectancy": 44.593,
                    "population": 2046772,
                    "gdp_per_capita": 1275.184575
                  },
                  {
                    "country": "Lesotho",
                    "continent": "Africa",
                    "year": "2007-01-01",
                    "life_expectancy": 42.592,
                    "population": 2012649,
                    "gdp_per_capita": 1569.331442
                  },
                  {
                    "country": "Liberia",
                    "continent": "Africa",
                    "year": "1952-01-01",
                    "life_expectancy": 38.48,
                    "population": 863308,
                    "gdp_per_capita": 575.5729961
                  },
                  {
                    "country": "Liberia",
                    "continent": "Africa",
                    "year": "1957-01-01",
                    "life_expectancy": 39.486,
                    "population": 975950,
                    "gdp_per_capita": 620.9699901
                  },
                  {
                    "country": "Liberia",
                    "continent": "Africa",
                    "year": "1962-01-01",
                    "life_expectancy": 40.502,
                    "population": 1112796,
                    "gdp_per_capita": 634.1951625
                  },
                  {
                    "country": "Liberia",
                    "continent": "Africa",
                    "year": "1967-01-01",
                    "life_expectancy": 41.536,
                    "population": 1279406,
                    "gdp_per_capita": 713.6036483
                  },
                  {
                    "country": "Liberia",
                    "continent": "Africa",
                    "year": "1972-01-01",
                    "life_expectancy": 42.614,
                    "population": 1482628,
                    "gdp_per_capita": 803.0054535
                  },
                  {
                    "country": "Liberia",
                    "continent": "Africa",
                    "year": "1977-01-01",
                    "life_expectancy": 43.764,
                    "population": 1703617,
                    "gdp_per_capita": 640.3224383
                  },
                  {
                    "country": "Liberia",
                    "continent": "Africa",
                    "year": "1982-01-01",
                    "life_expectancy": 44.852,
                    "population": 1956875,
                    "gdp_per_capita": 572.1995694
                  },
                  {
                    "country": "Liberia",
                    "continent": "Africa",
                    "year": "1987-01-01",
                    "life_expectancy": 46.027,
                    "population": 2269414,
                    "gdp_per_capita": 506.1138573
                  },
                  {
                    "country": "Liberia",
                    "continent": "Africa",
                    "year": "1992-01-01",
                    "life_expectancy": 40.802,
                    "population": 1912974,
                    "gdp_per_capita": 636.6229191
                  },
                  {
                    "country": "Liberia",
                    "continent": "Africa",
                    "year": "1997-01-01",
                    "life_expectancy": 42.221,
                    "population": 2200725,
                    "gdp_per_capita": 609.1739508
                  },
                  {
                    "country": "Liberia",
                    "continent": "Africa",
                    "year": "2002-01-01",
                    "life_expectancy": 43.753,
                    "population": 2814651,
                    "gdp_per_capita": 531.4823679
                  },
                  {
                    "country": "Liberia",
                    "continent": "Africa",
                    "year": "2007-01-01",
                    "life_expectancy": 45.678,
                    "population": 3193942,
                    "gdp_per_capita": 414.5073415
                  },
                  {
                    "country": "Libya",
                    "continent": "Africa",
                    "year": "1952-01-01",
                    "life_expectancy": 42.723,
                    "population": 1019729,
                    "gdp_per_capita": 2387.54806
                  },
                  {
                    "country": "Libya",
                    "continent": "Africa",
                    "year": "1957-01-01",
                    "life_expectancy": 45.289,
                    "population": 1201578,
                    "gdp_per_capita": 3448.284395
                  },
                  {
                    "country": "Libya",
                    "continent": "Africa",
                    "year": "1962-01-01",
                    "life_expectancy": 47.808,
                    "population": 1441863,
                    "gdp_per_capita": 6757.030816
                  },
                  {
                    "country": "Libya",
                    "continent": "Africa",
                    "year": "1967-01-01",
                    "life_expectancy": 50.227,
                    "population": 1759224,
                    "gdp_per_capita": 18772.75169
                  },
                  {
                    "country": "Libya",
                    "continent": "Africa",
                    "year": "1972-01-01",
                    "life_expectancy": 52.773,
                    "population": 2183877,
                    "gdp_per_capita": 21011.49721
                  },
                  {
                    "country": "Libya",
                    "continent": "Africa",
                    "year": "1977-01-01",
                    "life_expectancy": 57.442,
                    "population": 2721783,
                    "gdp_per_capita": 21951.21176
                  },
                  {
                    "country": "Libya",
                    "continent": "Africa",
                    "year": "1982-01-01",
                    "life_expectancy": 62.155,
                    "population": 3344074,
                    "gdp_per_capita": 17364.27538
                  },
                  {
                    "country": "Libya",
                    "continent": "Africa",
                    "year": "1987-01-01",
                    "life_expectancy": 66.234,
                    "population": 3799845,
                    "gdp_per_capita": 11770.5898
                  },
                  {
                    "country": "Libya",
                    "continent": "Africa",
                    "year": "1992-01-01",
                    "life_expectancy": 68.755,
                    "population": 4364501,
                    "gdp_per_capita": 9640.138501
                  },
                  {
                    "country": "Libya",
                    "continent": "Africa",
                    "year": "1997-01-01",
                    "life_expectancy": 71.555,
                    "population": 4759670,
                    "gdp_per_capita": 9467.446056
                  },
                  {
                    "country": "Libya",
                    "continent": "Africa",
                    "year": "2002-01-01",
                    "life_expectancy": 72.737,
                    "population": 5368585,
                    "gdp_per_capita": 9534.677467
                  },
                  {
                    "country": "Libya",
                    "continent": "Africa",
                    "year": "2007-01-01",
                    "life_expectancy": 73.952,
                    "population": 6036914,
                    "gdp_per_capita": 12057.49928
                  },
                  {
                    "country": "Madagascar",
                    "continent": "Africa",
                    "year": "1952-01-01",
                    "life_expectancy": 36.681,
                    "population": 4762912,
                    "gdp_per_capita": 1443.011715
                  },
                  {
                    "country": "Madagascar",
                    "continent": "Africa",
                    "year": "1957-01-01",
                    "life_expectancy": 38.865,
                    "population": 5181679,
                    "gdp_per_capita": 1589.20275
                  },
                  {
                    "country": "Madagascar",
                    "continent": "Africa",
                    "year": "1962-01-01",
                    "life_expectancy": 40.848,
                    "population": 5703324,
                    "gdp_per_capita": 1643.38711
                  },
                  {
                    "country": "Madagascar",
                    "continent": "Africa",
                    "year": "1967-01-01",
                    "life_expectancy": 42.881,
                    "population": 6334556,
                    "gdp_per_capita": 1634.047282
                  },
                  {
                    "country": "Madagascar",
                    "continent": "Africa",
                    "year": "1972-01-01",
                    "life_expectancy": 44.851,
                    "population": 7082430,
                    "gdp_per_capita": 1748.562982
                  },
                  {
                    "country": "Madagascar",
                    "continent": "Africa",
                    "year": "1977-01-01",
                    "life_expectancy": 46.881,
                    "population": 8007166,
                    "gdp_per_capita": 1544.228586
                  },
                  {
                    "country": "Madagascar",
                    "continent": "Africa",
                    "year": "1982-01-01",
                    "life_expectancy": 48.969,
                    "population": 9171477,
                    "gdp_per_capita": 1302.878658
                  },
                  {
                    "country": "Madagascar",
                    "continent": "Africa",
                    "year": "1987-01-01",
                    "life_expectancy": 49.35,
                    "population": 10568642,
                    "gdp_per_capita": 1155.441948
                  },
                  {
                    "country": "Madagascar",
                    "continent": "Africa",
                    "year": "1992-01-01",
                    "life_expectancy": 52.214,
                    "population": 12210395,
                    "gdp_per_capita": 1040.67619
                  },
                  {
                    "country": "Madagascar",
                    "continent": "Africa",
                    "year": "1997-01-01",
                    "life_expectancy": 54.978,
                    "population": 14165114,
                    "gdp_per_capita": 986.2958956
                  },
                  {
                    "country": "Madagascar",
                    "continent": "Africa",
                    "year": "2002-01-01",
                    "life_expectancy": 57.286,
                    "population": 16473477,
                    "gdp_per_capita": 894.6370822
                  },
                  {
                    "country": "Madagascar",
                    "continent": "Africa",
                    "year": "2007-01-01",
                    "life_expectancy": 59.443,
                    "population": 19167654,
                    "gdp_per_capita": 1044.770126
                  },
                  {
                    "country": "Malawi",
                    "continent": "Africa",
                    "year": "1952-01-01",
                    "life_expectancy": 36.256,
                    "population": 2917802,
                    "gdp_per_capita": 369.1650802
                  },
                  {
                    "country": "Malawi",
                    "continent": "Africa",
                    "year": "1957-01-01",
                    "life_expectancy": 37.207,
                    "population": 3221238,
                    "gdp_per_capita": 416.3698064
                  },
                  {
                    "country": "Malawi",
                    "continent": "Africa",
                    "year": "1962-01-01",
                    "life_expectancy": 38.41,
                    "population": 3628608,
                    "gdp_per_capita": 427.9010856
                  },
                  {
                    "country": "Malawi",
                    "continent": "Africa",
                    "year": "1967-01-01",
                    "life_expectancy": 39.487,
                    "population": 4147252,
                    "gdp_per_capita": 495.5147806
                  },
                  {
                    "country": "Malawi",
                    "continent": "Africa",
                    "year": "1972-01-01",
                    "life_expectancy": 41.766,
                    "population": 4730997,
                    "gdp_per_capita": 584.6219709
                  },
                  {
                    "country": "Malawi",
                    "continent": "Africa",
                    "year": "1977-01-01",
                    "life_expectancy": 43.767,
                    "population": 5637246,
                    "gdp_per_capita": 663.2236766
                  },
                  {
                    "country": "Malawi",
                    "continent": "Africa",
                    "year": "1982-01-01",
                    "life_expectancy": 45.642,
                    "population": 6502825,
                    "gdp_per_capita": 632.8039209
                  },
                  {
                    "country": "Malawi",
                    "continent": "Africa",
                    "year": "1987-01-01",
                    "life_expectancy": 47.457,
                    "population": 7824747,
                    "gdp_per_capita": 635.5173634
                  },
                  {
                    "country": "Malawi",
                    "continent": "Africa",
                    "year": "1992-01-01",
                    "life_expectancy": 49.42,
                    "population": 10014249,
                    "gdp_per_capita": 563.2000145
                  },
                  {
                    "country": "Malawi",
                    "continent": "Africa",
                    "year": "1997-01-01",
                    "life_expectancy": 47.495,
                    "population": 10419991,
                    "gdp_per_capita": 692.2758103
                  },
                  {
                    "country": "Malawi",
                    "continent": "Africa",
                    "year": "2002-01-01",
                    "life_expectancy": 45.009,
                    "population": 11824495,
                    "gdp_per_capita": 665.4231186
                  },
                  {
                    "country": "Malawi",
                    "continent": "Africa",
                    "year": "2007-01-01",
                    "life_expectancy": 48.303,
                    "population": 13327079,
                    "gdp_per_capita": 759.3499101
                  },
                  {
                    "country": "Malaysia",
                    "continent": "Asia",
                    "year": "1952-01-01",
                    "life_expectancy": 48.463,
                    "population": 6748378,
                    "gdp_per_capita": 1831.132894
                  },
                  {
                    "country": "Malaysia",
                    "continent": "Asia",
                    "year": "1957-01-01",
                    "life_expectancy": 52.102,
                    "population": 7739235,
                    "gdp_per_capita": 1810.066992
                  },
                  {
                    "country": "Malaysia",
                    "continent": "Asia",
                    "year": "1962-01-01",
                    "life_expectancy": 55.737,
                    "population": 8906385,
                    "gdp_per_capita": 2036.884944
                  },
                  {
                    "country": "Malaysia",
                    "continent": "Asia",
                    "year": "1967-01-01",
                    "life_expectancy": 59.371,
                    "population": 10154878,
                    "gdp_per_capita": 2277.742396
                  },
                  {
                    "country": "Malaysia",
                    "continent": "Asia",
                    "year": "1972-01-01",
                    "life_expectancy": 63.01,
                    "population": 11441462,
                    "gdp_per_capita": 2849.09478
                  },
                  {
                    "country": "Malaysia",
                    "continent": "Asia",
                    "year": "1977-01-01",
                    "life_expectancy": 65.256,
                    "population": 12845381,
                    "gdp_per_capita": 3827.921571
                  },
                  {
                    "country": "Malaysia",
                    "continent": "Asia",
                    "year": "1982-01-01",
                    "life_expectancy": 68,
                    "population": 14441916,
                    "gdp_per_capita": 4920.355951
                  },
                  {
                    "country": "Malaysia",
                    "continent": "Asia",
                    "year": "1987-01-01",
                    "life_expectancy": 69.5,
                    "population": 16331785,
                    "gdp_per_capita": 5249.802653
                  },
                  {
                    "country": "Malaysia",
                    "continent": "Asia",
                    "year": "1992-01-01",
                    "life_expectancy": 70.693,
                    "population": 18319502,
                    "gdp_per_capita": 7277.912802
                  },
                  {
                    "country": "Malaysia",
                    "continent": "Asia",
                    "year": "1997-01-01",
                    "life_expectancy": 71.938,
                    "population": 20476091,
                    "gdp_per_capita": 10132.90964
                  },
                  {
                    "country": "Malaysia",
                    "continent": "Asia",
                    "year": "2002-01-01",
                    "life_expectancy": 73.044,
                    "population": 22662365,
                    "gdp_per_capita": 10206.97794
                  },
                  {
                    "country": "Malaysia",
                    "continent": "Asia",
                    "year": "2007-01-01",
                    "life_expectancy": 74.241,
                    "population": 24821286,
                    "gdp_per_capita": 12451.6558
                  },
                  {
                    "country": "Mali",
                    "continent": "Africa",
                    "year": "1952-01-01",
                    "life_expectancy": 33.685,
                    "population": 3838168,
                    "gdp_per_capita": 452.3369807
                  },
                  {
                    "country": "Mali",
                    "continent": "Africa",
                    "year": "1957-01-01",
                    "life_expectancy": 35.307,
                    "population": 4241884,
                    "gdp_per_capita": 490.3821867
                  },
                  {
                    "country": "Mali",
                    "continent": "Africa",
                    "year": "1962-01-01",
                    "life_expectancy": 36.936,
                    "population": 4690372,
                    "gdp_per_capita": 496.1743428
                  },
                  {
                    "country": "Mali",
                    "continent": "Africa",
                    "year": "1967-01-01",
                    "life_expectancy": 38.487,
                    "population": 5212416,
                    "gdp_per_capita": 545.0098873
                  },
                  {
                    "country": "Mali",
                    "continent": "Africa",
                    "year": "1972-01-01",
                    "life_expectancy": 39.977,
                    "population": 5828158,
                    "gdp_per_capita": 581.3688761
                  },
                  {
                    "country": "Mali",
                    "continent": "Africa",
                    "year": "1977-01-01",
                    "life_expectancy": 41.714,
                    "population": 6491649,
                    "gdp_per_capita": 686.3952693
                  },
                  {
                    "country": "Mali",
                    "continent": "Africa",
                    "year": "1982-01-01",
                    "life_expectancy": 43.916,
                    "population": 6998256,
                    "gdp_per_capita": 618.0140641
                  },
                  {
                    "country": "Mali",
                    "continent": "Africa",
                    "year": "1987-01-01",
                    "life_expectancy": 46.364,
                    "population": 7634008,
                    "gdp_per_capita": 684.1715576
                  },
                  {
                    "country": "Mali",
                    "continent": "Africa",
                    "year": "1992-01-01",
                    "life_expectancy": 48.388,
                    "population": 8416215,
                    "gdp_per_capita": 739.014375
                  },
                  {
                    "country": "Mali",
                    "continent": "Africa",
                    "year": "1997-01-01",
                    "life_expectancy": 49.903,
                    "population": 9384984,
                    "gdp_per_capita": 790.2579846
                  },
                  {
                    "country": "Mali",
                    "continent": "Africa",
                    "year": "2002-01-01",
                    "life_expectancy": 51.818,
                    "population": 10580176,
                    "gdp_per_capita": 951.4097518
                  },
                  {
                    "country": "Mali",
                    "continent": "Africa",
                    "year": "2007-01-01",
                    "life_expectancy": 54.467,
                    "population": 12031795,
                    "gdp_per_capita": 1042.581557
                  },
                  {
                    "country": "Mauritania",
                    "continent": "Africa",
                    "year": "1952-01-01",
                    "life_expectancy": 40.543,
                    "population": 1022556,
                    "gdp_per_capita": 743.1159097
                  },
                  {
                    "country": "Mauritania",
                    "continent": "Africa",
                    "year": "1957-01-01",
                    "life_expectancy": 42.338,
                    "population": 1076852,
                    "gdp_per_capita": 846.1202613
                  },
                  {
                    "country": "Mauritania",
                    "continent": "Africa",
                    "year": "1962-01-01",
                    "life_expectancy": 44.248,
                    "population": 1146757,
                    "gdp_per_capita": 1055.896036
                  },
                  {
                    "country": "Mauritania",
                    "continent": "Africa",
                    "year": "1967-01-01",
                    "life_expectancy": 46.289,
                    "population": 1230542,
                    "gdp_per_capita": 1421.145193
                  },
                  {
                    "country": "Mauritania",
                    "continent": "Africa",
                    "year": "1972-01-01",
                    "life_expectancy": 48.437,
                    "population": 1332786,
                    "gdp_per_capita": 1586.851781
                  },
                  {
                    "country": "Mauritania",
                    "continent": "Africa",
                    "year": "1977-01-01",
                    "life_expectancy": 50.852,
                    "population": 1456688,
                    "gdp_per_capita": 1497.492223
                  },
                  {
                    "country": "Mauritania",
                    "continent": "Africa",
                    "year": "1982-01-01",
                    "life_expectancy": 53.599,
                    "population": 1622136,
                    "gdp_per_capita": 1481.150189
                  },
                  {
                    "country": "Mauritania",
                    "continent": "Africa",
                    "year": "1987-01-01",
                    "life_expectancy": 56.145,
                    "population": 1841240,
                    "gdp_per_capita": 1421.603576
                  },
                  {
                    "country": "Mauritania",
                    "continent": "Africa",
                    "year": "1992-01-01",
                    "life_expectancy": 58.333,
                    "population": 2119465,
                    "gdp_per_capita": 1361.369784
                  },
                  {
                    "country": "Mauritania",
                    "continent": "Africa",
                    "year": "1997-01-01",
                    "life_expectancy": 60.43,
                    "population": 2444741,
                    "gdp_per_capita": 1483.136136
                  },
                  {
                    "country": "Mauritania",
                    "continent": "Africa",
                    "year": "2002-01-01",
                    "life_expectancy": 62.247,
                    "population": 2828858,
                    "gdp_per_capita": 1579.019543
                  },
                  {
                    "country": "Mauritania",
                    "continent": "Africa",
                    "year": "2007-01-01",
                    "life_expectancy": 64.164,
                    "population": 3270065,
                    "gdp_per_capita": 1803.151496
                  },
                  {
                    "country": "Mauritius",
                    "continent": "Africa",
                    "year": "1952-01-01",
                    "life_expectancy": 50.986,
                    "population": 516556,
                    "gdp_per_capita": 1967.955707
                  },
                  {
                    "country": "Mauritius",
                    "continent": "Africa",
                    "year": "1957-01-01",
                    "life_expectancy": 58.089,
                    "population": 609816,
                    "gdp_per_capita": 2034.037981
                  },
                  {
                    "country": "Mauritius",
                    "continent": "Africa",
                    "year": "1962-01-01",
                    "life_expectancy": 60.246,
                    "population": 701016,
                    "gdp_per_capita": 2529.067487
                  },
                  {
                    "country": "Mauritius",
                    "continent": "Africa",
                    "year": "1967-01-01",
                    "life_expectancy": 61.557,
                    "population": 789309,
                    "gdp_per_capita": 2475.387562
                  },
                  {
                    "country": "Mauritius",
                    "continent": "Africa",
                    "year": "1972-01-01",
                    "life_expectancy": 62.944,
                    "population": 851334,
                    "gdp_per_capita": 2575.484158
                  },
                  {
                    "country": "Mauritius",
                    "continent": "Africa",
                    "year": "1977-01-01",
                    "life_expectancy": 64.93,
                    "population": 913025,
                    "gdp_per_capita": 3710.982963
                  },
                  {
                    "country": "Mauritius",
                    "continent": "Africa",
                    "year": "1982-01-01",
                    "life_expectancy": 66.711,
                    "population": 992040,
                    "gdp_per_capita": 3688.037739
                  },
                  {
                    "country": "Mauritius",
                    "continent": "Africa",
                    "year": "1987-01-01",
                    "life_expectancy": 68.74,
                    "population": 1042663,
                    "gdp_per_capita": 4783.586903
                  },
                  {
                    "country": "Mauritius",
                    "continent": "Africa",
                    "year": "1992-01-01",
                    "life_expectancy": 69.745,
                    "population": 1096202,
                    "gdp_per_capita": 6058.253846
                  },
                  {
                    "country": "Mauritius",
                    "continent": "Africa",
                    "year": "1997-01-01",
                    "life_expectancy": 70.736,
                    "population": 1149818,
                    "gdp_per_capita": 7425.705295
                  },
                  {
                    "country": "Mauritius",
                    "continent": "Africa",
                    "year": "2002-01-01",
                    "life_expectancy": 71.954,
                    "population": 1200206,
                    "gdp_per_capita": 9021.815894
                  },
                  {
                    "country": "Mauritius",
                    "continent": "Africa",
                    "year": "2007-01-01",
                    "life_expectancy": 72.801,
                    "population": 1250882,
                    "gdp_per_capita": 10956.99112
                  },
                  {
                    "country": "Mexico",
                    "continent": "Americas",
                    "year": "1952-01-01",
                    "life_expectancy": 50.789,
                    "population": 30144317,
                    "gdp_per_capita": 3478.125529
                  },
                  {
                    "country": "Mexico",
                    "continent": "Americas",
                    "year": "1957-01-01",
                    "life_expectancy": 55.19,
                    "population": 35015548,
                    "gdp_per_capita": 4131.546641
                  },
                  {
                    "country": "Mexico",
                    "continent": "Americas",
                    "year": "1962-01-01",
                    "life_expectancy": 58.299,
                    "population": 41121485,
                    "gdp_per_capita": 4581.609385
                  },
                  {
                    "country": "Mexico",
                    "continent": "Americas",
                    "year": "1967-01-01",
                    "life_expectancy": 60.11,
                    "population": 47995559,
                    "gdp_per_capita": 5754.733883
                  },
                  {
                    "country": "Mexico",
                    "continent": "Americas",
                    "year": "1972-01-01",
                    "life_expectancy": 62.361,
                    "population": 55984294,
                    "gdp_per_capita": 6809.40669
                  },
                  {
                    "country": "Mexico",
                    "continent": "Americas",
                    "year": "1977-01-01",
                    "life_expectancy": 65.032,
                    "population": 63759976,
                    "gdp_per_capita": 7674.929108
                  },
                  {
                    "country": "Mexico",
                    "continent": "Americas",
                    "year": "1982-01-01",
                    "life_expectancy": 67.405,
                    "population": 71640904,
                    "gdp_per_capita": 9611.147541
                  },
                  {
                    "country": "Mexico",
                    "continent": "Americas",
                    "year": "1987-01-01",
                    "life_expectancy": 69.498,
                    "population": 80122492,
                    "gdp_per_capita": 8688.156003
                  },
                  {
                    "country": "Mexico",
                    "continent": "Americas",
                    "year": "1992-01-01",
                    "life_expectancy": 71.455,
                    "population": 88111030,
                    "gdp_per_capita": 9472.384295
                  },
                  {
                    "country": "Mexico",
                    "continent": "Americas",
                    "year": "1997-01-01",
                    "life_expectancy": 73.67,
                    "population": 95895146,
                    "gdp_per_capita": 9767.29753
                  },
                  {
                    "country": "Mexico",
                    "continent": "Americas",
                    "year": "2002-01-01",
                    "life_expectancy": 74.902,
                    "population": 102479927,
                    "gdp_per_capita": 10742.44053
                  },
                  {
                    "country": "Mexico",
                    "continent": "Americas",
                    "year": "2007-01-01",
                    "life_expectancy": 76.195,
                    "population": 108700891,
                    "gdp_per_capita": 11977.57496
                  },
                  {
                    "country": "Mongolia",
                    "continent": "Asia",
                    "year": "1952-01-01",
                    "life_expectancy": 42.244,
                    "population": 800663,
                    "gdp_per_capita": 786.5668575
                  },
                  {
                    "country": "Mongolia",
                    "continent": "Asia",
                    "year": "1957-01-01",
                    "life_expectancy": 45.248,
                    "population": 882134,
                    "gdp_per_capita": 912.6626085
                  },
                  {
                    "country": "Mongolia",
                    "continent": "Asia",
                    "year": "1962-01-01",
                    "life_expectancy": 48.251,
                    "population": 1010280,
                    "gdp_per_capita": 1056.353958
                  },
                  {
                    "country": "Mongolia",
                    "continent": "Asia",
                    "year": "1967-01-01",
                    "life_expectancy": 51.253,
                    "population": 1149500,
                    "gdp_per_capita": 1226.04113
                  },
                  {
                    "country": "Mongolia",
                    "continent": "Asia",
                    "year": "1972-01-01",
                    "life_expectancy": 53.754,
                    "population": 1320500,
                    "gdp_per_capita": 1421.741975
                  },
                  {
                    "country": "Mongolia",
                    "continent": "Asia",
                    "year": "1977-01-01",
                    "life_expectancy": 55.491,
                    "population": 1528000,
                    "gdp_per_capita": 1647.511665
                  },
                  {
                    "country": "Mongolia",
                    "continent": "Asia",
                    "year": "1982-01-01",
                    "life_expectancy": 57.489,
                    "population": 1756032,
                    "gdp_per_capita": 2000.603139
                  },
                  {
                    "country": "Mongolia",
                    "continent": "Asia",
                    "year": "1987-01-01",
                    "life_expectancy": 60.222,
                    "population": 2015133,
                    "gdp_per_capita": 2338.008304
                  },
                  {
                    "country": "Mongolia",
                    "continent": "Asia",
                    "year": "1992-01-01",
                    "life_expectancy": 61.271,
                    "population": 2312802,
                    "gdp_per_capita": 1785.402016
                  },
                  {
                    "country": "Mongolia",
                    "continent": "Asia",
                    "year": "1997-01-01",
                    "life_expectancy": 63.625,
                    "population": 2494803,
                    "gdp_per_capita": 1902.2521
                  },
                  {
                    "country": "Mongolia",
                    "continent": "Asia",
                    "year": "2002-01-01",
                    "life_expectancy": 65.033,
                    "population": 2674234,
                    "gdp_per_capita": 2140.739323
                  },
                  {
                    "country": "Mongolia",
                    "continent": "Asia",
                    "year": "2007-01-01",
                    "life_expectancy": 66.803,
                    "population": 2874127,
                    "gdp_per_capita": 3095.772271
                  },
                  {
                    "country": "Montenegro",
                    "continent": "Europe",
                    "year": "1952-01-01",
                    "life_expectancy": 59.164,
                    "population": 413834,
                    "gdp_per_capita": 2647.585601
                  },
                  {
                    "country": "Montenegro",
                    "continent": "Europe",
                    "year": "1957-01-01",
                    "life_expectancy": 61.448,
                    "population": 442829,
                    "gdp_per_capita": 3682.259903
                  },
                  {
                    "country": "Montenegro",
                    "continent": "Europe",
                    "year": "1962-01-01",
                    "life_expectancy": 63.728,
                    "population": 474528,
                    "gdp_per_capita": 4649.593785
                  },
                  {
                    "country": "Montenegro",
                    "continent": "Europe",
                    "year": "1967-01-01",
                    "life_expectancy": 67.178,
                    "population": 501035,
                    "gdp_per_capita": 5907.850937
                  },
                  {
                    "country": "Montenegro",
                    "continent": "Europe",
                    "year": "1972-01-01",
                    "life_expectancy": 70.636,
                    "population": 527678,
                    "gdp_per_capita": 7778.414017
                  },
                  {
                    "country": "Montenegro",
                    "continent": "Europe",
                    "year": "1977-01-01",
                    "life_expectancy": 73.066,
                    "population": 560073,
                    "gdp_per_capita": 9595.929905
                  },
                  {
                    "country": "Montenegro",
                    "continent": "Europe",
                    "year": "1982-01-01",
                    "life_expectancy": 74.101,
                    "population": 562548,
                    "gdp_per_capita": 11222.58762
                  },
                  {
                    "country": "Montenegro",
                    "continent": "Europe",
                    "year": "1987-01-01",
                    "life_expectancy": 74.865,
                    "population": 569473,
                    "gdp_per_capita": 11732.51017
                  },
                  {
                    "country": "Montenegro",
                    "continent": "Europe",
                    "year": "1992-01-01",
                    "life_expectancy": 75.435,
                    "population": 621621,
                    "gdp_per_capita": 7003.339037
                  },
                  {
                    "country": "Montenegro",
                    "continent": "Europe",
                    "year": "1997-01-01",
                    "life_expectancy": 75.445,
                    "population": 692651,
                    "gdp_per_capita": 6465.613349
                  },
                  {
                    "country": "Montenegro",
                    "continent": "Europe",
                    "year": "2002-01-01",
                    "life_expectancy": 73.981,
                    "population": 720230,
                    "gdp_per_capita": 6557.194282
                  },
                  {
                    "country": "Montenegro",
                    "continent": "Europe",
                    "year": "2007-01-01",
                    "life_expectancy": 74.543,
                    "population": 684736,
                    "gdp_per_capita": 9253.896111
                  },
                  {
                    "country": "Morocco",
                    "continent": "Africa",
                    "year": "1952-01-01",
                    "life_expectancy": 42.873,
                    "population": 9939217,
                    "gdp_per_capita": 1688.20357
                  },
                  {
                    "country": "Morocco",
                    "continent": "Africa",
                    "year": "1957-01-01",
                    "life_expectancy": 45.423,
                    "population": 11406350,
                    "gdp_per_capita": 1642.002314
                  },
                  {
                    "country": "Morocco",
                    "continent": "Africa",
                    "year": "1962-01-01",
                    "life_expectancy": 47.924,
                    "population": 13056604,
                    "gdp_per_capita": 1566.353493
                  },
                  {
                    "country": "Morocco",
                    "continent": "Africa",
                    "year": "1967-01-01",
                    "life_expectancy": 50.335,
                    "population": 14770296,
                    "gdp_per_capita": 1711.04477
                  },
                  {
                    "country": "Morocco",
                    "continent": "Africa",
                    "year": "1972-01-01",
                    "life_expectancy": 52.862,
                    "population": 16660670,
                    "gdp_per_capita": 1930.194975
                  },
                  {
                    "country": "Morocco",
                    "continent": "Africa",
                    "year": "1977-01-01",
                    "life_expectancy": 55.73,
                    "population": 18396941,
                    "gdp_per_capita": 2370.619976
                  },
                  {
                    "country": "Morocco",
                    "continent": "Africa",
                    "year": "1982-01-01",
                    "life_expectancy": 59.65,
                    "population": 20198730,
                    "gdp_per_capita": 2702.620356
                  },
                  {
                    "country": "Morocco",
                    "continent": "Africa",
                    "year": "1987-01-01",
                    "life_expectancy": 62.677,
                    "population": 22987397,
                    "gdp_per_capita": 2755.046991
                  },
                  {
                    "country": "Morocco",
                    "continent": "Africa",
                    "year": "1992-01-01",
                    "life_expectancy": 65.393,
                    "population": 25798239,
                    "gdp_per_capita": 2948.047252
                  },
                  {
                    "country": "Morocco",
                    "continent": "Africa",
                    "year": "1997-01-01",
                    "life_expectancy": 67.66,
                    "population": 28529501,
                    "gdp_per_capita": 2982.101858
                  },
                  {
                    "country": "Morocco",
                    "continent": "Africa",
                    "year": "2002-01-01",
                    "life_expectancy": 69.615,
                    "population": 31167783,
                    "gdp_per_capita": 3258.495584
                  },
                  {
                    "country": "Morocco",
                    "continent": "Africa",
                    "year": "2007-01-01",
                    "life_expectancy": 71.164,
                    "population": 33757175,
                    "gdp_per_capita": 3820.17523
                  },
                  {
                    "country": "Mozambique",
                    "continent": "Africa",
                    "year": "1952-01-01",
                    "life_expectancy": 31.286,
                    "population": 6446316,
                    "gdp_per_capita": 468.5260381
                  },
                  {
                    "country": "Mozambique",
                    "continent": "Africa",
                    "year": "1957-01-01",
                    "life_expectancy": 33.779,
                    "population": 7038035,
                    "gdp_per_capita": 495.5868333
                  },
                  {
                    "country": "Mozambique",
                    "continent": "Africa",
                    "year": "1962-01-01",
                    "life_expectancy": 36.161,
                    "population": 7788944,
                    "gdp_per_capita": 556.6863539
                  },
                  {
                    "country": "Mozambique",
                    "continent": "Africa",
                    "year": "1967-01-01",
                    "life_expectancy": 38.113,
                    "population": 8680909,
                    "gdp_per_capita": 566.6691539
                  },
                  {
                    "country": "Mozambique",
                    "continent": "Africa",
                    "year": "1972-01-01",
                    "life_expectancy": 40.328,
                    "population": 9809596,
                    "gdp_per_capita": 724.9178037
                  },
                  {
                    "country": "Mozambique",
                    "continent": "Africa",
                    "year": "1977-01-01",
                    "life_expectancy": 42.495,
                    "population": 11127868,
                    "gdp_per_capita": 502.3197334
                  },
                  {
                    "country": "Mozambique",
                    "continent": "Africa",
                    "year": "1982-01-01",
                    "life_expectancy": 42.795,
                    "population": 12587223,
                    "gdp_per_capita": 462.2114149
                  },
                  {
                    "country": "Mozambique",
                    "continent": "Africa",
                    "year": "1987-01-01",
                    "life_expectancy": 42.861,
                    "population": 12891952,
                    "gdp_per_capita": 389.8761846
                  },
                  {
                    "country": "Mozambique",
                    "continent": "Africa",
                    "year": "1992-01-01",
                    "life_expectancy": 44.284,
                    "population": 13160731,
                    "gdp_per_capita": 410.8968239
                  },
                  {
                    "country": "Mozambique",
                    "continent": "Africa",
                    "year": "1997-01-01",
                    "life_expectancy": 46.344,
                    "population": 16603334,
                    "gdp_per_capita": 472.3460771
                  },
                  {
                    "country": "Mozambique",
                    "continent": "Africa",
                    "year": "2002-01-01",
                    "life_expectancy": 44.026,
                    "population": 18473780,
                    "gdp_per_capita": 633.6179466
                  },
                  {
                    "country": "Mozambique",
                    "continent": "Africa",
                    "year": "2007-01-01",
                    "life_expectancy": 42.082,
                    "population": 19951656,
                    "gdp_per_capita": 823.6856205
                  },
                  {
                    "country": "Myanmar",
                    "continent": "Asia",
                    "year": "1952-01-01",
                    "life_expectancy": 36.319,
                    "population": 20092996,
                    "gdp_per_capita": 331
                  },
                  {
                    "country": "Myanmar",
                    "continent": "Asia",
                    "year": "1957-01-01",
                    "life_expectancy": 41.905,
                    "population": 21731844,
                    "gdp_per_capita": 350
                  },
                  {
                    "country": "Myanmar",
                    "continent": "Asia",
                    "year": "1962-01-01",
                    "life_expectancy": 45.108,
                    "population": 23634436,
                    "gdp_per_capita": 388
                  },
                  {
                    "country": "Myanmar",
                    "continent": "Asia",
                    "year": "1967-01-01",
                    "life_expectancy": 49.379,
                    "population": 25870271,
                    "gdp_per_capita": 349
                  },
                  {
                    "country": "Myanmar",
                    "continent": "Asia",
                    "year": "1972-01-01",
                    "life_expectancy": 53.07,
                    "population": 28466390,
                    "gdp_per_capita": 357
                  },
                  {
                    "country": "Myanmar",
                    "continent": "Asia",
                    "year": "1977-01-01",
                    "life_expectancy": 56.059,
                    "population": 31528087,
                    "gdp_per_capita": 371
                  },
                  {
                    "country": "Myanmar",
                    "continent": "Asia",
                    "year": "1982-01-01",
                    "life_expectancy": 58.056,
                    "population": 34680442,
                    "gdp_per_capita": 424
                  },
                  {
                    "country": "Myanmar",
                    "continent": "Asia",
                    "year": "1987-01-01",
                    "life_expectancy": 58.339,
                    "population": 38028578,
                    "gdp_per_capita": 385
                  },
                  {
                    "country": "Myanmar",
                    "continent": "Asia",
                    "year": "1992-01-01",
                    "life_expectancy": 59.32,
                    "population": 40546538,
                    "gdp_per_capita": 347
                  },
                  {
                    "country": "Myanmar",
                    "continent": "Asia",
                    "year": "1997-01-01",
                    "life_expectancy": 60.328,
                    "population": 43247867,
                    "gdp_per_capita": 415
                  },
                  {
                    "country": "Myanmar",
                    "continent": "Asia",
                    "year": "2002-01-01",
                    "life_expectancy": 59.908,
                    "population": 45598081,
                    "gdp_per_capita": 611
                  },
                  {
                    "country": "Myanmar",
                    "continent": "Asia",
                    "year": "2007-01-01",
                    "life_expectancy": 62.069,
                    "population": 47761980,
                    "gdp_per_capita": 944
                  },
                  {
                    "country": "Namibia",
                    "continent": "Africa",
                    "year": "1952-01-01",
                    "life_expectancy": 41.725,
                    "population": 485831,
                    "gdp_per_capita": 2423.780443
                  },
                  {
                    "country": "Namibia",
                    "continent": "Africa",
                    "year": "1957-01-01",
                    "life_expectancy": 45.226,
                    "population": 548080,
                    "gdp_per_capita": 2621.448058
                  },
                  {
                    "country": "Namibia",
                    "continent": "Africa",
                    "year": "1962-01-01",
                    "life_expectancy": 48.386,
                    "population": 621392,
                    "gdp_per_capita": 3173.215595
                  },
                  {
                    "country": "Namibia",
                    "continent": "Africa",
                    "year": "1967-01-01",
                    "life_expectancy": 51.159,
                    "population": 706640,
                    "gdp_per_capita": 3793.694753
                  },
                  {
                    "country": "Namibia",
                    "continent": "Africa",
                    "year": "1972-01-01",
                    "life_expectancy": 53.867,
                    "population": 821782,
                    "gdp_per_capita": 3746.080948
                  },
                  {
                    "country": "Namibia",
                    "continent": "Africa",
                    "year": "1977-01-01",
                    "life_expectancy": 56.437,
                    "population": 977026,
                    "gdp_per_capita": 3876.485958
                  },
                  {
                    "country": "Namibia",
                    "continent": "Africa",
                    "year": "1982-01-01",
                    "life_expectancy": 58.968,
                    "population": 1099010,
                    "gdp_per_capita": 4191.100511
                  },
                  {
                    "country": "Namibia",
                    "continent": "Africa",
                    "year": "1987-01-01",
                    "life_expectancy": 60.835,
                    "population": 1278184,
                    "gdp_per_capita": 3693.731337
                  },
                  {
                    "country": "Namibia",
                    "continent": "Africa",
                    "year": "1992-01-01",
                    "life_expectancy": 61.999,
                    "population": 1554253,
                    "gdp_per_capita": 3804.537999
                  },
                  {
                    "country": "Namibia",
                    "continent": "Africa",
                    "year": "1997-01-01",
                    "life_expectancy": 58.909,
                    "population": 1774766,
                    "gdp_per_capita": 3899.52426
                  },
                  {
                    "country": "Namibia",
                    "continent": "Africa",
                    "year": "2002-01-01",
                    "life_expectancy": 51.479,
                    "population": 1972153,
                    "gdp_per_capita": 4072.324751
                  },
                  {
                    "country": "Namibia",
                    "continent": "Africa",
                    "year": "2007-01-01",
                    "life_expectancy": 52.906,
                    "population": 2055080,
                    "gdp_per_capita": 4811.060429
                  },
                  {
                    "country": "Nepal",
                    "continent": "Asia",
                    "year": "1952-01-01",
                    "life_expectancy": 36.157,
                    "population": 9182536,
                    "gdp_per_capita": 545.8657229
                  },
                  {
                    "country": "Nepal",
                    "continent": "Asia",
                    "year": "1957-01-01",
                    "life_expectancy": 37.686,
                    "population": 9682338,
                    "gdp_per_capita": 597.9363558
                  },
                  {
                    "country": "Nepal",
                    "continent": "Asia",
                    "year": "1962-01-01",
                    "life_expectancy": 39.393,
                    "population": 10332057,
                    "gdp_per_capita": 652.3968593
                  },
                  {
                    "country": "Nepal",
                    "continent": "Asia",
                    "year": "1967-01-01",
                    "life_expectancy": 41.472,
                    "population": 11261690,
                    "gdp_per_capita": 676.4422254
                  },
                  {
                    "country": "Nepal",
                    "continent": "Asia",
                    "year": "1972-01-01",
                    "life_expectancy": 43.971,
                    "population": 12412593,
                    "gdp_per_capita": 674.7881296
                  },
                  {
                    "country": "Nepal",
                    "continent": "Asia",
                    "year": "1977-01-01",
                    "life_expectancy": 46.748,
                    "population": 13933198,
                    "gdp_per_capita": 694.1124398
                  },
                  {
                    "country": "Nepal",
                    "continent": "Asia",
                    "year": "1982-01-01",
                    "life_expectancy": 49.594,
                    "population": 15796314,
                    "gdp_per_capita": 718.3730947
                  },
                  {
                    "country": "Nepal",
                    "continent": "Asia",
                    "year": "1987-01-01",
                    "life_expectancy": 52.537,
                    "population": 17917180,
                    "gdp_per_capita": 775.6324501
                  },
                  {
                    "country": "Nepal",
                    "continent": "Asia",
                    "year": "1992-01-01",
                    "life_expectancy": 55.727,
                    "population": 20326209,
                    "gdp_per_capita": 897.7403604
                  },
                  {
                    "country": "Nepal",
                    "continent": "Asia",
                    "year": "1997-01-01",
                    "life_expectancy": 59.426,
                    "population": 23001113,
                    "gdp_per_capita": 1010.892138
                  },
                  {
                    "country": "Nepal",
                    "continent": "Asia",
                    "year": "2002-01-01",
                    "life_expectancy": 61.34,
                    "population": 25873917,
                    "gdp_per_capita": 1057.206311
                  },
                  {
                    "country": "Nepal",
                    "continent": "Asia",
                    "year": "2007-01-01",
                    "life_expectancy": 63.785,
                    "population": 28901790,
                    "gdp_per_capita": 1091.359778
                  },
                  {
                    "country": "Netherlands",
                    "continent": "Europe",
                    "year": "1952-01-01",
                    "life_expectancy": 72.13,
                    "population": 10381988,
                    "gdp_per_capita": 8941.571858
                  },
                  {
                    "country": "Netherlands",
                    "continent": "Europe",
                    "year": "1957-01-01",
                    "life_expectancy": 72.99,
                    "population": 11026383,
                    "gdp_per_capita": 11276.19344
                  },
                  {
                    "country": "Netherlands",
                    "continent": "Europe",
                    "year": "1962-01-01",
                    "life_expectancy": 73.23,
                    "population": 11805689,
                    "gdp_per_capita": 12790.84956
                  },
                  {
                    "country": "Netherlands",
                    "continent": "Europe",
                    "year": "1967-01-01",
                    "life_expectancy": 73.82,
                    "population": 12596822,
                    "gdp_per_capita": 15363.25136
                  },
                  {
                    "country": "Netherlands",
                    "continent": "Europe",
                    "year": "1972-01-01",
                    "life_expectancy": 73.75,
                    "population": 13329874,
                    "gdp_per_capita": 18794.74567
                  },
                  {
                    "country": "Netherlands",
                    "continent": "Europe",
                    "year": "1977-01-01",
                    "life_expectancy": 75.24,
                    "population": 13852989,
                    "gdp_per_capita": 21209.0592
                  },
                  {
                    "country": "Netherlands",
                    "continent": "Europe",
                    "year": "1982-01-01",
                    "life_expectancy": 76.05,
                    "population": 14310401,
                    "gdp_per_capita": 21399.46046
                  },
                  {
                    "country": "Netherlands",
                    "continent": "Europe",
                    "year": "1987-01-01",
                    "life_expectancy": 76.83,
                    "population": 14665278,
                    "gdp_per_capita": 23651.32361
                  },
                  {
                    "country": "Netherlands",
                    "continent": "Europe",
                    "year": "1992-01-01",
                    "life_expectancy": 77.42,
                    "population": 15174244,
                    "gdp_per_capita": 26790.94961
                  },
                  {
                    "country": "Netherlands",
                    "continent": "Europe",
                    "year": "1997-01-01",
                    "life_expectancy": 78.03,
                    "population": 15604464,
                    "gdp_per_capita": 30246.13063
                  },
                  {
                    "country": "Netherlands",
                    "continent": "Europe",
                    "year": "2002-01-01",
                    "life_expectancy": 78.53,
                    "population": 16122830,
                    "gdp_per_capita": 33724.75778
                  },
                  {
                    "country": "Netherlands",
                    "continent": "Europe",
                    "year": "2007-01-01",
                    "life_expectancy": 79.762,
                    "population": 16570613,
                    "gdp_per_capita": 36797.93332
                  },
                  {
                    "country": "New Zealand",
                    "continent": "Oceania",
                    "year": "1952-01-01",
                    "life_expectancy": 69.39,
                    "population": 1994794,
                    "gdp_per_capita": 10556.57566
                  },
                  {
                    "country": "New Zealand",
                    "continent": "Oceania",
                    "year": "1957-01-01",
                    "life_expectancy": 70.26,
                    "population": 2229407,
                    "gdp_per_capita": 12247.39532
                  },
                  {
                    "country": "New Zealand",
                    "continent": "Oceania",
                    "year": "1962-01-01",
                    "life_expectancy": 71.24,
                    "population": 2488550,
                    "gdp_per_capita": 13175.678
                  },
                  {
                    "country": "New Zealand",
                    "continent": "Oceania",
                    "year": "1967-01-01",
                    "life_expectancy": 71.52,
                    "population": 2728150,
                    "gdp_per_capita": 14463.91893
                  },
                  {
                    "country": "New Zealand",
                    "continent": "Oceania",
                    "year": "1972-01-01",
                    "life_expectancy": 71.89,
                    "population": 2929100,
                    "gdp_per_capita": 16046.03728
                  },
                  {
                    "country": "New Zealand",
                    "continent": "Oceania",
                    "year": "1977-01-01",
                    "life_expectancy": 72.22,
                    "population": 3164900,
                    "gdp_per_capita": 16233.7177
                  },
                  {
                    "country": "New Zealand",
                    "continent": "Oceania",
                    "year": "1982-01-01",
                    "life_expectancy": 73.84,
                    "population": 3210650,
                    "gdp_per_capita": 17632.4104
                  },
                  {
                    "country": "New Zealand",
                    "continent": "Oceania",
                    "year": "1987-01-01",
                    "life_expectancy": 74.32,
                    "population": 3317166,
                    "gdp_per_capita": 19007.19129
                  },
                  {
                    "country": "New Zealand",
                    "continent": "Oceania",
                    "year": "1992-01-01",
                    "life_expectancy": 76.33,
                    "population": 3437674,
                    "gdp_per_capita": 18363.32494
                  },
                  {
                    "country": "New Zealand",
                    "continent": "Oceania",
                    "year": "1997-01-01",
                    "life_expectancy": 77.55,
                    "population": 3676187,
                    "gdp_per_capita": 21050.41377
                  },
                  {
                    "country": "New Zealand",
                    "continent": "Oceania",
                    "year": "2002-01-01",
                    "life_expectancy": 79.11,
                    "population": 3908037,
                    "gdp_per_capita": 23189.80135
                  },
                  {
                    "country": "New Zealand",
                    "continent": "Oceania",
                    "year": "2007-01-01",
                    "life_expectancy": 80.204,
                    "population": 4115771,
                    "gdp_per_capita": 25185.00911
                  },
                  {
                    "country": "Nicaragua",
                    "continent": "Americas",
                    "year": "1952-01-01",
                    "life_expectancy": 42.314,
                    "population": 1165790,
                    "gdp_per_capita": 3112.363948
                  },
                  {
                    "country": "Nicaragua",
                    "continent": "Americas",
                    "year": "1957-01-01",
                    "life_expectancy": 45.432,
                    "population": 1358828,
                    "gdp_per_capita": 3457.415947
                  },
                  {
                    "country": "Nicaragua",
                    "continent": "Americas",
                    "year": "1962-01-01",
                    "life_expectancy": 48.632,
                    "population": 1590597,
                    "gdp_per_capita": 3634.364406
                  },
                  {
                    "country": "Nicaragua",
                    "continent": "Americas",
                    "year": "1967-01-01",
                    "life_expectancy": 51.884,
                    "population": 1865490,
                    "gdp_per_capita": 4643.393534
                  },
                  {
                    "country": "Nicaragua",
                    "continent": "Americas",
                    "year": "1972-01-01",
                    "life_expectancy": 55.151,
                    "population": 2182908,
                    "gdp_per_capita": 4688.593267
                  },
                  {
                    "country": "Nicaragua",
                    "continent": "Americas",
                    "year": "1977-01-01",
                    "life_expectancy": 57.47,
                    "population": 2554598,
                    "gdp_per_capita": 5486.371089
                  },
                  {
                    "country": "Nicaragua",
                    "continent": "Americas",
                    "year": "1982-01-01",
                    "life_expectancy": 59.298,
                    "population": 2979423,
                    "gdp_per_capita": 3470.338156
                  },
                  {
                    "country": "Nicaragua",
                    "continent": "Americas",
                    "year": "1987-01-01",
                    "life_expectancy": 62.008,
                    "population": 3344353,
                    "gdp_per_capita": 2955.984375
                  },
                  {
                    "country": "Nicaragua",
                    "continent": "Americas",
                    "year": "1992-01-01",
                    "life_expectancy": 65.843,
                    "population": 4017939,
                    "gdp_per_capita": 2170.151724
                  },
                  {
                    "country": "Nicaragua",
                    "continent": "Americas",
                    "year": "1997-01-01",
                    "life_expectancy": 68.426,
                    "population": 4609572,
                    "gdp_per_capita": 2253.023004
                  },
                  {
                    "country": "Nicaragua",
                    "continent": "Americas",
                    "year": "2002-01-01",
                    "life_expectancy": 70.836,
                    "population": 5146848,
                    "gdp_per_capita": 2474.548819
                  },
                  {
                    "country": "Nicaragua",
                    "continent": "Americas",
                    "year": "2007-01-01",
                    "life_expectancy": 72.899,
                    "population": 5675356,
                    "gdp_per_capita": 2749.320965
                  },
                  {
                    "country": "Niger",
                    "continent": "Africa",
                    "year": "1952-01-01",
                    "life_expectancy": 37.444,
                    "population": 3379468,
                    "gdp_per_capita": 761.879376
                  },
                  {
                    "country": "Niger",
                    "continent": "Africa",
                    "year": "1957-01-01",
                    "life_expectancy": 38.598,
                    "population": 3692184,
                    "gdp_per_capita": 835.5234025
                  },
                  {
                    "country": "Niger",
                    "continent": "Africa",
                    "year": "1962-01-01",
                    "life_expectancy": 39.487,
                    "population": 4076008,
                    "gdp_per_capita": 997.7661127
                  },
                  {
                    "country": "Niger",
                    "continent": "Africa",
                    "year": "1967-01-01",
                    "life_expectancy": 40.118,
                    "population": 4534062,
                    "gdp_per_capita": 1054.384891
                  },
                  {
                    "country": "Niger",
                    "continent": "Africa",
                    "year": "1972-01-01",
                    "life_expectancy": 40.546,
                    "population": 5060262,
                    "gdp_per_capita": 954.2092363
                  },
                  {
                    "country": "Niger",
                    "continent": "Africa",
                    "year": "1977-01-01",
                    "life_expectancy": 41.291,
                    "population": 5682086,
                    "gdp_per_capita": 808.8970728
                  },
                  {
                    "country": "Niger",
                    "continent": "Africa",
                    "year": "1982-01-01",
                    "life_expectancy": 42.598,
                    "population": 6437188,
                    "gdp_per_capita": 909.7221354
                  },
                  {
                    "country": "Niger",
                    "continent": "Africa",
                    "year": "1987-01-01",
                    "life_expectancy": 44.555,
                    "population": 7332638,
                    "gdp_per_capita": 668.3000228
                  },
                  {
                    "country": "Niger",
                    "continent": "Africa",
                    "year": "1992-01-01",
                    "life_expectancy": 47.391,
                    "population": 8392818,
                    "gdp_per_capita": 581.182725
                  },
                  {
                    "country": "Niger",
                    "continent": "Africa",
                    "year": "1997-01-01",
                    "life_expectancy": 51.313,
                    "population": 9666252,
                    "gdp_per_capita": 580.3052092
                  },
                  {
                    "country": "Niger",
                    "continent": "Africa",
                    "year": "2002-01-01",
                    "life_expectancy": 54.496,
                    "population": 11140655,
                    "gdp_per_capita": 601.0745012
                  },
                  {
                    "country": "Niger",
                    "continent": "Africa",
                    "year": "2007-01-01",
                    "life_expectancy": 56.867,
                    "population": 12894865,
                    "gdp_per_capita": 619.6768924
                  },
                  {
                    "country": "Nigeria",
                    "continent": "Africa",
                    "year": "1952-01-01",
                    "life_expectancy": 36.324,
                    "population": 33119096,
                    "gdp_per_capita": 1077.281856
                  },
                  {
                    "country": "Nigeria",
                    "continent": "Africa",
                    "year": "1957-01-01",
                    "life_expectancy": 37.802,
                    "population": 37173340,
                    "gdp_per_capita": 1100.592563
                  },
                  {
                    "country": "Nigeria",
                    "continent": "Africa",
                    "year": "1962-01-01",
                    "life_expectancy": 39.36,
                    "population": 41871351,
                    "gdp_per_capita": 1150.927478
                  },
                  {
                    "country": "Nigeria",
                    "continent": "Africa",
                    "year": "1967-01-01",
                    "life_expectancy": 41.04,
                    "population": 47287752,
                    "gdp_per_capita": 1014.514104
                  },
                  {
                    "country": "Nigeria",
                    "continent": "Africa",
                    "year": "1972-01-01",
                    "life_expectancy": 42.821,
                    "population": 53740085,
                    "gdp_per_capita": 1698.388838
                  },
                  {
                    "country": "Nigeria",
                    "continent": "Africa",
                    "year": "1977-01-01",
                    "life_expectancy": 44.514,
                    "population": 62209173,
                    "gdp_per_capita": 1981.951806
                  },
                  {
                    "country": "Nigeria",
                    "continent": "Africa",
                    "year": "1982-01-01",
                    "life_expectancy": 45.826,
                    "population": 73039376,
                    "gdp_per_capita": 1576.97375
                  },
                  {
                    "country": "Nigeria",
                    "continent": "Africa",
                    "year": "1987-01-01",
                    "life_expectancy": 46.886,
                    "population": 81551520,
                    "gdp_per_capita": 1385.029563
                  },
                  {
                    "country": "Nigeria",
                    "continent": "Africa",
                    "year": "1992-01-01",
                    "life_expectancy": 47.472,
                    "population": 93364244,
                    "gdp_per_capita": 1619.848217
                  },
                  {
                    "country": "Nigeria",
                    "continent": "Africa",
                    "year": "1997-01-01",
                    "life_expectancy": 47.464,
                    "population": 106207839,
                    "gdp_per_capita": 1624.941275
                  },
                  {
                    "country": "Nigeria",
                    "continent": "Africa",
                    "year": "2002-01-01",
                    "life_expectancy": 46.608,
                    "population": 119901274,
                    "gdp_per_capita": 1615.286395
                  },
                  {
                    "country": "Nigeria",
                    "continent": "Africa",
                    "year": "2007-01-01",
                    "life_expectancy": 46.859,
                    "population": 135031164,
                    "gdp_per_capita": 2013.977305
                  },
                  {
                    "country": "Norway",
                    "continent": "Europe",
                    "year": "1952-01-01",
                    "life_expectancy": 72.67,
                    "population": 3327728,
                    "gdp_per_capita": 10095.42172
                  },
                  {
                    "country": "Norway",
                    "continent": "Europe",
                    "year": "1957-01-01",
                    "life_expectancy": 73.44,
                    "population": 3491938,
                    "gdp_per_capita": 11653.97304
                  },
                  {
                    "country": "Norway",
                    "continent": "Europe",
                    "year": "1962-01-01",
                    "life_expectancy": 73.47,
                    "population": 3638919,
                    "gdp_per_capita": 13450.40151
                  },
                  {
                    "country": "Norway",
                    "continent": "Europe",
                    "year": "1967-01-01",
                    "life_expectancy": 74.08,
                    "population": 3786019,
                    "gdp_per_capita": 16361.87647
                  },
                  {
                    "country": "Norway",
                    "continent": "Europe",
                    "year": "1972-01-01",
                    "life_expectancy": 74.34,
                    "population": 3933004,
                    "gdp_per_capita": 18965.05551
                  },
                  {
                    "country": "Norway",
                    "continent": "Europe",
                    "year": "1977-01-01",
                    "life_expectancy": 75.37,
                    "population": 4043205,
                    "gdp_per_capita": 23311.34939
                  },
                  {
                    "country": "Norway",
                    "continent": "Europe",
                    "year": "1982-01-01",
                    "life_expectancy": 75.97,
                    "population": 4114787,
                    "gdp_per_capita": 26298.63531
                  },
                  {
                    "country": "Norway",
                    "continent": "Europe",
                    "year": "1987-01-01",
                    "life_expectancy": 75.89,
                    "population": 4186147,
                    "gdp_per_capita": 31540.9748
                  },
                  {
                    "country": "Norway",
                    "continent": "Europe",
                    "year": "1992-01-01",
                    "life_expectancy": 77.32,
                    "population": 4286357,
                    "gdp_per_capita": 33965.66115
                  },
                  {
                    "country": "Norway",
                    "continent": "Europe",
                    "year": "1997-01-01",
                    "life_expectancy": 78.32,
                    "population": 4405672,
                    "gdp_per_capita": 41283.16433
                  },
                  {
                    "country": "Norway",
                    "continent": "Europe",
                    "year": "2002-01-01",
                    "life_expectancy": 79.05,
                    "population": 4535591,
                    "gdp_per_capita": 44683.97525
                  },
                  {
                    "country": "Norway",
                    "continent": "Europe",
                    "year": "2007-01-01",
                    "life_expectancy": 80.196,
                    "population": 4627926,
                    "gdp_per_capita": 49357.19017
                  },
                  {
                    "country": "Oman",
                    "continent": "Asia",
                    "year": "1952-01-01",
                    "life_expectancy": 37.578,
                    "population": 507833,
                    "gdp_per_capita": 1828.230307
                  },
                  {
                    "country": "Oman",
                    "continent": "Asia",
                    "year": "1957-01-01",
                    "life_expectancy": 40.08,
                    "population": 561977,
                    "gdp_per_capita": 2242.746551
                  },
                  {
                    "country": "Oman",
                    "continent": "Asia",
                    "year": "1962-01-01",
                    "life_expectancy": 43.165,
                    "population": 628164,
                    "gdp_per_capita": 2924.638113
                  },
                  {
                    "country": "Oman",
                    "continent": "Asia",
                    "year": "1967-01-01",
                    "life_expectancy": 46.988,
                    "population": 714775,
                    "gdp_per_capita": 4720.942687
                  },
                  {
                    "country": "Oman",
                    "continent": "Asia",
                    "year": "1972-01-01",
                    "life_expectancy": 52.143,
                    "population": 829050,
                    "gdp_per_capita": 10618.03855
                  },
                  {
                    "country": "Oman",
                    "continent": "Asia",
                    "year": "1977-01-01",
                    "life_expectancy": 57.367,
                    "population": 1004533,
                    "gdp_per_capita": 11848.34392
                  },
                  {
                    "country": "Oman",
                    "continent": "Asia",
                    "year": "1982-01-01",
                    "life_expectancy": 62.728,
                    "population": 1301048,
                    "gdp_per_capita": 12954.79101
                  },
                  {
                    "country": "Oman",
                    "continent": "Asia",
                    "year": "1987-01-01",
                    "life_expectancy": 67.734,
                    "population": 1593882,
                    "gdp_per_capita": 18115.22313
                  },
                  {
                    "country": "Oman",
                    "continent": "Asia",
                    "year": "1992-01-01",
                    "life_expectancy": 71.197,
                    "population": 1915208,
                    "gdp_per_capita": 18616.70691
                  },
                  {
                    "country": "Oman",
                    "continent": "Asia",
                    "year": "1997-01-01",
                    "life_expectancy": 72.499,
                    "population": 2283635,
                    "gdp_per_capita": 19702.05581
                  },
                  {
                    "country": "Oman",
                    "continent": "Asia",
                    "year": "2002-01-01",
                    "life_expectancy": 74.193,
                    "population": 2713462,
                    "gdp_per_capita": 19774.83687
                  },
                  {
                    "country": "Oman",
                    "continent": "Asia",
                    "year": "2007-01-01",
                    "life_expectancy": 75.64,
                    "population": 3204897,
                    "gdp_per_capita": 22316.19287
                  },
                  {
                    "country": "Pakistan",
                    "continent": "Asia",
                    "year": "1952-01-01",
                    "life_expectancy": 43.436,
                    "population": 41346560,
                    "gdp_per_capita": 684.5971438
                  },
                  {
                    "country": "Pakistan",
                    "continent": "Asia",
                    "year": "1957-01-01",
                    "life_expectancy": 45.557,
                    "population": 46679944,
                    "gdp_per_capita": 747.0835292
                  },
                  {
                    "country": "Pakistan",
                    "continent": "Asia",
                    "year": "1962-01-01",
                    "life_expectancy": 47.67,
                    "population": 53100671,
                    "gdp_per_capita": 803.3427418
                  },
                  {
                    "country": "Pakistan",
                    "continent": "Asia",
                    "year": "1967-01-01",
                    "life_expectancy": 49.8,
                    "population": 60641899,
                    "gdp_per_capita": 942.4082588
                  },
                  {
                    "country": "Pakistan",
                    "continent": "Asia",
                    "year": "1972-01-01",
                    "life_expectancy": 51.929,
                    "population": 69325921,
                    "gdp_per_capita": 1049.938981
                  },
                  {
                    "country": "Pakistan",
                    "continent": "Asia",
                    "year": "1977-01-01",
                    "life_expectancy": 54.043,
                    "population": 78152686,
                    "gdp_per_capita": 1175.921193
                  },
                  {
                    "country": "Pakistan",
                    "continent": "Asia",
                    "year": "1982-01-01",
                    "life_expectancy": 56.158,
                    "population": 91462088,
                    "gdp_per_capita": 1443.429832
                  },
                  {
                    "country": "Pakistan",
                    "continent": "Asia",
                    "year": "1987-01-01",
                    "life_expectancy": 58.245,
                    "population": 105186881,
                    "gdp_per_capita": 1704.686583
                  },
                  {
                    "country": "Pakistan",
                    "continent": "Asia",
                    "year": "1992-01-01",
                    "life_expectancy": 60.838,
                    "population": 120065004,
                    "gdp_per_capita": 1971.829464
                  },
                  {
                    "country": "Pakistan",
                    "continent": "Asia",
                    "year": "1997-01-01",
                    "life_expectancy": 61.818,
                    "population": 135564834,
                    "gdp_per_capita": 2049.350521
                  },
                  {
                    "country": "Pakistan",
                    "continent": "Asia",
                    "year": "2002-01-01",
                    "life_expectancy": 63.61,
                    "population": 153403524,
                    "gdp_per_capita": 2092.712441
                  },
                  {
                    "country": "Pakistan",
                    "continent": "Asia",
                    "year": "2007-01-01",
                    "life_expectancy": 65.483,
                    "population": 169270617,
                    "gdp_per_capita": 2605.94758
                  },
                  {
                    "country": "Panama",
                    "continent": "Americas",
                    "year": "1952-01-01",
                    "life_expectancy": 55.191,
                    "population": 940080,
                    "gdp_per_capita": 2480.380334
                  },
                  {
                    "country": "Panama",
                    "continent": "Americas",
                    "year": "1957-01-01",
                    "life_expectancy": 59.201,
                    "population": 1063506,
                    "gdp_per_capita": 2961.800905
                  },
                  {
                    "country": "Panama",
                    "continent": "Americas",
                    "year": "1962-01-01",
                    "life_expectancy": 61.817,
                    "population": 1215725,
                    "gdp_per_capita": 3536.540301
                  },
                  {
                    "country": "Panama",
                    "continent": "Americas",
                    "year": "1967-01-01",
                    "life_expectancy": 64.071,
                    "population": 1405486,
                    "gdp_per_capita": 4421.009084
                  },
                  {
                    "country": "Panama",
                    "continent": "Americas",
                    "year": "1972-01-01",
                    "life_expectancy": 66.216,
                    "population": 1616384,
                    "gdp_per_capita": 5364.249663
                  },
                  {
                    "country": "Panama",
                    "continent": "Americas",
                    "year": "1977-01-01",
                    "life_expectancy": 68.681,
                    "population": 1839782,
                    "gdp_per_capita": 5351.912144
                  },
                  {
                    "country": "Panama",
                    "continent": "Americas",
                    "year": "1982-01-01",
                    "life_expectancy": 70.472,
                    "population": 2036305,
                    "gdp_per_capita": 7009.601598
                  },
                  {
                    "country": "Panama",
                    "continent": "Americas",
                    "year": "1987-01-01",
                    "life_expectancy": 71.523,
                    "population": 2253639,
                    "gdp_per_capita": 7034.779161
                  },
                  {
                    "country": "Panama",
                    "continent": "Americas",
                    "year": "1992-01-01",
                    "life_expectancy": 72.462,
                    "population": 2484997,
                    "gdp_per_capita": 6618.74305
                  },
                  {
                    "country": "Panama",
                    "continent": "Americas",
                    "year": "1997-01-01",
                    "life_expectancy": 73.738,
                    "population": 2734531,
                    "gdp_per_capita": 7113.692252
                  },
                  {
                    "country": "Panama",
                    "continent": "Americas",
                    "year": "2002-01-01",
                    "life_expectancy": 74.712,
                    "population": 2990875,
                    "gdp_per_capita": 7356.031934
                  },
                  {
                    "country": "Panama",
                    "continent": "Americas",
                    "year": "2007-01-01",
                    "life_expectancy": 75.537,
                    "population": 3242173,
                    "gdp_per_capita": 9809.185636
                  },
                  {
                    "country": "Paraguay",
                    "continent": "Americas",
                    "year": "1952-01-01",
                    "life_expectancy": 62.649,
                    "population": 1555876,
                    "gdp_per_capita": 1952.308701
                  },
                  {
                    "country": "Paraguay",
                    "continent": "Americas",
                    "year": "1957-01-01",
                    "life_expectancy": 63.196,
                    "population": 1770902,
                    "gdp_per_capita": 2046.154706
                  },
                  {
                    "country": "Paraguay",
                    "continent": "Americas",
                    "year": "1962-01-01",
                    "life_expectancy": 64.361,
                    "population": 2009813,
                    "gdp_per_capita": 2148.027146
                  },
                  {
                    "country": "Paraguay",
                    "continent": "Americas",
                    "year": "1967-01-01",
                    "life_expectancy": 64.951,
                    "population": 2287985,
                    "gdp_per_capita": 2299.376311
                  },
                  {
                    "country": "Paraguay",
                    "continent": "Americas",
                    "year": "1972-01-01",
                    "life_expectancy": 65.815,
                    "population": 2614104,
                    "gdp_per_capita": 2523.337977
                  },
                  {
                    "country": "Paraguay",
                    "continent": "Americas",
                    "year": "1977-01-01",
                    "life_expectancy": 66.353,
                    "population": 2984494,
                    "gdp_per_capita": 3248.373311
                  },
                  {
                    "country": "Paraguay",
                    "continent": "Americas",
                    "year": "1982-01-01",
                    "life_expectancy": 66.874,
                    "population": 3366439,
                    "gdp_per_capita": 4258.503604
                  },
                  {
                    "country": "Paraguay",
                    "continent": "Americas",
                    "year": "1987-01-01",
                    "life_expectancy": 67.378,
                    "population": 3886512,
                    "gdp_per_capita": 3998.875695
                  },
                  {
                    "country": "Paraguay",
                    "continent": "Americas",
                    "year": "1992-01-01",
                    "life_expectancy": 68.225,
                    "population": 4483945,
                    "gdp_per_capita": 4196.411078
                  },
                  {
                    "country": "Paraguay",
                    "continent": "Americas",
                    "year": "1997-01-01",
                    "life_expectancy": 69.4,
                    "population": 5154123,
                    "gdp_per_capita": 4247.400261
                  },
                  {
                    "country": "Paraguay",
                    "continent": "Americas",
                    "year": "2002-01-01",
                    "life_expectancy": 70.755,
                    "population": 5884491,
                    "gdp_per_capita": 3783.674243
                  },
                  {
                    "country": "Paraguay",
                    "continent": "Americas",
                    "year": "2007-01-01",
                    "life_expectancy": 71.752,
                    "population": 6667147,
                    "gdp_per_capita": 4172.838464
                  },
                  {
                    "country": "Peru",
                    "continent": "Americas",
                    "year": "1952-01-01",
                    "life_expectancy": 43.902,
                    "population": 8025700,
                    "gdp_per_capita": 3758.523437
                  },
                  {
                    "country": "Peru",
                    "continent": "Americas",
                    "year": "1957-01-01",
                    "life_expectancy": 46.263,
                    "population": 9146100,
                    "gdp_per_capita": 4245.256698
                  },
                  {
                    "country": "Peru",
                    "continent": "Americas",
                    "year": "1962-01-01",
                    "life_expectancy": 49.096,
                    "population": 10516500,
                    "gdp_per_capita": 4957.037982
                  },
                  {
                    "country": "Peru",
                    "continent": "Americas",
                    "year": "1967-01-01",
                    "life_expectancy": 51.445,
                    "population": 12132200,
                    "gdp_per_capita": 5788.09333
                  },
                  {
                    "country": "Peru",
                    "continent": "Americas",
                    "year": "1972-01-01",
                    "life_expectancy": 55.448,
                    "population": 13954700,
                    "gdp_per_capita": 5937.827283
                  },
                  {
                    "country": "Peru",
                    "continent": "Americas",
                    "year": "1977-01-01",
                    "life_expectancy": 58.447,
                    "population": 15990099,
                    "gdp_per_capita": 6281.290855
                  },
                  {
                    "country": "Peru",
                    "continent": "Americas",
                    "year": "1982-01-01",
                    "life_expectancy": 61.406,
                    "population": 18125129,
                    "gdp_per_capita": 6434.501797
                  },
                  {
                    "country": "Peru",
                    "continent": "Americas",
                    "year": "1987-01-01",
                    "life_expectancy": 64.134,
                    "population": 20195924,
                    "gdp_per_capita": 6360.943444
                  },
                  {
                    "country": "Peru",
                    "continent": "Americas",
                    "year": "1992-01-01",
                    "life_expectancy": 66.458,
                    "population": 22430449,
                    "gdp_per_capita": 4446.380924
                  },
                  {
                    "country": "Peru",
                    "continent": "Americas",
                    "year": "1997-01-01",
                    "life_expectancy": 68.386,
                    "population": 24748122,
                    "gdp_per_capita": 5838.347657
                  },
                  {
                    "country": "Peru",
                    "continent": "Americas",
                    "year": "2002-01-01",
                    "life_expectancy": 69.906,
                    "population": 26769436,
                    "gdp_per_capita": 5909.020073
                  },
                  {
                    "country": "Peru",
                    "continent": "Americas",
                    "year": "2007-01-01",
                    "life_expectancy": 71.421,
                    "population": 28674757,
                    "gdp_per_capita": 7408.905561
                  },
                  {
                    "country": "Philippines",
                    "continent": "Asia",
                    "year": "1952-01-01",
                    "life_expectancy": 47.752,
                    "population": 22438691,
                    "gdp_per_capita": 1272.880995
                  },
                  {
                    "country": "Philippines",
                    "continent": "Asia",
                    "year": "1957-01-01",
                    "life_expectancy": 51.334,
                    "population": 26072194,
                    "gdp_per_capita": 1547.944844
                  },
                  {
                    "country": "Philippines",
                    "continent": "Asia",
                    "year": "1962-01-01",
                    "life_expectancy": 54.757,
                    "population": 30325264,
                    "gdp_per_capita": 1649.552153
                  },
                  {
                    "country": "Philippines",
                    "continent": "Asia",
                    "year": "1967-01-01",
                    "life_expectancy": 56.393,
                    "population": 35356600,
                    "gdp_per_capita": 1814.12743
                  },
                  {
                    "country": "Philippines",
                    "continent": "Asia",
                    "year": "1972-01-01",
                    "life_expectancy": 58.065,
                    "population": 40850141,
                    "gdp_per_capita": 1989.37407
                  },
                  {
                    "country": "Philippines",
                    "continent": "Asia",
                    "year": "1977-01-01",
                    "life_expectancy": 60.06,
                    "population": 46850962,
                    "gdp_per_capita": 2373.204287
                  },
                  {
                    "country": "Philippines",
                    "continent": "Asia",
                    "year": "1982-01-01",
                    "life_expectancy": 62.082,
                    "population": 53456774,
                    "gdp_per_capita": 2603.273765
                  },
                  {
                    "country": "Philippines",
                    "continent": "Asia",
                    "year": "1987-01-01",
                    "life_expectancy": 64.151,
                    "population": 60017788,
                    "gdp_per_capita": 2189.634995
                  },
                  {
                    "country": "Philippines",
                    "continent": "Asia",
                    "year": "1992-01-01",
                    "life_expectancy": 66.458,
                    "population": 67185766,
                    "gdp_per_capita": 2279.324017
                  },
                  {
                    "country": "Philippines",
                    "continent": "Asia",
                    "year": "1997-01-01",
                    "life_expectancy": 68.564,
                    "population": 75012988,
                    "gdp_per_capita": 2536.534925
                  },
                  {
                    "country": "Philippines",
                    "continent": "Asia",
                    "year": "2002-01-01",
                    "life_expectancy": 70.303,
                    "population": 82995088,
                    "gdp_per_capita": 2650.921068
                  },
                  {
                    "country": "Philippines",
                    "continent": "Asia",
                    "year": "2007-01-01",
                    "life_expectancy": 71.688,
                    "population": 91077287,
                    "gdp_per_capita": 3190.481016
                  },
                  {
                    "country": "Poland",
                    "continent": "Europe",
                    "year": "1952-01-01",
                    "life_expectancy": 61.31,
                    "population": 25730551,
                    "gdp_per_capita": 4029.329699
                  },
                  {
                    "country": "Poland",
                    "continent": "Europe",
                    "year": "1957-01-01",
                    "life_expectancy": 65.77,
                    "population": 28235346,
                    "gdp_per_capita": 4734.253019
                  },
                  {
                    "country": "Poland",
                    "continent": "Europe",
                    "year": "1962-01-01",
                    "life_expectancy": 67.64,
                    "population": 30329617,
                    "gdp_per_capita": 5338.752143
                  },
                  {
                    "country": "Poland",
                    "continent": "Europe",
                    "year": "1967-01-01",
                    "life_expectancy": 69.61,
                    "population": 31785378,
                    "gdp_per_capita": 6557.152776
                  },
                  {
                    "country": "Poland",
                    "continent": "Europe",
                    "year": "1972-01-01",
                    "life_expectancy": 70.85,
                    "population": 33039545,
                    "gdp_per_capita": 8006.506993
                  },
                  {
                    "country": "Poland",
                    "continent": "Europe",
                    "year": "1977-01-01",
                    "life_expectancy": 70.67,
                    "population": 34621254,
                    "gdp_per_capita": 9508.141454
                  },
                  {
                    "country": "Poland",
                    "continent": "Europe",
                    "year": "1982-01-01",
                    "life_expectancy": 71.32,
                    "population": 36227381,
                    "gdp_per_capita": 8451.531004
                  },
                  {
                    "country": "Poland",
                    "continent": "Europe",
                    "year": "1987-01-01",
                    "life_expectancy": 70.98,
                    "population": 37740710,
                    "gdp_per_capita": 9082.351172
                  },
                  {
                    "country": "Poland",
                    "continent": "Europe",
                    "year": "1992-01-01",
                    "life_expectancy": 70.99,
                    "population": 38370697,
                    "gdp_per_capita": 7738.881247
                  },
                  {
                    "country": "Poland",
                    "continent": "Europe",
                    "year": "1997-01-01",
                    "life_expectancy": 72.75,
                    "population": 38654957,
                    "gdp_per_capita": 10159.58368
                  },
                  {
                    "country": "Poland",
                    "continent": "Europe",
                    "year": "2002-01-01",
                    "life_expectancy": 74.67,
                    "population": 38625976,
                    "gdp_per_capita": 12002.23908
                  },
                  {
                    "country": "Poland",
                    "continent": "Europe",
                    "year": "2007-01-01",
                    "life_expectancy": 75.563,
                    "population": 38518241,
                    "gdp_per_capita": 15389.92468
                  },
                  {
                    "country": "Portugal",
                    "continent": "Europe",
                    "year": "1952-01-01",
                    "life_expectancy": 59.82,
                    "population": 8526050,
                    "gdp_per_capita": 3068.319867
                  },
                  {
                    "country": "Portugal",
                    "continent": "Europe",
                    "year": "1957-01-01",
                    "life_expectancy": 61.51,
                    "population": 8817650,
                    "gdp_per_capita": 3774.571743
                  },
                  {
                    "country": "Portugal",
                    "continent": "Europe",
                    "year": "1962-01-01",
                    "life_expectancy": 64.39,
                    "population": 9019800,
                    "gdp_per_capita": 4727.954889
                  },
                  {
                    "country": "Portugal",
                    "continent": "Europe",
                    "year": "1967-01-01",
                    "life_expectancy": 66.6,
                    "population": 9103000,
                    "gdp_per_capita": 6361.517993
                  },
                  {
                    "country": "Portugal",
                    "continent": "Europe",
                    "year": "1972-01-01",
                    "life_expectancy": 69.26,
                    "population": 8970450,
                    "gdp_per_capita": 9022.247417
                  },
                  {
                    "country": "Portugal",
                    "continent": "Europe",
                    "year": "1977-01-01",
                    "life_expectancy": 70.41,
                    "population": 9662600,
                    "gdp_per_capita": 10172.48572
                  },
                  {
                    "country": "Portugal",
                    "continent": "Europe",
                    "year": "1982-01-01",
                    "life_expectancy": 72.77,
                    "population": 9859650,
                    "gdp_per_capita": 11753.84291
                  },
                  {
                    "country": "Portugal",
                    "continent": "Europe",
                    "year": "1987-01-01",
                    "life_expectancy": 74.06,
                    "population": 9915289,
                    "gdp_per_capita": 13039.30876
                  },
                  {
                    "country": "Portugal",
                    "continent": "Europe",
                    "year": "1992-01-01",
                    "life_expectancy": 74.86,
                    "population": 9927680,
                    "gdp_per_capita": 16207.26663
                  },
                  {
                    "country": "Portugal",
                    "continent": "Europe",
                    "year": "1997-01-01",
                    "life_expectancy": 75.97,
                    "population": 10156415,
                    "gdp_per_capita": 17641.03156
                  },
                  {
                    "country": "Portugal",
                    "continent": "Europe",
                    "year": "2002-01-01",
                    "life_expectancy": 77.29,
                    "population": 10433867,
                    "gdp_per_capita": 19970.90787
                  },
                  {
                    "country": "Portugal",
                    "continent": "Europe",
                    "year": "2007-01-01",
                    "life_expectancy": 78.098,
                    "population": 10642836,
                    "gdp_per_capita": 20509.64777
                  },
                  {
                    "country": "Puerto Rico",
                    "continent": "Americas",
                    "year": "1952-01-01",
                    "life_expectancy": 64.28,
                    "population": 2227000,
                    "gdp_per_capita": 3081.959785
                  },
                  {
                    "country": "Puerto Rico",
                    "continent": "Americas",
                    "year": "1957-01-01",
                    "life_expectancy": 68.54,
                    "population": 2260000,
                    "gdp_per_capita": 3907.156189
                  },
                  {
                    "country": "Puerto Rico",
                    "continent": "Americas",
                    "year": "1962-01-01",
                    "life_expectancy": 69.62,
                    "population": 2448046,
                    "gdp_per_capita": 5108.34463
                  },
                  {
                    "country": "Puerto Rico",
                    "continent": "Americas",
                    "year": "1967-01-01",
                    "life_expectancy": 71.1,
                    "population": 2648961,
                    "gdp_per_capita": 6929.277714
                  },
                  {
                    "country": "Puerto Rico",
                    "continent": "Americas",
                    "year": "1972-01-01",
                    "life_expectancy": 72.16,
                    "population": 2847132,
                    "gdp_per_capita": 9123.041742
                  },
                  {
                    "country": "Puerto Rico",
                    "continent": "Americas",
                    "year": "1977-01-01",
                    "life_expectancy": 73.44,
                    "population": 3080828,
                    "gdp_per_capita": 9770.524921
                  },
                  {
                    "country": "Puerto Rico",
                    "continent": "Americas",
                    "year": "1982-01-01",
                    "life_expectancy": 73.75,
                    "population": 3279001,
                    "gdp_per_capita": 10330.98915
                  },
                  {
                    "country": "Puerto Rico",
                    "continent": "Americas",
                    "year": "1987-01-01",
                    "life_expectancy": 74.63,
                    "population": 3444468,
                    "gdp_per_capita": 12281.34191
                  },
                  {
                    "country": "Puerto Rico",
                    "continent": "Americas",
                    "year": "1992-01-01",
                    "life_expectancy": 73.911,
                    "population": 3585176,
                    "gdp_per_capita": 14641.58711
                  },
                  {
                    "country": "Puerto Rico",
                    "continent": "Americas",
                    "year": "1997-01-01",
                    "life_expectancy": 74.917,
                    "population": 3759430,
                    "gdp_per_capita": 16999.4333
                  },
                  {
                    "country": "Puerto Rico",
                    "continent": "Americas",
                    "year": "2002-01-01",
                    "life_expectancy": 77.778,
                    "population": 3859606,
                    "gdp_per_capita": 18855.60618
                  },
                  {
                    "country": "Puerto Rico",
                    "continent": "Americas",
                    "year": "2007-01-01",
                    "life_expectancy": 78.746,
                    "population": 3942491,
                    "gdp_per_capita": 19328.70901
                  },
                  {
                    "country": "Reunion",
                    "continent": "Africa",
                    "year": "1952-01-01",
                    "life_expectancy": 52.724,
                    "population": 257700,
                    "gdp_per_capita": 2718.885295
                  },
                  {
                    "country": "Reunion",
                    "continent": "Africa",
                    "year": "1957-01-01",
                    "life_expectancy": 55.09,
                    "population": 308700,
                    "gdp_per_capita": 2769.451844
                  },
                  {
                    "country": "Reunion",
                    "continent": "Africa",
                    "year": "1962-01-01",
                    "life_expectancy": 57.666,
                    "population": 358900,
                    "gdp_per_capita": 3173.72334
                  },
                  {
                    "country": "Reunion",
                    "continent": "Africa",
                    "year": "1967-01-01",
                    "life_expectancy": 60.542,
                    "population": 414024,
                    "gdp_per_capita": 4021.175739
                  },
                  {
                    "country": "Reunion",
                    "continent": "Africa",
                    "year": "1972-01-01",
                    "life_expectancy": 64.274,
                    "population": 461633,
                    "gdp_per_capita": 5047.658563
                  },
                  {
                    "country": "Reunion",
                    "continent": "Africa",
                    "year": "1977-01-01",
                    "life_expectancy": 67.064,
                    "population": 492095,
                    "gdp_per_capita": 4319.804067
                  },
                  {
                    "country": "Reunion",
                    "continent": "Africa",
                    "year": "1982-01-01",
                    "life_expectancy": 69.885,
                    "population": 517810,
                    "gdp_per_capita": 5267.219353
                  },
                  {
                    "country": "Reunion",
                    "continent": "Africa",
                    "year": "1987-01-01",
                    "life_expectancy": 71.913,
                    "population": 562035,
                    "gdp_per_capita": 5303.377488
                  },
                  {
                    "country": "Reunion",
                    "continent": "Africa",
                    "year": "1992-01-01",
                    "life_expectancy": 73.615,
                    "population": 622191,
                    "gdp_per_capita": 6101.255823
                  },
                  {
                    "country": "Reunion",
                    "continent": "Africa",
                    "year": "1997-01-01",
                    "life_expectancy": 74.772,
                    "population": 684810,
                    "gdp_per_capita": 6071.941411
                  },
                  {
                    "country": "Reunion",
                    "continent": "Africa",
                    "year": "2002-01-01",
                    "life_expectancy": 75.744,
                    "population": 743981,
                    "gdp_per_capita": 6316.1652
                  },
                  {
                    "country": "Reunion",
                    "continent": "Africa",
                    "year": "2007-01-01",
                    "life_expectancy": 76.442,
                    "population": 798094,
                    "gdp_per_capita": 7670.122558
                  },
                  {
                    "country": "Romania",
                    "continent": "Europe",
                    "year": "1952-01-01",
                    "life_expectancy": 61.05,
                    "population": 16630000,
                    "gdp_per_capita": 3144.613186
                  },
                  {
                    "country": "Romania",
                    "continent": "Europe",
                    "year": "1957-01-01",
                    "life_expectancy": 64.1,
                    "population": 17829327,
                    "gdp_per_capita": 3943.370225
                  },
                  {
                    "country": "Romania",
                    "continent": "Europe",
                    "year": "1962-01-01",
                    "life_expectancy": 66.8,
                    "population": 18680721,
                    "gdp_per_capita": 4734.997586
                  },
                  {
                    "country": "Romania",
                    "continent": "Europe",
                    "year": "1967-01-01",
                    "life_expectancy": 66.8,
                    "population": 19284814,
                    "gdp_per_capita": 6470.866545
                  },
                  {
                    "country": "Romania",
                    "continent": "Europe",
                    "year": "1972-01-01",
                    "life_expectancy": 69.21,
                    "population": 20662648,
                    "gdp_per_capita": 8011.414402
                  },
                  {
                    "country": "Romania",
                    "continent": "Europe",
                    "year": "1977-01-01",
                    "life_expectancy": 69.46,
                    "population": 21658597,
                    "gdp_per_capita": 9356.39724
                  },
                  {
                    "country": "Romania",
                    "continent": "Europe",
                    "year": "1982-01-01",
                    "life_expectancy": 69.66,
                    "population": 22356726,
                    "gdp_per_capita": 9605.314053
                  },
                  {
                    "country": "Romania",
                    "continent": "Europe",
                    "year": "1987-01-01",
                    "life_expectancy": 69.53,
                    "population": 22686371,
                    "gdp_per_capita": 9696.273295
                  },
                  {
                    "country": "Romania",
                    "continent": "Europe",
                    "year": "1992-01-01",
                    "life_expectancy": 69.36,
                    "population": 22797027,
                    "gdp_per_capita": 6598.409903
                  },
                  {
                    "country": "Romania",
                    "continent": "Europe",
                    "year": "1997-01-01",
                    "life_expectancy": 69.72,
                    "population": 22562458,
                    "gdp_per_capita": 7346.547557
                  },
                  {
                    "country": "Romania",
                    "continent": "Europe",
                    "year": "2002-01-01",
                    "life_expectancy": 71.322,
                    "population": 22404337,
                    "gdp_per_capita": 7885.360081
                  },
                  {
                    "country": "Romania",
                    "continent": "Europe",
                    "year": "2007-01-01",
                    "life_expectancy": 72.476,
                    "population": 22276056,
                    "gdp_per_capita": 10808.47561
                  },
                  {
                    "country": "Rwanda",
                    "continent": "Africa",
                    "year": "1952-01-01",
                    "life_expectancy": 40,
                    "population": 2534927,
                    "gdp_per_capita": 493.3238752
                  },
                  {
                    "country": "Rwanda",
                    "continent": "Africa",
                    "year": "1957-01-01",
                    "life_expectancy": 41.5,
                    "population": 2822082,
                    "gdp_per_capita": 540.2893983
                  },
                  {
                    "country": "Rwanda",
                    "continent": "Africa",
                    "year": "1962-01-01",
                    "life_expectancy": 43,
                    "population": 3051242,
                    "gdp_per_capita": 597.4730727
                  },
                  {
                    "country": "Rwanda",
                    "continent": "Africa",
                    "year": "1967-01-01",
                    "life_expectancy": 44.1,
                    "population": 3451079,
                    "gdp_per_capita": 510.9637142
                  },
                  {
                    "country": "Rwanda",
                    "continent": "Africa",
                    "year": "1972-01-01",
                    "life_expectancy": 44.6,
                    "population": 3992121,
                    "gdp_per_capita": 590.5806638
                  },
                  {
                    "country": "Rwanda",
                    "continent": "Africa",
                    "year": "1977-01-01",
                    "life_expectancy": 45,
                    "population": 4657072,
                    "gdp_per_capita": 670.0806011
                  },
                  {
                    "country": "Rwanda",
                    "continent": "Africa",
                    "year": "1982-01-01",
                    "life_expectancy": 46.218,
                    "population": 5507565,
                    "gdp_per_capita": 881.5706467
                  },
                  {
                    "country": "Rwanda",
                    "continent": "Africa",
                    "year": "1987-01-01",
                    "life_expectancy": 44.02,
                    "population": 6349365,
                    "gdp_per_capita": 847.991217
                  },
                  {
                    "country": "Rwanda",
                    "continent": "Africa",
                    "year": "1992-01-01",
                    "life_expectancy": 23.599,
                    "population": 7290203,
                    "gdp_per_capita": 737.0685949
                  },
                  {
                    "country": "Rwanda",
                    "continent": "Africa",
                    "year": "1997-01-01",
                    "life_expectancy": 36.087,
                    "population": 7212583,
                    "gdp_per_capita": 589.9445051
                  },
                  {
                    "country": "Rwanda",
                    "continent": "Africa",
                    "year": "2002-01-01",
                    "life_expectancy": 43.413,
                    "population": 7852401,
                    "gdp_per_capita": 785.6537648
                  },
                  {
                    "country": "Rwanda",
                    "continent": "Africa",
                    "year": "2007-01-01",
                    "life_expectancy": 46.242,
                    "population": 8860588,
                    "gdp_per_capita": 863.0884639
                  },
                  {
                    "country": "Sao Tome and Principe",
                    "continent": "Africa",
                    "year": "1952-01-01",
                    "life_expectancy": 46.471,
                    "population": 60011,
                    "gdp_per_capita": 879.5835855
                  },
                  {
                    "country": "Sao Tome and Principe",
                    "continent": "Africa",
                    "year": "1957-01-01",
                    "life_expectancy": 48.945,
                    "population": 61325,
                    "gdp_per_capita": 860.7369026
                  },
                  {
                    "country": "Sao Tome and Principe",
                    "continent": "Africa",
                    "year": "1962-01-01",
                    "life_expectancy": 51.893,
                    "population": 65345,
                    "gdp_per_capita": 1071.551119
                  },
                  {
                    "country": "Sao Tome and Principe",
                    "continent": "Africa",
                    "year": "1967-01-01",
                    "life_expectancy": 54.425,
                    "population": 70787,
                    "gdp_per_capita": 1384.840593
                  },
                  {
                    "country": "Sao Tome and Principe",
                    "continent": "Africa",
                    "year": "1972-01-01",
                    "life_expectancy": 56.48,
                    "population": 76595,
                    "gdp_per_capita": 1532.985254
                  },
                  {
                    "country": "Sao Tome and Principe",
                    "continent": "Africa",
                    "year": "1977-01-01",
                    "life_expectancy": 58.55,
                    "population": 86796,
                    "gdp_per_capita": 1737.561657
                  },
                  {
                    "country": "Sao Tome and Principe",
                    "continent": "Africa",
                    "year": "1982-01-01",
                    "life_expectancy": 60.351,
                    "population": 98593,
                    "gdp_per_capita": 1890.218117
                  },
                  {
                    "country": "Sao Tome and Principe",
                    "continent": "Africa",
                    "year": "1987-01-01",
                    "life_expectancy": 61.728,
                    "population": 110812,
                    "gdp_per_capita": 1516.525457
                  },
                  {
                    "country": "Sao Tome and Principe",
                    "continent": "Africa",
                    "year": "1992-01-01",
                    "life_expectancy": 62.742,
                    "population": 125911,
                    "gdp_per_capita": 1428.777814
                  },
                  {
                    "country": "Sao Tome and Principe",
                    "continent": "Africa",
                    "year": "1997-01-01",
                    "life_expectancy": 63.306,
                    "population": 145608,
                    "gdp_per_capita": 1339.076036
                  },
                  {
                    "country": "Sao Tome and Principe",
                    "continent": "Africa",
                    "year": "2002-01-01",
                    "life_expectancy": 64.337,
                    "population": 170372,
                    "gdp_per_capita": 1353.09239
                  },
                  {
                    "country": "Sao Tome and Principe",
                    "continent": "Africa",
                    "year": "2007-01-01",
                    "life_expectancy": 65.528,
                    "population": 199579,
                    "gdp_per_capita": 1598.435089
                  },
                  {
                    "country": "Saudi Arabia",
                    "continent": "Asia",
                    "year": "1952-01-01",
                    "life_expectancy": 39.875,
                    "population": 4005677,
                    "gdp_per_capita": 6459.554823
                  },
                  {
                    "country": "Saudi Arabia",
                    "continent": "Asia",
                    "year": "1957-01-01",
                    "life_expectancy": 42.868,
                    "population": 4419650,
                    "gdp_per_capita": 8157.591248
                  },
                  {
                    "country": "Saudi Arabia",
                    "continent": "Asia",
                    "year": "1962-01-01",
                    "life_expectancy": 45.914,
                    "population": 4943029,
                    "gdp_per_capita": 11626.41975
                  },
                  {
                    "country": "Saudi Arabia",
                    "continent": "Asia",
                    "year": "1967-01-01",
                    "life_expectancy": 49.901,
                    "population": 5618198,
                    "gdp_per_capita": 16903.04886
                  },
                  {
                    "country": "Saudi Arabia",
                    "continent": "Asia",
                    "year": "1972-01-01",
                    "life_expectancy": 53.886,
                    "population": 6472756,
                    "gdp_per_capita": 24837.42865
                  },
                  {
                    "country": "Saudi Arabia",
                    "continent": "Asia",
                    "year": "1977-01-01",
                    "life_expectancy": 58.69,
                    "population": 8128505,
                    "gdp_per_capita": 34167.7626
                  },
                  {
                    "country": "Saudi Arabia",
                    "continent": "Asia",
                    "year": "1982-01-01",
                    "life_expectancy": 63.012,
                    "population": 11254672,
                    "gdp_per_capita": 33693.17525
                  },
                  {
                    "country": "Saudi Arabia",
                    "continent": "Asia",
                    "year": "1987-01-01",
                    "life_expectancy": 66.295,
                    "population": 14619745,
                    "gdp_per_capita": 21198.26136
                  },
                  {
                    "country": "Saudi Arabia",
                    "continent": "Asia",
                    "year": "1992-01-01",
                    "life_expectancy": 68.768,
                    "population": 16945857,
                    "gdp_per_capita": 24841.61777
                  },
                  {
                    "country": "Saudi Arabia",
                    "continent": "Asia",
                    "year": "1997-01-01",
                    "life_expectancy": 70.533,
                    "population": 21229759,
                    "gdp_per_capita": 20586.69019
                  },
                  {
                    "country": "Saudi Arabia",
                    "continent": "Asia",
                    "year": "2002-01-01",
                    "life_expectancy": 71.626,
                    "population": 24501530,
                    "gdp_per_capita": 19014.54118
                  },
                  {
                    "country": "Saudi Arabia",
                    "continent": "Asia",
                    "year": "2007-01-01",
                    "life_expectancy": 72.777,
                    "population": 27601038,
                    "gdp_per_capita": 21654.83194
                  },
                  {
                    "country": "Senegal",
                    "continent": "Africa",
                    "year": "1952-01-01",
                    "life_expectancy": 37.278,
                    "population": 2755589,
                    "gdp_per_capita": 1450.356983
                  },
                  {
                    "country": "Senegal",
                    "continent": "Africa",
                    "year": "1957-01-01",
                    "life_expectancy": 39.329,
                    "population": 3054547,
                    "gdp_per_capita": 1567.653006
                  },
                  {
                    "country": "Senegal",
                    "continent": "Africa",
                    "year": "1962-01-01",
                    "life_expectancy": 41.454,
                    "population": 3430243,
                    "gdp_per_capita": 1654.988723
                  },
                  {
                    "country": "Senegal",
                    "continent": "Africa",
                    "year": "1967-01-01",
                    "life_expectancy": 43.563,
                    "population": 3965841,
                    "gdp_per_capita": 1612.404632
                  },
                  {
                    "country": "Senegal",
                    "continent": "Africa",
                    "year": "1972-01-01",
                    "life_expectancy": 45.815,
                    "population": 4588696,
                    "gdp_per_capita": 1597.712056
                  },
                  {
                    "country": "Senegal",
                    "continent": "Africa",
                    "year": "1977-01-01",
                    "life_expectancy": 48.879,
                    "population": 5260855,
                    "gdp_per_capita": 1561.769116
                  },
                  {
                    "country": "Senegal",
                    "continent": "Africa",
                    "year": "1982-01-01",
                    "life_expectancy": 52.379,
                    "population": 6147783,
                    "gdp_per_capita": 1518.479984
                  },
                  {
                    "country": "Senegal",
                    "continent": "Africa",
                    "year": "1987-01-01",
                    "life_expectancy": 55.769,
                    "population": 7171347,
                    "gdp_per_capita": 1441.72072
                  },
                  {
                    "country": "Senegal",
                    "continent": "Africa",
                    "year": "1992-01-01",
                    "life_expectancy": 58.196,
                    "population": 8307920,
                    "gdp_per_capita": 1367.899369
                  },
                  {
                    "country": "Senegal",
                    "continent": "Africa",
                    "year": "1997-01-01",
                    "life_expectancy": 60.187,
                    "population": 9535314,
                    "gdp_per_capita": 1392.368347
                  },
                  {
                    "country": "Senegal",
                    "continent": "Africa",
                    "year": "2002-01-01",
                    "life_expectancy": 61.6,
                    "population": 10870037,
                    "gdp_per_capita": 1519.635262
                  },
                  {
                    "country": "Senegal",
                    "continent": "Africa",
                    "year": "2007-01-01",
                    "life_expectancy": 63.062,
                    "population": 12267493,
                    "gdp_per_capita": 1712.472136
                  },
                  {
                    "country": "Serbia",
                    "continent": "Europe",
                    "year": "1952-01-01",
                    "life_expectancy": 57.996,
                    "population": 6860147,
                    "gdp_per_capita": 3581.459448
                  },
                  {
                    "country": "Serbia",
                    "continent": "Europe",
                    "year": "1957-01-01",
                    "life_expectancy": 61.685,
                    "population": 7271135,
                    "gdp_per_capita": 4981.090891
                  },
                  {
                    "country": "Serbia",
                    "continent": "Europe",
                    "year": "1962-01-01",
                    "life_expectancy": 64.531,
                    "population": 7616060,
                    "gdp_per_capita": 6289.629157
                  },
                  {
                    "country": "Serbia",
                    "continent": "Europe",
                    "year": "1967-01-01",
                    "life_expectancy": 66.914,
                    "population": 7971222,
                    "gdp_per_capita": 7991.707066
                  },
                  {
                    "country": "Serbia",
                    "continent": "Europe",
                    "year": "1972-01-01",
                    "life_expectancy": 68.7,
                    "population": 8313288,
                    "gdp_per_capita": 10522.06749
                  },
                  {
                    "country": "Serbia",
                    "continent": "Europe",
                    "year": "1977-01-01",
                    "life_expectancy": 70.3,
                    "population": 8686367,
                    "gdp_per_capita": 12980.66956
                  },
                  {
                    "country": "Serbia",
                    "continent": "Europe",
                    "year": "1982-01-01",
                    "life_expectancy": 70.162,
                    "population": 9032824,
                    "gdp_per_capita": 15181.0927
                  },
                  {
                    "country": "Serbia",
                    "continent": "Europe",
                    "year": "1987-01-01",
                    "life_expectancy": 71.218,
                    "population": 9230783,
                    "gdp_per_capita": 15870.87851
                  },
                  {
                    "country": "Serbia",
                    "continent": "Europe",
                    "year": "1992-01-01",
                    "life_expectancy": 71.659,
                    "population": 9826397,
                    "gdp_per_capita": 9325.068238
                  },
                  {
                    "country": "Serbia",
                    "continent": "Europe",
                    "year": "1997-01-01",
                    "life_expectancy": 72.232,
                    "population": 10336594,
                    "gdp_per_capita": 7914.320304
                  },
                  {
                    "country": "Serbia",
                    "continent": "Europe",
                    "year": "2002-01-01",
                    "life_expectancy": 73.213,
                    "population": 10111559,
                    "gdp_per_capita": 7236.075251
                  },
                  {
                    "country": "Serbia",
                    "continent": "Europe",
                    "year": "2007-01-01",
                    "life_expectancy": 74.002,
                    "population": 10150265,
                    "gdp_per_capita": 9786.534714
                  },
                  {
                    "country": "Sierra Leone",
                    "continent": "Africa",
                    "year": "1952-01-01",
                    "life_expectancy": 30.331,
                    "population": 2143249,
                    "gdp_per_capita": 879.7877358
                  },
                  {
                    "country": "Sierra Leone",
                    "continent": "Africa",
                    "year": "1957-01-01",
                    "life_expectancy": 31.57,
                    "population": 2295678,
                    "gdp_per_capita": 1004.484437
                  },
                  {
                    "country": "Sierra Leone",
                    "continent": "Africa",
                    "year": "1962-01-01",
                    "life_expectancy": 32.767,
                    "population": 2467895,
                    "gdp_per_capita": 1116.639877
                  },
                  {
                    "country": "Sierra Leone",
                    "continent": "Africa",
                    "year": "1967-01-01",
                    "life_expectancy": 34.113,
                    "population": 2662190,
                    "gdp_per_capita": 1206.043465
                  },
                  {
                    "country": "Sierra Leone",
                    "continent": "Africa",
                    "year": "1972-01-01",
                    "life_expectancy": 35.4,
                    "population": 2879013,
                    "gdp_per_capita": 1353.759762
                  },
                  {
                    "country": "Sierra Leone",
                    "continent": "Africa",
                    "year": "1977-01-01",
                    "life_expectancy": 36.788,
                    "population": 3140897,
                    "gdp_per_capita": 1348.285159
                  },
                  {
                    "country": "Sierra Leone",
                    "continent": "Africa",
                    "year": "1982-01-01",
                    "life_expectancy": 38.445,
                    "population": 3464522,
                    "gdp_per_capita": 1465.010784
                  },
                  {
                    "country": "Sierra Leone",
                    "continent": "Africa",
                    "year": "1987-01-01",
                    "life_expectancy": 40.006,
                    "population": 3868905,
                    "gdp_per_capita": 1294.447788
                  },
                  {
                    "country": "Sierra Leone",
                    "continent": "Africa",
                    "year": "1992-01-01",
                    "life_expectancy": 38.333,
                    "population": 4260884,
                    "gdp_per_capita": 1068.696278
                  },
                  {
                    "country": "Sierra Leone",
                    "continent": "Africa",
                    "year": "1997-01-01",
                    "life_expectancy": 39.897,
                    "population": 4578212,
                    "gdp_per_capita": 574.6481576
                  },
                  {
                    "country": "Sierra Leone",
                    "continent": "Africa",
                    "year": "2002-01-01",
                    "life_expectancy": 41.012,
                    "population": 5359092,
                    "gdp_per_capita": 699.489713
                  },
                  {
                    "country": "Sierra Leone",
                    "continent": "Africa",
                    "year": "2007-01-01",
                    "life_expectancy": 42.568,
                    "population": 6144562,
                    "gdp_per_capita": 862.5407561
                  },
                  {
                    "country": "Singapore",
                    "continent": "Asia",
                    "year": "1952-01-01",
                    "life_expectancy": 60.396,
                    "population": 1127000,
                    "gdp_per_capita": 2315.138227
                  },
                  {
                    "country": "Singapore",
                    "continent": "Asia",
                    "year": "1957-01-01",
                    "life_expectancy": 63.179,
                    "population": 1445929,
                    "gdp_per_capita": 2843.104409
                  },
                  {
                    "country": "Singapore",
                    "continent": "Asia",
                    "year": "1962-01-01",
                    "life_expectancy": 65.798,
                    "population": 1750200,
                    "gdp_per_capita": 3674.735572
                  },
                  {
                    "country": "Singapore",
                    "continent": "Asia",
                    "year": "1967-01-01",
                    "life_expectancy": 67.946,
                    "population": 1977600,
                    "gdp_per_capita": 4977.41854
                  },
                  {
                    "country": "Singapore",
                    "continent": "Asia",
                    "year": "1972-01-01",
                    "life_expectancy": 69.521,
                    "population": 2152400,
                    "gdp_per_capita": 8597.756202
                  },
                  {
                    "country": "Singapore",
                    "continent": "Asia",
                    "year": "1977-01-01",
                    "life_expectancy": 70.795,
                    "population": 2325300,
                    "gdp_per_capita": 11210.08948
                  },
                  {
                    "country": "Singapore",
                    "continent": "Asia",
                    "year": "1982-01-01",
                    "life_expectancy": 71.76,
                    "population": 2651869,
                    "gdp_per_capita": 15169.16112
                  },
                  {
                    "country": "Singapore",
                    "continent": "Asia",
                    "year": "1987-01-01",
                    "life_expectancy": 73.56,
                    "population": 2794552,
                    "gdp_per_capita": 18861.53081
                  },
                  {
                    "country": "Singapore",
                    "continent": "Asia",
                    "year": "1992-01-01",
                    "life_expectancy": 75.788,
                    "population": 3235865,
                    "gdp_per_capita": 24769.8912
                  },
                  {
                    "country": "Singapore",
                    "continent": "Asia",
                    "year": "1997-01-01",
                    "life_expectancy": 77.158,
                    "population": 3802309,
                    "gdp_per_capita": 33519.4766
                  },
                  {
                    "country": "Singapore",
                    "continent": "Asia",
                    "year": "2002-01-01",
                    "life_expectancy": 78.77,
                    "population": 4197776,
                    "gdp_per_capita": 36023.1054
                  },
                  {
                    "country": "Singapore",
                    "continent": "Asia",
                    "year": "2007-01-01",
                    "life_expectancy": 79.972,
                    "population": 4553009,
                    "gdp_per_capita": 47143.17964
                  },
                  {
                    "country": "Slovak Republic",
                    "continent": "Europe",
                    "year": "1952-01-01",
                    "life_expectancy": 64.36,
                    "population": 3558137,
                    "gdp_per_capita": 5074.659104
                  },
                  {
                    "country": "Slovak Republic",
                    "continent": "Europe",
                    "year": "1957-01-01",
                    "life_expectancy": 67.45,
                    "population": 3844277,
                    "gdp_per_capita": 6093.26298
                  },
                  {
                    "country": "Slovak Republic",
                    "continent": "Europe",
                    "year": "1962-01-01",
                    "life_expectancy": 70.33,
                    "population": 4237384,
                    "gdp_per_capita": 7481.107598
                  },
                  {
                    "country": "Slovak Republic",
                    "continent": "Europe",
                    "year": "1967-01-01",
                    "life_expectancy": 70.98,
                    "population": 4442238,
                    "gdp_per_capita": 8412.902397
                  },
                  {
                    "country": "Slovak Republic",
                    "continent": "Europe",
                    "year": "1972-01-01",
                    "life_expectancy": 70.35,
                    "population": 4593433,
                    "gdp_per_capita": 9674.167626
                  },
                  {
                    "country": "Slovak Republic",
                    "continent": "Europe",
                    "year": "1977-01-01",
                    "life_expectancy": 70.45,
                    "population": 4827803,
                    "gdp_per_capita": 10922.66404
                  },
                  {
                    "country": "Slovak Republic",
                    "continent": "Europe",
                    "year": "1982-01-01",
                    "life_expectancy": 70.8,
                    "population": 5048043,
                    "gdp_per_capita": 11348.54585
                  },
                  {
                    "country": "Slovak Republic",
                    "continent": "Europe",
                    "year": "1987-01-01",
                    "life_expectancy": 71.08,
                    "population": 5199318,
                    "gdp_per_capita": 12037.26758
                  },
                  {
                    "country": "Slovak Republic",
                    "continent": "Europe",
                    "year": "1992-01-01",
                    "life_expectancy": 71.38,
                    "population": 5302888,
                    "gdp_per_capita": 9498.467723
                  },
                  {
                    "country": "Slovak Republic",
                    "continent": "Europe",
                    "year": "1997-01-01",
                    "life_expectancy": 72.71,
                    "population": 5383010,
                    "gdp_per_capita": 12126.23065
                  },
                  {
                    "country": "Slovak Republic",
                    "continent": "Europe",
                    "year": "2002-01-01",
                    "life_expectancy": 73.8,
                    "population": 5410052,
                    "gdp_per_capita": 13638.77837
                  },
                  {
                    "country": "Slovak Republic",
                    "continent": "Europe",
                    "year": "2007-01-01",
                    "life_expectancy": 74.663,
                    "population": 5447502,
                    "gdp_per_capita": 18678.31435
                  },
                  {
                    "country": "Slovenia",
                    "continent": "Europe",
                    "year": "1952-01-01",
                    "life_expectancy": 65.57,
                    "population": 1489518,
                    "gdp_per_capita": 4215.041741
                  },
                  {
                    "country": "Slovenia",
                    "continent": "Europe",
                    "year": "1957-01-01",
                    "life_expectancy": 67.85,
                    "population": 1533070,
                    "gdp_per_capita": 5862.276629
                  },
                  {
                    "country": "Slovenia",
                    "continent": "Europe",
                    "year": "1962-01-01",
                    "life_expectancy": 69.15,
                    "population": 1582962,
                    "gdp_per_capita": 7402.303395
                  },
                  {
                    "country": "Slovenia",
                    "continent": "Europe",
                    "year": "1967-01-01",
                    "life_expectancy": 69.18,
                    "population": 1646912,
                    "gdp_per_capita": 9405.489397
                  },
                  {
                    "country": "Slovenia",
                    "continent": "Europe",
                    "year": "1972-01-01",
                    "life_expectancy": 69.82,
                    "population": 1694510,
                    "gdp_per_capita": 12383.4862
                  },
                  {
                    "country": "Slovenia",
                    "continent": "Europe",
                    "year": "1977-01-01",
                    "life_expectancy": 70.97,
                    "population": 1746919,
                    "gdp_per_capita": 15277.03017
                  },
                  {
                    "country": "Slovenia",
                    "continent": "Europe",
                    "year": "1982-01-01",
                    "life_expectancy": 71.063,
                    "population": 1861252,
                    "gdp_per_capita": 17866.72175
                  },
                  {
                    "country": "Slovenia",
                    "continent": "Europe",
                    "year": "1987-01-01",
                    "life_expectancy": 72.25,
                    "population": 1945870,
                    "gdp_per_capita": 18678.53492
                  },
                  {
                    "country": "Slovenia",
                    "continent": "Europe",
                    "year": "1992-01-01",
                    "life_expectancy": 73.64,
                    "population": 1999210,
                    "gdp_per_capita": 14214.71681
                  },
                  {
                    "country": "Slovenia",
                    "continent": "Europe",
                    "year": "1997-01-01",
                    "life_expectancy": 75.13,
                    "population": 2011612,
                    "gdp_per_capita": 17161.10735
                  },
                  {
                    "country": "Slovenia",
                    "continent": "Europe",
                    "year": "2002-01-01",
                    "life_expectancy": 76.66,
                    "population": 2011497,
                    "gdp_per_capita": 20660.01936
                  },
                  {
                    "country": "Slovenia",
                    "continent": "Europe",
                    "year": "2007-01-01",
                    "life_expectancy": 77.926,
                    "population": 2009245,
                    "gdp_per_capita": 25768.25759
                  },
                  {
                    "country": "Somalia",
                    "continent": "Africa",
                    "year": "1952-01-01",
                    "life_expectancy": 32.978,
                    "population": 2526994,
                    "gdp_per_capita": 1135.749842
                  },
                  {
                    "country": "Somalia",
                    "continent": "Africa",
                    "year": "1957-01-01",
                    "life_expectancy": 34.977,
                    "population": 2780415,
                    "gdp_per_capita": 1258.147413
                  },
                  {
                    "country": "Somalia",
                    "continent": "Africa",
                    "year": "1962-01-01",
                    "life_expectancy": 36.981,
                    "population": 3080153,
                    "gdp_per_capita": 1369.488336
                  },
                  {
                    "country": "Somalia",
                    "continent": "Africa",
                    "year": "1967-01-01",
                    "life_expectancy": 38.977,
                    "population": 3428839,
                    "gdp_per_capita": 1284.73318
                  },
                  {
                    "country": "Somalia",
                    "continent": "Africa",
                    "year": "1972-01-01",
                    "life_expectancy": 40.973,
                    "population": 3840161,
                    "gdp_per_capita": 1254.576127
                  },
                  {
                    "country": "Somalia",
                    "continent": "Africa",
                    "year": "1977-01-01",
                    "life_expectancy": 41.974,
                    "population": 4353666,
                    "gdp_per_capita": 1450.992513
                  },
                  {
                    "country": "Somalia",
                    "continent": "Africa",
                    "year": "1982-01-01",
                    "life_expectancy": 42.955,
                    "population": 5828892,
                    "gdp_per_capita": 1176.807031
                  },
                  {
                    "country": "Somalia",
                    "continent": "Africa",
                    "year": "1987-01-01",
                    "life_expectancy": 44.501,
                    "population": 6921858,
                    "gdp_per_capita": 1093.244963
                  },
                  {
                    "country": "Somalia",
                    "continent": "Africa",
                    "year": "1992-01-01",
                    "life_expectancy": 39.658,
                    "population": 6099799,
                    "gdp_per_capita": 926.9602964
                  },
                  {
                    "country": "Somalia",
                    "continent": "Africa",
                    "year": "1997-01-01",
                    "life_expectancy": 43.795,
                    "population": 6633514,
                    "gdp_per_capita": 930.5964284
                  },
                  {
                    "country": "Somalia",
                    "continent": "Africa",
                    "year": "2002-01-01",
                    "life_expectancy": 45.936,
                    "population": 7753310,
                    "gdp_per_capita": 882.0818218
                  },
                  {
                    "country": "Somalia",
                    "continent": "Africa",
                    "year": "2007-01-01",
                    "life_expectancy": 48.159,
                    "population": 9118773,
                    "gdp_per_capita": 926.1410683
                  },
                  {
                    "country": "South Africa",
                    "continent": "Africa",
                    "year": "1952-01-01",
                    "life_expectancy": 45.009,
                    "population": 14264935,
                    "gdp_per_capita": 4725.295531
                  },
                  {
                    "country": "South Africa",
                    "continent": "Africa",
                    "year": "1957-01-01",
                    "life_expectancy": 47.985,
                    "population": 16151549,
                    "gdp_per_capita": 5487.104219
                  },
                  {
                    "country": "South Africa",
                    "continent": "Africa",
                    "year": "1962-01-01",
                    "life_expectancy": 49.951,
                    "population": 18356657,
                    "gdp_per_capita": 5768.729717
                  },
                  {
                    "country": "South Africa",
                    "continent": "Africa",
                    "year": "1967-01-01",
                    "life_expectancy": 51.927,
                    "population": 20997321,
                    "gdp_per_capita": 7114.477971
                  },
                  {
                    "country": "South Africa",
                    "continent": "Africa",
                    "year": "1972-01-01",
                    "life_expectancy": 53.696,
                    "population": 23935810,
                    "gdp_per_capita": 7765.962636
                  },
                  {
                    "country": "South Africa",
                    "continent": "Africa",
                    "year": "1977-01-01",
                    "life_expectancy": 55.527,
                    "population": 27129932,
                    "gdp_per_capita": 8028.651439
                  },
                  {
                    "country": "South Africa",
                    "continent": "Africa",
                    "year": "1982-01-01",
                    "life_expectancy": 58.161,
                    "population": 31140029,
                    "gdp_per_capita": 8568.266228
                  },
                  {
                    "country": "South Africa",
                    "continent": "Africa",
                    "year": "1987-01-01",
                    "life_expectancy": 60.834,
                    "population": 35933379,
                    "gdp_per_capita": 7825.823398
                  },
                  {
                    "country": "South Africa",
                    "continent": "Africa",
                    "year": "1992-01-01",
                    "life_expectancy": 61.888,
                    "population": 39964159,
                    "gdp_per_capita": 7225.069258
                  },
                  {
                    "country": "South Africa",
                    "continent": "Africa",
                    "year": "1997-01-01",
                    "life_expectancy": 60.236,
                    "population": 42835005,
                    "gdp_per_capita": 7479.188244
                  },
                  {
                    "country": "South Africa",
                    "continent": "Africa",
                    "year": "2002-01-01",
                    "life_expectancy": 53.365,
                    "population": 44433622,
                    "gdp_per_capita": 7710.946444
                  },
                  {
                    "country": "South Africa",
                    "continent": "Africa",
                    "year": "2007-01-01",
                    "life_expectancy": 49.339,
                    "population": 43997828,
                    "gdp_per_capita": 9269.657808
                  },
                  {
                    "country": "Spain",
                    "continent": "Europe",
                    "year": "1952-01-01",
                    "life_expectancy": 64.94,
                    "population": 28549870,
                    "gdp_per_capita": 3834.034742
                  },
                  {
                    "country": "Spain",
                    "continent": "Europe",
                    "year": "1957-01-01",
                    "life_expectancy": 66.66,
                    "population": 29841614,
                    "gdp_per_capita": 4564.80241
                  },
                  {
                    "country": "Spain",
                    "continent": "Europe",
                    "year": "1962-01-01",
                    "life_expectancy": 69.69,
                    "population": 31158061,
                    "gdp_per_capita": 5693.843879
                  },
                  {
                    "country": "Spain",
                    "continent": "Europe",
                    "year": "1967-01-01",
                    "life_expectancy": 71.44,
                    "population": 32850275,
                    "gdp_per_capita": 7993.512294
                  },
                  {
                    "country": "Spain",
                    "continent": "Europe",
                    "year": "1972-01-01",
                    "life_expectancy": 73.06,
                    "population": 34513161,
                    "gdp_per_capita": 10638.75131
                  },
                  {
                    "country": "Spain",
                    "continent": "Europe",
                    "year": "1977-01-01",
                    "life_expectancy": 74.39,
                    "population": 36439000,
                    "gdp_per_capita": 13236.92117
                  },
                  {
                    "country": "Spain",
                    "continent": "Europe",
                    "year": "1982-01-01",
                    "life_expectancy": 76.3,
                    "population": 37983310,
                    "gdp_per_capita": 13926.16997
                  },
                  {
                    "country": "Spain",
                    "continent": "Europe",
                    "year": "1987-01-01",
                    "life_expectancy": 76.9,
                    "population": 38880702,
                    "gdp_per_capita": 15764.98313
                  },
                  {
                    "country": "Spain",
                    "continent": "Europe",
                    "year": "1992-01-01",
                    "life_expectancy": 77.57,
                    "population": 39549438,
                    "gdp_per_capita": 18603.06452
                  },
                  {
                    "country": "Spain",
                    "continent": "Europe",
                    "year": "1997-01-01",
                    "life_expectancy": 78.77,
                    "population": 39855442,
                    "gdp_per_capita": 20445.29896
                  },
                  {
                    "country": "Spain",
                    "continent": "Europe",
                    "year": "2002-01-01",
                    "life_expectancy": 79.78,
                    "population": 40152517,
                    "gdp_per_capita": 24835.47166
                  },
                  {
                    "country": "Spain",
                    "continent": "Europe",
                    "year": "2007-01-01",
                    "life_expectancy": 80.941,
                    "population": 40448191,
                    "gdp_per_capita": 28821.0637
                  },
                  {
                    "country": "Sri Lanka",
                    "continent": "Asia",
                    "year": "1952-01-01",
                    "life_expectancy": 57.593,
                    "population": 7982342,
                    "gdp_per_capita": 1083.53203
                  },
                  {
                    "country": "Sri Lanka",
                    "continent": "Asia",
                    "year": "1957-01-01",
                    "life_expectancy": 61.456,
                    "population": 9128546,
                    "gdp_per_capita": 1072.546602
                  },
                  {
                    "country": "Sri Lanka",
                    "continent": "Asia",
                    "year": "1962-01-01",
                    "life_expectancy": 62.192,
                    "population": 10421936,
                    "gdp_per_capita": 1074.47196
                  },
                  {
                    "country": "Sri Lanka",
                    "continent": "Asia",
                    "year": "1967-01-01",
                    "life_expectancy": 64.266,
                    "population": 11737396,
                    "gdp_per_capita": 1135.514326
                  },
                  {
                    "country": "Sri Lanka",
                    "continent": "Asia",
                    "year": "1972-01-01",
                    "life_expectancy": 65.042,
                    "population": 13016733,
                    "gdp_per_capita": 1213.39553
                  },
                  {
                    "country": "Sri Lanka",
                    "continent": "Asia",
                    "year": "1977-01-01",
                    "life_expectancy": 65.949,
                    "population": 14116836,
                    "gdp_per_capita": 1348.775651
                  },
                  {
                    "country": "Sri Lanka",
                    "continent": "Asia",
                    "year": "1982-01-01",
                    "life_expectancy": 68.757,
                    "population": 15410151,
                    "gdp_per_capita": 1648.079789
                  },
                  {
                    "country": "Sri Lanka",
                    "continent": "Asia",
                    "year": "1987-01-01",
                    "life_expectancy": 69.011,
                    "population": 16495304,
                    "gdp_per_capita": 1876.766827
                  },
                  {
                    "country": "Sri Lanka",
                    "continent": "Asia",
                    "year": "1992-01-01",
                    "life_expectancy": 70.379,
                    "population": 17587060,
                    "gdp_per_capita": 2153.739222
                  },
                  {
                    "country": "Sri Lanka",
                    "continent": "Asia",
                    "year": "1997-01-01",
                    "life_expectancy": 70.457,
                    "population": 18698655,
                    "gdp_per_capita": 2664.477257
                  },
                  {
                    "country": "Sri Lanka",
                    "continent": "Asia",
                    "year": "2002-01-01",
                    "life_expectancy": 70.815,
                    "population": 19576783,
                    "gdp_per_capita": 3015.378833
                  },
                  {
                    "country": "Sri Lanka",
                    "continent": "Asia",
                    "year": "2007-01-01",
                    "life_expectancy": 72.396,
                    "population": 20378239,
                    "gdp_per_capita": 3970.095407
                  },
                  {
                    "country": "Sudan",
                    "continent": "Africa",
                    "year": "1952-01-01",
                    "life_expectancy": 38.635,
                    "population": 8504667,
                    "gdp_per_capita": 1615.991129
                  },
                  {
                    "country": "Sudan",
                    "continent": "Africa",
                    "year": "1957-01-01",
                    "life_expectancy": 39.624,
                    "population": 9753392,
                    "gdp_per_capita": 1770.337074
                  },
                  {
                    "country": "Sudan",
                    "continent": "Africa",
                    "year": "1962-01-01",
                    "life_expectancy": 40.87,
                    "population": 11183227,
                    "gdp_per_capita": 1959.593767
                  },
                  {
                    "country": "Sudan",
                    "continent": "Africa",
                    "year": "1967-01-01",
                    "life_expectancy": 42.858,
                    "population": 12716129,
                    "gdp_per_capita": 1687.997641
                  },
                  {
                    "country": "Sudan",
                    "continent": "Africa",
                    "year": "1972-01-01",
                    "life_expectancy": 45.083,
                    "population": 14597019,
                    "gdp_per_capita": 1659.652775
                  },
                  {
                    "country": "Sudan",
                    "continent": "Africa",
                    "year": "1977-01-01",
                    "life_expectancy": 47.8,
                    "population": 17104986,
                    "gdp_per_capita": 2202.988423
                  },
                  {
                    "country": "Sudan",
                    "continent": "Africa",
                    "year": "1982-01-01",
                    "life_expectancy": 50.338,
                    "population": 20367053,
                    "gdp_per_capita": 1895.544073
                  },
                  {
                    "country": "Sudan",
                    "continent": "Africa",
                    "year": "1987-01-01",
                    "life_expectancy": 51.744,
                    "population": 24725960,
                    "gdp_per_capita": 1507.819159
                  },
                  {
                    "country": "Sudan",
                    "continent": "Africa",
                    "year": "1992-01-01",
                    "life_expectancy": 53.556,
                    "population": 28227588,
                    "gdp_per_capita": 1492.197043
                  },
                  {
                    "country": "Sudan",
                    "continent": "Africa",
                    "year": "1997-01-01",
                    "life_expectancy": 55.373,
                    "population": 32160729,
                    "gdp_per_capita": 1632.210764
                  },
                  {
                    "country": "Sudan",
                    "continent": "Africa",
                    "year": "2002-01-01",
                    "life_expectancy": 56.369,
                    "population": 37090298,
                    "gdp_per_capita": 1993.398314
                  },
                  {
                    "country": "Sudan",
                    "continent": "Africa",
                    "year": "2007-01-01",
                    "life_expectancy": 58.556,
                    "population": 42292929,
                    "gdp_per_capita": 2602.394995
                  },
                  {
                    "country": "Swaziland",
                    "continent": "Africa",
                    "year": "1952-01-01",
                    "life_expectancy": 41.407,
                    "population": 290243,
                    "gdp_per_capita": 1148.376626
                  },
                  {
                    "country": "Swaziland",
                    "continent": "Africa",
                    "year": "1957-01-01",
                    "life_expectancy": 43.424,
                    "population": 326741,
                    "gdp_per_capita": 1244.708364
                  },
                  {
                    "country": "Swaziland",
                    "continent": "Africa",
                    "year": "1962-01-01",
                    "life_expectancy": 44.992,
                    "population": 370006,
                    "gdp_per_capita": 1856.182125
                  },
                  {
                    "country": "Swaziland",
                    "continent": "Africa",
                    "year": "1967-01-01",
                    "life_expectancy": 46.633,
                    "population": 420690,
                    "gdp_per_capita": 2613.101665
                  },
                  {
                    "country": "Swaziland",
                    "continent": "Africa",
                    "year": "1972-01-01",
                    "life_expectancy": 49.552,
                    "population": 480105,
                    "gdp_per_capita": 3364.836625
                  },
                  {
                    "country": "Swaziland",
                    "continent": "Africa",
                    "year": "1977-01-01",
                    "life_expectancy": 52.537,
                    "population": 551425,
                    "gdp_per_capita": 3781.410618
                  },
                  {
                    "country": "Swaziland",
                    "continent": "Africa",
                    "year": "1982-01-01",
                    "life_expectancy": 55.561,
                    "population": 649901,
                    "gdp_per_capita": 3895.384018
                  },
                  {
                    "country": "Swaziland",
                    "continent": "Africa",
                    "year": "1987-01-01",
                    "life_expectancy": 57.678,
                    "population": 779348,
                    "gdp_per_capita": 3984.839812
                  },
                  {
                    "country": "Swaziland",
                    "continent": "Africa",
                    "year": "1992-01-01",
                    "life_expectancy": 58.474,
                    "population": 962344,
                    "gdp_per_capita": 3553.0224
                  },
                  {
                    "country": "Swaziland",
                    "continent": "Africa",
                    "year": "1997-01-01",
                    "life_expectancy": 54.289,
                    "population": 1054486,
                    "gdp_per_capita": 3876.76846
                  },
                  {
                    "country": "Swaziland",
                    "continent": "Africa",
                    "year": "2002-01-01",
                    "life_expectancy": 43.869,
                    "population": 1130269,
                    "gdp_per_capita": 4128.116943
                  },
                  {
                    "country": "Swaziland",
                    "continent": "Africa",
                    "year": "2007-01-01",
                    "life_expectancy": 39.613,
                    "population": 1133066,
                    "gdp_per_capita": 4513.480643
                  },
                  {
                    "country": "Sweden",
                    "continent": "Europe",
                    "year": "1952-01-01",
                    "life_expectancy": 71.86,
                    "population": 7124673,
                    "gdp_per_capita": 8527.844662
                  },
                  {
                    "country": "Sweden",
                    "continent": "Europe",
                    "year": "1957-01-01",
                    "life_expectancy": 72.49,
                    "population": 7363802,
                    "gdp_per_capita": 9911.878226
                  },
                  {
                    "country": "Sweden",
                    "continent": "Europe",
                    "year": "1962-01-01",
                    "life_expectancy": 73.37,
                    "population": 7561588,
                    "gdp_per_capita": 12329.44192
                  },
                  {
                    "country": "Sweden",
                    "continent": "Europe",
                    "year": "1967-01-01",
                    "life_expectancy": 74.16,
                    "population": 7867931,
                    "gdp_per_capita": 15258.29697
                  },
                  {
                    "country": "Sweden",
                    "continent": "Europe",
                    "year": "1972-01-01",
                    "life_expectancy": 74.72,
                    "population": 8122293,
                    "gdp_per_capita": 17832.02464
                  },
                  {
                    "country": "Sweden",
                    "continent": "Europe",
                    "year": "1977-01-01",
                    "life_expectancy": 75.44,
                    "population": 8251648,
                    "gdp_per_capita": 18855.72521
                  },
                  {
                    "country": "Sweden",
                    "continent": "Europe",
                    "year": "1982-01-01",
                    "life_expectancy": 76.42,
                    "population": 8325260,
                    "gdp_per_capita": 20667.38125
                  },
                  {
                    "country": "Sweden",
                    "continent": "Europe",
                    "year": "1987-01-01",
                    "life_expectancy": 77.19,
                    "population": 8421403,
                    "gdp_per_capita": 23586.92927
                  },
                  {
                    "country": "Sweden",
                    "continent": "Europe",
                    "year": "1992-01-01",
                    "life_expectancy": 78.16,
                    "population": 8718867,
                    "gdp_per_capita": 23880.01683
                  },
                  {
                    "country": "Sweden",
                    "continent": "Europe",
                    "year": "1997-01-01",
                    "life_expectancy": 79.39,
                    "population": 8897619,
                    "gdp_per_capita": 25266.59499
                  },
                  {
                    "country": "Sweden",
                    "continent": "Europe",
                    "year": "2002-01-01",
                    "life_expectancy": 80.04,
                    "population": 8954175,
                    "gdp_per_capita": 29341.63093
                  },
                  {
                    "country": "Sweden",
                    "continent": "Europe",
                    "year": "2007-01-01",
                    "life_expectancy": 80.884,
                    "population": 9031088,
                    "gdp_per_capita": 33859.74835
                  },
                  {
                    "country": "Switzerland",
                    "continent": "Europe",
                    "year": "1952-01-01",
                    "life_expectancy": 69.62,
                    "population": 4815000,
                    "gdp_per_capita": 14734.23275
                  },
                  {
                    "country": "Switzerland",
                    "continent": "Europe",
                    "year": "1957-01-01",
                    "life_expectancy": 70.56,
                    "population": 5126000,
                    "gdp_per_capita": 17909.48973
                  },
                  {
                    "country": "Switzerland",
                    "continent": "Europe",
                    "year": "1962-01-01",
                    "life_expectancy": 71.32,
                    "population": 5666000,
                    "gdp_per_capita": 20431.0927
                  },
                  {
                    "country": "Switzerland",
                    "continent": "Europe",
                    "year": "1967-01-01",
                    "life_expectancy": 72.77,
                    "population": 6063000,
                    "gdp_per_capita": 22966.14432
                  },
                  {
                    "country": "Switzerland",
                    "continent": "Europe",
                    "year": "1972-01-01",
                    "life_expectancy": 73.78,
                    "population": 6401400,
                    "gdp_per_capita": 27195.11304
                  },
                  {
                    "country": "Switzerland",
                    "continent": "Europe",
                    "year": "1977-01-01",
                    "life_expectancy": 75.39,
                    "population": 6316424,
                    "gdp_per_capita": 26982.29052
                  },
                  {
                    "country": "Switzerland",
                    "continent": "Europe",
                    "year": "1982-01-01",
                    "life_expectancy": 76.21,
                    "population": 6468126,
                    "gdp_per_capita": 28397.71512
                  },
                  {
                    "country": "Switzerland",
                    "continent": "Europe",
                    "year": "1987-01-01",
                    "life_expectancy": 77.41,
                    "population": 6649942,
                    "gdp_per_capita": 30281.70459
                  },
                  {
                    "country": "Switzerland",
                    "continent": "Europe",
                    "year": "1992-01-01",
                    "life_expectancy": 78.03,
                    "population": 6995447,
                    "gdp_per_capita": 31871.5303
                  },
                  {
                    "country": "Switzerland",
                    "continent": "Europe",
                    "year": "1997-01-01",
                    "life_expectancy": 79.37,
                    "population": 7193761,
                    "gdp_per_capita": 32135.32301
                  },
                  {
                    "country": "Switzerland",
                    "continent": "Europe",
                    "year": "2002-01-01",
                    "life_expectancy": 80.62,
                    "population": 7361757,
                    "gdp_per_capita": 34480.95771
                  },
                  {
                    "country": "Switzerland",
                    "continent": "Europe",
                    "year": "2007-01-01",
                    "life_expectancy": 81.701,
                    "population": 7554661,
                    "gdp_per_capita": 37506.41907
                  },
                  {
                    "country": "Syria",
                    "continent": "Asia",
                    "year": "1952-01-01",
                    "life_expectancy": 45.883,
                    "population": 3661549,
                    "gdp_per_capita": 1643.485354
                  },
                  {
                    "country": "Syria",
                    "continent": "Asia",
                    "year": "1957-01-01",
                    "life_expectancy": 48.284,
                    "population": 4149908,
                    "gdp_per_capita": 2117.234893
                  },
                  {
                    "country": "Syria",
                    "continent": "Asia",
                    "year": "1962-01-01",
                    "life_expectancy": 50.305,
                    "population": 4834621,
                    "gdp_per_capita": 2193.037133
                  },
                  {
                    "country": "Syria",
                    "continent": "Asia",
                    "year": "1967-01-01",
                    "life_expectancy": 53.655,
                    "population": 5680812,
                    "gdp_per_capita": 1881.923632
                  },
                  {
                    "country": "Syria",
                    "continent": "Asia",
                    "year": "1972-01-01",
                    "life_expectancy": 57.296,
                    "population": 6701172,
                    "gdp_per_capita": 2571.423014
                  },
                  {
                    "country": "Syria",
                    "continent": "Asia",
                    "year": "1977-01-01",
                    "life_expectancy": 61.195,
                    "population": 7932503,
                    "gdp_per_capita": 3195.484582
                  },
                  {
                    "country": "Syria",
                    "continent": "Asia",
                    "year": "1982-01-01",
                    "life_expectancy": 64.59,
                    "population": 9410494,
                    "gdp_per_capita": 3761.837715
                  },
                  {
                    "country": "Syria",
                    "continent": "Asia",
                    "year": "1987-01-01",
                    "life_expectancy": 66.974,
                    "population": 11242847,
                    "gdp_per_capita": 3116.774285
                  },
                  {
                    "country": "Syria",
                    "continent": "Asia",
                    "year": "1992-01-01",
                    "life_expectancy": 69.249,
                    "population": 13219062,
                    "gdp_per_capita": 3340.542768
                  },
                  {
                    "country": "Syria",
                    "continent": "Asia",
                    "year": "1997-01-01",
                    "life_expectancy": 71.527,
                    "population": 15081016,
                    "gdp_per_capita": 4014.238972
                  },
                  {
                    "country": "Syria",
                    "continent": "Asia",
                    "year": "2002-01-01",
                    "life_expectancy": 73.053,
                    "population": 17155814,
                    "gdp_per_capita": 4090.925331
                  },
                  {
                    "country": "Syria",
                    "continent": "Asia",
                    "year": "2007-01-01",
                    "life_expectancy": 74.143,
                    "population": 19314747,
                    "gdp_per_capita": 4184.548089
                  },
                  {
                    "country": "Taiwan",
                    "continent": "Asia",
                    "year": "1952-01-01",
                    "life_expectancy": 58.5,
                    "population": 8550362,
                    "gdp_per_capita": 1206.947913
                  },
                  {
                    "country": "Taiwan",
                    "continent": "Asia",
                    "year": "1957-01-01",
                    "life_expectancy": 62.4,
                    "population": 10164215,
                    "gdp_per_capita": 1507.86129
                  },
                  {
                    "country": "Taiwan",
                    "continent": "Asia",
                    "year": "1962-01-01",
                    "life_expectancy": 65.2,
                    "population": 11918938,
                    "gdp_per_capita": 1822.879028
                  },
                  {
                    "country": "Taiwan",
                    "continent": "Asia",
                    "year": "1967-01-01",
                    "life_expectancy": 67.5,
                    "population": 13648692,
                    "gdp_per_capita": 2643.858681
                  },
                  {
                    "country": "Taiwan",
                    "continent": "Asia",
                    "year": "1972-01-01",
                    "life_expectancy": 69.39,
                    "population": 15226039,
                    "gdp_per_capita": 4062.523897
                  },
                  {
                    "country": "Taiwan",
                    "continent": "Asia",
                    "year": "1977-01-01",
                    "life_expectancy": 70.59,
                    "population": 16785196,
                    "gdp_per_capita": 5596.519826
                  },
                  {
                    "country": "Taiwan",
                    "continent": "Asia",
                    "year": "1982-01-01",
                    "life_expectancy": 72.16,
                    "population": 18501390,
                    "gdp_per_capita": 7426.354774
                  },
                  {
                    "country": "Taiwan",
                    "continent": "Asia",
                    "year": "1987-01-01",
                    "life_expectancy": 73.4,
                    "population": 19757799,
                    "gdp_per_capita": 11054.56175
                  },
                  {
                    "country": "Taiwan",
                    "continent": "Asia",
                    "year": "1992-01-01",
                    "life_expectancy": 74.26,
                    "population": 20686918,
                    "gdp_per_capita": 15215.6579
                  },
                  {
                    "country": "Taiwan",
                    "continent": "Asia",
                    "year": "1997-01-01",
                    "life_expectancy": 75.25,
                    "population": 21628605,
                    "gdp_per_capita": 20206.82098
                  },
                  {
                    "country": "Taiwan",
                    "continent": "Asia",
                    "year": "2002-01-01",
                    "life_expectancy": 76.99,
                    "population": 22454239,
                    "gdp_per_capita": 23235.42329
                  },
                  {
                    "country": "Taiwan",
                    "continent": "Asia",
                    "year": "2007-01-01",
                    "life_expectancy": 78.4,
                    "population": 23174294,
                    "gdp_per_capita": 28718.27684
                  },
                  {
                    "country": "Tanzania",
                    "continent": "Africa",
                    "year": "1952-01-01",
                    "life_expectancy": 41.215,
                    "population": 8322925,
                    "gdp_per_capita": 716.6500721
                  },
                  {
                    "country": "Tanzania",
                    "continent": "Africa",
                    "year": "1957-01-01",
                    "life_expectancy": 42.974,
                    "population": 9452826,
                    "gdp_per_capita": 698.5356073
                  },
                  {
                    "country": "Tanzania",
                    "continent": "Africa",
                    "year": "1962-01-01",
                    "life_expectancy": 44.246,
                    "population": 10863958,
                    "gdp_per_capita": 722.0038073
                  },
                  {
                    "country": "Tanzania",
                    "continent": "Africa",
                    "year": "1967-01-01",
                    "life_expectancy": 45.757,
                    "population": 12607312,
                    "gdp_per_capita": 848.2186575
                  },
                  {
                    "country": "Tanzania",
                    "continent": "Africa",
                    "year": "1972-01-01",
                    "life_expectancy": 47.62,
                    "population": 14706593,
                    "gdp_per_capita": 915.9850592
                  },
                  {
                    "country": "Tanzania",
                    "continent": "Africa",
                    "year": "1977-01-01",
                    "life_expectancy": 49.919,
                    "population": 17129565,
                    "gdp_per_capita": 962.4922932
                  },
                  {
                    "country": "Tanzania",
                    "continent": "Africa",
                    "year": "1982-01-01",
                    "life_expectancy": 50.608,
                    "population": 19844382,
                    "gdp_per_capita": 874.2426069
                  },
                  {
                    "country": "Tanzania",
                    "continent": "Africa",
                    "year": "1987-01-01",
                    "life_expectancy": 51.535,
                    "population": 23040630,
                    "gdp_per_capita": 831.8220794
                  },
                  {
                    "country": "Tanzania",
                    "continent": "Africa",
                    "year": "1992-01-01",
                    "life_expectancy": 50.44,
                    "population": 26605473,
                    "gdp_per_capita": 825.682454
                  },
                  {
                    "country": "Tanzania",
                    "continent": "Africa",
                    "year": "1997-01-01",
                    "life_expectancy": 48.466,
                    "population": 30686889,
                    "gdp_per_capita": 789.1862231
                  },
                  {
                    "country": "Tanzania",
                    "continent": "Africa",
                    "year": "2002-01-01",
                    "life_expectancy": 49.651,
                    "population": 34593779,
                    "gdp_per_capita": 899.0742111
                  },
                  {
                    "country": "Tanzania",
                    "continent": "Africa",
                    "year": "2007-01-01",
                    "life_expectancy": 52.517,
                    "population": 38139640,
                    "gdp_per_capita": 1107.482182
                  },
                  {
                    "country": "Thailand",
                    "continent": "Asia",
                    "year": "1952-01-01",
                    "life_expectancy": 50.848,
                    "population": 21289402,
                    "gdp_per_capita": 757.7974177
                  },
                  {
                    "country": "Thailand",
                    "continent": "Asia",
                    "year": "1957-01-01",
                    "life_expectancy": 53.63,
                    "population": 25041917,
                    "gdp_per_capita": 793.5774148
                  },
                  {
                    "country": "Thailand",
                    "continent": "Asia",
                    "year": "1962-01-01",
                    "life_expectancy": 56.061,
                    "population": 29263397,
                    "gdp_per_capita": 1002.199172
                  },
                  {
                    "country": "Thailand",
                    "continent": "Asia",
                    "year": "1967-01-01",
                    "life_expectancy": 58.285,
                    "population": 34024249,
                    "gdp_per_capita": 1295.46066
                  },
                  {
                    "country": "Thailand",
                    "continent": "Asia",
                    "year": "1972-01-01",
                    "life_expectancy": 60.405,
                    "population": 39276153,
                    "gdp_per_capita": 1524.358936
                  },
                  {
                    "country": "Thailand",
                    "continent": "Asia",
                    "year": "1977-01-01",
                    "life_expectancy": 62.494,
                    "population": 44148285,
                    "gdp_per_capita": 1961.224635
                  },
                  {
                    "country": "Thailand",
                    "continent": "Asia",
                    "year": "1982-01-01",
                    "life_expectancy": 64.597,
                    "population": 48827160,
                    "gdp_per_capita": 2393.219781
                  },
                  {
                    "country": "Thailand",
                    "continent": "Asia",
                    "year": "1987-01-01",
                    "life_expectancy": 66.084,
                    "population": 52910342,
                    "gdp_per_capita": 2982.653773
                  },
                  {
                    "country": "Thailand",
                    "continent": "Asia",
                    "year": "1992-01-01",
                    "life_expectancy": 67.298,
                    "population": 56667095,
                    "gdp_per_capita": 4616.896545
                  },
                  {
                    "country": "Thailand",
                    "continent": "Asia",
                    "year": "1997-01-01",
                    "life_expectancy": 67.521,
                    "population": 60216677,
                    "gdp_per_capita": 5852.625497
                  },
                  {
                    "country": "Thailand",
                    "continent": "Asia",
                    "year": "2002-01-01",
                    "life_expectancy": 68.564,
                    "population": 62806748,
                    "gdp_per_capita": 5913.187529
                  },
                  {
                    "country": "Thailand",
                    "continent": "Asia",
                    "year": "2007-01-01",
                    "life_expectancy": 70.616,
                    "population": 65068149,
                    "gdp_per_capita": 7458.396327
                  },
                  {
                    "country": "Togo",
                    "continent": "Africa",
                    "year": "1952-01-01",
                    "life_expectancy": 38.596,
                    "population": 1219113,
                    "gdp_per_capita": 859.8086567
                  },
                  {
                    "country": "Togo",
                    "continent": "Africa",
                    "year": "1957-01-01",
                    "life_expectancy": 41.208,
                    "population": 1357445,
                    "gdp_per_capita": 925.9083202
                  },
                  {
                    "country": "Togo",
                    "continent": "Africa",
                    "year": "1962-01-01",
                    "life_expectancy": 43.922,
                    "population": 1528098,
                    "gdp_per_capita": 1067.53481
                  },
                  {
                    "country": "Togo",
                    "continent": "Africa",
                    "year": "1967-01-01",
                    "life_expectancy": 46.769,
                    "population": 1735550,
                    "gdp_per_capita": 1477.59676
                  },
                  {
                    "country": "Togo",
                    "continent": "Africa",
                    "year": "1972-01-01",
                    "life_expectancy": 49.759,
                    "population": 2056351,
                    "gdp_per_capita": 1649.660188
                  },
                  {
                    "country": "Togo",
                    "continent": "Africa",
                    "year": "1977-01-01",
                    "life_expectancy": 52.887,
                    "population": 2308582,
                    "gdp_per_capita": 1532.776998
                  },
                  {
                    "country": "Togo",
                    "continent": "Africa",
                    "year": "1982-01-01",
                    "life_expectancy": 55.471,
                    "population": 2644765,
                    "gdp_per_capita": 1344.577953
                  },
                  {
                    "country": "Togo",
                    "continent": "Africa",
                    "year": "1987-01-01",
                    "life_expectancy": 56.941,
                    "population": 3154264,
                    "gdp_per_capita": 1202.201361
                  },
                  {
                    "country": "Togo",
                    "continent": "Africa",
                    "year": "1992-01-01",
                    "life_expectancy": 58.061,
                    "population": 3747553,
                    "gdp_per_capita": 1034.298904
                  },
                  {
                    "country": "Togo",
                    "continent": "Africa",
                    "year": "1997-01-01",
                    "life_expectancy": 58.39,
                    "population": 4320890,
                    "gdp_per_capita": 982.2869243
                  },
                  {
                    "country": "Togo",
                    "continent": "Africa",
                    "year": "2002-01-01",
                    "life_expectancy": 57.561,
                    "population": 4977378,
                    "gdp_per_capita": 886.2205765
                  },
                  {
                    "country": "Togo",
                    "continent": "Africa",
                    "year": "2007-01-01",
                    "life_expectancy": 58.42,
                    "population": 5701579,
                    "gdp_per_capita": 882.9699438
                  },
                  {
                    "country": "Trinidad and Tobago",
                    "continent": "Americas",
                    "year": "1952-01-01",
                    "life_expectancy": 59.1,
                    "population": 662850,
                    "gdp_per_capita": 3023.271928
                  },
                  {
                    "country": "Trinidad and Tobago",
                    "continent": "Americas",
                    "year": "1957-01-01",
                    "life_expectancy": 61.8,
                    "population": 764900,
                    "gdp_per_capita": 4100.3934
                  },
                  {
                    "country": "Trinidad and Tobago",
                    "continent": "Americas",
                    "year": "1962-01-01",
                    "life_expectancy": 64.9,
                    "population": 887498,
                    "gdp_per_capita": 4997.523971
                  },
                  {
                    "country": "Trinidad and Tobago",
                    "continent": "Americas",
                    "year": "1967-01-01",
                    "life_expectancy": 65.4,
                    "population": 960155,
                    "gdp_per_capita": 5621.368472
                  },
                  {
                    "country": "Trinidad and Tobago",
                    "continent": "Americas",
                    "year": "1972-01-01",
                    "life_expectancy": 65.9,
                    "population": 975199,
                    "gdp_per_capita": 6619.551419
                  },
                  {
                    "country": "Trinidad and Tobago",
                    "continent": "Americas",
                    "year": "1977-01-01",
                    "life_expectancy": 68.3,
                    "population": 1039009,
                    "gdp_per_capita": 7899.554209
                  },
                  {
                    "country": "Trinidad and Tobago",
                    "continent": "Americas",
                    "year": "1982-01-01",
                    "life_expectancy": 68.832,
                    "population": 1116479,
                    "gdp_per_capita": 9119.528607
                  },
                  {
                    "country": "Trinidad and Tobago",
                    "continent": "Americas",
                    "year": "1987-01-01",
                    "life_expectancy": 69.582,
                    "population": 1191336,
                    "gdp_per_capita": 7388.597823
                  },
                  {
                    "country": "Trinidad and Tobago",
                    "continent": "Americas",
                    "year": "1992-01-01",
                    "life_expectancy": 69.862,
                    "population": 1183669,
                    "gdp_per_capita": 7370.990932
                  },
                  {
                    "country": "Trinidad and Tobago",
                    "continent": "Americas",
                    "year": "1997-01-01",
                    "life_expectancy": 69.465,
                    "population": 1138101,
                    "gdp_per_capita": 8792.573126
                  },
                  {
                    "country": "Trinidad and Tobago",
                    "continent": "Americas",
                    "year": "2002-01-01",
                    "life_expectancy": 68.976,
                    "population": 1101832,
                    "gdp_per_capita": 11460.60023
                  },
                  {
                    "country": "Trinidad and Tobago",
                    "continent": "Americas",
                    "year": "2007-01-01",
                    "life_expectancy": 69.819,
                    "population": 1056608,
                    "gdp_per_capita": 18008.50924
                  },
                  {
                    "country": "Tunisia",
                    "continent": "Africa",
                    "year": "1952-01-01",
                    "life_expectancy": 44.6,
                    "population": 3647735,
                    "gdp_per_capita": 1468.475631
                  },
                  {
                    "country": "Tunisia",
                    "continent": "Africa",
                    "year": "1957-01-01",
                    "life_expectancy": 47.1,
                    "population": 3950849,
                    "gdp_per_capita": 1395.232468
                  },
                  {
                    "country": "Tunisia",
                    "continent": "Africa",
                    "year": "1962-01-01",
                    "life_expectancy": 49.579,
                    "population": 4286552,
                    "gdp_per_capita": 1660.30321
                  },
                  {
                    "country": "Tunisia",
                    "continent": "Africa",
                    "year": "1967-01-01",
                    "life_expectancy": 52.053,
                    "population": 4786986,
                    "gdp_per_capita": 1932.360167
                  },
                  {
                    "country": "Tunisia",
                    "continent": "Africa",
                    "year": "1972-01-01",
                    "life_expectancy": 55.602,
                    "population": 5303507,
                    "gdp_per_capita": 2753.285994
                  },
                  {
                    "country": "Tunisia",
                    "continent": "Africa",
                    "year": "1977-01-01",
                    "life_expectancy": 59.837,
                    "population": 6005061,
                    "gdp_per_capita": 3120.876811
                  },
                  {
                    "country": "Tunisia",
                    "continent": "Africa",
                    "year": "1982-01-01",
                    "life_expectancy": 64.048,
                    "population": 6734098,
                    "gdp_per_capita": 3560.233174
                  },
                  {
                    "country": "Tunisia",
                    "continent": "Africa",
                    "year": "1987-01-01",
                    "life_expectancy": 66.894,
                    "population": 7724976,
                    "gdp_per_capita": 3810.419296
                  },
                  {
                    "country": "Tunisia",
                    "continent": "Africa",
                    "year": "1992-01-01",
                    "life_expectancy": 70.001,
                    "population": 8523077,
                    "gdp_per_capita": 4332.720164
                  },
                  {
                    "country": "Tunisia",
                    "continent": "Africa",
                    "year": "1997-01-01",
                    "life_expectancy": 71.973,
                    "population": 9231669,
                    "gdp_per_capita": 4876.798614
                  },
                  {
                    "country": "Tunisia",
                    "continent": "Africa",
                    "year": "2002-01-01",
                    "life_expectancy": 73.042,
                    "population": 9770575,
                    "gdp_per_capita": 5722.895655
                  },
                  {
                    "country": "Tunisia",
                    "continent": "Africa",
                    "year": "2007-01-01",
                    "life_expectancy": 73.923,
                    "population": 10276158,
                    "gdp_per_capita": 7092.923025
                  },
                  {
                    "country": "Turkey",
                    "continent": "Europe",
                    "year": "1952-01-01",
                    "life_expectancy": 43.585,
                    "population": 22235677,
                    "gdp_per_capita": 1969.10098
                  },
                  {
                    "country": "Turkey",
                    "continent": "Europe",
                    "year": "1957-01-01",
                    "life_expectancy": 48.079,
                    "population": 25670939,
                    "gdp_per_capita": 2218.754257
                  },
                  {
                    "country": "Turkey",
                    "continent": "Europe",
                    "year": "1962-01-01",
                    "life_expectancy": 52.098,
                    "population": 29788695,
                    "gdp_per_capita": 2322.869908
                  },
                  {
                    "country": "Turkey",
                    "continent": "Europe",
                    "year": "1967-01-01",
                    "life_expectancy": 54.336,
                    "population": 33411317,
                    "gdp_per_capita": 2826.356387
                  },
                  {
                    "country": "Turkey",
                    "continent": "Europe",
                    "year": "1972-01-01",
                    "life_expectancy": 57.005,
                    "population": 37492953,
                    "gdp_per_capita": 3450.69638
                  },
                  {
                    "country": "Turkey",
                    "continent": "Europe",
                    "year": "1977-01-01",
                    "life_expectancy": 59.507,
                    "population": 42404033,
                    "gdp_per_capita": 4269.122326
                  },
                  {
                    "country": "Turkey",
                    "continent": "Europe",
                    "year": "1982-01-01",
                    "life_expectancy": 61.036,
                    "population": 47328791,
                    "gdp_per_capita": 4241.356344
                  },
                  {
                    "country": "Turkey",
                    "continent": "Europe",
                    "year": "1987-01-01",
                    "life_expectancy": 63.108,
                    "population": 52881328,
                    "gdp_per_capita": 5089.043686
                  },
                  {
                    "country": "Turkey",
                    "continent": "Europe",
                    "year": "1992-01-01",
                    "life_expectancy": 66.146,
                    "population": 58179144,
                    "gdp_per_capita": 5678.348271
                  },
                  {
                    "country": "Turkey",
                    "continent": "Europe",
                    "year": "1997-01-01",
                    "life_expectancy": 68.835,
                    "population": 63047647,
                    "gdp_per_capita": 6601.429915
                  },
                  {
                    "country": "Turkey",
                    "continent": "Europe",
                    "year": "2002-01-01",
                    "life_expectancy": 70.845,
                    "population": 67308928,
                    "gdp_per_capita": 6508.085718
                  },
                  {
                    "country": "Turkey",
                    "continent": "Europe",
                    "year": "2007-01-01",
                    "life_expectancy": 71.777,
                    "population": 71158647,
                    "gdp_per_capita": 8458.276384
                  },
                  {
                    "country": "Uganda",
                    "continent": "Africa",
                    "year": "1952-01-01",
                    "life_expectancy": 39.978,
                    "population": 5824797,
                    "gdp_per_capita": 734.753484
                  },
                  {
                    "country": "Uganda",
                    "continent": "Africa",
                    "year": "1957-01-01",
                    "life_expectancy": 42.571,
                    "population": 6675501,
                    "gdp_per_capita": 774.3710692
                  },
                  {
                    "country": "Uganda",
                    "continent": "Africa",
                    "year": "1962-01-01",
                    "life_expectancy": 45.344,
                    "population": 7688797,
                    "gdp_per_capita": 767.2717398
                  },
                  {
                    "country": "Uganda",
                    "continent": "Africa",
                    "year": "1967-01-01",
                    "life_expectancy": 48.051,
                    "population": 8900294,
                    "gdp_per_capita": 908.9185217
                  },
                  {
                    "country": "Uganda",
                    "continent": "Africa",
                    "year": "1972-01-01",
                    "life_expectancy": 51.016,
                    "population": 10190285,
                    "gdp_per_capita": 950.735869
                  },
                  {
                    "country": "Uganda",
                    "continent": "Africa",
                    "year": "1977-01-01",
                    "life_expectancy": 50.35,
                    "population": 11457758,
                    "gdp_per_capita": 843.7331372
                  },
                  {
                    "country": "Uganda",
                    "continent": "Africa",
                    "year": "1982-01-01",
                    "life_expectancy": 49.849,
                    "population": 12939400,
                    "gdp_per_capita": 682.2662268
                  },
                  {
                    "country": "Uganda",
                    "continent": "Africa",
                    "year": "1987-01-01",
                    "life_expectancy": 51.509,
                    "population": 15283050,
                    "gdp_per_capita": 617.7244065
                  },
                  {
                    "country": "Uganda",
                    "continent": "Africa",
                    "year": "1992-01-01",
                    "life_expectancy": 48.825,
                    "population": 18252190,
                    "gdp_per_capita": 644.1707969
                  },
                  {
                    "country": "Uganda",
                    "continent": "Africa",
                    "year": "1997-01-01",
                    "life_expectancy": 44.578,
                    "population": 21210254,
                    "gdp_per_capita": 816.559081
                  },
                  {
                    "country": "Uganda",
                    "continent": "Africa",
                    "year": "2002-01-01",
                    "life_expectancy": 47.813,
                    "population": 24739869,
                    "gdp_per_capita": 927.7210018
                  },
                  {
                    "country": "Uganda",
                    "continent": "Africa",
                    "year": "2007-01-01",
                    "life_expectancy": 51.542,
                    "population": 29170398,
                    "gdp_per_capita": 1056.380121
                  },
                  {
                    "country": "United Kingdom",
                    "continent": "Europe",
                    "year": "1952-01-01",
                    "life_expectancy": 69.18,
                    "population": 50430000,
                    "gdp_per_capita": 9979.508487
                  },
                  {
                    "country": "United Kingdom",
                    "continent": "Europe",
                    "year": "1957-01-01",
                    "life_expectancy": 70.42,
                    "population": 51430000,
                    "gdp_per_capita": 11283.17795
                  },
                  {
                    "country": "United Kingdom",
                    "continent": "Europe",
                    "year": "1962-01-01",
                    "life_expectancy": 70.76,
                    "population": 53292000,
                    "gdp_per_capita": 12477.17707
                  },
                  {
                    "country": "United Kingdom",
                    "continent": "Europe",
                    "year": "1967-01-01",
                    "life_expectancy": 71.36,
                    "population": 54959000,
                    "gdp_per_capita": 14142.85089
                  },
                  {
                    "country": "United Kingdom",
                    "continent": "Europe",
                    "year": "1972-01-01",
                    "life_expectancy": 72.01,
                    "population": 56079000,
                    "gdp_per_capita": 15895.11641
                  },
                  {
                    "country": "United Kingdom",
                    "continent": "Europe",
                    "year": "1977-01-01",
                    "life_expectancy": 72.76,
                    "population": 56179000,
                    "gdp_per_capita": 17428.74846
                  },
                  {
                    "country": "United Kingdom",
                    "continent": "Europe",
                    "year": "1982-01-01",
                    "life_expectancy": 74.04,
                    "population": 56339704,
                    "gdp_per_capita": 18232.42452
                  },
                  {
                    "country": "United Kingdom",
                    "continent": "Europe",
                    "year": "1987-01-01",
                    "life_expectancy": 75.007,
                    "population": 56981620,
                    "gdp_per_capita": 21664.78767
                  },
                  {
                    "country": "United Kingdom",
                    "continent": "Europe",
                    "year": "1992-01-01",
                    "life_expectancy": 76.42,
                    "population": 57866349,
                    "gdp_per_capita": 22705.09254
                  },
                  {
                    "country": "United Kingdom",
                    "continent": "Europe",
                    "year": "1997-01-01",
                    "life_expectancy": 77.218,
                    "population": 58808266,
                    "gdp_per_capita": 26074.53136
                  },
                  {
                    "country": "United Kingdom",
                    "continent": "Europe",
                    "year": "2002-01-01",
                    "life_expectancy": 78.471,
                    "population": 59912431,
                    "gdp_per_capita": 29478.99919
                  },
                  {
                    "country": "United Kingdom",
                    "continent": "Europe",
                    "year": "2007-01-01",
                    "life_expectancy": 79.425,
                    "population": 60776238,
                    "gdp_per_capita": 33203.26128
                  },
                  {
                    "country": "United States",
                    "continent": "Americas",
                    "year": "1952-01-01",
                    "life_expectancy": 68.44,
                    "population": 157553000,
                    "gdp_per_capita": 13990.48208
                  },
                  {
                    "country": "United States",
                    "continent": "Americas",
                    "year": "1957-01-01",
                    "life_expectancy": 69.49,
                    "population": 171984000,
                    "gdp_per_capita": 14847.12712
                  },
                  {
                    "country": "United States",
                    "continent": "Americas",
                    "year": "1962-01-01",
                    "life_expectancy": 70.21,
                    "population": 186538000,
                    "gdp_per_capita": 16173.14586
                  },
                  {
                    "country": "United States",
                    "continent": "Americas",
                    "year": "1967-01-01",
                    "life_expectancy": 70.76,
                    "population": 198712000,
                    "gdp_per_capita": 19530.36557
                  },
                  {
                    "country": "United States",
                    "continent": "Americas",
                    "year": "1972-01-01",
                    "life_expectancy": 71.34,
                    "population": 209896000,
                    "gdp_per_capita": 21806.03594
                  },
                  {
                    "country": "United States",
                    "continent": "Americas",
                    "year": "1977-01-01",
                    "life_expectancy": 73.38,
                    "population": 220239000,
                    "gdp_per_capita": 24072.63213
                  },
                  {
                    "country": "United States",
                    "continent": "Americas",
                    "year": "1982-01-01",
                    "life_expectancy": 74.65,
                    "population": 232187835,
                    "gdp_per_capita": 25009.55914
                  },
                  {
                    "country": "United States",
                    "continent": "Americas",
                    "year": "1987-01-01",
                    "life_expectancy": 75.02,
                    "population": 242803533,
                    "gdp_per_capita": 29884.35041
                  },
                  {
                    "country": "United States",
                    "continent": "Americas",
                    "year": "1992-01-01",
                    "life_expectancy": 76.09,
                    "population": 256894189,
                    "gdp_per_capita": 32003.93224
                  },
                  {
                    "country": "United States",
                    "continent": "Americas",
                    "year": "1997-01-01",
                    "life_expectancy": 76.81,
                    "population": 272911760,
                    "gdp_per_capita": 35767.43303
                  },
                  {
                    "country": "United States",
                    "continent": "Americas",
                    "year": "2002-01-01",
                    "life_expectancy": 77.31,
                    "population": 287675526,
                    "gdp_per_capita": 39097.09955
                  },
                  {
                    "country": "United States",
                    "continent": "Americas",
                    "year": "2007-01-01",
                    "life_expectancy": 78.242,
                    "population": 301139947,
                    "gdp_per_capita": 42951.65309
                  },
                  {
                    "country": "Uruguay",
                    "continent": "Americas",
                    "year": "1952-01-01",
                    "life_expectancy": 66.071,
                    "population": 2252965,
                    "gdp_per_capita": 5716.766744
                  },
                  {
                    "country": "Uruguay",
                    "continent": "Americas",
                    "year": "1957-01-01",
                    "life_expectancy": 67.044,
                    "population": 2424959,
                    "gdp_per_capita": 6150.772969
                  },
                  {
                    "country": "Uruguay",
                    "continent": "Americas",
                    "year": "1962-01-01",
                    "life_expectancy": 68.253,
                    "population": 2598466,
                    "gdp_per_capita": 5603.357717
                  },
                  {
                    "country": "Uruguay",
                    "continent": "Americas",
                    "year": "1967-01-01",
                    "life_expectancy": 68.468,
                    "population": 2748579,
                    "gdp_per_capita": 5444.61962
                  },
                  {
                    "country": "Uruguay",
                    "continent": "Americas",
                    "year": "1972-01-01",
                    "life_expectancy": 68.673,
                    "population": 2829526,
                    "gdp_per_capita": 5703.408898
                  },
                  {
                    "country": "Uruguay",
                    "continent": "Americas",
                    "year": "1977-01-01",
                    "life_expectancy": 69.481,
                    "population": 2873520,
                    "gdp_per_capita": 6504.339663
                  },
                  {
                    "country": "Uruguay",
                    "continent": "Americas",
                    "year": "1982-01-01",
                    "life_expectancy": 70.805,
                    "population": 2953997,
                    "gdp_per_capita": 6920.223051
                  },
                  {
                    "country": "Uruguay",
                    "continent": "Americas",
                    "year": "1987-01-01",
                    "life_expectancy": 71.918,
                    "population": 3045153,
                    "gdp_per_capita": 7452.398969
                  },
                  {
                    "country": "Uruguay",
                    "continent": "Americas",
                    "year": "1992-01-01",
                    "life_expectancy": 72.752,
                    "population": 3149262,
                    "gdp_per_capita": 8137.004775
                  },
                  {
                    "country": "Uruguay",
                    "continent": "Americas",
                    "year": "1997-01-01",
                    "life_expectancy": 74.223,
                    "population": 3262838,
                    "gdp_per_capita": 9230.240708
                  },
                  {
                    "country": "Uruguay",
                    "continent": "Americas",
                    "year": "2002-01-01",
                    "life_expectancy": 75.307,
                    "population": 3363085,
                    "gdp_per_capita": 7727.002004
                  },
                  {
                    "country": "Uruguay",
                    "continent": "Americas",
                    "year": "2007-01-01",
                    "life_expectancy": 76.384,
                    "population": 3447496,
                    "gdp_per_capita": 10611.46299
                  },
                  {
                    "country": "Venezuela",
                    "continent": "Americas",
                    "year": "1952-01-01",
                    "life_expectancy": 55.088,
                    "population": 5439568,
                    "gdp_per_capita": 7689.799761
                  },
                  {
                    "country": "Venezuela",
                    "continent": "Americas",
                    "year": "1957-01-01",
                    "life_expectancy": 57.907,
                    "population": 6702668,
                    "gdp_per_capita": 9802.466526
                  },
                  {
                    "country": "Venezuela",
                    "continent": "Americas",
                    "year": "1962-01-01",
                    "life_expectancy": 60.77,
                    "population": 8143375,
                    "gdp_per_capita": 8422.974165
                  },
                  {
                    "country": "Venezuela",
                    "continent": "Americas",
                    "year": "1967-01-01",
                    "life_expectancy": 63.479,
                    "population": 9709552,
                    "gdp_per_capita": 9541.474188
                  },
                  {
                    "country": "Venezuela",
                    "continent": "Americas",
                    "year": "1972-01-01",
                    "life_expectancy": 65.712,
                    "population": 11515649,
                    "gdp_per_capita": 10505.25966
                  },
                  {
                    "country": "Venezuela",
                    "continent": "Americas",
                    "year": "1977-01-01",
                    "life_expectancy": 67.456,
                    "population": 13503563,
                    "gdp_per_capita": 13143.95095
                  },
                  {
                    "country": "Venezuela",
                    "continent": "Americas",
                    "year": "1982-01-01",
                    "life_expectancy": 68.557,
                    "population": 15620766,
                    "gdp_per_capita": 11152.41011
                  },
                  {
                    "country": "Venezuela",
                    "continent": "Americas",
                    "year": "1987-01-01",
                    "life_expectancy": 70.19,
                    "population": 17910182,
                    "gdp_per_capita": 9883.584648
                  },
                  {
                    "country": "Venezuela",
                    "continent": "Americas",
                    "year": "1992-01-01",
                    "life_expectancy": 71.15,
                    "population": 20265563,
                    "gdp_per_capita": 10733.92631
                  },
                  {
                    "country": "Venezuela",
                    "continent": "Americas",
                    "year": "1997-01-01",
                    "life_expectancy": 72.146,
                    "population": 22374398,
                    "gdp_per_capita": 10165.49518
                  },
                  {
                    "country": "Venezuela",
                    "continent": "Americas",
                    "year": "2002-01-01",
                    "life_expectancy": 72.766,
                    "population": 24287670,
                    "gdp_per_capita": 8605.047831
                  },
                  {
                    "country": "Venezuela",
                    "continent": "Americas",
                    "year": "2007-01-01",
                    "life_expectancy": 73.747,
                    "population": 26084662,
                    "gdp_per_capita": 11415.80569
                  },
                  {
                    "country": "Vietnam",
                    "continent": "Asia",
                    "year": "1952-01-01",
                    "life_expectancy": 40.412,
                    "population": 26246839,
                    "gdp_per_capita": 605.0664917
                  },
                  {
                    "country": "Vietnam",
                    "continent": "Asia",
                    "year": "1957-01-01",
                    "life_expectancy": 42.887,
                    "population": 28998543,
                    "gdp_per_capita": 676.2854478
                  },
                  {
                    "country": "Vietnam",
                    "continent": "Asia",
                    "year": "1962-01-01",
                    "life_expectancy": 45.363,
                    "population": 33796140,
                    "gdp_per_capita": 772.0491602
                  },
                  {
                    "country": "Vietnam",
                    "continent": "Asia",
                    "year": "1967-01-01",
                    "life_expectancy": 47.838,
                    "population": 39463910,
                    "gdp_per_capita": 637.1232887
                  },
                  {
                    "country": "Vietnam",
                    "continent": "Asia",
                    "year": "1972-01-01",
                    "life_expectancy": 50.254,
                    "population": 44655014,
                    "gdp_per_capita": 699.5016441
                  },
                  {
                    "country": "Vietnam",
                    "continent": "Asia",
                    "year": "1977-01-01",
                    "life_expectancy": 55.764,
                    "population": 50533506,
                    "gdp_per_capita": 713.5371196
                  },
                  {
                    "country": "Vietnam",
                    "continent": "Asia",
                    "year": "1982-01-01",
                    "life_expectancy": 58.816,
                    "population": 56142181,
                    "gdp_per_capita": 707.2357863
                  },
                  {
                    "country": "Vietnam",
                    "continent": "Asia",
                    "year": "1987-01-01",
                    "life_expectancy": 62.82,
                    "population": 62826491,
                    "gdp_per_capita": 820.7994449
                  },
                  {
                    "country": "Vietnam",
                    "continent": "Asia",
                    "year": "1992-01-01",
                    "life_expectancy": 67.662,
                    "population": 69940728,
                    "gdp_per_capita": 989.0231487
                  },
                  {
                    "country": "Vietnam",
                    "continent": "Asia",
                    "year": "1997-01-01",
                    "life_expectancy": 70.672,
                    "population": 76048996,
                    "gdp_per_capita": 1385.896769
                  },
                  {
                    "country": "Vietnam",
                    "continent": "Asia",
                    "year": "2002-01-01",
                    "life_expectancy": 73.017,
                    "population": 80908147,
                    "gdp_per_capita": 1764.456677
                  },
                  {
                    "country": "Vietnam",
                    "continent": "Asia",
                    "year": "2007-01-01",
                    "life_expectancy": 74.249,
                    "population": 85262356,
                    "gdp_per_capita": 2441.576404
                  },
                  {
                    "country": "West Bank and Gaza",
                    "continent": "Asia",
                    "year": "1952-01-01",
                    "life_expectancy": 43.16,
                    "population": 1030585,
                    "gdp_per_capita": 1515.592329
                  },
                  {
                    "country": "West Bank and Gaza",
                    "continent": "Asia",
                    "year": "1957-01-01",
                    "life_expectancy": 45.671,
                    "population": 1070439,
                    "gdp_per_capita": 1827.067742
                  },
                  {
                    "country": "West Bank and Gaza",
                    "continent": "Asia",
                    "year": "1962-01-01",
                    "life_expectancy": 48.127,
                    "population": 1133134,
                    "gdp_per_capita": 2198.956312
                  },
                  {
                    "country": "West Bank and Gaza",
                    "continent": "Asia",
                    "year": "1967-01-01",
                    "life_expectancy": 51.631,
                    "population": 1142636,
                    "gdp_per_capita": 2649.715007
                  },
                  {
                    "country": "West Bank and Gaza",
                    "continent": "Asia",
                    "year": "1972-01-01",
                    "life_expectancy": 56.532,
                    "population": 1089572,
                    "gdp_per_capita": 3133.409277
                  },
                  {
                    "country": "West Bank and Gaza",
                    "continent": "Asia",
                    "year": "1977-01-01",
                    "life_expectancy": 60.765,
                    "population": 1261091,
                    "gdp_per_capita": 3682.831494
                  },
                  {
                    "country": "West Bank and Gaza",
                    "continent": "Asia",
                    "year": "1982-01-01",
                    "life_expectancy": 64.406,
                    "population": 1425876,
                    "gdp_per_capita": 4336.032082
                  },
                  {
                    "country": "West Bank and Gaza",
                    "continent": "Asia",
                    "year": "1987-01-01",
                    "life_expectancy": 67.046,
                    "population": 1691210,
                    "gdp_per_capita": 5107.197384
                  },
                  {
                    "country": "West Bank and Gaza",
                    "continent": "Asia",
                    "year": "1992-01-01",
                    "life_expectancy": 69.718,
                    "population": 2104779,
                    "gdp_per_capita": 6017.654756
                  },
                  {
                    "country": "West Bank and Gaza",
                    "continent": "Asia",
                    "year": "1997-01-01",
                    "life_expectancy": 71.096,
                    "population": 2826046,
                    "gdp_per_capita": 7110.667619
                  },
                  {
                    "country": "West Bank and Gaza",
                    "continent": "Asia",
                    "year": "2002-01-01",
                    "life_expectancy": 72.37,
                    "population": 3389578,
                    "gdp_per_capita": 4515.487575
                  },
                  {
                    "country": "West Bank and Gaza",
                    "continent": "Asia",
                    "year": "2007-01-01",
                    "life_expectancy": 73.422,
                    "population": 4018332,
                    "gdp_per_capita": 3025.349798
                  },
                  {
                    "country": "Yemen, Rep.",
                    "continent": "Asia",
                    "year": "1952-01-01",
                    "life_expectancy": 32.548,
                    "population": 4963829,
                    "gdp_per_capita": 781.7175761
                  },
                  {
                    "country": "Yemen, Rep.",
                    "continent": "Asia",
                    "year": "1957-01-01",
                    "life_expectancy": 33.97,
                    "population": 5498090,
                    "gdp_per_capita": 804.8304547
                  },
                  {
                    "country": "Yemen, Rep.",
                    "continent": "Asia",
                    "year": "1962-01-01",
                    "life_expectancy": 35.18,
                    "population": 6120081,
                    "gdp_per_capita": 825.6232006
                  },
                  {
                    "country": "Yemen, Rep.",
                    "continent": "Asia",
                    "year": "1967-01-01",
                    "life_expectancy": 36.984,
                    "population": 6740785,
                    "gdp_per_capita": 862.4421463
                  },
                  {
                    "country": "Yemen, Rep.",
                    "continent": "Asia",
                    "year": "1972-01-01",
                    "life_expectancy": 39.848,
                    "population": 7407075,
                    "gdp_per_capita": 1265.047031
                  },
                  {
                    "country": "Yemen, Rep.",
                    "continent": "Asia",
                    "year": "1977-01-01",
                    "life_expectancy": 44.175,
                    "population": 8403990,
                    "gdp_per_capita": 1829.765177
                  },
                  {
                    "country": "Yemen, Rep.",
                    "continent": "Asia",
                    "year": "1982-01-01",
                    "life_expectancy": 49.113,
                    "population": 9657618,
                    "gdp_per_capita": 1977.55701
                  },
                  {
                    "country": "Yemen, Rep.",
                    "continent": "Asia",
                    "year": "1987-01-01",
                    "life_expectancy": 52.922,
                    "population": 11219340,
                    "gdp_per_capita": 1971.741538
                  },
                  {
                    "country": "Yemen, Rep.",
                    "continent": "Asia",
                    "year": "1992-01-01",
                    "life_expectancy": 55.599,
                    "population": 13367997,
                    "gdp_per_capita": 1879.496673
                  },
                  {
                    "country": "Yemen, Rep.",
                    "continent": "Asia",
                    "year": "1997-01-01",
                    "life_expectancy": 58.02,
                    "population": 15826497,
                    "gdp_per_capita": 2117.484526
                  },
                  {
                    "country": "Yemen, Rep.",
                    "continent": "Asia",
                    "year": "2002-01-01",
                    "life_expectancy": 60.308,
                    "population": 18701257,
                    "gdp_per_capita": 2234.820827
                  },
                  {
                    "country": "Yemen, Rep.",
                    "continent": "Asia",
                    "year": "2007-01-01",
                    "life_expectancy": 62.698,
                    "population": 22211743,
                    "gdp_per_capita": 2280.769906
                  },
                  {
                    "country": "Zambia",
                    "continent": "Africa",
                    "year": "1952-01-01",
                    "life_expectancy": 42.038,
                    "population": 2672000,
                    "gdp_per_capita": 1147.388831
                  },
                  {
                    "country": "Zambia",
                    "continent": "Africa",
                    "year": "1957-01-01",
                    "life_expectancy": 44.077,
                    "population": 3016000,
                    "gdp_per_capita": 1311.956766
                  },
                  {
                    "country": "Zambia",
                    "continent": "Africa",
                    "year": "1962-01-01",
                    "life_expectancy": 46.023,
                    "population": 3421000,
                    "gdp_per_capita": 1452.725766
                  },
                  {
                    "country": "Zambia",
                    "continent": "Africa",
                    "year": "1967-01-01",
                    "life_expectancy": 47.768,
                    "population": 3900000,
                    "gdp_per_capita": 1777.077318
                  },
                  {
                    "country": "Zambia",
                    "continent": "Africa",
                    "year": "1972-01-01",
                    "life_expectancy": 50.107,
                    "population": 4506497,
                    "gdp_per_capita": 1773.498265
                  },
                  {
                    "country": "Zambia",
                    "continent": "Africa",
                    "year": "1977-01-01",
                    "life_expectancy": 51.386,
                    "population": 5216550,
                    "gdp_per_capita": 1588.688299
                  },
                  {
                    "country": "Zambia",
                    "continent": "Africa",
                    "year": "1982-01-01",
                    "life_expectancy": 51.821,
                    "population": 6100407,
                    "gdp_per_capita": 1408.678565
                  },
                  {
                    "country": "Zambia",
                    "continent": "Africa",
                    "year": "1987-01-01",
                    "life_expectancy": 50.821,
                    "population": 7272406,
                    "gdp_per_capita": 1213.315116
                  },
                  {
                    "country": "Zambia",
                    "continent": "Africa",
                    "year": "1992-01-01",
                    "life_expectancy": 46.1,
                    "population": 8381163,
                    "gdp_per_capita": 1210.884633
                  },
                  {
                    "country": "Zambia",
                    "continent": "Africa",
                    "year": "1997-01-01",
                    "life_expectancy": 40.238,
                    "population": 9417789,
                    "gdp_per_capita": 1071.353818
                  },
                  {
                    "country": "Zambia",
                    "continent": "Africa",
                    "year": "2002-01-01",
                    "life_expectancy": 39.193,
                    "population": 10595811,
                    "gdp_per_capita": 1071.613938
                  },
                  {
                    "country": "Zambia",
                    "continent": "Africa",
                    "year": "2007-01-01",
                    "life_expectancy": 42.384,
                    "population": 11746035,
                    "gdp_per_capita": 1271.211593
                  },
                  {
                    "country": "Zimbabwe",
                    "continent": "Africa",
                    "year": "1952-01-01",
                    "life_expectancy": 48.451,
                    "population": 3080907,
                    "gdp_per_capita": 406.8841148
                  },
                  {
                    "country": "Zimbabwe",
                    "continent": "Africa",
                    "year": "1957-01-01",
                    "life_expectancy": 50.469,
                    "population": 3646340,
                    "gdp_per_capita": 518.7642681
                  },
                  {
                    "country": "Zimbabwe",
                    "continent": "Africa",
                    "year": "1962-01-01",
                    "life_expectancy": 52.358,
                    "population": 4277736,
                    "gdp_per_capita": 527.2721818
                  },
                  {
                    "country": "Zimbabwe",
                    "continent": "Africa",
                    "year": "1967-01-01",
                    "life_expectancy": 53.995,
                    "population": 4995432,
                    "gdp_per_capita": 569.7950712
                  },
                  {
                    "country": "Zimbabwe",
                    "continent": "Africa",
                    "year": "1972-01-01",
                    "life_expectancy": 55.635,
                    "population": 5861135,
                    "gdp_per_capita": 799.3621758
                  },
                  {
                    "country": "Zimbabwe",
                    "continent": "Africa",
                    "year": "1977-01-01",
                    "life_expectancy": 57.674,
                    "population": 6642107,
                    "gdp_per_capita": 685.5876821
                  },
                  {
                    "country": "Zimbabwe",
                    "continent": "Africa",
                    "year": "1982-01-01",
                    "life_expectancy": 60.363,
                    "population": 7636524,
                    "gdp_per_capita": 788.8550411
                  },
                  {
                    "country": "Zimbabwe",
                    "continent": "Africa",
                    "year": "1987-01-01",
                    "life_expectancy": 62.351,
                    "population": 9216418,
                    "gdp_per_capita": 706.1573059
                  },
                  {
                    "country": "Zimbabwe",
                    "continent": "Africa",
                    "year": "1992-01-01",
                    "life_expectancy": 60.377,
                    "population": 10704340,
                    "gdp_per_capita": 693.4207856
                  },
                  {
                    "country": "Zimbabwe",
                    "continent": "Africa",
                    "year": "1997-01-01",
                    "life_expectancy": 46.809,
                    "population": 11404948,
                    "gdp_per_capita": 792.4499603
                  },
                  {
                    "country": "Zimbabwe",
                    "continent": "Africa",
                    "year": "2002-01-01",
                    "life_expectancy": 39.989,
                    "population": 11926563,
                    "gdp_per_capita": 672.0386227
                  },
                  {
                    "country": "Zimbabwe",
                    "continent": "Africa",
                    "year": "2007-01-01",
                    "life_expectancy": 43.487,
                    "population": 12311143,
                    "gdp_per_capita": 469.7092981
                  }
                ]
              }
            },
            "text/plain": "<__main__.DeepnoteChart at 0x7ff3e8f6d790>"
          },
          "metadata": {}
        }
      ],
      "execution_count": null,
      "outputs_reference": null,
      "block_group": "352ab760d4aa4fe3915feba4bbca12ce"
    },
    {
      "cell_type": "markdown",
      "source": "## Next steps",
      "metadata": {
        "formattedRanges": [],
        "tags": [],
        "is_collapsed": false,
        "cell_id": "7bd51b67127e44049bce12f4e07605a3",
        "deepnote_cell_type": "text-cell-h2"
      },
      "block_group": "edb2eb123b164485a363367c93632ca6"
    },
    {
      "cell_type": "markdown",
      "source": "> Learn more about how to use Deepnote in our documentation.",
      "metadata": {
        "formattedRanges": [
          {
            "url": "https://deepnote.com/docs",
            "type": "link",
            "ranges": [],
            "toCodePoint": 57,
            "fromCodePoint": 44
          }
        ],
        "tags": [],
        "is_collapsed": false,
        "cell_id": "2620bb266010456d871f18a83374e6bc",
        "deepnote_cell_type": "text-cell-callout"
      },
      "block_group": "3f704e26aefa4c3ba25818ea626887bd"
    },
    {
      "cell_type": "markdown",
      "source": "- [ ] Get creative. Have a look at some sample projects, then create a new one. Let your imagination run wild 🧑‍🎨",
      "metadata": {
        "formattedRanges": [
          {
            "type": "marks",
            "marks": {
              "bold": true
            },
            "toCodePoint": 13,
            "fromCodePoint": 0
          }
        ],
        "tags": [],
        "checked": false,
        "is_collapsed": false,
        "cell_id": "2e7aab5cc3184f89b6221ade432f103a",
        "deepnote_cell_type": "text-cell-todo"
      },
      "block_group": "011ae3c2c79f443bb5eea5fc586fbc7a"
    },
    {
      "cell_type": "markdown",
      "source": "- [ ] Connect your own data. Visit the Integrations menu to connect your database or data warehouse. Or just drop a CSV into a notebook. ",
      "metadata": {
        "formattedRanges": [
          {
            "type": "marks",
            "marks": {
              "bold": true
            },
            "toCodePoint": 22,
            "fromCodePoint": 0
          },
          {
            "type": "marks",
            "marks": {
              "italic": true
            },
            "toCodePoint": 45,
            "fromCodePoint": 33
          }
        ],
        "tags": [],
        "checked": false,
        "is_collapsed": false,
        "cell_id": "24c776f5864542a3ab6103be6ccbaff5",
        "deepnote_cell_type": "text-cell-todo"
      },
      "block_group": "1b9845fea0fc40b19abbdfb8db38b35d"
    },
    {
      "cell_type": "markdown",
      "source": "- [ ] Work together. Invite your team members and share insights with each other. ",
      "metadata": {
        "formattedRanges": [
          {
            "type": "marks",
            "marks": {
              "bold": true
            },
            "toCodePoint": 14,
            "fromCodePoint": 0
          }
        ],
        "tags": [],
        "checked": false,
        "is_collapsed": false,
        "cell_id": "cfada72f971a40d1a780fb7ad076e4e8",
        "deepnote_cell_type": "text-cell-todo"
      },
      "block_group": "7d298708377c435f8cc665c2b25829e1"
    },
    {
      "cell_type": "markdown",
      "source": "",
      "metadata": {
        "formattedRanges": [],
        "tags": [],
        "checked": false,
        "is_collapsed": false,
        "cell_id": "0217e08716954a6f87622eb32f2591b3",
        "deepnote_cell_type": "text-cell-p"
      },
      "block_group": "028b17bf838e48909ac37dc3a68dca0f"
    },
    {
      "cell_type": "markdown",
      "source": "<a style='text-decoration:none;line-height:16px;display:flex;color:#5B5B62;padding:10px;justify-content:end;' href='https://deepnote.com?utm_source=created-in-deepnote-cell&projectId=13a90a7f-fdab-44fe-855c-ae8c9cbeedee' target=\"_blank\">\n<img alt='Created in deepnote.com' style='display:inline;max-height:16px;margin:0px;margin-right:7.5px;' src='data:image/svg+xml;base64,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' > </img>\nCreated in <span style='font-weight:600;margin-left:4px;'>Deepnote</span></a>",
      "metadata": {
        "created_in_deepnote_cell": true,
        "deepnote_cell_type": "markdown"
      }
    }
  ],
  "nbformat": 4,
  "nbformat_minor": 0,
  "metadata": {
    "deepnote_persisted_session": {
      "createdAt": "2024-01-17T10:45:15.026Z"
    },
    "deepnote_full_width": false,
    "deepnote_notebook_id": "ba20f6052dc04364a2d56b61ef62402e"
  }
}