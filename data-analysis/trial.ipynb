{
  "cells": [
    {
      "cell_type": "markdown",
      "source": "# Data Exploration and Transformation",
      "metadata": {
        "formattedRanges": [],
        "is_collapsed": false,
        "deepnote_app_block_visible": false,
        "cell_id": "6753de902e3a402b8ae4f47f051e052e",
        "deepnote_cell_type": "text-cell-h1"
      },
      "block_group": "8273a44f78794ae994d71cc4ea4aa9b2"
    },
    {
      "cell_type": "markdown",
      "source": "Our World in Data has put together data from different source int",
      "metadata": {
        "formattedRanges": [],
        "cell_id": "2b0d4f46f3cc4cd79953a5f002877c0a",
        "deepnote_cell_type": "text-cell-p"
      },
      "block_group": "1bf772be35ff4ff98a23c35360c1f6fc"
    },
    {
      "cell_type": "code",
      "metadata": {
        "source_hash": "328fbad3",
        "execution_start": 1738132721217,
        "execution_millis": 0,
        "execution_context_id": "454028f1-e7f7-480b-bc18-f197a808f17c",
        "cell_id": "9c5f2fd92f2247c58ff33afeb92ca133",
        "deepnote_cell_type": "code"
      },
      "source": "import pandas as pd\nimport seaborn as sns\npd.set_option('display.max_rows', None) ",
      "outputs": [],
      "outputs_reference": null,
      "execution_count": 45,
      "block_group": "e2d810598ab544d2b058d46611a92823",
      "content_dependencies": null
    },
    {
      "cell_type": "code",
      "metadata": {
        "source_hash": "7ddfc79b",
        "execution_start": 1738132457322,
        "execution_millis": 219,
        "execution_context_id": "454028f1-e7f7-480b-bc18-f197a808f17c",
        "cell_id": "66924eebbe494c4684425c27ce26bf69",
        "deepnote_cell_type": "code"
      },
      "source": "df = pd.read_csv('/work/owid-energy-data.csv')",
      "outputs": [],
      "outputs_reference": null,
      "execution_count": 13,
      "block_group": "c6f34ff04b854ddf9e312739874b7144",
      "content_dependencies": null
    },
    {
      "cell_type": "markdown",
      "source": "",
      "metadata": {
        "formattedRanges": [],
        "cell_id": "f3f9383794e9414880819aacac70209d",
        "deepnote_cell_type": "text-cell-p"
      },
      "block_group": "bec453becea64b5d97b2a1d859babd80"
    },
    {
      "cell_type": "code",
      "metadata": {
        "source_hash": "29121bdf",
        "execution_start": 1738132725772,
        "execution_millis": 0,
        "execution_context_id": "454028f1-e7f7-480b-bc18-f197a808f17c",
        "cell_id": "b3320a3189d0412e83b0301548f9107d",
        "deepnote_cell_type": "code"
      },
      "source": "df['country'].value_counts()",
      "outputs": [
        {
          "output_type": "execute_result",
          "execution_count": 47,
          "data": {
            "text/plain": "country\nAngola                                   124\nZimbabwe                                 124\nZambia                                   124\nAlgeria                                  124\nAfrica                                   124\nTunisia                                  124\nTurkey                                   124\nBelgium                                  124\nBolivia                                  124\nAustralia                                124\nAustria                                  124\nBahrain                                  124\nBangladesh                               124\nSweden                                   124\nSouth Africa                             124\nSouth America                            124\nCuba                                     124\nChile                                    124\nChina                                    124\nVenezuela                                124\nVietnam                                  124\nUnited Arab Emirates                     124\nUnited Kingdom                           124\nUnited States                            124\nTrinidad and Tobago                      124\nColombia                                 124\nCongo                                    124\nCanada                                   124\nBrazil                                   124\nBrunei                                   124\nBulgaria                                 124\nEuropean Union (27)                      124\nFrance                                   124\nEurope                                   124\nMalaysia                                 124\nLibya                                    124\nLow-income countries                     124\nKuwait                                   124\nWorld                                    124\nUpper-middle-income countries            124\nEcuador                                  124\nEgypt                                    124\nDemocratic Republic of Congo             124\nDenmark                                  124\nGermany                                  124\nMexico                                   124\nLower-middle-income countries            124\nMadagascar                               124\nRomania                                  124\nPeru                                     124\nPhilippines                              124\nPoland                                   124\nPortugal                                 124\nQatar                                    124\nOceania                                  124\nOman                                     124\nPakistan                                 124\nNorway                                   124\nHungary                                  124\nIndia                                    124\nGreece                                   124\nGabon                                    124\nNorth America                            124\nNew Zealand                              124\nNigeria                                  124\nIndonesia                                124\nIran                                     124\nIraq                                     124\nIreland                                  124\nIsrael                                   124\nItaly                                    124\nJapan                                    124\nHigh-income countries                    124\nMozambique                               124\nMyanmar                                  124\nNetherlands                              124\nMongolia                                 124\nMorocco                                  124\nArgentina                                124\nAsia                                     124\nSwitzerland                              124\nSyria                                    124\nTaiwan                                   124\nThailand                                 124\nSouth Korea                              124\nSpain                                    124\nTanzania                                 123\nBarbados                                 123\nAlbania                                  123\nGreenland                                123\nGuatemala                                123\nNiger                                    123\nNorth Korea                              123\nNepal                                    123\nCameroon                                 123\nBotswana                                 123\nCote d'Ivoire                            123\nSuriname                                 123\nAfghanistan                              123\nBurundi                                  123\nEswatini                                 123\nSaudi Arabia                             123\nGhana                                    123\nUkraine                                  119\nOECD (Shift)                             117\nOPEC (Shift)                             117\nAsia and Oceania (Shift)                 117\nMiddle East (Shift)                      117\nNorth America (Shift)                    117\nAfrica (Shift)                           117\nPersian Gulf (Shift)                     117\nEurasia (Shift)                          117\nCentral and South America (Shift)        117\nEU28 (Shift)                             117\nEurope (Shift)                           117\nCzechoslovakia                            93\nYugoslavia                                92\nUSSR                                      92\nAsia Pacific (EI)                         59\nSouth and Central America (EI)            59\nIceland                                   59\nHong Kong                                 59\nNorth America (EI)                        59\nNon-OPEC (EI)                             59\nNon-OECD (EI)                             59\nAfrica (EI)                               59\nOPEC (EI)                                 59\nOECD (EI)                                 59\nEastern Africa (EI)                       59\nWestern Africa (EI)                       59\nMiddle Africa (EI)                        59\nMiddle East (EI)                          59\nLuxembourg                                59\nEurope (EI)                               59\nFinland                                   59\nCIS (EI)                                  59\nCentral America (EI)                      59\nCyprus                                    59\nCzechia                                   59\nSri Lanka                                 59\nSlovakia                                  59\nSingapore                                 59\nNetherlands Antilles                      57\nChad                                      44\nAzerbaijan                                44\nGuyana                                    44\nUzbekistan                                44\nUruguay                                   44\nBelarus                                   44\nCosta Rica                                44\nEquatorial Guinea                         44\nYemen                                     44\nTurkmenistan                              44\nKenya                                     44\nMalta                                     44\nSudan                                     44\nSouth Sudan                               44\nPapua New Guinea                          44\nParaguay                                  44\nNew Caledonia                             44\nEl Salvador                               44\nHonduras                                  43\nMontserrat                                43\nJamaica                                   43\nNauru                                     43\nHaiti                                     43\nGuinea                                    43\nGuam                                      43\nGrenada                                   43\nGibraltar                                 43\nGambia                                    43\nMauritius                                 43\nSaint Helena                              43\nGuinea-Bissau                             43\nSaint Lucia                               43\nSierra Leone                              43\nSeychelles                                43\nSenegal                                   43\nSao Tome and Principe                     43\nSamoa                                     43\nAntigua and Barbuda                       43\nBhutan                                    43\nSaint Kitts and Nevis                     43\nBenin                                     43\nBelize                                    43\nBahamas                                   43\nNicaragua                                 43\nFiji                                      43\nFaroe Islands                             43\nFalkland Islands                          43\nEthiopia                                  43\nBermuda                                   43\nSaint Vincent and the Grenadines          43\nCook Islands                              43\nComoros                                   43\nCentral African Republic                  43\nVanuatu                                   43\nUnited States Virgin Islands              43\nUganda                                    43\nTurks and Caicos Islands                  43\nMali                                      43\nDominican Republic                        43\nDominica                                  43\nDjibouti                                  43\nAmerican Samoa                            43\nTonga                                     43\nTogo                                      43\nSomalia                                   43\nPanama                                    43\nNiue                                      43\nSolomon Islands                           43\nRwanda                                    43\nPuerto Rico                               43\nMauritania                                43\nSaint Pierre and Miquelon                 43\nMaldives                                  43\nMalawi                                    43\nMacao                                     43\nCayman Islands                            43\nJordan                                    43\nCambodia                                  43\nBurkina Faso                              43\nBritish Virgin Islands                    43\nFrench Polynesia                          43\nLiberia                                   43\nLesotho                                   43\nLebanon                                   43\nLaos                                      43\nKiribati                                  43\nCape Verde                                43\nAntarctica                                42\nAustralia and New Zealand (EIA)           42\nNon-OECD (EIA)                            42\nNon-OPEC (EIA)                            42\nNorthern Mariana Islands                  42\nOECD (EIA)                                42\nOPEC (EIA)                                42\nEurasia (EIA)                             42\nEurope (EIA)                              42\nMiddle East (EIA)                         42\nMicronesia (country)                      42\nGuadeloupe                                42\nPersian Gulf (EIA)                        42\nReunion                                   42\nCentral & South America (EIA)             42\nMartinique                                42\nFrench Guiana                             42\nAfrica (EIA)                              42\nWake Island (EIA)                         42\nWestern Sahara                            42\nTuvalu                                    42\nU.S. Pacific Islands (EIA)                42\nAsia & Oceania (EIA)                      42\nU.S. Territories (EIA)                    40\nEstonia                                   39\nLatvia                                    39\nKazakhstan                                39\nLithuania                                 39\nRussia                                    39\nUnited States Pacific Islands (Shift)     37\nWake Island (Shift)                       37\nAruba                                     37\nUnited States Territories (Shift)         37\nCroatia                                   34\nNorth Macedonia                           34\nSlovenia                                  34\nSerbia                                    34\nNamibia                                   33\nMoldova                                   32\nGeorgia                                   32\nBosnia and Herzegovina                    32\nKyrgyzstan                                31\nArmenia                                   31\nTajikistan                                31\nEritrea                                   29\nPalestine                                 26\nAfrica (Ember)                            24\nAsia (Ember)                              24\nG20 (Ember)                               24\nG7 (Ember)                                24\nASEAN (Ember)                             24\nMontenegro                                24\nOceania (Ember)                           24\nOECD (Ember)                              24\nNorth America (Ember)                     24\nEurope (Ember)                            24\nKosovo                                    24\nLatin America and Caribbean (Ember)       24\nMiddle East (Ember)                       24\nEast Timor                                20\nSerbia and Montenegro                     14\nCuracao                                   12\nEast Germany                              11\nWest Germany                              11\nName: count, dtype: int64"
          },
          "metadata": {}
        }
      ],
      "outputs_reference": null,
      "execution_count": 47,
      "block_group": "91b0fcd1f6774b699d6c84c97ceb76ed",
      "content_dependencies": null
    },
    {
      "cell_type": "markdown",
      "source": "<a style='text-decoration:none;line-height:16px;display:flex;color:#5B5B62;padding:10px;justify-content:end;' href='https://deepnote.com?utm_source=created-in-deepnote-cell&projectId=13a90a7f-fdab-44fe-855c-ae8c9cbeedee' target=\"_blank\">\n<img alt='Created in deepnote.com' style='display:inline;max-height:16px;margin:0px;margin-right:7.5px;' src='data:image/svg+xml;base64,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' > </img>\nCreated in <span style='font-weight:600;margin-left:4px;'>Deepnote</span></a>",
      "metadata": {
        "created_in_deepnote_cell": true,
        "deepnote_cell_type": "markdown"
      }
    }
  ],
  "nbformat": 4,
  "nbformat_minor": 0,
  "metadata": {
    "deepnote_notebook_id": "f4f3559fe85340589ad4137c88ffdda5"
  }
}