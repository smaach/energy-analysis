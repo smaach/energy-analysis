{
  "cells": [
    {
      "cell_type": "markdown",
      "source": "# Data Exploration",
      "metadata": {
        "formattedRanges": [],
        "cell_id": "563e945aedd446408ea6accb1c649028",
        "deepnote_cell_type": "text-cell-h1"
      },
      "block_group": "c5643a343b4e403db7c3e27a01ec4863"
    },
    {
      "cell_type": "code",
      "metadata": {
        "source_hash": "662b4396",
        "execution_start": 1738134264896,
        "execution_millis": 989,
        "sql_integration_id": "deepnote-dataframe-sql",
        "deepnote_table_state": {
          "sortBy": [],
          "filters": [],
          "pageSize": 10,
          "pageIndex": 2,
          "columnOrder": [
            "Name of Painter",
            "Subject of Painting",
            "Style",
            "Medium",
            "Size",
            "Frame",
            "Location",
            "Price ($)",
            "Delivery (days)",
            "Shipment",
            "Color Palette",
            "Copy or Original",
            "Print or Real",
            "Recommended Environment",
            "Mood/Atmosphere",
            "Theme/Lighting Requirements",
            "Reproduction Type",
            "Target Audience"
          ],
          "hiddenColumnIds": [],
          "columnDisplayNames": [],
          "conditionalFilters": [],
          "cellFormattingRules": [],
          "wrappedTextColumnIds": []
        },
        "execution_context_id": "8bfbd449-f0e2-49a4-bac0-5329931e23cc",
        "deepnote_table_loading": false,
        "deepnote_variable_name": "df_1",
        "cell_id": "50617e134e7140e39106b38249947713",
        "deepnote_cell_type": "sql",
        "deepnote_sql_source": "SELECT * FROM read_csv_auto('/work/art-collection.csv')"
      },
      "source": "df_1 = (lambda: _deepnote_execute_sql('SELECT * FROM read_csv_auto(\\'/work/art-collection.csv\\')', 'SQL_DEEPNOTE_DATAFRAME_SQL', audit_sql_comment='', sql_cache_mode='cache_disabled') if '_deepnote_execute_sql' in globals() else _dntk.execute_sql('SELECT * FROM read_csv_auto(\\'/work/art-collection.csv\\')', 'SQL_DEEPNOTE_DATAFRAME_SQL', audit_sql_comment='', sql_cache_mode='cache_disabled'))()\ndf_1",
      "outputs": [
        {
          "output_type": "execute_result",
          "execution_count": 1,
          "data": {
            "application/vnd.deepnote.dataframe.v3+json": {
              "column_count": 18,
              "row_count": 2500,
              "columns": [
                {
                  "name": "Name of Painter",
                  "dtype": "object",
                  "stats": {
                    "unique_count": 11,
                    "nan_count": 0,
                    "categories": [
                      {
                        "name": "Olivia",
                        "count": 251
                      },
                      {
                        "name": "Jija",
                        "count": 240
                      },
                      {
                        "name": "9 others",
                        "count": 2009
                      }
                    ]
                  }
                },
                {
                  "name": "Subject of Painting",
                  "dtype": "object",
                  "stats": {
                    "unique_count": 7,
                    "nan_count": 0,
                    "categories": [
                      {
                        "name": "Wildlife",
                        "count": 370
                      },
                      {
                        "name": "Landscape",
                        "count": 369
                      },
                      {
                        "name": "5 others",
                        "count": 1761
                      }
                    ]
                  }
                },
                {
                  "name": "Style",
                  "dtype": "object",
                  "stats": {
                    "unique_count": 6,
                    "nan_count": 0,
                    "categories": [
                      {
                        "name": "Surrealism",
                        "count": 434
                      },
                      {
                        "name": "Abstract Expressionism",
                        "count": 426
                      },
                      {
                        "name": "4 others",
                        "count": 1640
                      }
                    ]
                  }
                },
                {
                  "name": "Medium",
                  "dtype": "object",
                  "stats": {
                    "unique_count": 5,
                    "nan_count": 0,
                    "categories": [
                      {
                        "name": "Watercolor",
                        "count": 672
                      },
                      {
                        "name": "Oil",
                        "count": 488
                      },
                      {
                        "name": "3 others",
                        "count": 1340
                      }
                    ]
                  }
                },
                {
                  "name": "Size",
                  "dtype": "object",
                  "stats": {
                    "unique_count": 5,
                    "nan_count": 0,
                    "categories": [
                      {
                        "name": "16\"x20\"",
                        "count": 514
                      },
                      {
                        "name": "18\"x24\"",
                        "count": 501
                      },
                      {
                        "name": "3 others",
                        "count": 1485
                      }
                    ]
                  }
                },
                {
                  "name": "Frame",
                  "dtype": "object",
                  "stats": {
                    "unique_count": 2,
                    "nan_count": 0,
                    "categories": [
                      {
                        "name": "No",
                        "count": 1285
                      },
                      {
                        "name": "Yes",
                        "count": 1215
                      }
                    ]
                  }
                },
                {
                  "name": "Location",
                  "dtype": "object",
                  "stats": {
                    "unique_count": 8,
                    "nan_count": 0,
                    "categories": [
                      {
                        "name": "Montreal",
                        "count": 535
                      },
                      {
                        "name": "Calgary",
                        "count": 301
                      },
                      {
                        "name": "6 others",
                        "count": 1664
                      }
                    ]
                  }
                },
                {
                  "name": "Price ($)",
                  "dtype": "int64",
                  "stats": {
                    "unique_count": 97,
                    "nan_count": 0,
                    "min": "127",
                    "max": "975",
                    "histogram": [
                      {
                        "bin_start": 127,
                        "bin_end": 211.8,
                        "count": 238
                      },
                      {
                        "bin_start": 211.8,
                        "bin_end": 296.6,
                        "count": 289
                      },
                      {
                        "bin_start": 296.6,
                        "bin_end": 381.4,
                        "count": 192
                      },
                      {
                        "bin_start": 381.4,
                        "bin_end": 466.2,
                        "count": 190
                      },
                      {
                        "bin_start": 466.2,
                        "bin_end": 551,
                        "count": 218
                      },
                      {
                        "bin_start": 551,
                        "bin_end": 635.8,
                        "count": 121
                      },
                      {
                        "bin_start": 635.8,
                        "bin_end": 720.6,
                        "count": 402
                      },
                      {
                        "bin_start": 720.6,
                        "bin_end": 805.4,
                        "count": 214
                      },
                      {
                        "bin_start": 805.4,
                        "bin_end": 890.1999999999999,
                        "count": 315
                      },
                      {
                        "bin_start": 890.1999999999999,
                        "bin_end": 975,
                        "count": 321
                      }
                    ]
                  }
                },
                {
                  "name": "Delivery (days)",
                  "dtype": "int64",
                  "stats": {
                    "unique_count": 8,
                    "nan_count": 0,
                    "min": "3",
                    "max": "10",
                    "histogram": [
                      {
                        "bin_start": 3,
                        "bin_end": 3.7,
                        "count": 314
                      },
                      {
                        "bin_start": 3.7,
                        "bin_end": 4.4,
                        "count": 371
                      },
                      {
                        "bin_start": 4.4,
                        "bin_end": 5.1,
                        "count": 201
                      },
                      {
                        "bin_start": 5.1,
                        "bin_end": 5.8,
                        "count": 0
                      },
                      {
                        "bin_start": 5.8,
                        "bin_end": 6.5,
                        "count": 318
                      },
                      {
                        "bin_start": 6.5,
                        "bin_end": 7.199999999999999,
                        "count": 415
                      },
                      {
                        "bin_start": 7.199999999999999,
                        "bin_end": 7.8999999999999995,
                        "count": 0
                      },
                      {
                        "bin_start": 7.8999999999999995,
                        "bin_end": 8.6,
                        "count": 258
                      },
                      {
                        "bin_start": 8.6,
                        "bin_end": 9.3,
                        "count": 332
                      },
                      {
                        "bin_start": 9.3,
                        "bin_end": 10,
                        "count": 291
                      }
                    ]
                  }
                },
                {
                  "name": "Shipment",
                  "dtype": "object",
                  "stats": {
                    "unique_count": 3,
                    "nan_count": 0,
                    "categories": [
                      {
                        "name": "Free Shipping",
                        "count": 834
                      },
                      {
                        "name": "Standard",
                        "count": 833
                      },
                      {
                        "name": "Express",
                        "count": 833
                      }
                    ]
                  }
                },
                {
                  "name": "Color Palette",
                  "dtype": "object",
                  "stats": {
                    "unique_count": 5,
                    "nan_count": 0,
                    "categories": [
                      {
                        "name": "Earthy Tones",
                        "count": 528
                      },
                      {
                        "name": "Cool Tones",
                        "count": 524
                      },
                      {
                        "name": "3 others",
                        "count": 1448
                      }
                    ]
                  }
                },
                {
                  "name": "Copy or Original",
                  "dtype": "object",
                  "stats": {
                    "unique_count": 2,
                    "nan_count": 0,
                    "categories": [
                      {
                        "name": "Original",
                        "count": 1279
                      },
                      {
                        "name": "Copy",
                        "count": 1221
                      }
                    ]
                  }
                },
                {
                  "name": "Print or Real",
                  "dtype": "object",
                  "stats": {
                    "unique_count": 2,
                    "nan_count": 0,
                    "categories": [
                      {
                        "name": "Print",
                        "count": 1282
                      },
                      {
                        "name": "Real",
                        "count": 1218
                      }
                    ]
                  }
                },
                {
                  "name": "Recommended Environment",
                  "dtype": "object",
                  "stats": {
                    "unique_count": 5,
                    "nan_count": 0,
                    "categories": [
                      {
                        "name": "Office",
                        "count": 515
                      },
                      {
                        "name": "Kid Room",
                        "count": 512
                      },
                      {
                        "name": "3 others",
                        "count": 1473
                      }
                    ]
                  }
                },
                {
                  "name": "Mood/Atmosphere",
                  "dtype": "object",
                  "stats": {
                    "unique_count": 5,
                    "nan_count": 0,
                    "categories": [
                      {
                        "name": "Relaxing",
                        "count": 512
                      },
                      {
                        "name": "Reflective",
                        "count": 509
                      },
                      {
                        "name": "3 others",
                        "count": 1479
                      }
                    ]
                  }
                },
                {
                  "name": "Theme/Lighting Requirements",
                  "dtype": "object",
                  "stats": {
                    "unique_count": 3,
                    "nan_count": 0,
                    "categories": [
                      {
                        "name": "Dim Light",
                        "count": 840
                      },
                      {
                        "name": "Natural Light",
                        "count": 839
                      },
                      {
                        "name": "Bright Light",
                        "count": 821
                      }
                    ]
                  }
                },
                {
                  "name": "Reproduction Type",
                  "dtype": "object",
                  "stats": {
                    "unique_count": 5,
                    "nan_count": 0,
                    "categories": [
                      {
                        "name": "N/A",
                        "count": 677
                      },
                      {
                        "name": "Lithograph",
                        "count": 623
                      },
                      {
                        "name": "3 others",
                        "count": 1200
                      }
                    ]
                  }
                },
                {
                  "name": "Target Audience",
                  "dtype": "object",
                  "stats": {
                    "unique_count": 5,
                    "nan_count": 0,
                    "categories": [
                      {
                        "name": "Interior Designers",
                        "count": 527
                      },
                      {
                        "name": "Corporate Clients",
                        "count": 509
                      },
                      {
                        "name": "3 others",
                        "count": 1464
                      }
                    ]
                  }
                },
                {
                  "name": "_deepnote_index_column",
                  "dtype": "int64"
                }
              ],
              "rows": [
                {
                  "Name of Painter": "Liam",
                  "Subject of Painting": "Wildlife",
                  "Style": "Surrealism",
                  "Medium": "Oil",
                  "Size": "30\"x40\"",
                  "Frame": "Yes",
                  "Location": "Toronto",
                  "Price ($)": 727,
                  "Delivery (days)": 10,
                  "Shipment": "Free Shipping",
                  "Color Palette": "Oceanic Tones",
                  "Copy or Original": "Original",
                  "Print or Real": "Real",
                  "Recommended Environment": "Kid Room",
                  "Mood/Atmosphere": "Energetic",
                  "Theme/Lighting Requirements": "Natural Light",
                  "Reproduction Type": "N/A",
                  "Target Audience": "Families",
                  "_deepnote_index_column": 20
                },
                {
                  "Name of Painter": "Frida",
                  "Subject of Painting": "Portrait",
                  "Style": "Modern",
                  "Medium": "Acrylic",
                  "Size": "24\"x36\"",
                  "Frame": "Yes",
                  "Location": "Vancouver",
                  "Price ($)": 715,
                  "Delivery (days)": 4,
                  "Shipment": "Standard",
                  "Color Palette": "Neutral Tones",
                  "Copy or Original": "Copy",
                  "Print or Real": "Print",
                  "Recommended Environment": "Office",
                  "Mood/Atmosphere": "Calming",
                  "Theme/Lighting Requirements": "Bright Light",
                  "Reproduction Type": "Screen Print",
                  "Target Audience": "Interior Designers",
                  "_deepnote_index_column": 21
                },
                {
                  "Name of Painter": "Leonardo",
                  "Subject of Painting": "Wildlife",
                  "Style": "Modern",
                  "Medium": "Watercolor",
                  "Size": "18\"x24\"",
                  "Frame": "Yes",
                  "Location": "Chicago",
                  "Price ($)": 956,
                  "Delivery (days)": 4,
                  "Shipment": "Free Shipping",
                  "Color Palette": "Neutral Tones",
                  "Copy or Original": "Copy",
                  "Print or Real": "Print",
                  "Recommended Environment": "Kid Room",
                  "Mood/Atmosphere": "Calming",
                  "Theme/Lighting Requirements": "Bright Light",
                  "Reproduction Type": "Lithograph",
                  "Target Audience": "Corporate Clients",
                  "_deepnote_index_column": 22
                },
                {
                  "Name of Painter": "Liam",
                  "Subject of Painting": "Fantasy",
                  "Style": "Realism",
                  "Medium": "Charcoal",
                  "Size": "18\"x24\"",
                  "Frame": "No",
                  "Location": "Los Angeles",
                  "Price ($)": 891,
                  "Delivery (days)": 8,
                  "Shipment": "Express",
                  "Color Palette": "Neutral Tones",
                  "Copy or Original": "Original",
                  "Print or Real": "Print",
                  "Recommended Environment": "Living Room",
                  "Mood/Atmosphere": "Energetic",
                  "Theme/Lighting Requirements": "Natural Light",
                  "Reproduction Type": "Lithograph",
                  "Target Audience": "Interior Designers",
                  "_deepnote_index_column": 23
                },
                {
                  "Name of Painter": "Claude",
                  "Subject of Painting": "Seascape",
                  "Style": "Impressionism",
                  "Medium": "Acrylic",
                  "Size": "20\"x30\"",
                  "Frame": "No",
                  "Location": "Montreal",
                  "Price ($)": 875,
                  "Delivery (days)": 10,
                  "Shipment": "Express",
                  "Color Palette": "Warm Tones",
                  "Copy or Original": "Original",
                  "Print or Real": "Real",
                  "Recommended Environment": "Living Room",
                  "Mood/Atmosphere": "Reflective",
                  "Theme/Lighting Requirements": "Dim Light",
                  "Reproduction Type": "Screen Print",
                  "Target Audience": "Families",
                  "_deepnote_index_column": 24
                },
                {
                  "Name of Painter": "Olivia",
                  "Subject of Painting": "Abstract",
                  "Style": "Surrealism",
                  "Medium": "Mixed Media",
                  "Size": "20\"x30\"",
                  "Frame": "No",
                  "Location": "Calgary",
                  "Price ($)": 825,
                  "Delivery (days)": 4,
                  "Shipment": "Standard",
                  "Color Palette": "Neutral Tones",
                  "Copy or Original": "Copy",
                  "Print or Real": "Real",
                  "Recommended Environment": "Bedroom",
                  "Mood/Atmosphere": "Reflective",
                  "Theme/Lighting Requirements": "Natural Light",
                  "Reproduction Type": "Giclée",
                  "Target Audience": "Art Collectors",
                  "_deepnote_index_column": 25
                },
                {
                  "Name of Painter": "Olivia",
                  "Subject of Painting": "Fantasy",
                  "Style": "Surrealism",
                  "Medium": "Watercolor",
                  "Size": "20\"x30\"",
                  "Frame": "Yes",
                  "Location": "Montreal",
                  "Price ($)": 127,
                  "Delivery (days)": 7,
                  "Shipment": "Free Shipping",
                  "Color Palette": "Earthy Tones",
                  "Copy or Original": "Original",
                  "Print or Real": "Print",
                  "Recommended Environment": "Kid Room",
                  "Mood/Atmosphere": "Reflective",
                  "Theme/Lighting Requirements": "Dim Light",
                  "Reproduction Type": "Screen Print",
                  "Target Audience": "Young Professionals",
                  "_deepnote_index_column": 26
                },
                {
                  "Name of Painter": "Pablo",
                  "Subject of Painting": "Abstract",
                  "Style": "Surrealism",
                  "Medium": "Watercolor",
                  "Size": "24\"x36\"",
                  "Frame": "No",
                  "Location": "New York",
                  "Price ($)": 452,
                  "Delivery (days)": 8,
                  "Shipment": "Express",
                  "Color Palette": "Earthy Tones",
                  "Copy or Original": "Original",
                  "Print or Real": "Real",
                  "Recommended Environment": "Office",
                  "Mood/Atmosphere": "Calming",
                  "Theme/Lighting Requirements": "Dim Light",
                  "Reproduction Type": "N/A",
                  "Target Audience": "Young Professionals",
                  "_deepnote_index_column": 27
                },
                {
                  "Name of Painter": "Frida",
                  "Subject of Painting": "Portrait",
                  "Style": "Abstract Expressionism",
                  "Medium": "Mixed Media",
                  "Size": "30\"x40\"",
                  "Frame": "Yes",
                  "Location": "Montreal",
                  "Price ($)": 907,
                  "Delivery (days)": 6,
                  "Shipment": "Free Shipping",
                  "Color Palette": "Cool Tones",
                  "Copy or Original": "Original",
                  "Print or Real": "Print",
                  "Recommended Environment": "Bedroom",
                  "Mood/Atmosphere": "Joyful",
                  "Theme/Lighting Requirements": "Dim Light",
                  "Reproduction Type": "Giclée",
                  "Target Audience": "Corporate Clients",
                  "_deepnote_index_column": 28
                },
                {
                  "Name of Painter": "Ava",
                  "Subject of Painting": "Still Life",
                  "Style": "Realism",
                  "Medium": "Acrylic",
                  "Size": "16\"x20\"",
                  "Frame": "Yes",
                  "Location": "Vancouver",
                  "Price ($)": 344,
                  "Delivery (days)": 4,
                  "Shipment": "Express",
                  "Color Palette": "Neutral Tones",
                  "Copy or Original": "Copy",
                  "Print or Real": "Real",
                  "Recommended Environment": "Kid Room",
                  "Mood/Atmosphere": "Reflective",
                  "Theme/Lighting Requirements": "Natural Light",
                  "Reproduction Type": "Fine Art Print",
                  "Target Audience": "Families",
                  "_deepnote_index_column": 29
                }
              ]
            },
            "text/plain": "     Name of Painter Subject of Painting                   Style       Medium  \\\n0               Noah            Seascape  Abstract Expressionism   Watercolor   \n1            Vincent            Abstract  Abstract Expressionism     Charcoal   \n2                Ava          Still Life                  Modern   Watercolor   \n3               Liam            Wildlife                  Cubism      Acrylic   \n4             Olivia           Landscape  Abstract Expressionism     Charcoal   \n...              ...                 ...                     ...          ...   \n2495           Pablo            Wildlife                 Realism  Mixed Media   \n2496        Leonardo             Fantasy                  Modern   Watercolor   \n2497            Emma           Landscape                  Modern          Oil   \n2498            Liam            Portrait           Impressionism  Mixed Media   \n2499            Jija             Fantasy           Impressionism   Watercolor   \n\n         Size Frame     Location  Price ($)  Delivery (days)       Shipment  \\\n0     20\"x30\"   Yes      Chicago        459                6  Free Shipping   \n1     20\"x30\"    No        Miami        657                6  Free Shipping   \n2     18\"x24\"    No        Miami        907                7       Standard   \n3     18\"x24\"    No      Calgary        649                3       Standard   \n4     30\"x40\"   Yes        Miami        539                5  Free Shipping   \n...       ...   ...          ...        ...              ...            ...   \n2495  30\"x40\"    No     New York        469                5  Free Shipping   \n2496  18\"x24\"   Yes      Chicago        943               10        Express   \n2497  18\"x24\"    No      Toronto        469                9        Express   \n2498  30\"x40\"   Yes  Los Angeles        605                6        Express   \n2499  18\"x24\"    No     Montreal        746               10  Free Shipping   \n\n      Color Palette Copy or Original Print or Real Recommended Environment  \\\n0     Neutral Tones         Original         Print                 Bedroom   \n1        Cool Tones         Original         Print             Living Room   \n2        Cool Tones         Original          Real                Kid Room   \n3     Oceanic Tones         Original          Real                  Office   \n4      Earthy Tones             Copy         Print                  Office   \n...             ...              ...           ...                     ...   \n2495   Earthy Tones             Copy         Print                 Bedroom   \n2496   Earthy Tones         Original         Print             Living Room   \n2497     Cool Tones         Original         Print                 Bedroom   \n2498  Oceanic Tones         Original         Print                 Gallery   \n2499     Cool Tones             Copy         Print                 Gallery   \n\n     Mood/Atmosphere Theme/Lighting Requirements Reproduction Type  \\\n0            Calming               Natural Light      Screen Print   \n1           Relaxing               Natural Light               N/A   \n2             Joyful               Natural Light               N/A   \n3         Reflective                Bright Light        Lithograph   \n4          Energetic                Bright Light        Lithograph   \n...              ...                         ...               ...   \n2495          Joyful                Bright Light            Giclée   \n2496         Calming               Natural Light      Screen Print   \n2497          Joyful               Natural Light      Screen Print   \n2498          Joyful                   Dim Light            Giclée   \n2499       Energetic               Natural Light      Screen Print   \n\n          Target Audience  \n0       Corporate Clients  \n1       Corporate Clients  \n2       Corporate Clients  \n3     Young Professionals  \n4       Corporate Clients  \n...                   ...  \n2495   Interior Designers  \n2496  Young Professionals  \n2497             Families  \n2498   Interior Designers  \n2499   Interior Designers  \n\n[2500 rows x 18 columns]",
            "text/html": "<div>\n<style scoped>\n    .dataframe tbody tr th:only-of-type {\n        vertical-align: middle;\n    }\n\n    .dataframe tbody tr th {\n        vertical-align: top;\n    }\n\n    .dataframe thead th {\n        text-align: right;\n    }\n</style>\n<table border=\"1\" class=\"dataframe\">\n  <thead>\n    <tr style=\"text-align: right;\">\n      <th></th>\n      <th>Name of Painter</th>\n      <th>Subject of Painting</th>\n      <th>Style</th>\n      <th>Medium</th>\n      <th>Size</th>\n      <th>Frame</th>\n      <th>Location</th>\n      <th>Price ($)</th>\n      <th>Delivery (days)</th>\n      <th>Shipment</th>\n      <th>Color Palette</th>\n      <th>Copy or Original</th>\n      <th>Print or Real</th>\n      <th>Recommended Environment</th>\n      <th>Mood/Atmosphere</th>\n      <th>Theme/Lighting Requirements</th>\n      <th>Reproduction Type</th>\n      <th>Target Audience</th>\n    </tr>\n  </thead>\n  <tbody>\n    <tr>\n      <th>0</th>\n      <td>Noah</td>\n      <td>Seascape</td>\n      <td>Abstract Expressionism</td>\n      <td>Watercolor</td>\n      <td>20\"x30\"</td>\n      <td>Yes</td>\n      <td>Chicago</td>\n      <td>459</td>\n      <td>6</td>\n      <td>Free Shipping</td>\n      <td>Neutral Tones</td>\n      <td>Original</td>\n      <td>Print</td>\n      <td>Bedroom</td>\n      <td>Calming</td>\n      <td>Natural Light</td>\n      <td>Screen Print</td>\n      <td>Corporate Clients</td>\n    </tr>\n    <tr>\n      <th>1</th>\n      <td>Vincent</td>\n      <td>Abstract</td>\n      <td>Abstract Expressionism</td>\n      <td>Charcoal</td>\n      <td>20\"x30\"</td>\n      <td>No</td>\n      <td>Miami</td>\n      <td>657</td>\n      <td>6</td>\n      <td>Free Shipping</td>\n      <td>Cool Tones</td>\n      <td>Original</td>\n      <td>Print</td>\n      <td>Living Room</td>\n      <td>Relaxing</td>\n      <td>Natural Light</td>\n      <td>N/A</td>\n      <td>Corporate Clients</td>\n    </tr>\n    <tr>\n      <th>2</th>\n      <td>Ava</td>\n      <td>Still Life</td>\n      <td>Modern</td>\n      <td>Watercolor</td>\n      <td>18\"x24\"</td>\n      <td>No</td>\n      <td>Miami</td>\n      <td>907</td>\n      <td>7</td>\n      <td>Standard</td>\n      <td>Cool Tones</td>\n      <td>Original</td>\n      <td>Real</td>\n      <td>Kid Room</td>\n      <td>Joyful</td>\n      <td>Natural Light</td>\n      <td>N/A</td>\n      <td>Corporate Clients</td>\n    </tr>\n    <tr>\n      <th>3</th>\n      <td>Liam</td>\n      <td>Wildlife</td>\n      <td>Cubism</td>\n      <td>Acrylic</td>\n      <td>18\"x24\"</td>\n      <td>No</td>\n      <td>Calgary</td>\n      <td>649</td>\n      <td>3</td>\n      <td>Standard</td>\n      <td>Oceanic Tones</td>\n      <td>Original</td>\n      <td>Real</td>\n      <td>Office</td>\n      <td>Reflective</td>\n      <td>Bright Light</td>\n      <td>Lithograph</td>\n      <td>Young Professionals</td>\n    </tr>\n    <tr>\n      <th>4</th>\n      <td>Olivia</td>\n      <td>Landscape</td>\n      <td>Abstract Expressionism</td>\n      <td>Charcoal</td>\n      <td>30\"x40\"</td>\n      <td>Yes</td>\n      <td>Miami</td>\n      <td>539</td>\n      <td>5</td>\n      <td>Free Shipping</td>\n      <td>Earthy Tones</td>\n      <td>Copy</td>\n      <td>Print</td>\n      <td>Office</td>\n      <td>Energetic</td>\n      <td>Bright Light</td>\n      <td>Lithograph</td>\n      <td>Corporate Clients</td>\n    </tr>\n    <tr>\n      <th>...</th>\n      <td>...</td>\n      <td>...</td>\n      <td>...</td>\n      <td>...</td>\n      <td>...</td>\n      <td>...</td>\n      <td>...</td>\n      <td>...</td>\n      <td>...</td>\n      <td>...</td>\n      <td>...</td>\n      <td>...</td>\n      <td>...</td>\n      <td>...</td>\n      <td>...</td>\n      <td>...</td>\n      <td>...</td>\n      <td>...</td>\n    </tr>\n    <tr>\n      <th>2495</th>\n      <td>Pablo</td>\n      <td>Wildlife</td>\n      <td>Realism</td>\n      <td>Mixed Media</td>\n      <td>30\"x40\"</td>\n      <td>No</td>\n      <td>New York</td>\n      <td>469</td>\n      <td>5</td>\n      <td>Free Shipping</td>\n      <td>Earthy Tones</td>\n      <td>Copy</td>\n      <td>Print</td>\n      <td>Bedroom</td>\n      <td>Joyful</td>\n      <td>Bright Light</td>\n      <td>Giclée</td>\n      <td>Interior Designers</td>\n    </tr>\n    <tr>\n      <th>2496</th>\n      <td>Leonardo</td>\n      <td>Fantasy</td>\n      <td>Modern</td>\n      <td>Watercolor</td>\n      <td>18\"x24\"</td>\n      <td>Yes</td>\n      <td>Chicago</td>\n      <td>943</td>\n      <td>10</td>\n      <td>Express</td>\n      <td>Earthy Tones</td>\n      <td>Original</td>\n      <td>Print</td>\n      <td>Living Room</td>\n      <td>Calming</td>\n      <td>Natural Light</td>\n      <td>Screen Print</td>\n      <td>Young Professionals</td>\n    </tr>\n    <tr>\n      <th>2497</th>\n      <td>Emma</td>\n      <td>Landscape</td>\n      <td>Modern</td>\n      <td>Oil</td>\n      <td>18\"x24\"</td>\n      <td>No</td>\n      <td>Toronto</td>\n      <td>469</td>\n      <td>9</td>\n      <td>Express</td>\n      <td>Cool Tones</td>\n      <td>Original</td>\n      <td>Print</td>\n      <td>Bedroom</td>\n      <td>Joyful</td>\n      <td>Natural Light</td>\n      <td>Screen Print</td>\n      <td>Families</td>\n    </tr>\n    <tr>\n      <th>2498</th>\n      <td>Liam</td>\n      <td>Portrait</td>\n      <td>Impressionism</td>\n      <td>Mixed Media</td>\n      <td>30\"x40\"</td>\n      <td>Yes</td>\n      <td>Los Angeles</td>\n      <td>605</td>\n      <td>6</td>\n      <td>Express</td>\n      <td>Oceanic Tones</td>\n      <td>Original</td>\n      <td>Print</td>\n      <td>Gallery</td>\n      <td>Joyful</td>\n      <td>Dim Light</td>\n      <td>Giclée</td>\n      <td>Interior Designers</td>\n    </tr>\n    <tr>\n      <th>2499</th>\n      <td>Jija</td>\n      <td>Fantasy</td>\n      <td>Impressionism</td>\n      <td>Watercolor</td>\n      <td>18\"x24\"</td>\n      <td>No</td>\n      <td>Montreal</td>\n      <td>746</td>\n      <td>10</td>\n      <td>Free Shipping</td>\n      <td>Cool Tones</td>\n      <td>Copy</td>\n      <td>Print</td>\n      <td>Gallery</td>\n      <td>Energetic</td>\n      <td>Natural Light</td>\n      <td>Screen Print</td>\n      <td>Interior Designers</td>\n    </tr>\n  </tbody>\n</table>\n<p>2500 rows × 18 columns</p>\n</div>"
          },
          "metadata": {}
        }
      ],
      "outputs_reference": null,
      "execution_count": 1,
      "block_group": "56c0d452fbdd44c9b0b08848fff59819",
      "content_dependencies": null
    },
    {
      "cell_type": "code",
      "metadata": {
        "source_hash": "9cc29cc4",
        "execution_start": 1738134265931,
        "execution_millis": 306,
        "sql_integration_id": "deepnote-dataframe-sql",
        "execution_context_id": "8bfbd449-f0e2-49a4-bac0-5329931e23cc",
        "deepnote_variable_name": "df_4",
        "cell_id": "9e691ddfd0f7445ebd0400f2aa052fb5",
        "deepnote_cell_type": "sql",
        "deepnote_sql_source": "CREATE TABLE art AS SELECT * FROM read_csv_auto('/work/art-collection.csv');\nALTER TABLE art RENAME COLUMN \"Subject of Painting\" TO painting_subject;\nALTER TABLE art RENAME COLUMN \"Name of Painter\" TO painter_name;"
      },
      "source": "df_4 = (lambda: _deepnote_execute_sql('CREATE TABLE art AS SELECT * FROM read_csv_auto(\\'/work/art-collection.csv\\');\\nALTER TABLE art RENAME COLUMN \"Subject of Painting\" TO painting_subject;\\nALTER TABLE art RENAME COLUMN \"Name of Painter\" TO painter_name;', 'SQL_DEEPNOTE_DATAFRAME_SQL', audit_sql_comment='', sql_cache_mode='cache_disabled') if '_deepnote_execute_sql' in globals() else _dntk.execute_sql('CREATE TABLE art AS SELECT * FROM read_csv_auto(\\'/work/art-collection.csv\\');\\nALTER TABLE art RENAME COLUMN \"Subject of Painting\" TO painting_subject;\\nALTER TABLE art RENAME COLUMN \"Name of Painter\" TO painter_name;', 'SQL_DEEPNOTE_DATAFRAME_SQL', audit_sql_comment='', sql_cache_mode='cache_disabled'))()\ndf_4",
      "outputs": [
        {
          "output_type": "execute_result",
          "execution_count": 2,
          "data": {
            "application/vnd.deepnote.dataframe.v3+json": {
              "column_count": 1,
              "row_count": 0,
              "columns": [
                {
                  "name": "Success",
                  "dtype": "bool",
                  "stats": {
                    "unique_count": 0,
                    "nan_count": 0,
                    "categories": []
                  }
                },
                {
                  "name": "_deepnote_index_column",
                  "dtype": "int64"
                }
              ],
              "rows": []
            },
            "text/plain": "Empty DataFrame\nColumns: [Success]\nIndex: []",
            "text/html": "<div>\n<style scoped>\n    .dataframe tbody tr th:only-of-type {\n        vertical-align: middle;\n    }\n\n    .dataframe tbody tr th {\n        vertical-align: top;\n    }\n\n    .dataframe thead th {\n        text-align: right;\n    }\n</style>\n<table border=\"1\" class=\"dataframe\">\n  <thead>\n    <tr style=\"text-align: right;\">\n      <th></th>\n      <th>Success</th>\n    </tr>\n  </thead>\n  <tbody>\n  </tbody>\n</table>\n</div>"
          },
          "metadata": {}
        }
      ],
      "outputs_reference": null,
      "execution_count": 2,
      "block_group": "cdbf3f5f79864db78a71aa1b7c798feb",
      "content_dependencies": null
    },
    {
      "cell_type": "markdown",
      "source": "## What are different types of paintings?",
      "metadata": {
        "formattedRanges": [],
        "cell_id": "f6f874ddbcb2493bbc1383dc0c47da23",
        "deepnote_cell_type": "text-cell-h2"
      },
      "block_group": "8d5d75bb86c6453dacfce4a1a1d1eb57"
    },
    {
      "cell_type": "code",
      "metadata": {
        "source_hash": "1c9505ec",
        "execution_start": 1738134277776,
        "execution_millis": 10,
        "sql_integration_id": "deepnote-dataframe-sql",
        "execution_context_id": "8bfbd449-f0e2-49a4-bac0-5329931e23cc",
        "deepnote_variable_name": "df_2",
        "cell_id": "fb68dbbfc57c411c8c3cbf02f5a10b85",
        "deepnote_cell_type": "sql",
        "deepnote_sql_source": "SELECT Style, COUNT(Style) AS 'TOTAL' FROM art\nGROUP BY Style\nORDER BY TOTAL DESC;"
      },
      "source": "df_2 = (lambda: _deepnote_execute_sql('SELECT Style, COUNT(Style) AS \\'TOTAL\\' FROM art\\nGROUP BY Style\\nORDER BY TOTAL DESC;', 'SQL_DEEPNOTE_DATAFRAME_SQL', audit_sql_comment='', sql_cache_mode='cache_disabled') if '_deepnote_execute_sql' in globals() else _dntk.execute_sql('SELECT Style, COUNT(Style) AS \\'TOTAL\\' FROM art\\nGROUP BY Style\\nORDER BY TOTAL DESC;', 'SQL_DEEPNOTE_DATAFRAME_SQL', audit_sql_comment='', sql_cache_mode='cache_disabled'))()\ndf_2",
      "outputs": [
        {
          "output_type": "execute_result",
          "execution_count": 5,
          "data": {
            "application/vnd.deepnote.dataframe.v3+json": {
              "column_count": 2,
              "row_count": 6,
              "columns": [
                {
                  "name": "Style",
                  "dtype": "object",
                  "stats": {
                    "unique_count": 6,
                    "nan_count": 0,
                    "categories": [
                      {
                        "name": "Surrealism",
                        "count": 1
                      },
                      {
                        "name": "Abstract Expressionism",
                        "count": 1
                      },
                      {
                        "name": "4 others",
                        "count": 4
                      }
                    ]
                  }
                },
                {
                  "name": "TOTAL",
                  "dtype": "int64",
                  "stats": {
                    "unique_count": 6,
                    "nan_count": 0,
                    "min": "382",
                    "max": "434",
                    "histogram": [
                      {
                        "bin_start": 382,
                        "bin_end": 387.2,
                        "count": 1
                      },
                      {
                        "bin_start": 387.2,
                        "bin_end": 392.4,
                        "count": 0
                      },
                      {
                        "bin_start": 392.4,
                        "bin_end": 397.6,
                        "count": 0
                      },
                      {
                        "bin_start": 397.6,
                        "bin_end": 402.8,
                        "count": 0
                      },
                      {
                        "bin_start": 402.8,
                        "bin_end": 408,
                        "count": 0
                      },
                      {
                        "bin_start": 408,
                        "bin_end": 413.2,
                        "count": 0
                      },
                      {
                        "bin_start": 413.2,
                        "bin_end": 418.4,
                        "count": 2
                      },
                      {
                        "bin_start": 418.4,
                        "bin_end": 423.6,
                        "count": 1
                      },
                      {
                        "bin_start": 423.6,
                        "bin_end": 428.8,
                        "count": 1
                      },
                      {
                        "bin_start": 428.8,
                        "bin_end": 434,
                        "count": 1
                      }
                    ]
                  }
                },
                {
                  "name": "_deepnote_index_column",
                  "dtype": "int64"
                }
              ],
              "rows": [
                {
                  "Style": "Surrealism",
                  "TOTAL": 434,
                  "_deepnote_index_column": 0
                },
                {
                  "Style": "Abstract Expressionism",
                  "TOTAL": 426,
                  "_deepnote_index_column": 1
                },
                {
                  "Style": "Modern",
                  "TOTAL": 423,
                  "_deepnote_index_column": 2
                },
                {
                  "Style": "Cubism",
                  "TOTAL": 418,
                  "_deepnote_index_column": 3
                },
                {
                  "Style": "Realism",
                  "TOTAL": 417,
                  "_deepnote_index_column": 4
                },
                {
                  "Style": "Impressionism",
                  "TOTAL": 382,
                  "_deepnote_index_column": 5
                }
              ]
            },
            "text/plain": "                    Style  TOTAL\n0              Surrealism    434\n1  Abstract Expressionism    426\n2                  Modern    423\n3                  Cubism    418\n4                 Realism    417\n5           Impressionism    382",
            "text/html": "<div>\n<style scoped>\n    .dataframe tbody tr th:only-of-type {\n        vertical-align: middle;\n    }\n\n    .dataframe tbody tr th {\n        vertical-align: top;\n    }\n\n    .dataframe thead th {\n        text-align: right;\n    }\n</style>\n<table border=\"1\" class=\"dataframe\">\n  <thead>\n    <tr style=\"text-align: right;\">\n      <th></th>\n      <th>Style</th>\n      <th>TOTAL</th>\n    </tr>\n  </thead>\n  <tbody>\n    <tr>\n      <th>0</th>\n      <td>Surrealism</td>\n      <td>434</td>\n    </tr>\n    <tr>\n      <th>1</th>\n      <td>Abstract Expressionism</td>\n      <td>426</td>\n    </tr>\n    <tr>\n      <th>2</th>\n      <td>Modern</td>\n      <td>423</td>\n    </tr>\n    <tr>\n      <th>3</th>\n      <td>Cubism</td>\n      <td>418</td>\n    </tr>\n    <tr>\n      <th>4</th>\n      <td>Realism</td>\n      <td>417</td>\n    </tr>\n    <tr>\n      <th>5</th>\n      <td>Impressionism</td>\n      <td>382</td>\n    </tr>\n  </tbody>\n</table>\n</div>"
          },
          "metadata": {}
        }
      ],
      "outputs_reference": null,
      "execution_count": 5,
      "block_group": "a04401cf2dd547fda2ebb7ae2e505ef0",
      "content_dependencies": null
    },
    {
      "cell_type": "markdown",
      "source": "The highest paintings are from Surrealism, while the lowest are associated with Impressionism. Let's focus more on painting style of Surrealism. ",
      "metadata": {
        "formattedRanges": [],
        "cell_id": "69923289869c45c28422b56309724268",
        "deepnote_cell_type": "text-cell-p"
      },
      "block_group": "2de600dcf93f402db02349d5d99ca796"
    },
    {
      "cell_type": "markdown",
      "source": "",
      "metadata": {
        "formattedRanges": [],
        "cell_id": "ea5a3a2e9f67421e9c211ef499de4b6b",
        "deepnote_cell_type": "text-cell-p"
      },
      "block_group": "ab6d4ac1a12f4e489cbc1cc1caac8ebc"
    },
    {
      "cell_type": "code",
      "metadata": {
        "source_hash": "475be41c",
        "execution_start": 1738134359108,
        "execution_millis": 0,
        "sql_integration_id": "deepnote-dataframe-sql",
        "deepnote_table_state": {
          "sortBy": [],
          "filters": [],
          "pageSize": 10,
          "pageIndex": 0,
          "columnOrder": [
            "painter_name"
          ],
          "hiddenColumnIds": [],
          "columnDisplayNames": [],
          "conditionalFilters": [],
          "cellFormattingRules": [],
          "wrappedTextColumnIds": []
        },
        "execution_context_id": "8bfbd449-f0e2-49a4-bac0-5329931e23cc",
        "deepnote_table_loading": false,
        "deepnote_variable_name": "df_3",
        "cell_id": "044f48c26a684a5c82a624d732150d0d",
        "deepnote_cell_type": "sql",
        "deepnote_sql_source": "SELECT painter_name, COUNT(painter_name) AS 'total_paintings' FROM art\nWHERE Style = 'Surrealism'\nGROUP BY painter_name\nORDER BY total_paintings DESC;\n"
      },
      "source": "df_3 = (lambda: _deepnote_execute_sql('SELECT painter_name, COUNT(painter_name) AS \\'total_paintings\\' FROM art\\nWHERE Style = \\'Surrealism\\'\\nGROUP BY painter_name\\nORDER BY total_paintings DESC;\\n', 'SQL_DEEPNOTE_DATAFRAME_SQL', audit_sql_comment='', sql_cache_mode='cache_disabled') if '_deepnote_execute_sql' in globals() else _dntk.execute_sql('SELECT painter_name, COUNT(painter_name) AS \\'total_paintings\\' FROM art\\nWHERE Style = \\'Surrealism\\'\\nGROUP BY painter_name\\nORDER BY total_paintings DESC;\\n', 'SQL_DEEPNOTE_DATAFRAME_SQL', audit_sql_comment='', sql_cache_mode='cache_disabled'))()\ndf_3",
      "outputs": [
        {
          "output_type": "execute_result",
          "execution_count": 13,
          "data": {
            "application/vnd.deepnote.dataframe.v3+json": {
              "column_count": 2,
              "row_count": 11,
              "columns": [
                {
                  "name": "painter_name",
                  "dtype": "object",
                  "stats": {
                    "unique_count": 11,
                    "nan_count": 0,
                    "categories": [
                      {
                        "name": "Frida",
                        "count": 1
                      },
                      {
                        "name": "Liam",
                        "count": 1
                      },
                      {
                        "name": "9 others",
                        "count": 9
                      }
                    ]
                  }
                },
                {
                  "name": "total_paintings",
                  "dtype": "int64",
                  "stats": {
                    "unique_count": 7,
                    "nan_count": 0,
                    "min": "30",
                    "max": "52",
                    "histogram": [
                      {
                        "bin_start": 30,
                        "bin_end": 32.2,
                        "count": 2
                      },
                      {
                        "bin_start": 32.2,
                        "bin_end": 34.4,
                        "count": 0
                      },
                      {
                        "bin_start": 34.4,
                        "bin_end": 36.6,
                        "count": 0
                      },
                      {
                        "bin_start": 36.6,
                        "bin_end": 38.8,
                        "count": 3
                      },
                      {
                        "bin_start": 38.8,
                        "bin_end": 41,
                        "count": 0
                      },
                      {
                        "bin_start": 41,
                        "bin_end": 43.2,
                        "count": 5
                      },
                      {
                        "bin_start": 43.2,
                        "bin_end": 45.400000000000006,
                        "count": 0
                      },
                      {
                        "bin_start": 45.400000000000006,
                        "bin_end": 47.6,
                        "count": 0
                      },
                      {
                        "bin_start": 47.6,
                        "bin_end": 49.8,
                        "count": 0
                      },
                      {
                        "bin_start": 49.8,
                        "bin_end": 52,
                        "count": 1
                      }
                    ]
                  }
                },
                {
                  "name": "_deepnote_index_column",
                  "dtype": "int64"
                }
              ],
              "rows": [
                {
                  "painter_name": "Frida",
                  "total_paintings": 52,
                  "_deepnote_index_column": 0
                },
                {
                  "painter_name": "Liam",
                  "total_paintings": 43,
                  "_deepnote_index_column": 1
                },
                {
                  "painter_name": "Pablo",
                  "total_paintings": 43,
                  "_deepnote_index_column": 2
                },
                {
                  "painter_name": "Jija",
                  "total_paintings": 42,
                  "_deepnote_index_column": 3
                },
                {
                  "painter_name": "Olivia",
                  "total_paintings": 41,
                  "_deepnote_index_column": 4
                },
                {
                  "painter_name": "Vincent",
                  "total_paintings": 41,
                  "_deepnote_index_column": 5
                },
                {
                  "painter_name": "Emma",
                  "total_paintings": 37,
                  "_deepnote_index_column": 6
                },
                {
                  "painter_name": "Ava",
                  "total_paintings": 37,
                  "_deepnote_index_column": 7
                },
                {
                  "painter_name": "Leonardo",
                  "total_paintings": 37,
                  "_deepnote_index_column": 8
                },
                {
                  "painter_name": "Noah",
                  "total_paintings": 31,
                  "_deepnote_index_column": 9
                }
              ]
            },
            "text/plain": "   painter_name  total_paintings\n0         Frida               52\n1          Liam               43\n2         Pablo               43\n3          Jija               42\n4        Olivia               41\n5       Vincent               41\n6          Emma               37\n7           Ava               37\n8      Leonardo               37\n9          Noah               31\n10       Claude               30",
            "text/html": "<div>\n<style scoped>\n    .dataframe tbody tr th:only-of-type {\n        vertical-align: middle;\n    }\n\n    .dataframe tbody tr th {\n        vertical-align: top;\n    }\n\n    .dataframe thead th {\n        text-align: right;\n    }\n</style>\n<table border=\"1\" class=\"dataframe\">\n  <thead>\n    <tr style=\"text-align: right;\">\n      <th></th>\n      <th>painter_name</th>\n      <th>total_paintings</th>\n    </tr>\n  </thead>\n  <tbody>\n    <tr>\n      <th>0</th>\n      <td>Frida</td>\n      <td>52</td>\n    </tr>\n    <tr>\n      <th>1</th>\n      <td>Liam</td>\n      <td>43</td>\n    </tr>\n    <tr>\n      <th>2</th>\n      <td>Pablo</td>\n      <td>43</td>\n    </tr>\n    <tr>\n      <th>3</th>\n      <td>Jija</td>\n      <td>42</td>\n    </tr>\n    <tr>\n      <th>4</th>\n      <td>Olivia</td>\n      <td>41</td>\n    </tr>\n    <tr>\n      <th>5</th>\n      <td>Vincent</td>\n      <td>41</td>\n    </tr>\n    <tr>\n      <th>6</th>\n      <td>Emma</td>\n      <td>37</td>\n    </tr>\n    <tr>\n      <th>7</th>\n      <td>Ava</td>\n      <td>37</td>\n    </tr>\n    <tr>\n      <th>8</th>\n      <td>Leonardo</td>\n      <td>37</td>\n    </tr>\n    <tr>\n      <th>9</th>\n      <td>Noah</td>\n      <td>31</td>\n    </tr>\n    <tr>\n      <th>10</th>\n      <td>Claude</td>\n      <td>30</td>\n    </tr>\n  </tbody>\n</table>\n</div>"
          },
          "metadata": {}
        }
      ],
      "outputs_reference": null,
      "execution_count": 13,
      "block_group": "5a543bceda374dae8c25ff55cbfbff69",
      "content_dependencies": null
    },
    {
      "cell_type": "code",
      "metadata": {
        "source_hash": "a1751ab8",
        "execution_start": 1738134436123,
        "execution_millis": 37,
        "sql_integration_id": "deepnote-dataframe-sql",
        "execution_context_id": "8bfbd449-f0e2-49a4-bac0-5329931e23cc",
        "deepnote_variable_name": "df_5",
        "cell_id": "ba89e151e8bd4adc9c9d17d50e9dfd64",
        "deepnote_cell_type": "sql",
        "deepnote_sql_source": "SELECT * FROM art WHERE painter_name = 'Frida' AND Style = 'Surrealism';"
      },
      "source": "df_5 = (lambda: _deepnote_execute_sql('SELECT * FROM art WHERE painter_name = \\'Frida\\' AND Style = \\'Surrealism\\';', 'SQL_DEEPNOTE_DATAFRAME_SQL', audit_sql_comment='', sql_cache_mode='cache_disabled') if '_deepnote_execute_sql' in globals() else _dntk.execute_sql('SELECT * FROM art WHERE painter_name = \\'Frida\\' AND Style = \\'Surrealism\\';', 'SQL_DEEPNOTE_DATAFRAME_SQL', audit_sql_comment='', sql_cache_mode='cache_disabled'))()\ndf_5",
      "outputs": [
        {
          "output_type": "execute_result",
          "execution_count": 17,
          "data": {
            "application/vnd.deepnote.dataframe.v3+json": {
              "column_count": 18,
              "row_count": 52,
              "columns": [
                {
                  "name": "painter_name",
                  "dtype": "object",
                  "stats": {
                    "unique_count": 1,
                    "nan_count": 0,
                    "categories": [
                      {
                        "name": "Frida",
                        "count": 52
                      }
                    ]
                  }
                },
                {
                  "name": "painting_subject",
                  "dtype": "object",
                  "stats": {
                    "unique_count": 7,
                    "nan_count": 0,
                    "categories": [
                      {
                        "name": "Abstract",
                        "count": 9
                      },
                      {
                        "name": "Landscape",
                        "count": 8
                      },
                      {
                        "name": "5 others",
                        "count": 35
                      }
                    ]
                  }
                },
                {
                  "name": "Style",
                  "dtype": "object",
                  "stats": {
                    "unique_count": 1,
                    "nan_count": 0,
                    "categories": [
                      {
                        "name": "Surrealism",
                        "count": 52
                      }
                    ]
                  }
                },
                {
                  "name": "Medium",
                  "dtype": "object",
                  "stats": {
                    "unique_count": 5,
                    "nan_count": 0,
                    "categories": [
                      {
                        "name": "Charcoal",
                        "count": 16
                      },
                      {
                        "name": "Oil",
                        "count": 13
                      },
                      {
                        "name": "3 others",
                        "count": 23
                      }
                    ]
                  }
                },
                {
                  "name": "Size",
                  "dtype": "object",
                  "stats": {
                    "unique_count": 5,
                    "nan_count": 0,
                    "categories": [
                      {
                        "name": "18\"x24\"",
                        "count": 12
                      },
                      {
                        "name": "20\"x30\"",
                        "count": 11
                      },
                      {
                        "name": "3 others",
                        "count": 29
                      }
                    ]
                  }
                },
                {
                  "name": "Frame",
                  "dtype": "object",
                  "stats": {
                    "unique_count": 2,
                    "nan_count": 0,
                    "categories": [
                      {
                        "name": "No",
                        "count": 32
                      },
                      {
                        "name": "Yes",
                        "count": 20
                      }
                    ]
                  }
                },
                {
                  "name": "Location",
                  "dtype": "object",
                  "stats": {
                    "unique_count": 8,
                    "nan_count": 0,
                    "categories": [
                      {
                        "name": "Calgary",
                        "count": 9
                      },
                      {
                        "name": "Toronto",
                        "count": 8
                      },
                      {
                        "name": "6 others",
                        "count": 35
                      }
                    ]
                  }
                },
                {
                  "name": "Price ($)",
                  "dtype": "int64",
                  "stats": {
                    "unique_count": 40,
                    "nan_count": 0,
                    "min": "130",
                    "max": "956",
                    "histogram": [
                      {
                        "bin_start": 130,
                        "bin_end": 212.6,
                        "count": 8
                      },
                      {
                        "bin_start": 212.6,
                        "bin_end": 295.2,
                        "count": 5
                      },
                      {
                        "bin_start": 295.2,
                        "bin_end": 377.79999999999995,
                        "count": 5
                      },
                      {
                        "bin_start": 377.79999999999995,
                        "bin_end": 460.4,
                        "count": 2
                      },
                      {
                        "bin_start": 460.4,
                        "bin_end": 543,
                        "count": 4
                      },
                      {
                        "bin_start": 543,
                        "bin_end": 625.5999999999999,
                        "count": 3
                      },
                      {
                        "bin_start": 625.5999999999999,
                        "bin_end": 708.1999999999999,
                        "count": 9
                      },
                      {
                        "bin_start": 708.1999999999999,
                        "bin_end": 790.8,
                        "count": 5
                      },
                      {
                        "bin_start": 790.8,
                        "bin_end": 873.4,
                        "count": 3
                      },
                      {
                        "bin_start": 873.4,
                        "bin_end": 956,
                        "count": 8
                      }
                    ]
                  }
                },
                {
                  "name": "Delivery (days)",
                  "dtype": "int64",
                  "stats": {
                    "unique_count": 8,
                    "nan_count": 0,
                    "min": "3",
                    "max": "10",
                    "histogram": [
                      {
                        "bin_start": 3,
                        "bin_end": 3.7,
                        "count": 9
                      },
                      {
                        "bin_start": 3.7,
                        "bin_end": 4.4,
                        "count": 10
                      },
                      {
                        "bin_start": 4.4,
                        "bin_end": 5.1,
                        "count": 2
                      },
                      {
                        "bin_start": 5.1,
                        "bin_end": 5.8,
                        "count": 0
                      },
                      {
                        "bin_start": 5.8,
                        "bin_end": 6.5,
                        "count": 8
                      },
                      {
                        "bin_start": 6.5,
                        "bin_end": 7.199999999999999,
                        "count": 9
                      },
                      {
                        "bin_start": 7.199999999999999,
                        "bin_end": 7.8999999999999995,
                        "count": 0
                      },
                      {
                        "bin_start": 7.8999999999999995,
                        "bin_end": 8.6,
                        "count": 3
                      },
                      {
                        "bin_start": 8.6,
                        "bin_end": 9.3,
                        "count": 6
                      },
                      {
                        "bin_start": 9.3,
                        "bin_end": 10,
                        "count": 5
                      }
                    ]
                  }
                },
                {
                  "name": "Shipment",
                  "dtype": "object",
                  "stats": {
                    "unique_count": 3,
                    "nan_count": 0,
                    "categories": [
                      {
                        "name": "Free Shipping",
                        "count": 21
                      },
                      {
                        "name": "Express",
                        "count": 16
                      },
                      {
                        "name": "Standard",
                        "count": 15
                      }
                    ]
                  }
                },
                {
                  "name": "Color Palette",
                  "dtype": "object",
                  "stats": {
                    "unique_count": 5,
                    "nan_count": 0,
                    "categories": [
                      {
                        "name": "Warm Tones",
                        "count": 13
                      },
                      {
                        "name": "Oceanic Tones",
                        "count": 11
                      },
                      {
                        "name": "3 others",
                        "count": 28
                      }
                    ]
                  }
                },
                {
                  "name": "Copy or Original",
                  "dtype": "object",
                  "stats": {
                    "unique_count": 2,
                    "nan_count": 0,
                    "categories": [
                      {
                        "name": "Original",
                        "count": 30
                      },
                      {
                        "name": "Copy",
                        "count": 22
                      }
                    ]
                  }
                },
                {
                  "name": "Print or Real",
                  "dtype": "object",
                  "stats": {
                    "unique_count": 2,
                    "nan_count": 0,
                    "categories": [
                      {
                        "name": "Print",
                        "count": 29
                      },
                      {
                        "name": "Real",
                        "count": 23
                      }
                    ]
                  }
                },
                {
                  "name": "Recommended Environment",
                  "dtype": "object",
                  "stats": {
                    "unique_count": 5,
                    "nan_count": 0,
                    "categories": [
                      {
                        "name": "Kid Room",
                        "count": 14
                      },
                      {
                        "name": "Living Room",
                        "count": 13
                      },
                      {
                        "name": "3 others",
                        "count": 25
                      }
                    ]
                  }
                },
                {
                  "name": "Mood/Atmosphere",
                  "dtype": "object",
                  "stats": {
                    "unique_count": 5,
                    "nan_count": 0,
                    "categories": [
                      {
                        "name": "Reflective",
                        "count": 19
                      },
                      {
                        "name": "Energetic",
                        "count": 11
                      },
                      {
                        "name": "3 others",
                        "count": 22
                      }
                    ]
                  }
                },
                {
                  "name": "Theme/Lighting Requirements",
                  "dtype": "object",
                  "stats": {
                    "unique_count": 3,
                    "nan_count": 0,
                    "categories": [
                      {
                        "name": "Natural Light",
                        "count": 20
                      },
                      {
                        "name": "Bright Light",
                        "count": 18
                      },
                      {
                        "name": "Dim Light",
                        "count": 14
                      }
                    ]
                  }
                },
                {
                  "name": "Reproduction Type",
                  "dtype": "object",
                  "stats": {
                    "unique_count": 5,
                    "nan_count": 0,
                    "categories": [
                      {
                        "name": "Screen Print",
                        "count": 17
                      },
                      {
                        "name": "Lithograph",
                        "count": 15
                      },
                      {
                        "name": "3 others",
                        "count": 20
                      }
                    ]
                  }
                },
                {
                  "name": "Target Audience",
                  "dtype": "object",
                  "stats": {
                    "unique_count": 5,
                    "nan_count": 0,
                    "categories": [
                      {
                        "name": "Art Collectors",
                        "count": 13
                      },
                      {
                        "name": "Corporate Clients",
                        "count": 12
                      },
                      {
                        "name": "3 others",
                        "count": 27
                      }
                    ]
                  }
                },
                {
                  "name": "_deepnote_index_column",
                  "dtype": "int64"
                }
              ],
              "rows": [
                {
                  "painter_name": "Frida",
                  "painting_subject": "Fantasy",
                  "Style": "Surrealism",
                  "Medium": "Oil",
                  "Size": "16\"x20\"",
                  "Frame": "No",
                  "Location": "Los Angeles",
                  "Price ($)": 907,
                  "Delivery (days)": 9,
                  "Shipment": "Standard",
                  "Color Palette": "Neutral Tones",
                  "Copy or Original": "Original",
                  "Print or Real": "Print",
                  "Recommended Environment": "Gallery",
                  "Mood/Atmosphere": "Calming",
                  "Theme/Lighting Requirements": "Bright Light",
                  "Reproduction Type": "Screen Print",
                  "Target Audience": "Corporate Clients",
                  "_deepnote_index_column": 0
                },
                {
                  "painter_name": "Frida",
                  "painting_subject": "Landscape",
                  "Style": "Surrealism",
                  "Medium": "Oil",
                  "Size": "20\"x30\"",
                  "Frame": "No",
                  "Location": "Los Angeles",
                  "Price ($)": 644,
                  "Delivery (days)": 4,
                  "Shipment": "Standard",
                  "Color Palette": "Warm Tones",
                  "Copy or Original": "Original",
                  "Print or Real": "Print",
                  "Recommended Environment": "Bedroom",
                  "Mood/Atmosphere": "Energetic",
                  "Theme/Lighting Requirements": "Bright Light",
                  "Reproduction Type": "Screen Print",
                  "Target Audience": "Art Collectors",
                  "_deepnote_index_column": 1
                },
                {
                  "painter_name": "Frida",
                  "painting_subject": "Landscape",
                  "Style": "Surrealism",
                  "Medium": "Charcoal",
                  "Size": "24\"x36\"",
                  "Frame": "No",
                  "Location": "Chicago",
                  "Price ($)": 918,
                  "Delivery (days)": 4,
                  "Shipment": "Standard",
                  "Color Palette": "Cool Tones",
                  "Copy or Original": "Copy",
                  "Print or Real": "Print",
                  "Recommended Environment": "Office",
                  "Mood/Atmosphere": "Reflective",
                  "Theme/Lighting Requirements": "Dim Light",
                  "Reproduction Type": "Giclée",
                  "Target Audience": "Families",
                  "_deepnote_index_column": 2
                },
                {
                  "painter_name": "Frida",
                  "painting_subject": "Wildlife",
                  "Style": "Surrealism",
                  "Medium": "Mixed Media",
                  "Size": "20\"x30\"",
                  "Frame": "No",
                  "Location": "Miami",
                  "Price ($)": 539,
                  "Delivery (days)": 6,
                  "Shipment": "Standard",
                  "Color Palette": "Neutral Tones",
                  "Copy or Original": "Original",
                  "Print or Real": "Print",
                  "Recommended Environment": "Kid Room",
                  "Mood/Atmosphere": "Joyful",
                  "Theme/Lighting Requirements": "Bright Light",
                  "Reproduction Type": "Screen Print",
                  "Target Audience": "Art Collectors",
                  "_deepnote_index_column": 3
                },
                {
                  "painter_name": "Frida",
                  "painting_subject": "Fantasy",
                  "Style": "Surrealism",
                  "Medium": "Watercolor",
                  "Size": "18\"x24\"",
                  "Frame": "No",
                  "Location": "New York",
                  "Price ($)": 731,
                  "Delivery (days)": 4,
                  "Shipment": "Express",
                  "Color Palette": "Earthy Tones",
                  "Copy or Original": "Copy",
                  "Print or Real": "Real",
                  "Recommended Environment": "Bedroom",
                  "Mood/Atmosphere": "Reflective",
                  "Theme/Lighting Requirements": "Natural Light",
                  "Reproduction Type": "N/A",
                  "Target Audience": "Young Professionals",
                  "_deepnote_index_column": 4
                },
                {
                  "painter_name": "Frida",
                  "painting_subject": "Abstract",
                  "Style": "Surrealism",
                  "Medium": "Oil",
                  "Size": "24\"x36\"",
                  "Frame": "No",
                  "Location": "Toronto",
                  "Price ($)": 794,
                  "Delivery (days)": 3,
                  "Shipment": "Free Shipping",
                  "Color Palette": "Oceanic Tones",
                  "Copy or Original": "Copy",
                  "Print or Real": "Real",
                  "Recommended Environment": "Living Room",
                  "Mood/Atmosphere": "Reflective",
                  "Theme/Lighting Requirements": "Dim Light",
                  "Reproduction Type": "N/A",
                  "Target Audience": "Art Collectors",
                  "_deepnote_index_column": 5
                },
                {
                  "painter_name": "Frida",
                  "painting_subject": "Seascape",
                  "Style": "Surrealism",
                  "Medium": "Oil",
                  "Size": "30\"x40\"",
                  "Frame": "No",
                  "Location": "Calgary",
                  "Price ($)": 179,
                  "Delivery (days)": 6,
                  "Shipment": "Free Shipping",
                  "Color Palette": "Oceanic Tones",
                  "Copy or Original": "Original",
                  "Print or Real": "Real",
                  "Recommended Environment": "Gallery",
                  "Mood/Atmosphere": "Energetic",
                  "Theme/Lighting Requirements": "Bright Light",
                  "Reproduction Type": "Screen Print",
                  "Target Audience": "Corporate Clients",
                  "_deepnote_index_column": 6
                },
                {
                  "painter_name": "Frida",
                  "painting_subject": "Still Life",
                  "Style": "Surrealism",
                  "Medium": "Charcoal",
                  "Size": "18\"x24\"",
                  "Frame": "No",
                  "Location": "Chicago",
                  "Price ($)": 794,
                  "Delivery (days)": 6,
                  "Shipment": "Standard",
                  "Color Palette": "Warm Tones",
                  "Copy or Original": "Copy",
                  "Print or Real": "Print",
                  "Recommended Environment": "Kid Room",
                  "Mood/Atmosphere": "Reflective",
                  "Theme/Lighting Requirements": "Natural Light",
                  "Reproduction Type": "Lithograph",
                  "Target Audience": "Corporate Clients",
                  "_deepnote_index_column": 7
                },
                {
                  "painter_name": "Frida",
                  "painting_subject": "Seascape",
                  "Style": "Surrealism",
                  "Medium": "Charcoal",
                  "Size": "16\"x20\"",
                  "Frame": "No",
                  "Location": "Chicago",
                  "Price ($)": 339,
                  "Delivery (days)": 8,
                  "Shipment": "Standard",
                  "Color Palette": "Cool Tones",
                  "Copy or Original": "Original",
                  "Print or Real": "Real",
                  "Recommended Environment": "Living Room",
                  "Mood/Atmosphere": "Reflective",
                  "Theme/Lighting Requirements": "Dim Light",
                  "Reproduction Type": "Lithograph",
                  "Target Audience": "Art Collectors",
                  "_deepnote_index_column": 8
                },
                {
                  "painter_name": "Frida",
                  "painting_subject": "Still Life",
                  "Style": "Surrealism",
                  "Medium": "Oil",
                  "Size": "16\"x20\"",
                  "Frame": "Yes",
                  "Location": "Calgary",
                  "Price ($)": 680,
                  "Delivery (days)": 8,
                  "Shipment": "Express",
                  "Color Palette": "Oceanic Tones",
                  "Copy or Original": "Original",
                  "Print or Real": "Print",
                  "Recommended Environment": "Gallery",
                  "Mood/Atmosphere": "Calming",
                  "Theme/Lighting Requirements": "Natural Light",
                  "Reproduction Type": "Giclée",
                  "Target Audience": "Families",
                  "_deepnote_index_column": 9
                }
              ]
            },
            "text/plain": "   painter_name painting_subject       Style       Medium     Size Frame  \\\n0         Frida          Fantasy  Surrealism          Oil  16\"x20\"    No   \n1         Frida        Landscape  Surrealism          Oil  20\"x30\"    No   \n2         Frida        Landscape  Surrealism     Charcoal  24\"x36\"    No   \n3         Frida         Wildlife  Surrealism  Mixed Media  20\"x30\"    No   \n4         Frida          Fantasy  Surrealism   Watercolor  18\"x24\"    No   \n5         Frida         Abstract  Surrealism          Oil  24\"x36\"    No   \n6         Frida         Seascape  Surrealism          Oil  30\"x40\"    No   \n7         Frida       Still Life  Surrealism     Charcoal  18\"x24\"    No   \n8         Frida         Seascape  Surrealism     Charcoal  16\"x20\"    No   \n9         Frida       Still Life  Surrealism          Oil  16\"x20\"   Yes   \n10        Frida         Wildlife  Surrealism          Oil  24\"x36\"   Yes   \n11        Frida       Still Life  Surrealism   Watercolor  24\"x36\"    No   \n12        Frida         Portrait  Surrealism     Charcoal  24\"x36\"   Yes   \n13        Frida        Landscape  Surrealism  Mixed Media  30\"x40\"   Yes   \n14        Frida        Landscape  Surrealism     Charcoal  18\"x24\"    No   \n15        Frida         Wildlife  Surrealism          Oil  20\"x30\"    No   \n16        Frida         Wildlife  Surrealism     Charcoal  24\"x36\"    No   \n17        Frida       Still Life  Surrealism   Watercolor  20\"x30\"    No   \n18        Frida         Abstract  Surrealism  Mixed Media  20\"x30\"    No   \n19        Frida         Seascape  Surrealism     Charcoal  24\"x36\"    No   \n20        Frida        Landscape  Surrealism     Charcoal  30\"x40\"    No   \n21        Frida       Still Life  Surrealism      Acrylic  20\"x30\"    No   \n22        Frida         Wildlife  Surrealism      Acrylic  30\"x40\"    No   \n23        Frida         Seascape  Surrealism          Oil  18\"x24\"    No   \n24        Frida          Fantasy  Surrealism          Oil  16\"x20\"    No   \n25        Frida          Fantasy  Surrealism          Oil  24\"x36\"    No   \n26        Frida         Wildlife  Surrealism          Oil  18\"x24\"    No   \n27        Frida         Portrait  Surrealism  Mixed Media  18\"x24\"    No   \n28        Frida         Wildlife  Surrealism   Watercolor  30\"x40\"   Yes   \n29        Frida         Abstract  Surrealism      Acrylic  30\"x40\"   Yes   \n30        Frida         Portrait  Surrealism   Watercolor  16\"x20\"   Yes   \n31        Frida         Abstract  Surrealism      Acrylic  30\"x40\"    No   \n32        Frida         Abstract  Surrealism     Charcoal  16\"x20\"    No   \n33        Frida          Fantasy  Surrealism   Watercolor  18\"x24\"   Yes   \n34        Frida        Landscape  Surrealism     Charcoal  18\"x24\"   Yes   \n35        Frida         Portrait  Surrealism          Oil  20\"x30\"   Yes   \n36        Frida         Portrait  Surrealism  Mixed Media  30\"x40\"   Yes   \n37        Frida       Still Life  Surrealism     Charcoal  20\"x30\"   Yes   \n38        Frida          Fantasy  Surrealism          Oil  20\"x30\"    No   \n39        Frida         Abstract  Surrealism   Watercolor  18\"x24\"   Yes   \n40        Frida         Abstract  Surrealism     Charcoal  24\"x36\"    No   \n41        Frida         Seascape  Surrealism     Charcoal  16\"x20\"   Yes   \n42        Frida         Portrait  Surrealism   Watercolor  24\"x36\"   Yes   \n43        Frida         Portrait  Surrealism     Charcoal  20\"x30\"   Yes   \n44        Frida         Abstract  Surrealism   Watercolor  30\"x40\"    No   \n45        Frida         Portrait  Surrealism     Charcoal  30\"x40\"   Yes   \n46        Frida       Still Life  Surrealism  Mixed Media  18\"x24\"    No   \n47        Frida         Abstract  Surrealism  Mixed Media  20\"x30\"    No   \n48        Frida         Seascape  Surrealism   Watercolor  16\"x20\"    No   \n49        Frida        Landscape  Surrealism     Charcoal  18\"x24\"   Yes   \n50        Frida        Landscape  Surrealism      Acrylic  18\"x24\"   Yes   \n51        Frida         Wildlife  Surrealism   Watercolor  16\"x20\"   Yes   \n\n       Location  Price ($)  Delivery (days)       Shipment  Color Palette  \\\n0   Los Angeles        907                9       Standard  Neutral Tones   \n1   Los Angeles        644                4       Standard     Warm Tones   \n2       Chicago        918                4       Standard     Cool Tones   \n3         Miami        539                6       Standard  Neutral Tones   \n4      New York        731                4        Express   Earthy Tones   \n5       Toronto        794                3  Free Shipping  Oceanic Tones   \n6       Calgary        179                6  Free Shipping  Oceanic Tones   \n7       Chicago        794                6       Standard     Warm Tones   \n8       Chicago        339                8       Standard     Cool Tones   \n9       Calgary        680                8        Express  Oceanic Tones   \n10  Los Angeles        368                3        Express   Earthy Tones   \n11     New York        707               10  Free Shipping   Earthy Tones   \n12      Calgary        508                9       Standard     Warm Tones   \n13      Calgary        205                6  Free Shipping   Earthy Tones   \n14    Vancouver        840                7        Express   Earthy Tones   \n15        Miami        707                3  Free Shipping  Neutral Tones   \n16     Montreal        875                4        Express   Earthy Tones   \n17    Vancouver        649                4  Free Shipping   Earthy Tones   \n18     New York        890                4        Express   Earthy Tones   \n19      Calgary        231               10  Free Shipping     Cool Tones   \n20      Calgary        933                7  Free Shipping  Neutral Tones   \n21      Toronto        404                8  Free Shipping   Earthy Tones   \n22      Toronto        605                6       Standard     Cool Tones   \n23      Toronto        558                9  Free Shipping  Oceanic Tones   \n24      Toronto        368                4        Express     Cool Tones   \n25     New York        348                3        Express     Warm Tones   \n26     New York        265                6  Free Shipping     Warm Tones   \n27     Montreal        272               10       Standard     Warm Tones   \n28      Chicago        663                6        Express  Neutral Tones   \n29     Montreal        212                3        Express     Warm Tones   \n30        Miami        782                4        Express  Oceanic Tones   \n31    Vancouver        212               10       Standard  Neutral Tones   \n32     Montreal        715                7        Express     Warm Tones   \n33    Vancouver        943                7        Express  Neutral Tones   \n34    Vancouver        933                5       Standard     Cool Tones   \n35     Montreal        205                9  Free Shipping  Oceanic Tones   \n36      Chicago        663                6        Express  Oceanic Tones   \n37      Calgary        130                3  Free Shipping  Oceanic Tones   \n38  Los Angeles        384                5  Free Shipping  Neutral Tones   \n39      Toronto        157                4  Free Shipping  Oceanic Tones   \n40     Montreal        680                4       Standard     Cool Tones   \n41      Toronto        234                7  Free Shipping     Warm Tones   \n42      Toronto        558                7  Free Shipping     Cool Tones   \n43  Los Angeles        785                3       Standard  Neutral Tones   \n44     New York        339                7  Free Shipping  Oceanic Tones   \n45        Miami        680                7  Free Shipping     Warm Tones   \n46     Montreal        719                3  Free Shipping  Oceanic Tones   \n47      Calgary        157                3        Express     Cool Tones   \n48        Miami        222               10  Free Shipping     Warm Tones   \n49      Chicago        956                9       Standard     Warm Tones   \n50      Calgary        515                9        Express   Earthy Tones   \n51     New York        469                7       Standard     Warm Tones   \n\n   Copy or Original Print or Real Recommended Environment Mood/Atmosphere  \\\n0          Original         Print                 Gallery         Calming   \n1          Original         Print                 Bedroom       Energetic   \n2              Copy         Print                  Office      Reflective   \n3          Original         Print                Kid Room          Joyful   \n4              Copy          Real                 Bedroom      Reflective   \n5              Copy          Real             Living Room      Reflective   \n6          Original          Real                 Gallery       Energetic   \n7              Copy         Print                Kid Room      Reflective   \n8          Original          Real             Living Room      Reflective   \n9          Original         Print                 Gallery         Calming   \n10             Copy         Print                 Bedroom       Energetic   \n11         Original         Print                Kid Room      Reflective   \n12         Original         Print             Living Room        Relaxing   \n13             Copy          Real             Living Room        Relaxing   \n14         Original          Real                 Gallery         Calming   \n15             Copy         Print             Living Room          Joyful   \n16             Copy          Real                  Office      Reflective   \n17             Copy         Print             Living Room        Relaxing   \n18         Original         Print                 Gallery          Joyful   \n19         Original         Print                Kid Room       Energetic   \n20             Copy          Real                Kid Room       Energetic   \n21         Original         Print                 Gallery         Calming   \n22         Original          Real                Kid Room        Relaxing   \n23         Original         Print                 Bedroom      Reflective   \n24             Copy         Print             Living Room         Calming   \n25             Copy         Print             Living Room       Energetic   \n26             Copy         Print                Kid Room      Reflective   \n27         Original          Real                 Bedroom      Reflective   \n28             Copy          Real                 Bedroom      Reflective   \n29             Copy         Print                Kid Room      Reflective   \n30         Original         Print                  Office         Calming   \n31         Original          Real                 Bedroom      Reflective   \n32             Copy          Real                Kid Room       Energetic   \n33         Original          Real             Living Room        Relaxing   \n34         Original         Print                 Bedroom          Joyful   \n35         Original         Print             Living Room      Reflective   \n36         Original          Real             Living Room          Joyful   \n37             Copy          Real                Kid Room          Joyful   \n38             Copy         Print                 Gallery      Reflective   \n39             Copy          Real                 Bedroom        Relaxing   \n40             Copy         Print                  Office       Energetic   \n41         Original          Real                  Office       Energetic   \n42         Original          Real             Living Room      Reflective   \n43         Original          Real                Kid Room       Energetic   \n44         Original         Print                Kid Room         Calming   \n45         Original         Print                 Gallery      Reflective   \n46         Original         Print             Living Room      Reflective   \n47         Original          Real                 Gallery        Relaxing   \n48         Original          Real                  Office          Joyful   \n49         Original         Print                Kid Room      Reflective   \n50             Copy         Print                  Office        Relaxing   \n51             Copy          Real                Kid Room       Energetic   \n\n   Theme/Lighting Requirements Reproduction Type      Target Audience  \n0                 Bright Light      Screen Print    Corporate Clients  \n1                 Bright Light      Screen Print       Art Collectors  \n2                    Dim Light            Giclée             Families  \n3                 Bright Light      Screen Print       Art Collectors  \n4                Natural Light               N/A  Young Professionals  \n5                    Dim Light               N/A       Art Collectors  \n6                 Bright Light      Screen Print    Corporate Clients  \n7                Natural Light        Lithograph    Corporate Clients  \n8                    Dim Light        Lithograph       Art Collectors  \n9                Natural Light            Giclée             Families  \n10               Natural Light            Giclée  Young Professionals  \n11               Natural Light      Screen Print  Young Professionals  \n12               Natural Light        Lithograph   Interior Designers  \n13                Bright Light        Lithograph   Interior Designers  \n14                Bright Light            Giclée       Art Collectors  \n15                   Dim Light        Lithograph             Families  \n16                Bright Light      Screen Print       Art Collectors  \n17                Bright Light        Lithograph    Corporate Clients  \n18               Natural Light        Lithograph  Young Professionals  \n19                   Dim Light      Screen Print  Young Professionals  \n20                Bright Light    Fine Art Print    Corporate Clients  \n21                Bright Light      Screen Print  Young Professionals  \n22                   Dim Light        Lithograph   Interior Designers  \n23               Natural Light      Screen Print    Corporate Clients  \n24               Natural Light      Screen Print  Young Professionals  \n25                Bright Light        Lithograph    Corporate Clients  \n26                   Dim Light    Fine Art Print       Art Collectors  \n27                   Dim Light      Screen Print  Young Professionals  \n28               Natural Light               N/A   Interior Designers  \n29                Bright Light    Fine Art Print       Art Collectors  \n30                Bright Light        Lithograph    Corporate Clients  \n31               Natural Light            Giclée    Corporate Clients  \n32               Natural Light      Screen Print   Interior Designers  \n33               Natural Light      Screen Print    Corporate Clients  \n34                Bright Light        Lithograph             Families  \n35                Bright Light        Lithograph             Families  \n36                   Dim Light      Screen Print             Families  \n37                Bright Light    Fine Art Print       Art Collectors  \n38               Natural Light            Giclée    Corporate Clients  \n39               Natural Light        Lithograph             Families  \n40               Natural Light        Lithograph       Art Collectors  \n41                Bright Light               N/A  Young Professionals  \n42                   Dim Light      Screen Print       Art Collectors  \n43               Natural Light               N/A             Families  \n44               Natural Light               N/A  Young Professionals  \n45               Natural Light      Screen Print   Interior Designers  \n46                   Dim Light               N/A   Interior Designers  \n47                   Dim Light        Lithograph   Interior Designers  \n48                   Dim Light               N/A       Art Collectors  \n49                Bright Light               N/A   Interior Designers  \n50               Natural Light               N/A    Corporate Clients  \n51                   Dim Light      Screen Print       Art Collectors  ",
            "text/html": "<div>\n<style scoped>\n    .dataframe tbody tr th:only-of-type {\n        vertical-align: middle;\n    }\n\n    .dataframe tbody tr th {\n        vertical-align: top;\n    }\n\n    .dataframe thead th {\n        text-align: right;\n    }\n</style>\n<table border=\"1\" class=\"dataframe\">\n  <thead>\n    <tr style=\"text-align: right;\">\n      <th></th>\n      <th>painter_name</th>\n      <th>painting_subject</th>\n      <th>Style</th>\n      <th>Medium</th>\n      <th>Size</th>\n      <th>Frame</th>\n      <th>Location</th>\n      <th>Price ($)</th>\n      <th>Delivery (days)</th>\n      <th>Shipment</th>\n      <th>Color Palette</th>\n      <th>Copy or Original</th>\n      <th>Print or Real</th>\n      <th>Recommended Environment</th>\n      <th>Mood/Atmosphere</th>\n      <th>Theme/Lighting Requirements</th>\n      <th>Reproduction Type</th>\n      <th>Target Audience</th>\n    </tr>\n  </thead>\n  <tbody>\n    <tr>\n      <th>0</th>\n      <td>Frida</td>\n      <td>Fantasy</td>\n      <td>Surrealism</td>\n      <td>Oil</td>\n      <td>16\"x20\"</td>\n      <td>No</td>\n      <td>Los Angeles</td>\n      <td>907</td>\n      <td>9</td>\n      <td>Standard</td>\n      <td>Neutral Tones</td>\n      <td>Original</td>\n      <td>Print</td>\n      <td>Gallery</td>\n      <td>Calming</td>\n      <td>Bright Light</td>\n      <td>Screen Print</td>\n      <td>Corporate Clients</td>\n    </tr>\n    <tr>\n      <th>1</th>\n      <td>Frida</td>\n      <td>Landscape</td>\n      <td>Surrealism</td>\n      <td>Oil</td>\n      <td>20\"x30\"</td>\n      <td>No</td>\n      <td>Los Angeles</td>\n      <td>644</td>\n      <td>4</td>\n      <td>Standard</td>\n      <td>Warm Tones</td>\n      <td>Original</td>\n      <td>Print</td>\n      <td>Bedroom</td>\n      <td>Energetic</td>\n      <td>Bright Light</td>\n      <td>Screen Print</td>\n      <td>Art Collectors</td>\n    </tr>\n    <tr>\n      <th>2</th>\n      <td>Frida</td>\n      <td>Landscape</td>\n      <td>Surrealism</td>\n      <td>Charcoal</td>\n      <td>24\"x36\"</td>\n      <td>No</td>\n      <td>Chicago</td>\n      <td>918</td>\n      <td>4</td>\n      <td>Standard</td>\n      <td>Cool Tones</td>\n      <td>Copy</td>\n      <td>Print</td>\n      <td>Office</td>\n      <td>Reflective</td>\n      <td>Dim Light</td>\n      <td>Giclée</td>\n      <td>Families</td>\n    </tr>\n    <tr>\n      <th>3</th>\n      <td>Frida</td>\n      <td>Wildlife</td>\n      <td>Surrealism</td>\n      <td>Mixed Media</td>\n      <td>20\"x30\"</td>\n      <td>No</td>\n      <td>Miami</td>\n      <td>539</td>\n      <td>6</td>\n      <td>Standard</td>\n      <td>Neutral Tones</td>\n      <td>Original</td>\n      <td>Print</td>\n      <td>Kid Room</td>\n      <td>Joyful</td>\n      <td>Bright Light</td>\n      <td>Screen Print</td>\n      <td>Art Collectors</td>\n    </tr>\n    <tr>\n      <th>4</th>\n      <td>Frida</td>\n      <td>Fantasy</td>\n      <td>Surrealism</td>\n      <td>Watercolor</td>\n      <td>18\"x24\"</td>\n      <td>No</td>\n      <td>New York</td>\n      <td>731</td>\n      <td>4</td>\n      <td>Express</td>\n      <td>Earthy Tones</td>\n      <td>Copy</td>\n      <td>Real</td>\n      <td>Bedroom</td>\n      <td>Reflective</td>\n      <td>Natural Light</td>\n      <td>N/A</td>\n      <td>Young Professionals</td>\n    </tr>\n    <tr>\n      <th>5</th>\n      <td>Frida</td>\n      <td>Abstract</td>\n      <td>Surrealism</td>\n      <td>Oil</td>\n      <td>24\"x36\"</td>\n      <td>No</td>\n      <td>Toronto</td>\n      <td>794</td>\n      <td>3</td>\n      <td>Free Shipping</td>\n      <td>Oceanic Tones</td>\n      <td>Copy</td>\n      <td>Real</td>\n      <td>Living Room</td>\n      <td>Reflective</td>\n      <td>Dim Light</td>\n      <td>N/A</td>\n      <td>Art Collectors</td>\n    </tr>\n    <tr>\n      <th>6</th>\n      <td>Frida</td>\n      <td>Seascape</td>\n      <td>Surrealism</td>\n      <td>Oil</td>\n      <td>30\"x40\"</td>\n      <td>No</td>\n      <td>Calgary</td>\n      <td>179</td>\n      <td>6</td>\n      <td>Free Shipping</td>\n      <td>Oceanic Tones</td>\n      <td>Original</td>\n      <td>Real</td>\n      <td>Gallery</td>\n      <td>Energetic</td>\n      <td>Bright Light</td>\n      <td>Screen Print</td>\n      <td>Corporate Clients</td>\n    </tr>\n    <tr>\n      <th>7</th>\n      <td>Frida</td>\n      <td>Still Life</td>\n      <td>Surrealism</td>\n      <td>Charcoal</td>\n      <td>18\"x24\"</td>\n      <td>No</td>\n      <td>Chicago</td>\n      <td>794</td>\n      <td>6</td>\n      <td>Standard</td>\n      <td>Warm Tones</td>\n      <td>Copy</td>\n      <td>Print</td>\n      <td>Kid Room</td>\n      <td>Reflective</td>\n      <td>Natural Light</td>\n      <td>Lithograph</td>\n      <td>Corporate Clients</td>\n    </tr>\n    <tr>\n      <th>8</th>\n      <td>Frida</td>\n      <td>Seascape</td>\n      <td>Surrealism</td>\n      <td>Charcoal</td>\n      <td>16\"x20\"</td>\n      <td>No</td>\n      <td>Chicago</td>\n      <td>339</td>\n      <td>8</td>\n      <td>Standard</td>\n      <td>Cool Tones</td>\n      <td>Original</td>\n      <td>Real</td>\n      <td>Living Room</td>\n      <td>Reflective</td>\n      <td>Dim Light</td>\n      <td>Lithograph</td>\n      <td>Art Collectors</td>\n    </tr>\n    <tr>\n      <th>9</th>\n      <td>Frida</td>\n      <td>Still Life</td>\n      <td>Surrealism</td>\n      <td>Oil</td>\n      <td>16\"x20\"</td>\n      <td>Yes</td>\n      <td>Calgary</td>\n      <td>680</td>\n      <td>8</td>\n      <td>Express</td>\n      <td>Oceanic Tones</td>\n      <td>Original</td>\n      <td>Print</td>\n      <td>Gallery</td>\n      <td>Calming</td>\n      <td>Natural Light</td>\n      <td>Giclée</td>\n      <td>Families</td>\n    </tr>\n    <tr>\n      <th>10</th>\n      <td>Frida</td>\n      <td>Wildlife</td>\n      <td>Surrealism</td>\n      <td>Oil</td>\n      <td>24\"x36\"</td>\n      <td>Yes</td>\n      <td>Los Angeles</td>\n      <td>368</td>\n      <td>3</td>\n      <td>Express</td>\n      <td>Earthy Tones</td>\n      <td>Copy</td>\n      <td>Print</td>\n      <td>Bedroom</td>\n      <td>Energetic</td>\n      <td>Natural Light</td>\n      <td>Giclée</td>\n      <td>Young Professionals</td>\n    </tr>\n    <tr>\n      <th>11</th>\n      <td>Frida</td>\n      <td>Still Life</td>\n      <td>Surrealism</td>\n      <td>Watercolor</td>\n      <td>24\"x36\"</td>\n      <td>No</td>\n      <td>New York</td>\n      <td>707</td>\n      <td>10</td>\n      <td>Free Shipping</td>\n      <td>Earthy Tones</td>\n      <td>Original</td>\n      <td>Print</td>\n      <td>Kid Room</td>\n      <td>Reflective</td>\n      <td>Natural Light</td>\n      <td>Screen Print</td>\n      <td>Young Professionals</td>\n    </tr>\n    <tr>\n      <th>12</th>\n      <td>Frida</td>\n      <td>Portrait</td>\n      <td>Surrealism</td>\n      <td>Charcoal</td>\n      <td>24\"x36\"</td>\n      <td>Yes</td>\n      <td>Calgary</td>\n      <td>508</td>\n      <td>9</td>\n      <td>Standard</td>\n      <td>Warm Tones</td>\n      <td>Original</td>\n      <td>Print</td>\n      <td>Living Room</td>\n      <td>Relaxing</td>\n      <td>Natural Light</td>\n      <td>Lithograph</td>\n      <td>Interior Designers</td>\n    </tr>\n    <tr>\n      <th>13</th>\n      <td>Frida</td>\n      <td>Landscape</td>\n      <td>Surrealism</td>\n      <td>Mixed Media</td>\n      <td>30\"x40\"</td>\n      <td>Yes</td>\n      <td>Calgary</td>\n      <td>205</td>\n      <td>6</td>\n      <td>Free Shipping</td>\n      <td>Earthy Tones</td>\n      <td>Copy</td>\n      <td>Real</td>\n      <td>Living Room</td>\n      <td>Relaxing</td>\n      <td>Bright Light</td>\n      <td>Lithograph</td>\n      <td>Interior Designers</td>\n    </tr>\n    <tr>\n      <th>14</th>\n      <td>Frida</td>\n      <td>Landscape</td>\n      <td>Surrealism</td>\n      <td>Charcoal</td>\n      <td>18\"x24\"</td>\n      <td>No</td>\n      <td>Vancouver</td>\n      <td>840</td>\n      <td>7</td>\n      <td>Express</td>\n      <td>Earthy Tones</td>\n      <td>Original</td>\n      <td>Real</td>\n      <td>Gallery</td>\n      <td>Calming</td>\n      <td>Bright Light</td>\n      <td>Giclée</td>\n      <td>Art Collectors</td>\n    </tr>\n    <tr>\n      <th>15</th>\n      <td>Frida</td>\n      <td>Wildlife</td>\n      <td>Surrealism</td>\n      <td>Oil</td>\n      <td>20\"x30\"</td>\n      <td>No</td>\n      <td>Miami</td>\n      <td>707</td>\n      <td>3</td>\n      <td>Free Shipping</td>\n      <td>Neutral Tones</td>\n      <td>Copy</td>\n      <td>Print</td>\n      <td>Living Room</td>\n      <td>Joyful</td>\n      <td>Dim Light</td>\n      <td>Lithograph</td>\n      <td>Families</td>\n    </tr>\n    <tr>\n      <th>16</th>\n      <td>Frida</td>\n      <td>Wildlife</td>\n      <td>Surrealism</td>\n      <td>Charcoal</td>\n      <td>24\"x36\"</td>\n      <td>No</td>\n      <td>Montreal</td>\n      <td>875</td>\n      <td>4</td>\n      <td>Express</td>\n      <td>Earthy Tones</td>\n      <td>Copy</td>\n      <td>Real</td>\n      <td>Office</td>\n      <td>Reflective</td>\n      <td>Bright Light</td>\n      <td>Screen Print</td>\n      <td>Art Collectors</td>\n    </tr>\n    <tr>\n      <th>17</th>\n      <td>Frida</td>\n      <td>Still Life</td>\n      <td>Surrealism</td>\n      <td>Watercolor</td>\n      <td>20\"x30\"</td>\n      <td>No</td>\n      <td>Vancouver</td>\n      <td>649</td>\n      <td>4</td>\n      <td>Free Shipping</td>\n      <td>Earthy Tones</td>\n      <td>Copy</td>\n      <td>Print</td>\n      <td>Living Room</td>\n      <td>Relaxing</td>\n      <td>Bright Light</td>\n      <td>Lithograph</td>\n      <td>Corporate Clients</td>\n    </tr>\n    <tr>\n      <th>18</th>\n      <td>Frida</td>\n      <td>Abstract</td>\n      <td>Surrealism</td>\n      <td>Mixed Media</td>\n      <td>20\"x30\"</td>\n      <td>No</td>\n      <td>New York</td>\n      <td>890</td>\n      <td>4</td>\n      <td>Express</td>\n      <td>Earthy Tones</td>\n      <td>Original</td>\n      <td>Print</td>\n      <td>Gallery</td>\n      <td>Joyful</td>\n      <td>Natural Light</td>\n      <td>Lithograph</td>\n      <td>Young Professionals</td>\n    </tr>\n    <tr>\n      <th>19</th>\n      <td>Frida</td>\n      <td>Seascape</td>\n      <td>Surrealism</td>\n      <td>Charcoal</td>\n      <td>24\"x36\"</td>\n      <td>No</td>\n      <td>Calgary</td>\n      <td>231</td>\n      <td>10</td>\n      <td>Free Shipping</td>\n      <td>Cool Tones</td>\n      <td>Original</td>\n      <td>Print</td>\n      <td>Kid Room</td>\n      <td>Energetic</td>\n      <td>Dim Light</td>\n      <td>Screen Print</td>\n      <td>Young Professionals</td>\n    </tr>\n    <tr>\n      <th>20</th>\n      <td>Frida</td>\n      <td>Landscape</td>\n      <td>Surrealism</td>\n      <td>Charcoal</td>\n      <td>30\"x40\"</td>\n      <td>No</td>\n      <td>Calgary</td>\n      <td>933</td>\n      <td>7</td>\n      <td>Free Shipping</td>\n      <td>Neutral Tones</td>\n      <td>Copy</td>\n      <td>Real</td>\n      <td>Kid Room</td>\n      <td>Energetic</td>\n      <td>Bright Light</td>\n      <td>Fine Art Print</td>\n      <td>Corporate Clients</td>\n    </tr>\n    <tr>\n      <th>21</th>\n      <td>Frida</td>\n      <td>Still Life</td>\n      <td>Surrealism</td>\n      <td>Acrylic</td>\n      <td>20\"x30\"</td>\n      <td>No</td>\n      <td>Toronto</td>\n      <td>404</td>\n      <td>8</td>\n      <td>Free Shipping</td>\n      <td>Earthy Tones</td>\n      <td>Original</td>\n      <td>Print</td>\n      <td>Gallery</td>\n      <td>Calming</td>\n      <td>Bright Light</td>\n      <td>Screen Print</td>\n      <td>Young Professionals</td>\n    </tr>\n    <tr>\n      <th>22</th>\n      <td>Frida</td>\n      <td>Wildlife</td>\n      <td>Surrealism</td>\n      <td>Acrylic</td>\n      <td>30\"x40\"</td>\n      <td>No</td>\n      <td>Toronto</td>\n      <td>605</td>\n      <td>6</td>\n      <td>Standard</td>\n      <td>Cool Tones</td>\n      <td>Original</td>\n      <td>Real</td>\n      <td>Kid Room</td>\n      <td>Relaxing</td>\n      <td>Dim Light</td>\n      <td>Lithograph</td>\n      <td>Interior Designers</td>\n    </tr>\n    <tr>\n      <th>23</th>\n      <td>Frida</td>\n      <td>Seascape</td>\n      <td>Surrealism</td>\n      <td>Oil</td>\n      <td>18\"x24\"</td>\n      <td>No</td>\n      <td>Toronto</td>\n      <td>558</td>\n      <td>9</td>\n      <td>Free Shipping</td>\n      <td>Oceanic Tones</td>\n      <td>Original</td>\n      <td>Print</td>\n      <td>Bedroom</td>\n      <td>Reflective</td>\n      <td>Natural Light</td>\n      <td>Screen Print</td>\n      <td>Corporate Clients</td>\n    </tr>\n    <tr>\n      <th>24</th>\n      <td>Frida</td>\n      <td>Fantasy</td>\n      <td>Surrealism</td>\n      <td>Oil</td>\n      <td>16\"x20\"</td>\n      <td>No</td>\n      <td>Toronto</td>\n      <td>368</td>\n      <td>4</td>\n      <td>Express</td>\n      <td>Cool Tones</td>\n      <td>Copy</td>\n      <td>Print</td>\n      <td>Living Room</td>\n      <td>Calming</td>\n      <td>Natural Light</td>\n      <td>Screen Print</td>\n      <td>Young Professionals</td>\n    </tr>\n    <tr>\n      <th>25</th>\n      <td>Frida</td>\n      <td>Fantasy</td>\n      <td>Surrealism</td>\n      <td>Oil</td>\n      <td>24\"x36\"</td>\n      <td>No</td>\n      <td>New York</td>\n      <td>348</td>\n      <td>3</td>\n      <td>Express</td>\n      <td>Warm Tones</td>\n      <td>Copy</td>\n      <td>Print</td>\n      <td>Living Room</td>\n      <td>Energetic</td>\n      <td>Bright Light</td>\n      <td>Lithograph</td>\n      <td>Corporate Clients</td>\n    </tr>\n    <tr>\n      <th>26</th>\n      <td>Frida</td>\n      <td>Wildlife</td>\n      <td>Surrealism</td>\n      <td>Oil</td>\n      <td>18\"x24\"</td>\n      <td>No</td>\n      <td>New York</td>\n      <td>265</td>\n      <td>6</td>\n      <td>Free Shipping</td>\n      <td>Warm Tones</td>\n      <td>Copy</td>\n      <td>Print</td>\n      <td>Kid Room</td>\n      <td>Reflective</td>\n      <td>Dim Light</td>\n      <td>Fine Art Print</td>\n      <td>Art Collectors</td>\n    </tr>\n    <tr>\n      <th>27</th>\n      <td>Frida</td>\n      <td>Portrait</td>\n      <td>Surrealism</td>\n      <td>Mixed Media</td>\n      <td>18\"x24\"</td>\n      <td>No</td>\n      <td>Montreal</td>\n      <td>272</td>\n      <td>10</td>\n      <td>Standard</td>\n      <td>Warm Tones</td>\n      <td>Original</td>\n      <td>Real</td>\n      <td>Bedroom</td>\n      <td>Reflective</td>\n      <td>Dim Light</td>\n      <td>Screen Print</td>\n      <td>Young Professionals</td>\n    </tr>\n    <tr>\n      <th>28</th>\n      <td>Frida</td>\n      <td>Wildlife</td>\n      <td>Surrealism</td>\n      <td>Watercolor</td>\n      <td>30\"x40\"</td>\n      <td>Yes</td>\n      <td>Chicago</td>\n      <td>663</td>\n      <td>6</td>\n      <td>Express</td>\n      <td>Neutral Tones</td>\n      <td>Copy</td>\n      <td>Real</td>\n      <td>Bedroom</td>\n      <td>Reflective</td>\n      <td>Natural Light</td>\n      <td>N/A</td>\n      <td>Interior Designers</td>\n    </tr>\n    <tr>\n      <th>29</th>\n      <td>Frida</td>\n      <td>Abstract</td>\n      <td>Surrealism</td>\n      <td>Acrylic</td>\n      <td>30\"x40\"</td>\n      <td>Yes</td>\n      <td>Montreal</td>\n      <td>212</td>\n      <td>3</td>\n      <td>Express</td>\n      <td>Warm Tones</td>\n      <td>Copy</td>\n      <td>Print</td>\n      <td>Kid Room</td>\n      <td>Reflective</td>\n      <td>Bright Light</td>\n      <td>Fine Art Print</td>\n      <td>Art Collectors</td>\n    </tr>\n    <tr>\n      <th>30</th>\n      <td>Frida</td>\n      <td>Portrait</td>\n      <td>Surrealism</td>\n      <td>Watercolor</td>\n      <td>16\"x20\"</td>\n      <td>Yes</td>\n      <td>Miami</td>\n      <td>782</td>\n      <td>4</td>\n      <td>Express</td>\n      <td>Oceanic Tones</td>\n      <td>Original</td>\n      <td>Print</td>\n      <td>Office</td>\n      <td>Calming</td>\n      <td>Bright Light</td>\n      <td>Lithograph</td>\n      <td>Corporate Clients</td>\n    </tr>\n    <tr>\n      <th>31</th>\n      <td>Frida</td>\n      <td>Abstract</td>\n      <td>Surrealism</td>\n      <td>Acrylic</td>\n      <td>30\"x40\"</td>\n      <td>No</td>\n      <td>Vancouver</td>\n      <td>212</td>\n      <td>10</td>\n      <td>Standard</td>\n      <td>Neutral Tones</td>\n      <td>Original</td>\n      <td>Real</td>\n      <td>Bedroom</td>\n      <td>Reflective</td>\n      <td>Natural Light</td>\n      <td>Giclée</td>\n      <td>Corporate Clients</td>\n    </tr>\n    <tr>\n      <th>32</th>\n      <td>Frida</td>\n      <td>Abstract</td>\n      <td>Surrealism</td>\n      <td>Charcoal</td>\n      <td>16\"x20\"</td>\n      <td>No</td>\n      <td>Montreal</td>\n      <td>715</td>\n      <td>7</td>\n      <td>Express</td>\n      <td>Warm Tones</td>\n      <td>Copy</td>\n      <td>Real</td>\n      <td>Kid Room</td>\n      <td>Energetic</td>\n      <td>Natural Light</td>\n      <td>Screen Print</td>\n      <td>Interior Designers</td>\n    </tr>\n    <tr>\n      <th>33</th>\n      <td>Frida</td>\n      <td>Fantasy</td>\n      <td>Surrealism</td>\n      <td>Watercolor</td>\n      <td>18\"x24\"</td>\n      <td>Yes</td>\n      <td>Vancouver</td>\n      <td>943</td>\n      <td>7</td>\n      <td>Express</td>\n      <td>Neutral Tones</td>\n      <td>Original</td>\n      <td>Real</td>\n      <td>Living Room</td>\n      <td>Relaxing</td>\n      <td>Natural Light</td>\n      <td>Screen Print</td>\n      <td>Corporate Clients</td>\n    </tr>\n    <tr>\n      <th>34</th>\n      <td>Frida</td>\n      <td>Landscape</td>\n      <td>Surrealism</td>\n      <td>Charcoal</td>\n      <td>18\"x24\"</td>\n      <td>Yes</td>\n      <td>Vancouver</td>\n      <td>933</td>\n      <td>5</td>\n      <td>Standard</td>\n      <td>Cool Tones</td>\n      <td>Original</td>\n      <td>Print</td>\n      <td>Bedroom</td>\n      <td>Joyful</td>\n      <td>Bright Light</td>\n      <td>Lithograph</td>\n      <td>Families</td>\n    </tr>\n    <tr>\n      <th>35</th>\n      <td>Frida</td>\n      <td>Portrait</td>\n      <td>Surrealism</td>\n      <td>Oil</td>\n      <td>20\"x30\"</td>\n      <td>Yes</td>\n      <td>Montreal</td>\n      <td>205</td>\n      <td>9</td>\n      <td>Free Shipping</td>\n      <td>Oceanic Tones</td>\n      <td>Original</td>\n      <td>Print</td>\n      <td>Living Room</td>\n      <td>Reflective</td>\n      <td>Bright Light</td>\n      <td>Lithograph</td>\n      <td>Families</td>\n    </tr>\n    <tr>\n      <th>36</th>\n      <td>Frida</td>\n      <td>Portrait</td>\n      <td>Surrealism</td>\n      <td>Mixed Media</td>\n      <td>30\"x40\"</td>\n      <td>Yes</td>\n      <td>Chicago</td>\n      <td>663</td>\n      <td>6</td>\n      <td>Express</td>\n      <td>Oceanic Tones</td>\n      <td>Original</td>\n      <td>Real</td>\n      <td>Living Room</td>\n      <td>Joyful</td>\n      <td>Dim Light</td>\n      <td>Screen Print</td>\n      <td>Families</td>\n    </tr>\n    <tr>\n      <th>37</th>\n      <td>Frida</td>\n      <td>Still Life</td>\n      <td>Surrealism</td>\n      <td>Charcoal</td>\n      <td>20\"x30\"</td>\n      <td>Yes</td>\n      <td>Calgary</td>\n      <td>130</td>\n      <td>3</td>\n      <td>Free Shipping</td>\n      <td>Oceanic Tones</td>\n      <td>Copy</td>\n      <td>Real</td>\n      <td>Kid Room</td>\n      <td>Joyful</td>\n      <td>Bright Light</td>\n      <td>Fine Art Print</td>\n      <td>Art Collectors</td>\n    </tr>\n    <tr>\n      <th>38</th>\n      <td>Frida</td>\n      <td>Fantasy</td>\n      <td>Surrealism</td>\n      <td>Oil</td>\n      <td>20\"x30\"</td>\n      <td>No</td>\n      <td>Los Angeles</td>\n      <td>384</td>\n      <td>5</td>\n      <td>Free Shipping</td>\n      <td>Neutral Tones</td>\n      <td>Copy</td>\n      <td>Print</td>\n      <td>Gallery</td>\n      <td>Reflective</td>\n      <td>Natural Light</td>\n      <td>Giclée</td>\n      <td>Corporate Clients</td>\n    </tr>\n    <tr>\n      <th>39</th>\n      <td>Frida</td>\n      <td>Abstract</td>\n      <td>Surrealism</td>\n      <td>Watercolor</td>\n      <td>18\"x24\"</td>\n      <td>Yes</td>\n      <td>Toronto</td>\n      <td>157</td>\n      <td>4</td>\n      <td>Free Shipping</td>\n      <td>Oceanic Tones</td>\n      <td>Copy</td>\n      <td>Real</td>\n      <td>Bedroom</td>\n      <td>Relaxing</td>\n      <td>Natural Light</td>\n      <td>Lithograph</td>\n      <td>Families</td>\n    </tr>\n    <tr>\n      <th>40</th>\n      <td>Frida</td>\n      <td>Abstract</td>\n      <td>Surrealism</td>\n      <td>Charcoal</td>\n      <td>24\"x36\"</td>\n      <td>No</td>\n      <td>Montreal</td>\n      <td>680</td>\n      <td>4</td>\n      <td>Standard</td>\n      <td>Cool Tones</td>\n      <td>Copy</td>\n      <td>Print</td>\n      <td>Office</td>\n      <td>Energetic</td>\n      <td>Natural Light</td>\n      <td>Lithograph</td>\n      <td>Art Collectors</td>\n    </tr>\n    <tr>\n      <th>41</th>\n      <td>Frida</td>\n      <td>Seascape</td>\n      <td>Surrealism</td>\n      <td>Charcoal</td>\n      <td>16\"x20\"</td>\n      <td>Yes</td>\n      <td>Toronto</td>\n      <td>234</td>\n      <td>7</td>\n      <td>Free Shipping</td>\n      <td>Warm Tones</td>\n      <td>Original</td>\n      <td>Real</td>\n      <td>Office</td>\n      <td>Energetic</td>\n      <td>Bright Light</td>\n      <td>N/A</td>\n      <td>Young Professionals</td>\n    </tr>\n    <tr>\n      <th>42</th>\n      <td>Frida</td>\n      <td>Portrait</td>\n      <td>Surrealism</td>\n      <td>Watercolor</td>\n      <td>24\"x36\"</td>\n      <td>Yes</td>\n      <td>Toronto</td>\n      <td>558</td>\n      <td>7</td>\n      <td>Free Shipping</td>\n      <td>Cool Tones</td>\n      <td>Original</td>\n      <td>Real</td>\n      <td>Living Room</td>\n      <td>Reflective</td>\n      <td>Dim Light</td>\n      <td>Screen Print</td>\n      <td>Art Collectors</td>\n    </tr>\n    <tr>\n      <th>43</th>\n      <td>Frida</td>\n      <td>Portrait</td>\n      <td>Surrealism</td>\n      <td>Charcoal</td>\n      <td>20\"x30\"</td>\n      <td>Yes</td>\n      <td>Los Angeles</td>\n      <td>785</td>\n      <td>3</td>\n      <td>Standard</td>\n      <td>Neutral Tones</td>\n      <td>Original</td>\n      <td>Real</td>\n      <td>Kid Room</td>\n      <td>Energetic</td>\n      <td>Natural Light</td>\n      <td>N/A</td>\n      <td>Families</td>\n    </tr>\n    <tr>\n      <th>44</th>\n      <td>Frida</td>\n      <td>Abstract</td>\n      <td>Surrealism</td>\n      <td>Watercolor</td>\n      <td>30\"x40\"</td>\n      <td>No</td>\n      <td>New York</td>\n      <td>339</td>\n      <td>7</td>\n      <td>Free Shipping</td>\n      <td>Oceanic Tones</td>\n      <td>Original</td>\n      <td>Print</td>\n      <td>Kid Room</td>\n      <td>Calming</td>\n      <td>Natural Light</td>\n      <td>N/A</td>\n      <td>Young Professionals</td>\n    </tr>\n    <tr>\n      <th>45</th>\n      <td>Frida</td>\n      <td>Portrait</td>\n      <td>Surrealism</td>\n      <td>Charcoal</td>\n      <td>30\"x40\"</td>\n      <td>Yes</td>\n      <td>Miami</td>\n      <td>680</td>\n      <td>7</td>\n      <td>Free Shipping</td>\n      <td>Warm Tones</td>\n      <td>Original</td>\n      <td>Print</td>\n      <td>Gallery</td>\n      <td>Reflective</td>\n      <td>Natural Light</td>\n      <td>Screen Print</td>\n      <td>Interior Designers</td>\n    </tr>\n    <tr>\n      <th>46</th>\n      <td>Frida</td>\n      <td>Still Life</td>\n      <td>Surrealism</td>\n      <td>Mixed Media</td>\n      <td>18\"x24\"</td>\n      <td>No</td>\n      <td>Montreal</td>\n      <td>719</td>\n      <td>3</td>\n      <td>Free Shipping</td>\n      <td>Oceanic Tones</td>\n      <td>Original</td>\n      <td>Print</td>\n      <td>Living Room</td>\n      <td>Reflective</td>\n      <td>Dim Light</td>\n      <td>N/A</td>\n      <td>Interior Designers</td>\n    </tr>\n    <tr>\n      <th>47</th>\n      <td>Frida</td>\n      <td>Abstract</td>\n      <td>Surrealism</td>\n      <td>Mixed Media</td>\n      <td>20\"x30\"</td>\n      <td>No</td>\n      <td>Calgary</td>\n      <td>157</td>\n      <td>3</td>\n      <td>Express</td>\n      <td>Cool Tones</td>\n      <td>Original</td>\n      <td>Real</td>\n      <td>Gallery</td>\n      <td>Relaxing</td>\n      <td>Dim Light</td>\n      <td>Lithograph</td>\n      <td>Interior Designers</td>\n    </tr>\n    <tr>\n      <th>48</th>\n      <td>Frida</td>\n      <td>Seascape</td>\n      <td>Surrealism</td>\n      <td>Watercolor</td>\n      <td>16\"x20\"</td>\n      <td>No</td>\n      <td>Miami</td>\n      <td>222</td>\n      <td>10</td>\n      <td>Free Shipping</td>\n      <td>Warm Tones</td>\n      <td>Original</td>\n      <td>Real</td>\n      <td>Office</td>\n      <td>Joyful</td>\n      <td>Dim Light</td>\n      <td>N/A</td>\n      <td>Art Collectors</td>\n    </tr>\n    <tr>\n      <th>49</th>\n      <td>Frida</td>\n      <td>Landscape</td>\n      <td>Surrealism</td>\n      <td>Charcoal</td>\n      <td>18\"x24\"</td>\n      <td>Yes</td>\n      <td>Chicago</td>\n      <td>956</td>\n      <td>9</td>\n      <td>Standard</td>\n      <td>Warm Tones</td>\n      <td>Original</td>\n      <td>Print</td>\n      <td>Kid Room</td>\n      <td>Reflective</td>\n      <td>Bright Light</td>\n      <td>N/A</td>\n      <td>Interior Designers</td>\n    </tr>\n    <tr>\n      <th>50</th>\n      <td>Frida</td>\n      <td>Landscape</td>\n      <td>Surrealism</td>\n      <td>Acrylic</td>\n      <td>18\"x24\"</td>\n      <td>Yes</td>\n      <td>Calgary</td>\n      <td>515</td>\n      <td>9</td>\n      <td>Express</td>\n      <td>Earthy Tones</td>\n      <td>Copy</td>\n      <td>Print</td>\n      <td>Office</td>\n      <td>Relaxing</td>\n      <td>Natural Light</td>\n      <td>N/A</td>\n      <td>Corporate Clients</td>\n    </tr>\n    <tr>\n      <th>51</th>\n      <td>Frida</td>\n      <td>Wildlife</td>\n      <td>Surrealism</td>\n      <td>Watercolor</td>\n      <td>16\"x20\"</td>\n      <td>Yes</td>\n      <td>New York</td>\n      <td>469</td>\n      <td>7</td>\n      <td>Standard</td>\n      <td>Warm Tones</td>\n      <td>Copy</td>\n      <td>Real</td>\n      <td>Kid Room</td>\n      <td>Energetic</td>\n      <td>Dim Light</td>\n      <td>Screen Print</td>\n      <td>Art Collectors</td>\n    </tr>\n  </tbody>\n</table>\n</div>"
          },
          "metadata": {}
        }
      ],
      "outputs_reference": null,
      "execution_count": 17,
      "block_group": "d73e6b937de54d31b5bc659ae58782ff",
      "content_dependencies": null
    },
    {
      "cell_type": "markdown",
      "source": "<a style='text-decoration:none;line-height:16px;display:flex;color:#5B5B62;padding:10px;justify-content:end;' href='https://deepnote.com?utm_source=created-in-deepnote-cell&projectId=13a90a7f-fdab-44fe-855c-ae8c9cbeedee' target=\"_blank\">\n<img alt='Created in deepnote.com' style='display:inline;max-height:16px;margin:0px;margin-right:7.5px;' src='data:image/svg+xml;base64,PD94bWwgdmVyc2lvbj0iMS4wIiBlbmNvZGluZz0iVVRGLTgiPz4KPHN2ZyB3aWR0aD0iODBweCIgaGVpZ2h0PSI4MHB4IiB2aWV3Qm94PSIwIDAgODAgODAiIHZlcnNpb249IjEuMSIgeG1sbnM9Imh0dHA6Ly93d3cudzMub3JnLzIwMDAvc3ZnIiB4bWxuczp4bGluaz0iaHR0cDovL3d3dy53My5vcmcvMTk5OS94bGluayI+CiAgICA8IS0tIEdlbmVyYXRvcjogU2tldGNoIDU0LjEgKDc2NDkwKSAtIGh0dHBzOi8vc2tldGNoYXBwLmNvbSAtLT4KICAgIDx0aXRsZT5Hcm91cCAzPC90aXRsZT4KICAgIDxkZXNjPkNyZWF0ZWQgd2l0aCBTa2V0Y2guPC9kZXNjPgogICAgPGcgaWQ9IkxhbmRpbmciIHN0cm9rZT0ibm9uZSIgc3Ryb2tlLXdpZHRoPSIxIiBmaWxsPSJub25lIiBmaWxsLXJ1bGU9ImV2ZW5vZGQiPgogICAgICAgIDxnIGlkPSJBcnRib2FyZCIgdHJhbnNmb3JtPSJ0cmFuc2xhdGUoLTEyMzUuMDAwMDAwLCAtNzkuMDAwMDAwKSI+CiAgICAgICAgICAgIDxnIGlkPSJHcm91cC0zIiB0cmFuc2Zvcm09InRyYW5zbGF0ZSgxMjM1LjAwMDAwMCwgNzkuMDAwMDAwKSI+CiAgICAgICAgICAgICAgICA8cG9seWdvbiBpZD0iUGF0aC0yMCIgZmlsbD0iIzAyNjVCNCIgcG9pbnRzPSIyLjM3NjIzNzYyIDgwIDM4LjA0NzY2NjcgODAgNTcuODIxNzgyMiA3My44MDU3NTkyIDU3LjgyMTc4MjIgMzIuNzU5MjczOSAzOS4xNDAyMjc4IDMxLjY4MzE2ODMiPjwvcG9seWdvbj4KICAgICAgICAgICAgICAgIDxwYXRoIGQ9Ik0zNS4wMDc3MTgsODAgQzQyLjkwNjIwMDcsNzYuNDU0OTM1OCA0Ny41NjQ5MTY3LDcxLjU0MjI2NzEgNDguOTgzODY2LDY1LjI2MTk5MzkgQzUxLjExMjI4OTksNTUuODQxNTg0MiA0MS42NzcxNzk1LDQ5LjIxMjIyODQgMjUuNjIzOTg0Niw0OS4yMTIyMjg0IEMyNS40ODQ5Mjg5LDQ5LjEyNjg0NDggMjkuODI2MTI5Niw0My4yODM4MjQ4IDM4LjY0NzU4NjksMzEuNjgzMTY4MyBMNzIuODcxMjg3MSwzMi41NTQ0MjUgTDY1LjI4MDk3Myw2Ny42NzYzNDIxIEw1MS4xMTIyODk5LDc3LjM3NjE0NCBMMzUuMDA3NzE4LDgwIFoiIGlkPSJQYXRoLTIyIiBmaWxsPSIjMDAyODY4Ij48L3BhdGg+CiAgICAgICAgICAgICAgICA8cGF0aCBkPSJNMCwzNy43MzA0NDA1IEwyNy4xMTQ1MzcsMC4yNTcxMTE0MzYgQzYyLjM3MTUxMjMsLTEuOTkwNzE3MDEgODAsMTAuNTAwMzkyNyA4MCwzNy43MzA0NDA1IEM4MCw2NC45NjA0ODgyIDY0Ljc3NjUwMzgsNzkuMDUwMzQxNCAzNC4zMjk1MTEzLDgwIEM0Ny4wNTUzNDg5LDc3LjU2NzA4MDggNTMuNDE4MjY3Nyw3MC4zMTM2MTAzIDUzLjQxODI2NzcsNTguMjM5NTg4NSBDNTMuNDE4MjY3Nyw0MC4xMjg1NTU3IDM2LjMwMzk1NDQsMzcuNzMwNDQwNSAyNS4yMjc0MTcsMzcuNzMwNDQwNSBDMTcuODQzMDU4NiwzNy43MzA0NDA1IDkuNDMzOTE5NjYsMzcuNzMwNDQwNSAwLDM3LjczMDQ0MDUgWiIgaWQ9IlBhdGgtMTkiIGZpbGw9IiMzNzkzRUYiPjwvcGF0aD4KICAgICAgICAgICAgPC9nPgogICAgICAgIDwvZz4KICAgIDwvZz4KPC9zdmc+' > </img>\nCreated in <span style='font-weight:600;margin-left:4px;'>Deepnote</span></a>",
      "metadata": {
        "created_in_deepnote_cell": true,
        "deepnote_cell_type": "markdown"
      }
    }
  ],
  "nbformat": 4,
  "nbformat_minor": 0,
  "metadata": {
    "deepnote_notebook_id": "b1472ba8bd924e6cac9670b94f05c356"
  }
}