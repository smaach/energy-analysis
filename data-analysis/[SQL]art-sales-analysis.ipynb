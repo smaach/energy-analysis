{
  "cells": [
    {
      "cell_type": "markdown",
      "source": "# Data Exploration",
      "metadata": {
        "formattedRanges": [],
        "cell_id": "563e945aedd446408ea6accb1c649028",
        "deepnote_cell_type": "text-cell-h1"
      },
      "block_group": "fe5ef48c93f548d390493f32799e361e"
    },
    {
      "cell_type": "code",
      "metadata": {
        "source_hash": "2f6984e7",
        "execution_start": 1738134025463,
        "execution_millis": 1016,
        "sql_integration_id": "deepnote-dataframe-sql",
        "deepnote_table_state": {
          "sortBy": [],
          "filters": [],
          "pageSize": 10,
          "pageIndex": 2,
          "columnOrder": [
            "Name of Painter",
            "Subject of Painting",
            "Style",
            "Medium",
            "Size",
            "Frame",
            "Location",
            "Price ($)",
            "Delivery (days)",
            "Shipment",
            "Color Palette",
            "Copy or Original",
            "Print or Real",
            "Recommended Environment",
            "Mood/Atmosphere",
            "Theme/Lighting Requirements",
            "Reproduction Type",
            "Target Audience"
          ],
          "hiddenColumnIds": [],
          "columnDisplayNames": [],
          "conditionalFilters": [],
          "cellFormattingRules": [],
          "wrappedTextColumnIds": []
        },
        "execution_context_id": "ee53d04e-6db4-4176-9e25-42cacb1d2d08",
        "deepnote_table_loading": false,
        "deepnote_variable_name": "df_1",
        "cell_id": "50617e134e7140e39106b38249947713",
        "deepnote_cell_type": "sql",
        "deepnote_sql_source": "SELECT * FROM read_csv_auto('/work/art.csv')"
      },
      "source": "df_1 = (lambda: _deepnote_execute_sql('SELECT * FROM read_csv_auto(\\'/work/art.csv\\')', 'SQL_DEEPNOTE_DATAFRAME_SQL', audit_sql_comment='', sql_cache_mode='cache_disabled') if '_deepnote_execute_sql' in globals() else _dntk.execute_sql('SELECT * FROM read_csv_auto(\\'/work/art.csv\\')', 'SQL_DEEPNOTE_DATAFRAME_SQL', audit_sql_comment='', sql_cache_mode='cache_disabled'))()\ndf_1",
      "outputs": [
        {
          "output_type": "execute_result",
          "execution_count": 1,
          "data": {
            "application/vnd.deepnote.dataframe.v3+json": {
              "column_count": 18,
              "row_count": 2500,
              "columns": [
                {
                  "name": "Name of Painter",
                  "dtype": "object",
                  "stats": {
                    "unique_count": 11,
                    "nan_count": 0,
                    "categories": [
                      {
                        "name": "Olivia",
                        "count": 251
                      },
                      {
                        "name": "Jija",
                        "count": 240
                      },
                      {
                        "name": "9 others",
                        "count": 2009
                      }
                    ]
                  }
                },
                {
                  "name": "Subject of Painting",
                  "dtype": "object",
                  "stats": {
                    "unique_count": 7,
                    "nan_count": 0,
                    "categories": [
                      {
                        "name": "Wildlife",
                        "count": 370
                      },
                      {
                        "name": "Landscape",
                        "count": 369
                      },
                      {
                        "name": "5 others",
                        "count": 1761
                      }
                    ]
                  }
                },
                {
                  "name": "Style",
                  "dtype": "object",
                  "stats": {
                    "unique_count": 6,
                    "nan_count": 0,
                    "categories": [
                      {
                        "name": "Surrealism",
                        "count": 434
                      },
                      {
                        "name": "Abstract Expressionism",
                        "count": 426
                      },
                      {
                        "name": "4 others",
                        "count": 1640
                      }
                    ]
                  }
                },
                {
                  "name": "Medium",
                  "dtype": "object",
                  "stats": {
                    "unique_count": 5,
                    "nan_count": 0,
                    "categories": [
                      {
                        "name": "Watercolor",
                        "count": 672
                      },
                      {
                        "name": "Oil",
                        "count": 488
                      },
                      {
                        "name": "3 others",
                        "count": 1340
                      }
                    ]
                  }
                },
                {
                  "name": "Size",
                  "dtype": "object",
                  "stats": {
                    "unique_count": 5,
                    "nan_count": 0,
                    "categories": [
                      {
                        "name": "16\"x20\"",
                        "count": 514
                      },
                      {
                        "name": "18\"x24\"",
                        "count": 501
                      },
                      {
                        "name": "3 others",
                        "count": 1485
                      }
                    ]
                  }
                },
                {
                  "name": "Frame",
                  "dtype": "object",
                  "stats": {
                    "unique_count": 2,
                    "nan_count": 0,
                    "categories": [
                      {
                        "name": "No",
                        "count": 1285
                      },
                      {
                        "name": "Yes",
                        "count": 1215
                      }
                    ]
                  }
                },
                {
                  "name": "Location",
                  "dtype": "object",
                  "stats": {
                    "unique_count": 8,
                    "nan_count": 0,
                    "categories": [
                      {
                        "name": "Montreal",
                        "count": 535
                      },
                      {
                        "name": "Calgary",
                        "count": 301
                      },
                      {
                        "name": "6 others",
                        "count": 1664
                      }
                    ]
                  }
                },
                {
                  "name": "Price ($)",
                  "dtype": "int64",
                  "stats": {
                    "unique_count": 97,
                    "nan_count": 0,
                    "min": "127",
                    "max": "975",
                    "histogram": [
                      {
                        "bin_start": 127,
                        "bin_end": 211.8,
                        "count": 238
                      },
                      {
                        "bin_start": 211.8,
                        "bin_end": 296.6,
                        "count": 289
                      },
                      {
                        "bin_start": 296.6,
                        "bin_end": 381.4,
                        "count": 192
                      },
                      {
                        "bin_start": 381.4,
                        "bin_end": 466.2,
                        "count": 190
                      },
                      {
                        "bin_start": 466.2,
                        "bin_end": 551,
                        "count": 218
                      },
                      {
                        "bin_start": 551,
                        "bin_end": 635.8,
                        "count": 121
                      },
                      {
                        "bin_start": 635.8,
                        "bin_end": 720.6,
                        "count": 402
                      },
                      {
                        "bin_start": 720.6,
                        "bin_end": 805.4,
                        "count": 214
                      },
                      {
                        "bin_start": 805.4,
                        "bin_end": 890.1999999999999,
                        "count": 315
                      },
                      {
                        "bin_start": 890.1999999999999,
                        "bin_end": 975,
                        "count": 321
                      }
                    ]
                  }
                },
                {
                  "name": "Delivery (days)",
                  "dtype": "int64",
                  "stats": {
                    "unique_count": 8,
                    "nan_count": 0,
                    "min": "3",
                    "max": "10",
                    "histogram": [
                      {
                        "bin_start": 3,
                        "bin_end": 3.7,
                        "count": 314
                      },
                      {
                        "bin_start": 3.7,
                        "bin_end": 4.4,
                        "count": 371
                      },
                      {
                        "bin_start": 4.4,
                        "bin_end": 5.1,
                        "count": 201
                      },
                      {
                        "bin_start": 5.1,
                        "bin_end": 5.8,
                        "count": 0
                      },
                      {
                        "bin_start": 5.8,
                        "bin_end": 6.5,
                        "count": 318
                      },
                      {
                        "bin_start": 6.5,
                        "bin_end": 7.199999999999999,
                        "count": 415
                      },
                      {
                        "bin_start": 7.199999999999999,
                        "bin_end": 7.8999999999999995,
                        "count": 0
                      },
                      {
                        "bin_start": 7.8999999999999995,
                        "bin_end": 8.6,
                        "count": 258
                      },
                      {
                        "bin_start": 8.6,
                        "bin_end": 9.3,
                        "count": 332
                      },
                      {
                        "bin_start": 9.3,
                        "bin_end": 10,
                        "count": 291
                      }
                    ]
                  }
                },
                {
                  "name": "Shipment",
                  "dtype": "object",
                  "stats": {
                    "unique_count": 3,
                    "nan_count": 0,
                    "categories": [
                      {
                        "name": "Free Shipping",
                        "count": 834
                      },
                      {
                        "name": "Standard",
                        "count": 833
                      },
                      {
                        "name": "Express",
                        "count": 833
                      }
                    ]
                  }
                },
                {
                  "name": "Color Palette",
                  "dtype": "object",
                  "stats": {
                    "unique_count": 5,
                    "nan_count": 0,
                    "categories": [
                      {
                        "name": "Earthy Tones",
                        "count": 528
                      },
                      {
                        "name": "Cool Tones",
                        "count": 524
                      },
                      {
                        "name": "3 others",
                        "count": 1448
                      }
                    ]
                  }
                },
                {
                  "name": "Copy or Original",
                  "dtype": "object",
                  "stats": {
                    "unique_count": 2,
                    "nan_count": 0,
                    "categories": [
                      {
                        "name": "Original",
                        "count": 1279
                      },
                      {
                        "name": "Copy",
                        "count": 1221
                      }
                    ]
                  }
                },
                {
                  "name": "Print or Real",
                  "dtype": "object",
                  "stats": {
                    "unique_count": 2,
                    "nan_count": 0,
                    "categories": [
                      {
                        "name": "Print",
                        "count": 1282
                      },
                      {
                        "name": "Real",
                        "count": 1218
                      }
                    ]
                  }
                },
                {
                  "name": "Recommended Environment",
                  "dtype": "object",
                  "stats": {
                    "unique_count": 5,
                    "nan_count": 0,
                    "categories": [
                      {
                        "name": "Office",
                        "count": 515
                      },
                      {
                        "name": "Kid Room",
                        "count": 512
                      },
                      {
                        "name": "3 others",
                        "count": 1473
                      }
                    ]
                  }
                },
                {
                  "name": "Mood/Atmosphere",
                  "dtype": "object",
                  "stats": {
                    "unique_count": 5,
                    "nan_count": 0,
                    "categories": [
                      {
                        "name": "Relaxing",
                        "count": 512
                      },
                      {
                        "name": "Reflective",
                        "count": 509
                      },
                      {
                        "name": "3 others",
                        "count": 1479
                      }
                    ]
                  }
                },
                {
                  "name": "Theme/Lighting Requirements",
                  "dtype": "object",
                  "stats": {
                    "unique_count": 3,
                    "nan_count": 0,
                    "categories": [
                      {
                        "name": "Dim Light",
                        "count": 840
                      },
                      {
                        "name": "Natural Light",
                        "count": 839
                      },
                      {
                        "name": "Bright Light",
                        "count": 821
                      }
                    ]
                  }
                },
                {
                  "name": "Reproduction Type",
                  "dtype": "object",
                  "stats": {
                    "unique_count": 5,
                    "nan_count": 0,
                    "categories": [
                      {
                        "name": "N/A",
                        "count": 677
                      },
                      {
                        "name": "Lithograph",
                        "count": 623
                      },
                      {
                        "name": "3 others",
                        "count": 1200
                      }
                    ]
                  }
                },
                {
                  "name": "Target Audience",
                  "dtype": "object",
                  "stats": {
                    "unique_count": 5,
                    "nan_count": 0,
                    "categories": [
                      {
                        "name": "Interior Designers",
                        "count": 527
                      },
                      {
                        "name": "Corporate Clients",
                        "count": 509
                      },
                      {
                        "name": "3 others",
                        "count": 1464
                      }
                    ]
                  }
                },
                {
                  "name": "_deepnote_index_column",
                  "dtype": "int64"
                }
              ],
              "rows": [
                {
                  "Name of Painter": "Liam",
                  "Subject of Painting": "Wildlife",
                  "Style": "Surrealism",
                  "Medium": "Oil",
                  "Size": "30\"x40\"",
                  "Frame": "Yes",
                  "Location": "Toronto",
                  "Price ($)": 727,
                  "Delivery (days)": 10,
                  "Shipment": "Free Shipping",
                  "Color Palette": "Oceanic Tones",
                  "Copy or Original": "Original",
                  "Print or Real": "Real",
                  "Recommended Environment": "Kid Room",
                  "Mood/Atmosphere": "Energetic",
                  "Theme/Lighting Requirements": "Natural Light",
                  "Reproduction Type": "N/A",
                  "Target Audience": "Families",
                  "_deepnote_index_column": 20
                },
                {
                  "Name of Painter": "Frida",
                  "Subject of Painting": "Portrait",
                  "Style": "Modern",
                  "Medium": "Acrylic",
                  "Size": "24\"x36\"",
                  "Frame": "Yes",
                  "Location": "Vancouver",
                  "Price ($)": 715,
                  "Delivery (days)": 4,
                  "Shipment": "Standard",
                  "Color Palette": "Neutral Tones",
                  "Copy or Original": "Copy",
                  "Print or Real": "Print",
                  "Recommended Environment": "Office",
                  "Mood/Atmosphere": "Calming",
                  "Theme/Lighting Requirements": "Bright Light",
                  "Reproduction Type": "Screen Print",
                  "Target Audience": "Interior Designers",
                  "_deepnote_index_column": 21
                },
                {
                  "Name of Painter": "Leonardo",
                  "Subject of Painting": "Wildlife",
                  "Style": "Modern",
                  "Medium": "Watercolor",
                  "Size": "18\"x24\"",
                  "Frame": "Yes",
                  "Location": "Chicago",
                  "Price ($)": 956,
                  "Delivery (days)": 4,
                  "Shipment": "Free Shipping",
                  "Color Palette": "Neutral Tones",
                  "Copy or Original": "Copy",
                  "Print or Real": "Print",
                  "Recommended Environment": "Kid Room",
                  "Mood/Atmosphere": "Calming",
                  "Theme/Lighting Requirements": "Bright Light",
                  "Reproduction Type": "Lithograph",
                  "Target Audience": "Corporate Clients",
                  "_deepnote_index_column": 22
                },
                {
                  "Name of Painter": "Liam",
                  "Subject of Painting": "Fantasy",
                  "Style": "Realism",
                  "Medium": "Charcoal",
                  "Size": "18\"x24\"",
                  "Frame": "No",
                  "Location": "Los Angeles",
                  "Price ($)": 891,
                  "Delivery (days)": 8,
                  "Shipment": "Express",
                  "Color Palette": "Neutral Tones",
                  "Copy or Original": "Original",
                  "Print or Real": "Print",
                  "Recommended Environment": "Living Room",
                  "Mood/Atmosphere": "Energetic",
                  "Theme/Lighting Requirements": "Natural Light",
                  "Reproduction Type": "Lithograph",
                  "Target Audience": "Interior Designers",
                  "_deepnote_index_column": 23
                },
                {
                  "Name of Painter": "Claude",
                  "Subject of Painting": "Seascape",
                  "Style": "Impressionism",
                  "Medium": "Acrylic",
                  "Size": "20\"x30\"",
                  "Frame": "No",
                  "Location": "Montreal",
                  "Price ($)": 875,
                  "Delivery (days)": 10,
                  "Shipment": "Express",
                  "Color Palette": "Warm Tones",
                  "Copy or Original": "Original",
                  "Print or Real": "Real",
                  "Recommended Environment": "Living Room",
                  "Mood/Atmosphere": "Reflective",
                  "Theme/Lighting Requirements": "Dim Light",
                  "Reproduction Type": "Screen Print",
                  "Target Audience": "Families",
                  "_deepnote_index_column": 24
                },
                {
                  "Name of Painter": "Olivia",
                  "Subject of Painting": "Abstract",
                  "Style": "Surrealism",
                  "Medium": "Mixed Media",
                  "Size": "20\"x30\"",
                  "Frame": "No",
                  "Location": "Calgary",
                  "Price ($)": 825,
                  "Delivery (days)": 4,
                  "Shipment": "Standard",
                  "Color Palette": "Neutral Tones",
                  "Copy or Original": "Copy",
                  "Print or Real": "Real",
                  "Recommended Environment": "Bedroom",
                  "Mood/Atmosphere": "Reflective",
                  "Theme/Lighting Requirements": "Natural Light",
                  "Reproduction Type": "Giclée",
                  "Target Audience": "Art Collectors",
                  "_deepnote_index_column": 25
                },
                {
                  "Name of Painter": "Olivia",
                  "Subject of Painting": "Fantasy",
                  "Style": "Surrealism",
                  "Medium": "Watercolor",
                  "Size": "20\"x30\"",
                  "Frame": "Yes",
                  "Location": "Montreal",
                  "Price ($)": 127,
                  "Delivery (days)": 7,
                  "Shipment": "Free Shipping",
                  "Color Palette": "Earthy Tones",
                  "Copy or Original": "Original",
                  "Print or Real": "Print",
                  "Recommended Environment": "Kid Room",
                  "Mood/Atmosphere": "Reflective",
                  "Theme/Lighting Requirements": "Dim Light",
                  "Reproduction Type": "Screen Print",
                  "Target Audience": "Young Professionals",
                  "_deepnote_index_column": 26
                },
                {
                  "Name of Painter": "Pablo",
                  "Subject of Painting": "Abstract",
                  "Style": "Surrealism",
                  "Medium": "Watercolor",
                  "Size": "24\"x36\"",
                  "Frame": "No",
                  "Location": "New York",
                  "Price ($)": 452,
                  "Delivery (days)": 8,
                  "Shipment": "Express",
                  "Color Palette": "Earthy Tones",
                  "Copy or Original": "Original",
                  "Print or Real": "Real",
                  "Recommended Environment": "Office",
                  "Mood/Atmosphere": "Calming",
                  "Theme/Lighting Requirements": "Dim Light",
                  "Reproduction Type": "N/A",
                  "Target Audience": "Young Professionals",
                  "_deepnote_index_column": 27
                },
                {
                  "Name of Painter": "Frida",
                  "Subject of Painting": "Portrait",
                  "Style": "Abstract Expressionism",
                  "Medium": "Mixed Media",
                  "Size": "30\"x40\"",
                  "Frame": "Yes",
                  "Location": "Montreal",
                  "Price ($)": 907,
                  "Delivery (days)": 6,
                  "Shipment": "Free Shipping",
                  "Color Palette": "Cool Tones",
                  "Copy or Original": "Original",
                  "Print or Real": "Print",
                  "Recommended Environment": "Bedroom",
                  "Mood/Atmosphere": "Joyful",
                  "Theme/Lighting Requirements": "Dim Light",
                  "Reproduction Type": "Giclée",
                  "Target Audience": "Corporate Clients",
                  "_deepnote_index_column": 28
                },
                {
                  "Name of Painter": "Ava",
                  "Subject of Painting": "Still Life",
                  "Style": "Realism",
                  "Medium": "Acrylic",
                  "Size": "16\"x20\"",
                  "Frame": "Yes",
                  "Location": "Vancouver",
                  "Price ($)": 344,
                  "Delivery (days)": 4,
                  "Shipment": "Express",
                  "Color Palette": "Neutral Tones",
                  "Copy or Original": "Copy",
                  "Print or Real": "Real",
                  "Recommended Environment": "Kid Room",
                  "Mood/Atmosphere": "Reflective",
                  "Theme/Lighting Requirements": "Natural Light",
                  "Reproduction Type": "Fine Art Print",
                  "Target Audience": "Families",
                  "_deepnote_index_column": 29
                }
              ]
            },
            "text/plain": "     Name of Painter Subject of Painting                   Style       Medium  \\\n0               Noah            Seascape  Abstract Expressionism   Watercolor   \n1            Vincent            Abstract  Abstract Expressionism     Charcoal   \n2                Ava          Still Life                  Modern   Watercolor   \n3               Liam            Wildlife                  Cubism      Acrylic   \n4             Olivia           Landscape  Abstract Expressionism     Charcoal   \n...              ...                 ...                     ...          ...   \n2495           Pablo            Wildlife                 Realism  Mixed Media   \n2496        Leonardo             Fantasy                  Modern   Watercolor   \n2497            Emma           Landscape                  Modern          Oil   \n2498            Liam            Portrait           Impressionism  Mixed Media   \n2499            Jija             Fantasy           Impressionism   Watercolor   \n\n         Size Frame     Location  Price ($)  Delivery (days)       Shipment  \\\n0     20\"x30\"   Yes      Chicago        459                6  Free Shipping   \n1     20\"x30\"    No        Miami        657                6  Free Shipping   \n2     18\"x24\"    No        Miami        907                7       Standard   \n3     18\"x24\"    No      Calgary        649                3       Standard   \n4     30\"x40\"   Yes        Miami        539                5  Free Shipping   \n...       ...   ...          ...        ...              ...            ...   \n2495  30\"x40\"    No     New York        469                5  Free Shipping   \n2496  18\"x24\"   Yes      Chicago        943               10        Express   \n2497  18\"x24\"    No      Toronto        469                9        Express   \n2498  30\"x40\"   Yes  Los Angeles        605                6        Express   \n2499  18\"x24\"    No     Montreal        746               10  Free Shipping   \n\n      Color Palette Copy or Original Print or Real Recommended Environment  \\\n0     Neutral Tones         Original         Print                 Bedroom   \n1        Cool Tones         Original         Print             Living Room   \n2        Cool Tones         Original          Real                Kid Room   \n3     Oceanic Tones         Original          Real                  Office   \n4      Earthy Tones             Copy         Print                  Office   \n...             ...              ...           ...                     ...   \n2495   Earthy Tones             Copy         Print                 Bedroom   \n2496   Earthy Tones         Original         Print             Living Room   \n2497     Cool Tones         Original         Print                 Bedroom   \n2498  Oceanic Tones         Original         Print                 Gallery   \n2499     Cool Tones             Copy         Print                 Gallery   \n\n     Mood/Atmosphere Theme/Lighting Requirements Reproduction Type  \\\n0            Calming               Natural Light      Screen Print   \n1           Relaxing               Natural Light               N/A   \n2             Joyful               Natural Light               N/A   \n3         Reflective                Bright Light        Lithograph   \n4          Energetic                Bright Light        Lithograph   \n...              ...                         ...               ...   \n2495          Joyful                Bright Light            Giclée   \n2496         Calming               Natural Light      Screen Print   \n2497          Joyful               Natural Light      Screen Print   \n2498          Joyful                   Dim Light            Giclée   \n2499       Energetic               Natural Light      Screen Print   \n\n          Target Audience  \n0       Corporate Clients  \n1       Corporate Clients  \n2       Corporate Clients  \n3     Young Professionals  \n4       Corporate Clients  \n...                   ...  \n2495   Interior Designers  \n2496  Young Professionals  \n2497             Families  \n2498   Interior Designers  \n2499   Interior Designers  \n\n[2500 rows x 18 columns]",
            "text/html": "<div>\n<style scoped>\n    .dataframe tbody tr th:only-of-type {\n        vertical-align: middle;\n    }\n\n    .dataframe tbody tr th {\n        vertical-align: top;\n    }\n\n    .dataframe thead th {\n        text-align: right;\n    }\n</style>\n<table border=\"1\" class=\"dataframe\">\n  <thead>\n    <tr style=\"text-align: right;\">\n      <th></th>\n      <th>Name of Painter</th>\n      <th>Subject of Painting</th>\n      <th>Style</th>\n      <th>Medium</th>\n      <th>Size</th>\n      <th>Frame</th>\n      <th>Location</th>\n      <th>Price ($)</th>\n      <th>Delivery (days)</th>\n      <th>Shipment</th>\n      <th>Color Palette</th>\n      <th>Copy or Original</th>\n      <th>Print or Real</th>\n      <th>Recommended Environment</th>\n      <th>Mood/Atmosphere</th>\n      <th>Theme/Lighting Requirements</th>\n      <th>Reproduction Type</th>\n      <th>Target Audience</th>\n    </tr>\n  </thead>\n  <tbody>\n    <tr>\n      <th>0</th>\n      <td>Noah</td>\n      <td>Seascape</td>\n      <td>Abstract Expressionism</td>\n      <td>Watercolor</td>\n      <td>20\"x30\"</td>\n      <td>Yes</td>\n      <td>Chicago</td>\n      <td>459</td>\n      <td>6</td>\n      <td>Free Shipping</td>\n      <td>Neutral Tones</td>\n      <td>Original</td>\n      <td>Print</td>\n      <td>Bedroom</td>\n      <td>Calming</td>\n      <td>Natural Light</td>\n      <td>Screen Print</td>\n      <td>Corporate Clients</td>\n    </tr>\n    <tr>\n      <th>1</th>\n      <td>Vincent</td>\n      <td>Abstract</td>\n      <td>Abstract Expressionism</td>\n      <td>Charcoal</td>\n      <td>20\"x30\"</td>\n      <td>No</td>\n      <td>Miami</td>\n      <td>657</td>\n      <td>6</td>\n      <td>Free Shipping</td>\n      <td>Cool Tones</td>\n      <td>Original</td>\n      <td>Print</td>\n      <td>Living Room</td>\n      <td>Relaxing</td>\n      <td>Natural Light</td>\n      <td>N/A</td>\n      <td>Corporate Clients</td>\n    </tr>\n    <tr>\n      <th>2</th>\n      <td>Ava</td>\n      <td>Still Life</td>\n      <td>Modern</td>\n      <td>Watercolor</td>\n      <td>18\"x24\"</td>\n      <td>No</td>\n      <td>Miami</td>\n      <td>907</td>\n      <td>7</td>\n      <td>Standard</td>\n      <td>Cool Tones</td>\n      <td>Original</td>\n      <td>Real</td>\n      <td>Kid Room</td>\n      <td>Joyful</td>\n      <td>Natural Light</td>\n      <td>N/A</td>\n      <td>Corporate Clients</td>\n    </tr>\n    <tr>\n      <th>3</th>\n      <td>Liam</td>\n      <td>Wildlife</td>\n      <td>Cubism</td>\n      <td>Acrylic</td>\n      <td>18\"x24\"</td>\n      <td>No</td>\n      <td>Calgary</td>\n      <td>649</td>\n      <td>3</td>\n      <td>Standard</td>\n      <td>Oceanic Tones</td>\n      <td>Original</td>\n      <td>Real</td>\n      <td>Office</td>\n      <td>Reflective</td>\n      <td>Bright Light</td>\n      <td>Lithograph</td>\n      <td>Young Professionals</td>\n    </tr>\n    <tr>\n      <th>4</th>\n      <td>Olivia</td>\n      <td>Landscape</td>\n      <td>Abstract Expressionism</td>\n      <td>Charcoal</td>\n      <td>30\"x40\"</td>\n      <td>Yes</td>\n      <td>Miami</td>\n      <td>539</td>\n      <td>5</td>\n      <td>Free Shipping</td>\n      <td>Earthy Tones</td>\n      <td>Copy</td>\n      <td>Print</td>\n      <td>Office</td>\n      <td>Energetic</td>\n      <td>Bright Light</td>\n      <td>Lithograph</td>\n      <td>Corporate Clients</td>\n    </tr>\n    <tr>\n      <th>...</th>\n      <td>...</td>\n      <td>...</td>\n      <td>...</td>\n      <td>...</td>\n      <td>...</td>\n      <td>...</td>\n      <td>...</td>\n      <td>...</td>\n      <td>...</td>\n      <td>...</td>\n      <td>...</td>\n      <td>...</td>\n      <td>...</td>\n      <td>...</td>\n      <td>...</td>\n      <td>...</td>\n      <td>...</td>\n      <td>...</td>\n    </tr>\n    <tr>\n      <th>2495</th>\n      <td>Pablo</td>\n      <td>Wildlife</td>\n      <td>Realism</td>\n      <td>Mixed Media</td>\n      <td>30\"x40\"</td>\n      <td>No</td>\n      <td>New York</td>\n      <td>469</td>\n      <td>5</td>\n      <td>Free Shipping</td>\n      <td>Earthy Tones</td>\n      <td>Copy</td>\n      <td>Print</td>\n      <td>Bedroom</td>\n      <td>Joyful</td>\n      <td>Bright Light</td>\n      <td>Giclée</td>\n      <td>Interior Designers</td>\n    </tr>\n    <tr>\n      <th>2496</th>\n      <td>Leonardo</td>\n      <td>Fantasy</td>\n      <td>Modern</td>\n      <td>Watercolor</td>\n      <td>18\"x24\"</td>\n      <td>Yes</td>\n      <td>Chicago</td>\n      <td>943</td>\n      <td>10</td>\n      <td>Express</td>\n      <td>Earthy Tones</td>\n      <td>Original</td>\n      <td>Print</td>\n      <td>Living Room</td>\n      <td>Calming</td>\n      <td>Natural Light</td>\n      <td>Screen Print</td>\n      <td>Young Professionals</td>\n    </tr>\n    <tr>\n      <th>2497</th>\n      <td>Emma</td>\n      <td>Landscape</td>\n      <td>Modern</td>\n      <td>Oil</td>\n      <td>18\"x24\"</td>\n      <td>No</td>\n      <td>Toronto</td>\n      <td>469</td>\n      <td>9</td>\n      <td>Express</td>\n      <td>Cool Tones</td>\n      <td>Original</td>\n      <td>Print</td>\n      <td>Bedroom</td>\n      <td>Joyful</td>\n      <td>Natural Light</td>\n      <td>Screen Print</td>\n      <td>Families</td>\n    </tr>\n    <tr>\n      <th>2498</th>\n      <td>Liam</td>\n      <td>Portrait</td>\n      <td>Impressionism</td>\n      <td>Mixed Media</td>\n      <td>30\"x40\"</td>\n      <td>Yes</td>\n      <td>Los Angeles</td>\n      <td>605</td>\n      <td>6</td>\n      <td>Express</td>\n      <td>Oceanic Tones</td>\n      <td>Original</td>\n      <td>Print</td>\n      <td>Gallery</td>\n      <td>Joyful</td>\n      <td>Dim Light</td>\n      <td>Giclée</td>\n      <td>Interior Designers</td>\n    </tr>\n    <tr>\n      <th>2499</th>\n      <td>Jija</td>\n      <td>Fantasy</td>\n      <td>Impressionism</td>\n      <td>Watercolor</td>\n      <td>18\"x24\"</td>\n      <td>No</td>\n      <td>Montreal</td>\n      <td>746</td>\n      <td>10</td>\n      <td>Free Shipping</td>\n      <td>Cool Tones</td>\n      <td>Copy</td>\n      <td>Print</td>\n      <td>Gallery</td>\n      <td>Energetic</td>\n      <td>Natural Light</td>\n      <td>Screen Print</td>\n      <td>Interior Designers</td>\n    </tr>\n  </tbody>\n</table>\n<p>2500 rows × 18 columns</p>\n</div>"
          },
          "metadata": {}
        }
      ],
      "outputs_reference": null,
      "execution_count": 1,
      "block_group": "56c0d452fbdd44c9b0b08848fff59819",
      "content_dependencies": null
    },
    {
      "cell_type": "markdown",
      "source": "## What are different types of paintings?",
      "metadata": {
        "formattedRanges": [],
        "cell_id": "f6f874ddbcb2493bbc1383dc0c47da23",
        "deepnote_cell_type": "text-cell-h2"
      },
      "block_group": "a0ea4528fbbf4b6cb4d7cb4366c300e4"
    },
    {
      "cell_type": "code",
      "metadata": {
        "source_hash": "e9173f66",
        "execution_start": 1738134026528,
        "execution_millis": 294,
        "sql_integration_id": "deepnote-dataframe-sql",
        "execution_context_id": "ee53d04e-6db4-4176-9e25-42cacb1d2d08",
        "deepnote_variable_name": "df_2",
        "cell_id": "fb68dbbfc57c411c8c3cbf02f5a10b85",
        "deepnote_cell_type": "sql",
        "deepnote_sql_source": "SELECT Style, COUNT(Style) AS 'TOTAL' FROM read_csv_auto('/work/art.csv')\nGROUP BY Style\nORDER BY TOTAL DESC;"
      },
      "source": "df_2 = (lambda: _deepnote_execute_sql('SELECT Style, COUNT(Style) AS \\'TOTAL\\' FROM read_csv_auto(\\'/work/art.csv\\')\\nGROUP BY Style\\nORDER BY TOTAL DESC;', 'SQL_DEEPNOTE_DATAFRAME_SQL', audit_sql_comment='', sql_cache_mode='cache_disabled') if '_deepnote_execute_sql' in globals() else _dntk.execute_sql('SELECT Style, COUNT(Style) AS \\'TOTAL\\' FROM read_csv_auto(\\'/work/art.csv\\')\\nGROUP BY Style\\nORDER BY TOTAL DESC;', 'SQL_DEEPNOTE_DATAFRAME_SQL', audit_sql_comment='', sql_cache_mode='cache_disabled'))()\ndf_2",
      "outputs": [
        {
          "output_type": "execute_result",
          "execution_count": 2,
          "data": {
            "application/vnd.deepnote.dataframe.v3+json": {
              "column_count": 2,
              "row_count": 6,
              "columns": [
                {
                  "name": "Style",
                  "dtype": "object",
                  "stats": {
                    "unique_count": 6,
                    "nan_count": 0,
                    "categories": [
                      {
                        "name": "Surrealism",
                        "count": 1
                      },
                      {
                        "name": "Abstract Expressionism",
                        "count": 1
                      },
                      {
                        "name": "4 others",
                        "count": 4
                      }
                    ]
                  }
                },
                {
                  "name": "TOTAL",
                  "dtype": "int64",
                  "stats": {
                    "unique_count": 6,
                    "nan_count": 0,
                    "min": "382",
                    "max": "434",
                    "histogram": [
                      {
                        "bin_start": 382,
                        "bin_end": 387.2,
                        "count": 1
                      },
                      {
                        "bin_start": 387.2,
                        "bin_end": 392.4,
                        "count": 0
                      },
                      {
                        "bin_start": 392.4,
                        "bin_end": 397.6,
                        "count": 0
                      },
                      {
                        "bin_start": 397.6,
                        "bin_end": 402.8,
                        "count": 0
                      },
                      {
                        "bin_start": 402.8,
                        "bin_end": 408,
                        "count": 0
                      },
                      {
                        "bin_start": 408,
                        "bin_end": 413.2,
                        "count": 0
                      },
                      {
                        "bin_start": 413.2,
                        "bin_end": 418.4,
                        "count": 2
                      },
                      {
                        "bin_start": 418.4,
                        "bin_end": 423.6,
                        "count": 1
                      },
                      {
                        "bin_start": 423.6,
                        "bin_end": 428.8,
                        "count": 1
                      },
                      {
                        "bin_start": 428.8,
                        "bin_end": 434,
                        "count": 1
                      }
                    ]
                  }
                },
                {
                  "name": "_deepnote_index_column",
                  "dtype": "int64"
                }
              ],
              "rows": [
                {
                  "Style": "Surrealism",
                  "TOTAL": 434,
                  "_deepnote_index_column": 0
                },
                {
                  "Style": "Abstract Expressionism",
                  "TOTAL": 426,
                  "_deepnote_index_column": 1
                },
                {
                  "Style": "Modern",
                  "TOTAL": 423,
                  "_deepnote_index_column": 2
                },
                {
                  "Style": "Cubism",
                  "TOTAL": 418,
                  "_deepnote_index_column": 3
                },
                {
                  "Style": "Realism",
                  "TOTAL": 417,
                  "_deepnote_index_column": 4
                },
                {
                  "Style": "Impressionism",
                  "TOTAL": 382,
                  "_deepnote_index_column": 5
                }
              ]
            },
            "text/plain": "                    Style  TOTAL\n0              Surrealism    434\n1  Abstract Expressionism    426\n2                  Modern    423\n3                  Cubism    418\n4                 Realism    417\n5           Impressionism    382",
            "text/html": "<div>\n<style scoped>\n    .dataframe tbody tr th:only-of-type {\n        vertical-align: middle;\n    }\n\n    .dataframe tbody tr th {\n        vertical-align: top;\n    }\n\n    .dataframe thead th {\n        text-align: right;\n    }\n</style>\n<table border=\"1\" class=\"dataframe\">\n  <thead>\n    <tr style=\"text-align: right;\">\n      <th></th>\n      <th>Style</th>\n      <th>TOTAL</th>\n    </tr>\n  </thead>\n  <tbody>\n    <tr>\n      <th>0</th>\n      <td>Surrealism</td>\n      <td>434</td>\n    </tr>\n    <tr>\n      <th>1</th>\n      <td>Abstract Expressionism</td>\n      <td>426</td>\n    </tr>\n    <tr>\n      <th>2</th>\n      <td>Modern</td>\n      <td>423</td>\n    </tr>\n    <tr>\n      <th>3</th>\n      <td>Cubism</td>\n      <td>418</td>\n    </tr>\n    <tr>\n      <th>4</th>\n      <td>Realism</td>\n      <td>417</td>\n    </tr>\n    <tr>\n      <th>5</th>\n      <td>Impressionism</td>\n      <td>382</td>\n    </tr>\n  </tbody>\n</table>\n</div>"
          },
          "metadata": {}
        }
      ],
      "outputs_reference": null,
      "execution_count": 2,
      "block_group": "a04401cf2dd547fda2ebb7ae2e505ef0",
      "content_dependencies": null
    },
    {
      "cell_type": "markdown",
      "source": "The highest paintings are from Surrealism, while the lowest are associated with Impressionism. Let's focus more on painting style of Surrelaism. ",
      "metadata": {
        "formattedRanges": [],
        "cell_id": "69923289869c45c28422b56309724268",
        "deepnote_cell_type": "text-cell-p"
      },
      "block_group": "c32b9ff0e4fd4852aa02520f64eb333e"
    },
    {
      "cell_type": "markdown",
      "source": "",
      "metadata": {
        "formattedRanges": [],
        "cell_id": "ea5a3a2e9f67421e9c211ef499de4b6b",
        "deepnote_cell_type": "text-cell-p"
      },
      "block_group": "e28142d3b5ba449d8af2b0622cd12567"
    },
    {
      "cell_type": "code",
      "metadata": {
        "source_hash": "22e27b2e",
        "execution_start": 1738134120344,
        "execution_millis": 7,
        "sql_integration_id": "deepnote-dataframe-sql",
        "execution_context_id": "ee53d04e-6db4-4176-9e25-42cacb1d2d08",
        "deepnote_variable_name": "df_3",
        "cell_id": "044f48c26a684a5c82a624d732150d0d",
        "deepnote_cell_type": "sql",
        "deepnote_sql_source": "CREATE TABLE art AS SELECT * FROM read_csv_auto('/work/art.csv');\nALTER TABLE art RENAME COLUMN \"Subject of Painting\" TO subject_of_painting;"
      },
      "source": "df_3 = (lambda: _deepnote_execute_sql('CREATE TABLE art AS SELECT * FROM read_csv_auto(\\'/work/art.csv\\');\\nALTER TABLE art RENAME COLUMN \"Subject of Painting\" TO subject_of_painting;', 'SQL_DEEPNOTE_DATAFRAME_SQL', audit_sql_comment='', sql_cache_mode='cache_disabled') if '_deepnote_execute_sql' in globals() else _dntk.execute_sql('CREATE TABLE art AS SELECT * FROM read_csv_auto(\\'/work/art.csv\\');\\nALTER TABLE art RENAME COLUMN \"Subject of Painting\" TO subject_of_painting;', 'SQL_DEEPNOTE_DATAFRAME_SQL', audit_sql_comment='', sql_cache_mode='cache_disabled'))()\ndf_3",
      "outputs": [
        {
          "output_type": "error",
          "ename": "ParserException",
          "evalue": "Parser Error: syntax error at or near \"(\"\nLINE 1: ALTER TABLE read_csv_auto('/work/art.csv') RENAME COLUMN \"Subjec...\n                                 ^",
          "traceback": [
            "\u001b[0;31m---------------------------------------------------------------------------\u001b[0m",
            "\u001b[0;31mParserException\u001b[0m                           Traceback (most recent call last)",
            "Cell \u001b[0;32mIn[11], line 1\u001b[0m\n\u001b[0;32m----> 1\u001b[0m df_3 \u001b[38;5;241m=\u001b[39m \u001b[43m(\u001b[49m\u001b[38;5;28;43;01mlambda\u001b[39;49;00m\u001b[43m:\u001b[49m\u001b[43m \u001b[49m\u001b[43m_deepnote_execute_sql\u001b[49m\u001b[43m(\u001b[49m\u001b[38;5;124;43m'\u001b[39;49m\u001b[38;5;124;43mALTER TABLE read_csv_auto(\u001b[39;49m\u001b[38;5;130;43;01m\\'\u001b[39;49;00m\u001b[38;5;124;43m/work/art.csv\u001b[39;49m\u001b[38;5;130;43;01m\\'\u001b[39;49;00m\u001b[38;5;124;43m) RENAME COLUMN \u001b[39;49m\u001b[38;5;124;43m\"\u001b[39;49m\u001b[38;5;124;43mSubject of Painting\u001b[39;49m\u001b[38;5;124;43m\"\u001b[39;49m\u001b[38;5;124;43m to subject_of_painting;\u001b[39;49m\u001b[38;5;124;43m'\u001b[39;49m\u001b[43m,\u001b[49m\u001b[43m \u001b[49m\u001b[38;5;124;43m'\u001b[39;49m\u001b[38;5;124;43mSQL_DEEPNOTE_DATAFRAME_SQL\u001b[39;49m\u001b[38;5;124;43m'\u001b[39;49m\u001b[43m,\u001b[49m\u001b[43m \u001b[49m\u001b[43maudit_sql_comment\u001b[49m\u001b[38;5;241;43m=\u001b[39;49m\u001b[38;5;124;43m'\u001b[39;49m\u001b[38;5;124;43m'\u001b[39;49m\u001b[43m,\u001b[49m\u001b[43m \u001b[49m\u001b[43msql_cache_mode\u001b[49m\u001b[38;5;241;43m=\u001b[39;49m\u001b[38;5;124;43m'\u001b[39;49m\u001b[38;5;124;43mcache_disabled\u001b[39;49m\u001b[38;5;124;43m'\u001b[39;49m\u001b[43m)\u001b[49m\u001b[43m \u001b[49m\u001b[38;5;28;43;01mif\u001b[39;49;00m\u001b[43m \u001b[49m\u001b[38;5;124;43m'\u001b[39;49m\u001b[38;5;124;43m_deepnote_execute_sql\u001b[39;49m\u001b[38;5;124;43m'\u001b[39;49m\u001b[43m \u001b[49m\u001b[38;5;129;43;01min\u001b[39;49;00m\u001b[43m \u001b[49m\u001b[38;5;28;43mglobals\u001b[39;49m\u001b[43m(\u001b[49m\u001b[43m)\u001b[49m\u001b[43m \u001b[49m\u001b[38;5;28;43;01melse\u001b[39;49;00m\u001b[43m \u001b[49m\u001b[43m_dntk\u001b[49m\u001b[38;5;241;43m.\u001b[39;49m\u001b[43mexecute_sql\u001b[49m\u001b[43m(\u001b[49m\u001b[38;5;124;43m'\u001b[39;49m\u001b[38;5;124;43mALTER TABLE read_csv_auto(\u001b[39;49m\u001b[38;5;130;43;01m\\'\u001b[39;49;00m\u001b[38;5;124;43m/work/art.csv\u001b[39;49m\u001b[38;5;130;43;01m\\'\u001b[39;49;00m\u001b[38;5;124;43m) RENAME COLUMN \u001b[39;49m\u001b[38;5;124;43m\"\u001b[39;49m\u001b[38;5;124;43mSubject of Painting\u001b[39;49m\u001b[38;5;124;43m\"\u001b[39;49m\u001b[38;5;124;43m to subject_of_painting;\u001b[39;49m\u001b[38;5;124;43m'\u001b[39;49m\u001b[43m,\u001b[49m\u001b[43m \u001b[49m\u001b[38;5;124;43m'\u001b[39;49m\u001b[38;5;124;43mSQL_DEEPNOTE_DATAFRAME_SQL\u001b[39;49m\u001b[38;5;124;43m'\u001b[39;49m\u001b[43m,\u001b[49m\u001b[43m \u001b[49m\u001b[43maudit_sql_comment\u001b[49m\u001b[38;5;241;43m=\u001b[39;49m\u001b[38;5;124;43m'\u001b[39;49m\u001b[38;5;124;43m'\u001b[39;49m\u001b[43m,\u001b[49m\u001b[43m \u001b[49m\u001b[43msql_cache_mode\u001b[49m\u001b[38;5;241;43m=\u001b[39;49m\u001b[38;5;124;43m'\u001b[39;49m\u001b[38;5;124;43mcache_disabled\u001b[39;49m\u001b[38;5;124;43m'\u001b[39;49m\u001b[43m)\u001b[49m\u001b[43m)\u001b[49m\u001b[43m(\u001b[49m\u001b[43m)\u001b[49m\n\u001b[1;32m      2\u001b[0m df_3\n",
            "Cell \u001b[0;32mIn[11], line 1\u001b[0m, in \u001b[0;36m<lambda>\u001b[0;34m()\u001b[0m\n\u001b[0;32m----> 1\u001b[0m df_3 \u001b[38;5;241m=\u001b[39m (\u001b[38;5;28;01mlambda\u001b[39;00m: _deepnote_execute_sql(\u001b[38;5;124m'\u001b[39m\u001b[38;5;124mALTER TABLE read_csv_auto(\u001b[39m\u001b[38;5;130;01m\\'\u001b[39;00m\u001b[38;5;124m/work/art.csv\u001b[39m\u001b[38;5;130;01m\\'\u001b[39;00m\u001b[38;5;124m) RENAME COLUMN \u001b[39m\u001b[38;5;124m\"\u001b[39m\u001b[38;5;124mSubject of Painting\u001b[39m\u001b[38;5;124m\"\u001b[39m\u001b[38;5;124m to subject_of_painting;\u001b[39m\u001b[38;5;124m'\u001b[39m, \u001b[38;5;124m'\u001b[39m\u001b[38;5;124mSQL_DEEPNOTE_DATAFRAME_SQL\u001b[39m\u001b[38;5;124m'\u001b[39m, audit_sql_comment\u001b[38;5;241m=\u001b[39m\u001b[38;5;124m'\u001b[39m\u001b[38;5;124m'\u001b[39m, sql_cache_mode\u001b[38;5;241m=\u001b[39m\u001b[38;5;124m'\u001b[39m\u001b[38;5;124mcache_disabled\u001b[39m\u001b[38;5;124m'\u001b[39m) \u001b[38;5;28;01mif\u001b[39;00m \u001b[38;5;124m'\u001b[39m\u001b[38;5;124m_deepnote_execute_sql\u001b[39m\u001b[38;5;124m'\u001b[39m \u001b[38;5;129;01min\u001b[39;00m \u001b[38;5;28mglobals\u001b[39m() \u001b[38;5;28;01melse\u001b[39;00m \u001b[43m_dntk\u001b[49m\u001b[38;5;241;43m.\u001b[39;49m\u001b[43mexecute_sql\u001b[49m\u001b[43m(\u001b[49m\u001b[38;5;124;43m'\u001b[39;49m\u001b[38;5;124;43mALTER TABLE read_csv_auto(\u001b[39;49m\u001b[38;5;130;43;01m\\'\u001b[39;49;00m\u001b[38;5;124;43m/work/art.csv\u001b[39;49m\u001b[38;5;130;43;01m\\'\u001b[39;49;00m\u001b[38;5;124;43m) RENAME COLUMN \u001b[39;49m\u001b[38;5;124;43m\"\u001b[39;49m\u001b[38;5;124;43mSubject of Painting\u001b[39;49m\u001b[38;5;124;43m\"\u001b[39;49m\u001b[38;5;124;43m to subject_of_painting;\u001b[39;49m\u001b[38;5;124;43m'\u001b[39;49m\u001b[43m,\u001b[49m\u001b[43m \u001b[49m\u001b[38;5;124;43m'\u001b[39;49m\u001b[38;5;124;43mSQL_DEEPNOTE_DATAFRAME_SQL\u001b[39;49m\u001b[38;5;124;43m'\u001b[39;49m\u001b[43m,\u001b[49m\u001b[43m \u001b[49m\u001b[43maudit_sql_comment\u001b[49m\u001b[38;5;241;43m=\u001b[39;49m\u001b[38;5;124;43m'\u001b[39;49m\u001b[38;5;124;43m'\u001b[39;49m\u001b[43m,\u001b[49m\u001b[43m \u001b[49m\u001b[43msql_cache_mode\u001b[49m\u001b[38;5;241;43m=\u001b[39;49m\u001b[38;5;124;43m'\u001b[39;49m\u001b[38;5;124;43mcache_disabled\u001b[39;49m\u001b[38;5;124;43m'\u001b[39;49m\u001b[43m)\u001b[49m)()\n\u001b[1;32m      2\u001b[0m df_3\n",
            "File \u001b[0;32m/toolkit-cache/0.2.2/python3.9/kernel-libs/lib/python3.9/site-packages/deepnote_toolkit/sql/sql_execution.py:107\u001b[0m, in \u001b[0;36mexecute_sql\u001b[0;34m(template, sql_alchemy_json_env_var, audit_sql_comment, sql_cache_mode)\u001b[0m\n\u001b[1;32m    102\u001b[0m \u001b[38;5;28;01mif\u001b[39;00m \u001b[38;5;129;01mnot\u001b[39;00m sql_alchemy_json:\n\u001b[1;32m    103\u001b[0m     \u001b[38;5;28;01mraise\u001b[39;00m ExecuteSqlError(\n\u001b[1;32m    104\u001b[0m         \u001b[38;5;124m\"\u001b[39m\u001b[38;5;124mThis SQL cell is not linked with a connected integration\u001b[39m\u001b[38;5;124m\"\u001b[39m\n\u001b[1;32m    105\u001b[0m     )\n\u001b[0;32m--> 107\u001b[0m \u001b[38;5;28;01mreturn\u001b[39;00m \u001b[43mexecute_sql_with_connection_json\u001b[49m\u001b[43m(\u001b[49m\n\u001b[1;32m    108\u001b[0m \u001b[43m    \u001b[49m\u001b[43mtemplate\u001b[49m\u001b[43m,\u001b[49m\n\u001b[1;32m    109\u001b[0m \u001b[43m    \u001b[49m\u001b[43msql_alchemy_json\u001b[49m\u001b[43m,\u001b[49m\n\u001b[1;32m    110\u001b[0m \u001b[43m    \u001b[49m\u001b[43maudit_sql_comment\u001b[49m\u001b[38;5;241;43m=\u001b[39;49m\u001b[43maudit_sql_comment\u001b[49m\u001b[43m,\u001b[49m\n\u001b[1;32m    111\u001b[0m \u001b[43m    \u001b[49m\u001b[43msql_cache_mode\u001b[49m\u001b[38;5;241;43m=\u001b[39;49m\u001b[43msql_cache_mode\u001b[49m\u001b[43m,\u001b[49m\n\u001b[1;32m    112\u001b[0m \u001b[43m\u001b[49m\u001b[43m)\u001b[49m\n",
            "File \u001b[0;32m/toolkit-cache/0.2.2/python3.9/kernel-libs/lib/python3.9/site-packages/deepnote_toolkit/sql/sql_execution.py:68\u001b[0m, in \u001b[0;36mexecute_sql_with_connection_json\u001b[0;34m(template, sql_alchemy_json, audit_sql_comment, sql_cache_mode)\u001b[0m\n\u001b[1;32m     65\u001b[0m \u001b[38;5;28;01mif\u001b[39;00m \u001b[38;5;129;01mnot\u001b[39;00m query\u001b[38;5;241m.\u001b[39mstrip():\n\u001b[1;32m     66\u001b[0m     \u001b[38;5;28;01mreturn\u001b[39;00m\n\u001b[0;32m---> 68\u001b[0m \u001b[38;5;28;01mreturn\u001b[39;00m \u001b[43m_execute_sql_with_caching\u001b[49m\u001b[43m(\u001b[49m\n\u001b[1;32m     69\u001b[0m \u001b[43m    \u001b[49m\u001b[43mquery\u001b[49m\u001b[43m,\u001b[49m\n\u001b[1;32m     70\u001b[0m \u001b[43m    \u001b[49m\u001b[43mbind_params\u001b[49m\u001b[43m,\u001b[49m\n\u001b[1;32m     71\u001b[0m \u001b[43m    \u001b[49m\u001b[43maudit_sql_comment\u001b[49m\u001b[43m,\u001b[49m\n\u001b[1;32m     72\u001b[0m \u001b[43m    \u001b[49m\u001b[43msql_alchemy_dict\u001b[49m\u001b[43m,\u001b[49m\n\u001b[1;32m     73\u001b[0m \u001b[43m    \u001b[49m\u001b[43mrequires_duckdb\u001b[49m\u001b[43m,\u001b[49m\n\u001b[1;32m     74\u001b[0m \u001b[43m    \u001b[49m\u001b[43msql_cache_mode\u001b[49m\u001b[43m,\u001b[49m\n\u001b[1;32m     75\u001b[0m \u001b[43m\u001b[49m\u001b[43m)\u001b[49m\n",
            "File \u001b[0;32m/toolkit-cache/0.2.2/python3.9/kernel-libs/lib/python3.9/site-packages/deepnote_toolkit/sql/sql_execution.py:171\u001b[0m, in \u001b[0;36m_execute_sql_with_caching\u001b[0;34m(query, bind_params, audit_sql_comment, sql_alchemy_dict, requires_duckdb, sql_cache_mode)\u001b[0m\n\u001b[1;32m    161\u001b[0m \u001b[38;5;28;01mdef\u001b[39;00m\u001b[38;5;250m \u001b[39m\u001b[38;5;21m_execute_sql_with_caching\u001b[39m(\n\u001b[1;32m    162\u001b[0m     query,\n\u001b[1;32m    163\u001b[0m     bind_params,\n\u001b[0;32m   (...)\u001b[0m\n\u001b[1;32m    168\u001b[0m ):\n\u001b[1;32m    169\u001b[0m     \u001b[38;5;66;03m# duckdb SQL is not cached, so we can skip the logic below for duckdb\u001b[39;00m\n\u001b[1;32m    170\u001b[0m     \u001b[38;5;28;01mif\u001b[39;00m requires_duckdb:\n\u001b[0;32m--> 171\u001b[0m         \u001b[38;5;28;01mreturn\u001b[39;00m \u001b[43mexecute_duckdb_sql\u001b[49m\u001b[43m(\u001b[49m\u001b[43mquery\u001b[49m\u001b[43m,\u001b[49m\u001b[43m \u001b[49m\u001b[43mbind_params\u001b[49m\u001b[43m)\u001b[49m\n\u001b[1;32m    173\u001b[0m     sql_caching_enabled \u001b[38;5;241m=\u001b[39m sql_cache_mode \u001b[38;5;241m!=\u001b[39m \u001b[38;5;124m\"\u001b[39m\u001b[38;5;124mcache_disabled\u001b[39m\u001b[38;5;124m\"\u001b[39m\n\u001b[1;32m    174\u001b[0m     integration_id \u001b[38;5;241m=\u001b[39m sql_alchemy_dict\u001b[38;5;241m.\u001b[39mget(\u001b[38;5;124m\"\u001b[39m\u001b[38;5;124mintegration_id\u001b[39m\u001b[38;5;124m\"\u001b[39m)\n",
            "File \u001b[0;32m/toolkit-cache/0.2.2/python3.9/kernel-libs/lib/python3.9/site-packages/deepnote_toolkit/sql/duckdb_sql.py:19\u001b[0m, in \u001b[0;36mexecute_duckdb_sql\u001b[0;34m(query, bind_params)\u001b[0m\n\u001b[1;32m     17\u001b[0m duckdb_connection \u001b[38;5;241m=\u001b[39m _get_duckdb_connection()\n\u001b[1;32m     18\u001b[0m \u001b[38;5;28;01mtry\u001b[39;00m:\n\u001b[0;32m---> 19\u001b[0m     \u001b[38;5;28;01mreturn\u001b[39;00m \u001b[43mduckdb_connection\u001b[49m\u001b[38;5;241;43m.\u001b[39;49m\u001b[43mexecute\u001b[49m\u001b[43m(\u001b[49m\u001b[43mquery\u001b[49m\u001b[43m,\u001b[49m\u001b[43m \u001b[49m\u001b[43mparameters\u001b[49m\u001b[38;5;241;43m=\u001b[39;49m\u001b[43mbind_params\u001b[49m\u001b[43m)\u001b[49m\u001b[38;5;241m.\u001b[39mdf()\n\u001b[1;32m     20\u001b[0m \u001b[38;5;28;01mexcept\u001b[39;00m duckdb\u001b[38;5;241m.\u001b[39mInvalidInputException:\n\u001b[1;32m     21\u001b[0m     \u001b[38;5;66;03m# duckdb raises a InvalidInputException when it cannot correctly infer\u001b[39;00m\n\u001b[1;32m     22\u001b[0m     \u001b[38;5;66;03m# a column type from the first 1000 rows. We'll retry the query with a larger sample size\u001b[39;00m\n\u001b[1;32m     23\u001b[0m     \u001b[38;5;66;03m# https://stackoverflow.com/q/75352219/2761695\u001b[39;00m\n\u001b[1;32m     24\u001b[0m     \u001b[38;5;28;01mtry\u001b[39;00m:\n",
            "\u001b[0;31mParserException\u001b[0m: Parser Error: syntax error at or near \"(\"\nLINE 1: ALTER TABLE read_csv_auto('/work/art.csv') RENAME COLUMN \"Subjec...\n                                 ^"
          ]
        }
      ],
      "outputs_reference": null,
      "execution_count": 11,
      "block_group": "5a543bceda374dae8c25ff55cbfbff69",
      "content_dependencies": null
    },
    {
      "cell_type": "markdown",
      "source": "<a style='text-decoration:none;line-height:16px;display:flex;color:#5B5B62;padding:10px;justify-content:end;' href='https://deepnote.com?utm_source=created-in-deepnote-cell&projectId=13a90a7f-fdab-44fe-855c-ae8c9cbeedee' target=\"_blank\">\n<img alt='Created in deepnote.com' style='display:inline;max-height:16px;margin:0px;margin-right:7.5px;' src='data:image/svg+xml;base64,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' > </img>\nCreated in <span style='font-weight:600;margin-left:4px;'>Deepnote</span></a>",
      "metadata": {
        "created_in_deepnote_cell": true,
        "deepnote_cell_type": "markdown"
      }
    }
  ],
  "nbformat": 4,
  "nbformat_minor": 0,
  "metadata": {
    "deepnote_notebook_id": "b1472ba8bd924e6cac9670b94f05c356"
  }
}