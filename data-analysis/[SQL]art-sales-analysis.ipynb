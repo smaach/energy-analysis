{
  "cells": [
    {
      "cell_type": "markdown",
      "source": "# Data Exploration",
      "metadata": {
        "formattedRanges": [],
        "cell_id": "563e945aedd446408ea6accb1c649028",
        "deepnote_cell_type": "text-cell-h1"
      },
      "block_group": "1dfad05c335b42d0aa721aa4ccbf1404"
    },
    {
      "cell_type": "code",
      "metadata": {
        "source_hash": "662b4396",
        "execution_start": 1738134792817,
        "execution_millis": 1053,
        "sql_integration_id": "deepnote-dataframe-sql",
        "deepnote_table_state": {
          "sortBy": [],
          "filters": [],
          "pageSize": 10,
          "pageIndex": 2,
          "columnOrder": [
            "Name of Painter",
            "Subject of Painting",
            "Style",
            "Medium",
            "Size",
            "Frame",
            "Location",
            "Price ($)",
            "Delivery (days)",
            "Shipment",
            "Color Palette",
            "Copy or Original",
            "Print or Real",
            "Recommended Environment",
            "Mood/Atmosphere",
            "Theme/Lighting Requirements",
            "Reproduction Type",
            "Target Audience"
          ],
          "hiddenColumnIds": [],
          "columnDisplayNames": [],
          "conditionalFilters": [],
          "cellFormattingRules": [],
          "wrappedTextColumnIds": []
        },
        "execution_context_id": "1b099ea7-bbbb-4b89-afc2-793b466fae34",
        "deepnote_table_loading": false,
        "deepnote_variable_name": "df_1",
        "cell_id": "50617e134e7140e39106b38249947713",
        "deepnote_cell_type": "sql",
        "deepnote_sql_source": "SELECT * FROM read_csv_auto('/work/art-collection.csv')"
      },
      "source": "df_1 = (lambda: _deepnote_execute_sql('SELECT * FROM read_csv_auto(\\'/work/art-collection.csv\\')', 'SQL_DEEPNOTE_DATAFRAME_SQL', audit_sql_comment='', sql_cache_mode='cache_disabled') if '_deepnote_execute_sql' in globals() else _dntk.execute_sql('SELECT * FROM read_csv_auto(\\'/work/art-collection.csv\\')', 'SQL_DEEPNOTE_DATAFRAME_SQL', audit_sql_comment='', sql_cache_mode='cache_disabled'))()\ndf_1",
      "outputs": [
        {
          "output_type": "execute_result",
          "execution_count": 1,
          "data": {
            "application/vnd.deepnote.dataframe.v3+json": {
              "column_count": 18,
              "row_count": 2500,
              "columns": [
                {
                  "name": "Name of Painter",
                  "dtype": "object",
                  "stats": {
                    "unique_count": 11,
                    "nan_count": 0,
                    "categories": [
                      {
                        "name": "Olivia",
                        "count": 251
                      },
                      {
                        "name": "Jija",
                        "count": 240
                      },
                      {
                        "name": "9 others",
                        "count": 2009
                      }
                    ]
                  }
                },
                {
                  "name": "Subject of Painting",
                  "dtype": "object",
                  "stats": {
                    "unique_count": 7,
                    "nan_count": 0,
                    "categories": [
                      {
                        "name": "Wildlife",
                        "count": 370
                      },
                      {
                        "name": "Landscape",
                        "count": 369
                      },
                      {
                        "name": "5 others",
                        "count": 1761
                      }
                    ]
                  }
                },
                {
                  "name": "Style",
                  "dtype": "object",
                  "stats": {
                    "unique_count": 6,
                    "nan_count": 0,
                    "categories": [
                      {
                        "name": "Surrealism",
                        "count": 434
                      },
                      {
                        "name": "Abstract Expressionism",
                        "count": 426
                      },
                      {
                        "name": "4 others",
                        "count": 1640
                      }
                    ]
                  }
                },
                {
                  "name": "Medium",
                  "dtype": "object",
                  "stats": {
                    "unique_count": 5,
                    "nan_count": 0,
                    "categories": [
                      {
                        "name": "Watercolor",
                        "count": 672
                      },
                      {
                        "name": "Oil",
                        "count": 488
                      },
                      {
                        "name": "3 others",
                        "count": 1340
                      }
                    ]
                  }
                },
                {
                  "name": "Size",
                  "dtype": "object",
                  "stats": {
                    "unique_count": 5,
                    "nan_count": 0,
                    "categories": [
                      {
                        "name": "16\"x20\"",
                        "count": 514
                      },
                      {
                        "name": "18\"x24\"",
                        "count": 501
                      },
                      {
                        "name": "3 others",
                        "count": 1485
                      }
                    ]
                  }
                },
                {
                  "name": "Frame",
                  "dtype": "object",
                  "stats": {
                    "unique_count": 2,
                    "nan_count": 0,
                    "categories": [
                      {
                        "name": "No",
                        "count": 1285
                      },
                      {
                        "name": "Yes",
                        "count": 1215
                      }
                    ]
                  }
                },
                {
                  "name": "Location",
                  "dtype": "object",
                  "stats": {
                    "unique_count": 8,
                    "nan_count": 0,
                    "categories": [
                      {
                        "name": "Montreal",
                        "count": 535
                      },
                      {
                        "name": "Calgary",
                        "count": 301
                      },
                      {
                        "name": "6 others",
                        "count": 1664
                      }
                    ]
                  }
                },
                {
                  "name": "Price ($)",
                  "dtype": "int64",
                  "stats": {
                    "unique_count": 97,
                    "nan_count": 0,
                    "min": "127",
                    "max": "975",
                    "histogram": [
                      {
                        "bin_start": 127,
                        "bin_end": 211.8,
                        "count": 238
                      },
                      {
                        "bin_start": 211.8,
                        "bin_end": 296.6,
                        "count": 289
                      },
                      {
                        "bin_start": 296.6,
                        "bin_end": 381.4,
                        "count": 192
                      },
                      {
                        "bin_start": 381.4,
                        "bin_end": 466.2,
                        "count": 190
                      },
                      {
                        "bin_start": 466.2,
                        "bin_end": 551,
                        "count": 218
                      },
                      {
                        "bin_start": 551,
                        "bin_end": 635.8,
                        "count": 121
                      },
                      {
                        "bin_start": 635.8,
                        "bin_end": 720.6,
                        "count": 402
                      },
                      {
                        "bin_start": 720.6,
                        "bin_end": 805.4,
                        "count": 214
                      },
                      {
                        "bin_start": 805.4,
                        "bin_end": 890.1999999999999,
                        "count": 315
                      },
                      {
                        "bin_start": 890.1999999999999,
                        "bin_end": 975,
                        "count": 321
                      }
                    ]
                  }
                },
                {
                  "name": "Delivery (days)",
                  "dtype": "int64",
                  "stats": {
                    "unique_count": 8,
                    "nan_count": 0,
                    "min": "3",
                    "max": "10",
                    "histogram": [
                      {
                        "bin_start": 3,
                        "bin_end": 3.7,
                        "count": 314
                      },
                      {
                        "bin_start": 3.7,
                        "bin_end": 4.4,
                        "count": 371
                      },
                      {
                        "bin_start": 4.4,
                        "bin_end": 5.1,
                        "count": 201
                      },
                      {
                        "bin_start": 5.1,
                        "bin_end": 5.8,
                        "count": 0
                      },
                      {
                        "bin_start": 5.8,
                        "bin_end": 6.5,
                        "count": 318
                      },
                      {
                        "bin_start": 6.5,
                        "bin_end": 7.199999999999999,
                        "count": 415
                      },
                      {
                        "bin_start": 7.199999999999999,
                        "bin_end": 7.8999999999999995,
                        "count": 0
                      },
                      {
                        "bin_start": 7.8999999999999995,
                        "bin_end": 8.6,
                        "count": 258
                      },
                      {
                        "bin_start": 8.6,
                        "bin_end": 9.3,
                        "count": 332
                      },
                      {
                        "bin_start": 9.3,
                        "bin_end": 10,
                        "count": 291
                      }
                    ]
                  }
                },
                {
                  "name": "Shipment",
                  "dtype": "object",
                  "stats": {
                    "unique_count": 3,
                    "nan_count": 0,
                    "categories": [
                      {
                        "name": "Free Shipping",
                        "count": 834
                      },
                      {
                        "name": "Standard",
                        "count": 833
                      },
                      {
                        "name": "Express",
                        "count": 833
                      }
                    ]
                  }
                },
                {
                  "name": "Color Palette",
                  "dtype": "object",
                  "stats": {
                    "unique_count": 5,
                    "nan_count": 0,
                    "categories": [
                      {
                        "name": "Earthy Tones",
                        "count": 528
                      },
                      {
                        "name": "Cool Tones",
                        "count": 524
                      },
                      {
                        "name": "3 others",
                        "count": 1448
                      }
                    ]
                  }
                },
                {
                  "name": "Copy or Original",
                  "dtype": "object",
                  "stats": {
                    "unique_count": 2,
                    "nan_count": 0,
                    "categories": [
                      {
                        "name": "Original",
                        "count": 1279
                      },
                      {
                        "name": "Copy",
                        "count": 1221
                      }
                    ]
                  }
                },
                {
                  "name": "Print or Real",
                  "dtype": "object",
                  "stats": {
                    "unique_count": 2,
                    "nan_count": 0,
                    "categories": [
                      {
                        "name": "Print",
                        "count": 1282
                      },
                      {
                        "name": "Real",
                        "count": 1218
                      }
                    ]
                  }
                },
                {
                  "name": "Recommended Environment",
                  "dtype": "object",
                  "stats": {
                    "unique_count": 5,
                    "nan_count": 0,
                    "categories": [
                      {
                        "name": "Office",
                        "count": 515
                      },
                      {
                        "name": "Kid Room",
                        "count": 512
                      },
                      {
                        "name": "3 others",
                        "count": 1473
                      }
                    ]
                  }
                },
                {
                  "name": "Mood/Atmosphere",
                  "dtype": "object",
                  "stats": {
                    "unique_count": 5,
                    "nan_count": 0,
                    "categories": [
                      {
                        "name": "Relaxing",
                        "count": 512
                      },
                      {
                        "name": "Reflective",
                        "count": 509
                      },
                      {
                        "name": "3 others",
                        "count": 1479
                      }
                    ]
                  }
                },
                {
                  "name": "Theme/Lighting Requirements",
                  "dtype": "object",
                  "stats": {
                    "unique_count": 3,
                    "nan_count": 0,
                    "categories": [
                      {
                        "name": "Dim Light",
                        "count": 840
                      },
                      {
                        "name": "Natural Light",
                        "count": 839
                      },
                      {
                        "name": "Bright Light",
                        "count": 821
                      }
                    ]
                  }
                },
                {
                  "name": "Reproduction Type",
                  "dtype": "object",
                  "stats": {
                    "unique_count": 5,
                    "nan_count": 0,
                    "categories": [
                      {
                        "name": "N/A",
                        "count": 677
                      },
                      {
                        "name": "Lithograph",
                        "count": 623
                      },
                      {
                        "name": "3 others",
                        "count": 1200
                      }
                    ]
                  }
                },
                {
                  "name": "Target Audience",
                  "dtype": "object",
                  "stats": {
                    "unique_count": 5,
                    "nan_count": 0,
                    "categories": [
                      {
                        "name": "Interior Designers",
                        "count": 527
                      },
                      {
                        "name": "Corporate Clients",
                        "count": 509
                      },
                      {
                        "name": "3 others",
                        "count": 1464
                      }
                    ]
                  }
                },
                {
                  "name": "_deepnote_index_column",
                  "dtype": "int64"
                }
              ],
              "rows": [
                {
                  "Name of Painter": "Liam",
                  "Subject of Painting": "Wildlife",
                  "Style": "Surrealism",
                  "Medium": "Oil",
                  "Size": "30\"x40\"",
                  "Frame": "Yes",
                  "Location": "Toronto",
                  "Price ($)": 727,
                  "Delivery (days)": 10,
                  "Shipment": "Free Shipping",
                  "Color Palette": "Oceanic Tones",
                  "Copy or Original": "Original",
                  "Print or Real": "Real",
                  "Recommended Environment": "Kid Room",
                  "Mood/Atmosphere": "Energetic",
                  "Theme/Lighting Requirements": "Natural Light",
                  "Reproduction Type": "N/A",
                  "Target Audience": "Families",
                  "_deepnote_index_column": 20
                },
                {
                  "Name of Painter": "Frida",
                  "Subject of Painting": "Portrait",
                  "Style": "Modern",
                  "Medium": "Acrylic",
                  "Size": "24\"x36\"",
                  "Frame": "Yes",
                  "Location": "Vancouver",
                  "Price ($)": 715,
                  "Delivery (days)": 4,
                  "Shipment": "Standard",
                  "Color Palette": "Neutral Tones",
                  "Copy or Original": "Copy",
                  "Print or Real": "Print",
                  "Recommended Environment": "Office",
                  "Mood/Atmosphere": "Calming",
                  "Theme/Lighting Requirements": "Bright Light",
                  "Reproduction Type": "Screen Print",
                  "Target Audience": "Interior Designers",
                  "_deepnote_index_column": 21
                },
                {
                  "Name of Painter": "Leonardo",
                  "Subject of Painting": "Wildlife",
                  "Style": "Modern",
                  "Medium": "Watercolor",
                  "Size": "18\"x24\"",
                  "Frame": "Yes",
                  "Location": "Chicago",
                  "Price ($)": 956,
                  "Delivery (days)": 4,
                  "Shipment": "Free Shipping",
                  "Color Palette": "Neutral Tones",
                  "Copy or Original": "Copy",
                  "Print or Real": "Print",
                  "Recommended Environment": "Kid Room",
                  "Mood/Atmosphere": "Calming",
                  "Theme/Lighting Requirements": "Bright Light",
                  "Reproduction Type": "Lithograph",
                  "Target Audience": "Corporate Clients",
                  "_deepnote_index_column": 22
                },
                {
                  "Name of Painter": "Liam",
                  "Subject of Painting": "Fantasy",
                  "Style": "Realism",
                  "Medium": "Charcoal",
                  "Size": "18\"x24\"",
                  "Frame": "No",
                  "Location": "Los Angeles",
                  "Price ($)": 891,
                  "Delivery (days)": 8,
                  "Shipment": "Express",
                  "Color Palette": "Neutral Tones",
                  "Copy or Original": "Original",
                  "Print or Real": "Print",
                  "Recommended Environment": "Living Room",
                  "Mood/Atmosphere": "Energetic",
                  "Theme/Lighting Requirements": "Natural Light",
                  "Reproduction Type": "Lithograph",
                  "Target Audience": "Interior Designers",
                  "_deepnote_index_column": 23
                },
                {
                  "Name of Painter": "Claude",
                  "Subject of Painting": "Seascape",
                  "Style": "Impressionism",
                  "Medium": "Acrylic",
                  "Size": "20\"x30\"",
                  "Frame": "No",
                  "Location": "Montreal",
                  "Price ($)": 875,
                  "Delivery (days)": 10,
                  "Shipment": "Express",
                  "Color Palette": "Warm Tones",
                  "Copy or Original": "Original",
                  "Print or Real": "Real",
                  "Recommended Environment": "Living Room",
                  "Mood/Atmosphere": "Reflective",
                  "Theme/Lighting Requirements": "Dim Light",
                  "Reproduction Type": "Screen Print",
                  "Target Audience": "Families",
                  "_deepnote_index_column": 24
                },
                {
                  "Name of Painter": "Olivia",
                  "Subject of Painting": "Abstract",
                  "Style": "Surrealism",
                  "Medium": "Mixed Media",
                  "Size": "20\"x30\"",
                  "Frame": "No",
                  "Location": "Calgary",
                  "Price ($)": 825,
                  "Delivery (days)": 4,
                  "Shipment": "Standard",
                  "Color Palette": "Neutral Tones",
                  "Copy or Original": "Copy",
                  "Print or Real": "Real",
                  "Recommended Environment": "Bedroom",
                  "Mood/Atmosphere": "Reflective",
                  "Theme/Lighting Requirements": "Natural Light",
                  "Reproduction Type": "Giclée",
                  "Target Audience": "Art Collectors",
                  "_deepnote_index_column": 25
                },
                {
                  "Name of Painter": "Olivia",
                  "Subject of Painting": "Fantasy",
                  "Style": "Surrealism",
                  "Medium": "Watercolor",
                  "Size": "20\"x30\"",
                  "Frame": "Yes",
                  "Location": "Montreal",
                  "Price ($)": 127,
                  "Delivery (days)": 7,
                  "Shipment": "Free Shipping",
                  "Color Palette": "Earthy Tones",
                  "Copy or Original": "Original",
                  "Print or Real": "Print",
                  "Recommended Environment": "Kid Room",
                  "Mood/Atmosphere": "Reflective",
                  "Theme/Lighting Requirements": "Dim Light",
                  "Reproduction Type": "Screen Print",
                  "Target Audience": "Young Professionals",
                  "_deepnote_index_column": 26
                },
                {
                  "Name of Painter": "Pablo",
                  "Subject of Painting": "Abstract",
                  "Style": "Surrealism",
                  "Medium": "Watercolor",
                  "Size": "24\"x36\"",
                  "Frame": "No",
                  "Location": "New York",
                  "Price ($)": 452,
                  "Delivery (days)": 8,
                  "Shipment": "Express",
                  "Color Palette": "Earthy Tones",
                  "Copy or Original": "Original",
                  "Print or Real": "Real",
                  "Recommended Environment": "Office",
                  "Mood/Atmosphere": "Calming",
                  "Theme/Lighting Requirements": "Dim Light",
                  "Reproduction Type": "N/A",
                  "Target Audience": "Young Professionals",
                  "_deepnote_index_column": 27
                },
                {
                  "Name of Painter": "Frida",
                  "Subject of Painting": "Portrait",
                  "Style": "Abstract Expressionism",
                  "Medium": "Mixed Media",
                  "Size": "30\"x40\"",
                  "Frame": "Yes",
                  "Location": "Montreal",
                  "Price ($)": 907,
                  "Delivery (days)": 6,
                  "Shipment": "Free Shipping",
                  "Color Palette": "Cool Tones",
                  "Copy or Original": "Original",
                  "Print or Real": "Print",
                  "Recommended Environment": "Bedroom",
                  "Mood/Atmosphere": "Joyful",
                  "Theme/Lighting Requirements": "Dim Light",
                  "Reproduction Type": "Giclée",
                  "Target Audience": "Corporate Clients",
                  "_deepnote_index_column": 28
                },
                {
                  "Name of Painter": "Ava",
                  "Subject of Painting": "Still Life",
                  "Style": "Realism",
                  "Medium": "Acrylic",
                  "Size": "16\"x20\"",
                  "Frame": "Yes",
                  "Location": "Vancouver",
                  "Price ($)": 344,
                  "Delivery (days)": 4,
                  "Shipment": "Express",
                  "Color Palette": "Neutral Tones",
                  "Copy or Original": "Copy",
                  "Print or Real": "Real",
                  "Recommended Environment": "Kid Room",
                  "Mood/Atmosphere": "Reflective",
                  "Theme/Lighting Requirements": "Natural Light",
                  "Reproduction Type": "Fine Art Print",
                  "Target Audience": "Families",
                  "_deepnote_index_column": 29
                }
              ]
            },
            "text/plain": "     Name of Painter Subject of Painting                   Style       Medium  \\\n0               Noah            Seascape  Abstract Expressionism   Watercolor   \n1            Vincent            Abstract  Abstract Expressionism     Charcoal   \n2                Ava          Still Life                  Modern   Watercolor   \n3               Liam            Wildlife                  Cubism      Acrylic   \n4             Olivia           Landscape  Abstract Expressionism     Charcoal   \n...              ...                 ...                     ...          ...   \n2495           Pablo            Wildlife                 Realism  Mixed Media   \n2496        Leonardo             Fantasy                  Modern   Watercolor   \n2497            Emma           Landscape                  Modern          Oil   \n2498            Liam            Portrait           Impressionism  Mixed Media   \n2499            Jija             Fantasy           Impressionism   Watercolor   \n\n         Size Frame     Location  Price ($)  Delivery (days)       Shipment  \\\n0     20\"x30\"   Yes      Chicago        459                6  Free Shipping   \n1     20\"x30\"    No        Miami        657                6  Free Shipping   \n2     18\"x24\"    No        Miami        907                7       Standard   \n3     18\"x24\"    No      Calgary        649                3       Standard   \n4     30\"x40\"   Yes        Miami        539                5  Free Shipping   \n...       ...   ...          ...        ...              ...            ...   \n2495  30\"x40\"    No     New York        469                5  Free Shipping   \n2496  18\"x24\"   Yes      Chicago        943               10        Express   \n2497  18\"x24\"    No      Toronto        469                9        Express   \n2498  30\"x40\"   Yes  Los Angeles        605                6        Express   \n2499  18\"x24\"    No     Montreal        746               10  Free Shipping   \n\n      Color Palette Copy or Original Print or Real Recommended Environment  \\\n0     Neutral Tones         Original         Print                 Bedroom   \n1        Cool Tones         Original         Print             Living Room   \n2        Cool Tones         Original          Real                Kid Room   \n3     Oceanic Tones         Original          Real                  Office   \n4      Earthy Tones             Copy         Print                  Office   \n...             ...              ...           ...                     ...   \n2495   Earthy Tones             Copy         Print                 Bedroom   \n2496   Earthy Tones         Original         Print             Living Room   \n2497     Cool Tones         Original         Print                 Bedroom   \n2498  Oceanic Tones         Original         Print                 Gallery   \n2499     Cool Tones             Copy         Print                 Gallery   \n\n     Mood/Atmosphere Theme/Lighting Requirements Reproduction Type  \\\n0            Calming               Natural Light      Screen Print   \n1           Relaxing               Natural Light               N/A   \n2             Joyful               Natural Light               N/A   \n3         Reflective                Bright Light        Lithograph   \n4          Energetic                Bright Light        Lithograph   \n...              ...                         ...               ...   \n2495          Joyful                Bright Light            Giclée   \n2496         Calming               Natural Light      Screen Print   \n2497          Joyful               Natural Light      Screen Print   \n2498          Joyful                   Dim Light            Giclée   \n2499       Energetic               Natural Light      Screen Print   \n\n          Target Audience  \n0       Corporate Clients  \n1       Corporate Clients  \n2       Corporate Clients  \n3     Young Professionals  \n4       Corporate Clients  \n...                   ...  \n2495   Interior Designers  \n2496  Young Professionals  \n2497             Families  \n2498   Interior Designers  \n2499   Interior Designers  \n\n[2500 rows x 18 columns]",
            "text/html": "<div>\n<style scoped>\n    .dataframe tbody tr th:only-of-type {\n        vertical-align: middle;\n    }\n\n    .dataframe tbody tr th {\n        vertical-align: top;\n    }\n\n    .dataframe thead th {\n        text-align: right;\n    }\n</style>\n<table border=\"1\" class=\"dataframe\">\n  <thead>\n    <tr style=\"text-align: right;\">\n      <th></th>\n      <th>Name of Painter</th>\n      <th>Subject of Painting</th>\n      <th>Style</th>\n      <th>Medium</th>\n      <th>Size</th>\n      <th>Frame</th>\n      <th>Location</th>\n      <th>Price ($)</th>\n      <th>Delivery (days)</th>\n      <th>Shipment</th>\n      <th>Color Palette</th>\n      <th>Copy or Original</th>\n      <th>Print or Real</th>\n      <th>Recommended Environment</th>\n      <th>Mood/Atmosphere</th>\n      <th>Theme/Lighting Requirements</th>\n      <th>Reproduction Type</th>\n      <th>Target Audience</th>\n    </tr>\n  </thead>\n  <tbody>\n    <tr>\n      <th>0</th>\n      <td>Noah</td>\n      <td>Seascape</td>\n      <td>Abstract Expressionism</td>\n      <td>Watercolor</td>\n      <td>20\"x30\"</td>\n      <td>Yes</td>\n      <td>Chicago</td>\n      <td>459</td>\n      <td>6</td>\n      <td>Free Shipping</td>\n      <td>Neutral Tones</td>\n      <td>Original</td>\n      <td>Print</td>\n      <td>Bedroom</td>\n      <td>Calming</td>\n      <td>Natural Light</td>\n      <td>Screen Print</td>\n      <td>Corporate Clients</td>\n    </tr>\n    <tr>\n      <th>1</th>\n      <td>Vincent</td>\n      <td>Abstract</td>\n      <td>Abstract Expressionism</td>\n      <td>Charcoal</td>\n      <td>20\"x30\"</td>\n      <td>No</td>\n      <td>Miami</td>\n      <td>657</td>\n      <td>6</td>\n      <td>Free Shipping</td>\n      <td>Cool Tones</td>\n      <td>Original</td>\n      <td>Print</td>\n      <td>Living Room</td>\n      <td>Relaxing</td>\n      <td>Natural Light</td>\n      <td>N/A</td>\n      <td>Corporate Clients</td>\n    </tr>\n    <tr>\n      <th>2</th>\n      <td>Ava</td>\n      <td>Still Life</td>\n      <td>Modern</td>\n      <td>Watercolor</td>\n      <td>18\"x24\"</td>\n      <td>No</td>\n      <td>Miami</td>\n      <td>907</td>\n      <td>7</td>\n      <td>Standard</td>\n      <td>Cool Tones</td>\n      <td>Original</td>\n      <td>Real</td>\n      <td>Kid Room</td>\n      <td>Joyful</td>\n      <td>Natural Light</td>\n      <td>N/A</td>\n      <td>Corporate Clients</td>\n    </tr>\n    <tr>\n      <th>3</th>\n      <td>Liam</td>\n      <td>Wildlife</td>\n      <td>Cubism</td>\n      <td>Acrylic</td>\n      <td>18\"x24\"</td>\n      <td>No</td>\n      <td>Calgary</td>\n      <td>649</td>\n      <td>3</td>\n      <td>Standard</td>\n      <td>Oceanic Tones</td>\n      <td>Original</td>\n      <td>Real</td>\n      <td>Office</td>\n      <td>Reflective</td>\n      <td>Bright Light</td>\n      <td>Lithograph</td>\n      <td>Young Professionals</td>\n    </tr>\n    <tr>\n      <th>4</th>\n      <td>Olivia</td>\n      <td>Landscape</td>\n      <td>Abstract Expressionism</td>\n      <td>Charcoal</td>\n      <td>30\"x40\"</td>\n      <td>Yes</td>\n      <td>Miami</td>\n      <td>539</td>\n      <td>5</td>\n      <td>Free Shipping</td>\n      <td>Earthy Tones</td>\n      <td>Copy</td>\n      <td>Print</td>\n      <td>Office</td>\n      <td>Energetic</td>\n      <td>Bright Light</td>\n      <td>Lithograph</td>\n      <td>Corporate Clients</td>\n    </tr>\n    <tr>\n      <th>...</th>\n      <td>...</td>\n      <td>...</td>\n      <td>...</td>\n      <td>...</td>\n      <td>...</td>\n      <td>...</td>\n      <td>...</td>\n      <td>...</td>\n      <td>...</td>\n      <td>...</td>\n      <td>...</td>\n      <td>...</td>\n      <td>...</td>\n      <td>...</td>\n      <td>...</td>\n      <td>...</td>\n      <td>...</td>\n      <td>...</td>\n    </tr>\n    <tr>\n      <th>2495</th>\n      <td>Pablo</td>\n      <td>Wildlife</td>\n      <td>Realism</td>\n      <td>Mixed Media</td>\n      <td>30\"x40\"</td>\n      <td>No</td>\n      <td>New York</td>\n      <td>469</td>\n      <td>5</td>\n      <td>Free Shipping</td>\n      <td>Earthy Tones</td>\n      <td>Copy</td>\n      <td>Print</td>\n      <td>Bedroom</td>\n      <td>Joyful</td>\n      <td>Bright Light</td>\n      <td>Giclée</td>\n      <td>Interior Designers</td>\n    </tr>\n    <tr>\n      <th>2496</th>\n      <td>Leonardo</td>\n      <td>Fantasy</td>\n      <td>Modern</td>\n      <td>Watercolor</td>\n      <td>18\"x24\"</td>\n      <td>Yes</td>\n      <td>Chicago</td>\n      <td>943</td>\n      <td>10</td>\n      <td>Express</td>\n      <td>Earthy Tones</td>\n      <td>Original</td>\n      <td>Print</td>\n      <td>Living Room</td>\n      <td>Calming</td>\n      <td>Natural Light</td>\n      <td>Screen Print</td>\n      <td>Young Professionals</td>\n    </tr>\n    <tr>\n      <th>2497</th>\n      <td>Emma</td>\n      <td>Landscape</td>\n      <td>Modern</td>\n      <td>Oil</td>\n      <td>18\"x24\"</td>\n      <td>No</td>\n      <td>Toronto</td>\n      <td>469</td>\n      <td>9</td>\n      <td>Express</td>\n      <td>Cool Tones</td>\n      <td>Original</td>\n      <td>Print</td>\n      <td>Bedroom</td>\n      <td>Joyful</td>\n      <td>Natural Light</td>\n      <td>Screen Print</td>\n      <td>Families</td>\n    </tr>\n    <tr>\n      <th>2498</th>\n      <td>Liam</td>\n      <td>Portrait</td>\n      <td>Impressionism</td>\n      <td>Mixed Media</td>\n      <td>30\"x40\"</td>\n      <td>Yes</td>\n      <td>Los Angeles</td>\n      <td>605</td>\n      <td>6</td>\n      <td>Express</td>\n      <td>Oceanic Tones</td>\n      <td>Original</td>\n      <td>Print</td>\n      <td>Gallery</td>\n      <td>Joyful</td>\n      <td>Dim Light</td>\n      <td>Giclée</td>\n      <td>Interior Designers</td>\n    </tr>\n    <tr>\n      <th>2499</th>\n      <td>Jija</td>\n      <td>Fantasy</td>\n      <td>Impressionism</td>\n      <td>Watercolor</td>\n      <td>18\"x24\"</td>\n      <td>No</td>\n      <td>Montreal</td>\n      <td>746</td>\n      <td>10</td>\n      <td>Free Shipping</td>\n      <td>Cool Tones</td>\n      <td>Copy</td>\n      <td>Print</td>\n      <td>Gallery</td>\n      <td>Energetic</td>\n      <td>Natural Light</td>\n      <td>Screen Print</td>\n      <td>Interior Designers</td>\n    </tr>\n  </tbody>\n</table>\n<p>2500 rows × 18 columns</p>\n</div>"
          },
          "metadata": {}
        }
      ],
      "outputs_reference": null,
      "execution_count": 1,
      "block_group": "56c0d452fbdd44c9b0b08848fff59819",
      "content_dependencies": null
    },
    {
      "cell_type": "code",
      "metadata": {
        "source_hash": "e22975f2",
        "execution_start": 1738134797417,
        "execution_millis": 291,
        "sql_integration_id": "deepnote-dataframe-sql",
        "execution_context_id": "1b099ea7-bbbb-4b89-afc2-793b466fae34",
        "deepnote_variable_name": "df_4",
        "cell_id": "9e691ddfd0f7445ebd0400f2aa052fb5",
        "deepnote_cell_type": "sql",
        "deepnote_sql_source": "CREATE TABLE art AS SELECT * FROM read_csv_auto('/work/art-collection.csv');\n"
      },
      "source": "df_4 = (lambda: _deepnote_execute_sql('CREATE TABLE art AS SELECT * FROM read_csv_auto(\\'/work/art-collection.csv\\');\\n', 'SQL_DEEPNOTE_DATAFRAME_SQL', audit_sql_comment='', sql_cache_mode='cache_disabled') if '_deepnote_execute_sql' in globals() else _dntk.execute_sql('CREATE TABLE art AS SELECT * FROM read_csv_auto(\\'/work/art-collection.csv\\');\\n', 'SQL_DEEPNOTE_DATAFRAME_SQL', audit_sql_comment='', sql_cache_mode='cache_disabled'))()\ndf_4",
      "outputs": [
        {
          "output_type": "execute_result",
          "execution_count": 3,
          "data": {
            "application/vnd.deepnote.dataframe.v3+json": {
              "column_count": 1,
              "row_count": 1,
              "columns": [
                {
                  "name": "Count",
                  "dtype": "int64",
                  "stats": {
                    "unique_count": 1,
                    "nan_count": 0,
                    "min": "2500",
                    "max": "2500",
                    "histogram": [
                      {
                        "bin_start": 2499.5,
                        "bin_end": 2499.6,
                        "count": 0
                      },
                      {
                        "bin_start": 2499.6,
                        "bin_end": 2499.7,
                        "count": 0
                      },
                      {
                        "bin_start": 2499.7,
                        "bin_end": 2499.8,
                        "count": 0
                      },
                      {
                        "bin_start": 2499.8,
                        "bin_end": 2499.9,
                        "count": 0
                      },
                      {
                        "bin_start": 2499.9,
                        "bin_end": 2500,
                        "count": 0
                      },
                      {
                        "bin_start": 2500,
                        "bin_end": 2500.1,
                        "count": 1
                      },
                      {
                        "bin_start": 2500.1,
                        "bin_end": 2500.2,
                        "count": 0
                      },
                      {
                        "bin_start": 2500.2,
                        "bin_end": 2500.3,
                        "count": 0
                      },
                      {
                        "bin_start": 2500.3,
                        "bin_end": 2500.4,
                        "count": 0
                      },
                      {
                        "bin_start": 2500.4,
                        "bin_end": 2500.5,
                        "count": 0
                      }
                    ]
                  }
                },
                {
                  "name": "_deepnote_index_column",
                  "dtype": "int64"
                }
              ],
              "rows": [
                {
                  "Count": 2500,
                  "_deepnote_index_column": 0
                }
              ]
            },
            "text/plain": "   Count\n0   2500",
            "text/html": "<div>\n<style scoped>\n    .dataframe tbody tr th:only-of-type {\n        vertical-align: middle;\n    }\n\n    .dataframe tbody tr th {\n        vertical-align: top;\n    }\n\n    .dataframe thead th {\n        text-align: right;\n    }\n</style>\n<table border=\"1\" class=\"dataframe\">\n  <thead>\n    <tr style=\"text-align: right;\">\n      <th></th>\n      <th>Count</th>\n    </tr>\n  </thead>\n  <tbody>\n    <tr>\n      <th>0</th>\n      <td>2500</td>\n    </tr>\n  </tbody>\n</table>\n</div>"
          },
          "metadata": {}
        }
      ],
      "outputs_reference": null,
      "execution_count": 3,
      "block_group": "cdbf3f5f79864db78a71aa1b7c798feb",
      "content_dependencies": null
    },
    {
      "cell_type": "code",
      "metadata": {
        "source_hash": "b153345c",
        "execution_start": 1738134801431,
        "execution_millis": 6,
        "sql_integration_id": "deepnote-dataframe-sql",
        "execution_context_id": "1b099ea7-bbbb-4b89-afc2-793b466fae34",
        "deepnote_variable_name": "df_7",
        "cell_id": "e534ef6503b0462eb68e78c1c394fedb",
        "deepnote_cell_type": "sql",
        "deepnote_sql_source": "ALTER TABLE art RENAME COLUMN \"Subject of Painting\" TO painting_subject;\nALTER TABLE art RENAME COLUMN \"Name of Painter\" TO painter_name;\nALTER TABLE art RENAME COLUMN \"Price ($)\" TO price;"
      },
      "source": "df_7 = (lambda: _deepnote_execute_sql('ALTER TABLE art RENAME COLUMN \"Subject of Painting\" TO painting_subject;\\nALTER TABLE art RENAME COLUMN \"Name of Painter\" TO painter_name;\\nALTER TABLE art RENAME COLUMN \"Price ($)\" TO price;', 'SQL_DEEPNOTE_DATAFRAME_SQL', audit_sql_comment='', sql_cache_mode='cache_disabled') if '_deepnote_execute_sql' in globals() else _dntk.execute_sql('ALTER TABLE art RENAME COLUMN \"Subject of Painting\" TO painting_subject;\\nALTER TABLE art RENAME COLUMN \"Name of Painter\" TO painter_name;\\nALTER TABLE art RENAME COLUMN \"Price ($)\" TO price;', 'SQL_DEEPNOTE_DATAFRAME_SQL', audit_sql_comment='', sql_cache_mode='cache_disabled'))()\ndf_7",
      "outputs": [
        {
          "output_type": "execute_result",
          "execution_count": 5,
          "data": {
            "application/vnd.deepnote.dataframe.v3+json": {
              "column_count": 1,
              "row_count": 0,
              "columns": [
                {
                  "name": "Success",
                  "dtype": "bool",
                  "stats": {
                    "unique_count": 0,
                    "nan_count": 0,
                    "categories": []
                  }
                },
                {
                  "name": "_deepnote_index_column",
                  "dtype": "int64"
                }
              ],
              "rows": []
            },
            "text/plain": "Empty DataFrame\nColumns: [Success]\nIndex: []",
            "text/html": "<div>\n<style scoped>\n    .dataframe tbody tr th:only-of-type {\n        vertical-align: middle;\n    }\n\n    .dataframe tbody tr th {\n        vertical-align: top;\n    }\n\n    .dataframe thead th {\n        text-align: right;\n    }\n</style>\n<table border=\"1\" class=\"dataframe\">\n  <thead>\n    <tr style=\"text-align: right;\">\n      <th></th>\n      <th>Success</th>\n    </tr>\n  </thead>\n  <tbody>\n  </tbody>\n</table>\n</div>"
          },
          "metadata": {}
        }
      ],
      "outputs_reference": null,
      "execution_count": 5,
      "block_group": "9ae3a2fd8c7f4a5189412fa32804b004",
      "content_dependencies": null
    },
    {
      "cell_type": "markdown",
      "source": "## Who is the most famous painter?",
      "metadata": {
        "formattedRanges": [],
        "cell_id": "f6f874ddbcb2493bbc1383dc0c47da23",
        "deepnote_cell_type": "text-cell-h2"
      },
      "block_group": "ec56a40927854f8cb564b929c927e684"
    },
    {
      "cell_type": "markdown",
      "source": "How do you define a famous painter? ",
      "metadata": {
        "formattedRanges": [],
        "cell_id": "975ff963510d4d2ca88f4bc509345887",
        "deepnote_cell_type": "text-cell-p"
      },
      "block_group": "716e1dc507c54ba7b5cae92a68b3a199"
    },
    {
      "cell_type": "markdown",
      "source": "1. By looking at the most number of paintings created?",
      "metadata": {
        "formattedRanges": [],
        "cell_id": "8224128a2efa4421a7ff6e3ba914024c",
        "deepnote_cell_type": "text-cell-p"
      },
      "block_group": "fb6a58fed8c54157aa947741b99b1a4d"
    },
    {
      "cell_type": "markdown",
      "source": "2. By looking at the price point of selling paintings?",
      "metadata": {
        "formattedRanges": [],
        "cell_id": "920a476f8ed54c23b54ba41da169a378",
        "deepnote_cell_type": "text-cell-p"
      },
      "block_group": "51ccc46bcae04b80bab5f685d08c225b"
    },
    {
      "cell_type": "code",
      "metadata": {
        "source_hash": "5d2c4c96",
        "execution_start": 1738135227008,
        "execution_millis": 0,
        "sql_integration_id": "deepnote-dataframe-sql",
        "deepnote_table_state": {
          "sortBy": [],
          "filters": [],
          "pageSize": 10,
          "pageIndex": 0,
          "columnOrder": [
            "painter_name",
            "total_paintings"
          ],
          "hiddenColumnIds": [],
          "columnDisplayNames": [],
          "conditionalFilters": [],
          "cellFormattingRules": [],
          "wrappedTextColumnIds": []
        },
        "execution_context_id": "1b099ea7-bbbb-4b89-afc2-793b466fae34",
        "deepnote_table_loading": false,
        "deepnote_variable_name": "df_2",
        "cell_id": "fb68dbbfc57c411c8c3cbf02f5a10b85",
        "deepnote_cell_type": "sql",
        "deepnote_sql_source": "SELECT painter_name, COUNT(painter_name) AS 'total_paintings' FROM art\nGROUP BY painter_name\nORDER BY total_paintings DESC;"
      },
      "source": "df_2 = (lambda: _deepnote_execute_sql('SELECT painter_name, COUNT(painter_name) AS \\'total_paintings\\' FROM art\\nGROUP BY painter_name\\nORDER BY total_paintings DESC;', 'SQL_DEEPNOTE_DATAFRAME_SQL', audit_sql_comment='', sql_cache_mode='cache_disabled') if '_deepnote_execute_sql' in globals() else _dntk.execute_sql('SELECT painter_name, COUNT(painter_name) AS \\'total_paintings\\' FROM art\\nGROUP BY painter_name\\nORDER BY total_paintings DESC;', 'SQL_DEEPNOTE_DATAFRAME_SQL', audit_sql_comment='', sql_cache_mode='cache_disabled'))()\ndf_2",
      "outputs": [
        {
          "output_type": "execute_result",
          "execution_count": 31,
          "data": {
            "application/vnd.deepnote.dataframe.v3+json": {
              "column_count": 2,
              "row_count": 11,
              "columns": [
                {
                  "name": "painter_name",
                  "dtype": "object",
                  "stats": {
                    "unique_count": 11,
                    "nan_count": 0,
                    "categories": [
                      {
                        "name": "Olivia",
                        "count": 1
                      },
                      {
                        "name": "Jija",
                        "count": 1
                      },
                      {
                        "name": "9 others",
                        "count": 9
                      }
                    ]
                  }
                },
                {
                  "name": "total_paintings",
                  "dtype": "int64",
                  "stats": {
                    "unique_count": 11,
                    "nan_count": 0,
                    "min": "210",
                    "max": "251",
                    "histogram": [
                      {
                        "bin_start": 210,
                        "bin_end": 214.1,
                        "count": 3
                      },
                      {
                        "bin_start": 214.1,
                        "bin_end": 218.2,
                        "count": 0
                      },
                      {
                        "bin_start": 218.2,
                        "bin_end": 222.3,
                        "count": 0
                      },
                      {
                        "bin_start": 222.3,
                        "bin_end": 226.4,
                        "count": 3
                      },
                      {
                        "bin_start": 226.4,
                        "bin_end": 230.5,
                        "count": 1
                      },
                      {
                        "bin_start": 230.5,
                        "bin_end": 234.6,
                        "count": 0
                      },
                      {
                        "bin_start": 234.6,
                        "bin_end": 238.7,
                        "count": 1
                      },
                      {
                        "bin_start": 238.7,
                        "bin_end": 242.8,
                        "count": 2
                      },
                      {
                        "bin_start": 242.8,
                        "bin_end": 246.9,
                        "count": 0
                      },
                      {
                        "bin_start": 246.9,
                        "bin_end": 251,
                        "count": 1
                      }
                    ]
                  }
                },
                {
                  "name": "_deepnote_index_column",
                  "dtype": "int64"
                }
              ],
              "rows": [
                {
                  "painter_name": "Olivia",
                  "total_paintings": 251,
                  "_deepnote_index_column": 0
                },
                {
                  "painter_name": "Jija",
                  "total_paintings": 240,
                  "_deepnote_index_column": 1
                },
                {
                  "painter_name": "Pablo",
                  "total_paintings": 239,
                  "_deepnote_index_column": 2
                },
                {
                  "painter_name": "Noah",
                  "total_paintings": 238,
                  "_deepnote_index_column": 3
                },
                {
                  "painter_name": "Vincent",
                  "total_paintings": 227,
                  "_deepnote_index_column": 4
                },
                {
                  "painter_name": "Emma",
                  "total_paintings": 225,
                  "_deepnote_index_column": 5
                },
                {
                  "painter_name": "Leonardo",
                  "total_paintings": 224,
                  "_deepnote_index_column": 6
                },
                {
                  "painter_name": "Liam",
                  "total_paintings": 223,
                  "_deepnote_index_column": 7
                },
                {
                  "painter_name": "Frida",
                  "total_paintings": 212,
                  "_deepnote_index_column": 8
                },
                {
                  "painter_name": "Claude",
                  "total_paintings": 211,
                  "_deepnote_index_column": 9
                }
              ]
            },
            "text/plain": "   painter_name  total_paintings\n0        Olivia              251\n1          Jija              240\n2         Pablo              239\n3          Noah              238\n4       Vincent              227\n5          Emma              225\n6      Leonardo              224\n7          Liam              223\n8         Frida              212\n9        Claude              211\n10          Ava              210",
            "text/html": "<div>\n<style scoped>\n    .dataframe tbody tr th:only-of-type {\n        vertical-align: middle;\n    }\n\n    .dataframe tbody tr th {\n        vertical-align: top;\n    }\n\n    .dataframe thead th {\n        text-align: right;\n    }\n</style>\n<table border=\"1\" class=\"dataframe\">\n  <thead>\n    <tr style=\"text-align: right;\">\n      <th></th>\n      <th>painter_name</th>\n      <th>total_paintings</th>\n    </tr>\n  </thead>\n  <tbody>\n    <tr>\n      <th>0</th>\n      <td>Olivia</td>\n      <td>251</td>\n    </tr>\n    <tr>\n      <th>1</th>\n      <td>Jija</td>\n      <td>240</td>\n    </tr>\n    <tr>\n      <th>2</th>\n      <td>Pablo</td>\n      <td>239</td>\n    </tr>\n    <tr>\n      <th>3</th>\n      <td>Noah</td>\n      <td>238</td>\n    </tr>\n    <tr>\n      <th>4</th>\n      <td>Vincent</td>\n      <td>227</td>\n    </tr>\n    <tr>\n      <th>5</th>\n      <td>Emma</td>\n      <td>225</td>\n    </tr>\n    <tr>\n      <th>6</th>\n      <td>Leonardo</td>\n      <td>224</td>\n    </tr>\n    <tr>\n      <th>7</th>\n      <td>Liam</td>\n      <td>223</td>\n    </tr>\n    <tr>\n      <th>8</th>\n      <td>Frida</td>\n      <td>212</td>\n    </tr>\n    <tr>\n      <th>9</th>\n      <td>Claude</td>\n      <td>211</td>\n    </tr>\n    <tr>\n      <th>10</th>\n      <td>Ava</td>\n      <td>210</td>\n    </tr>\n  </tbody>\n</table>\n</div>"
          },
          "metadata": {}
        }
      ],
      "outputs_reference": null,
      "execution_count": 29,
      "block_group": "a04401cf2dd547fda2ebb7ae2e505ef0",
      "content_dependencies": null
    },
    {
      "cell_type": "markdown",
      "source": "It looks like Olivia has the highest number of paintings. Let's explore the price point by painters.",
      "metadata": {
        "formattedRanges": [],
        "cell_id": "69923289869c45c28422b56309724268",
        "deepnote_cell_type": "text-cell-p"
      },
      "block_group": "cb3f1837c45a4a7eafbefe77d5074044"
    },
    {
      "cell_type": "code",
      "metadata": {
        "source_hash": "17ed330d",
        "execution_start": 1738135529108,
        "execution_millis": 0,
        "sql_integration_id": "deepnote-dataframe-sql",
        "execution_context_id": "1b099ea7-bbbb-4b89-afc2-793b466fae34",
        "deepnote_variable_name": "df_9",
        "cell_id": "cabb8591b54846f0b534bd83bb7f286d",
        "deepnote_cell_type": "sql",
        "deepnote_sql_source": "SELECT painter_name, \n    AVG(price) AS 'avg_price',\n    COUNT(*) AS 'total_paintings_sold'\nFROM art\nGROUP BY painter_name\nORDER BY avg_price DESC;"
      },
      "source": "df_9 = (lambda: _deepnote_execute_sql('SELECT painter_name, \\n    AVG(price) AS \\'avg_price\\',\\n    COUNT(*) AS \\'total_paintings_sold\\'\\nFROM art\\nGROUP BY painter_name\\nORDER BY avg_price DESC;', 'SQL_DEEPNOTE_DATAFRAME_SQL', audit_sql_comment='', sql_cache_mode='cache_disabled') if '_deepnote_execute_sql' in globals() else _dntk.execute_sql('SELECT painter_name, \\n    AVG(price) AS \\'avg_price\\',\\n    COUNT(*) AS \\'total_paintings_sold\\'\\nFROM art\\nGROUP BY painter_name\\nORDER BY avg_price DESC;', 'SQL_DEEPNOTE_DATAFRAME_SQL', audit_sql_comment='', sql_cache_mode='cache_disabled'))()\ndf_9",
      "outputs": [
        {
          "output_type": "execute_result",
          "execution_count": 35,
          "data": {
            "application/vnd.deepnote.dataframe.v3+json": {
              "column_count": 3,
              "row_count": 11,
              "columns": [
                {
                  "name": "painter_name",
                  "dtype": "object",
                  "stats": {
                    "unique_count": 11,
                    "nan_count": 0,
                    "categories": [
                      {
                        "name": "Liam",
                        "count": 1
                      },
                      {
                        "name": "Leonardo",
                        "count": 1
                      },
                      {
                        "name": "9 others",
                        "count": 9
                      }
                    ]
                  }
                },
                {
                  "name": "avg_price",
                  "dtype": "float64",
                  "stats": {
                    "unique_count": 11,
                    "nan_count": 0,
                    "min": "551.7962085308056",
                    "max": "614.2600896860987",
                    "histogram": [
                      {
                        "bin_start": 551.7962085308056,
                        "bin_end": 558.0425966463349,
                        "count": 1
                      },
                      {
                        "bin_start": 558.0425966463349,
                        "bin_end": 564.2889847618643,
                        "count": 1
                      },
                      {
                        "bin_start": 564.2889847618643,
                        "bin_end": 570.5353728773936,
                        "count": 3
                      },
                      {
                        "bin_start": 570.5353728773936,
                        "bin_end": 576.7817609929228,
                        "count": 2
                      },
                      {
                        "bin_start": 576.7817609929228,
                        "bin_end": 583.0281491084522,
                        "count": 1
                      },
                      {
                        "bin_start": 583.0281491084522,
                        "bin_end": 589.2745372239815,
                        "count": 1
                      },
                      {
                        "bin_start": 589.2745372239815,
                        "bin_end": 595.5209253395108,
                        "count": 1
                      },
                      {
                        "bin_start": 595.5209253395108,
                        "bin_end": 601.76731345504,
                        "count": 0
                      },
                      {
                        "bin_start": 601.76731345504,
                        "bin_end": 608.0137015705694,
                        "count": 0
                      },
                      {
                        "bin_start": 608.0137015705694,
                        "bin_end": 614.2600896860987,
                        "count": 1
                      }
                    ]
                  }
                },
                {
                  "name": "total_paintings_sold",
                  "dtype": "int64",
                  "stats": {
                    "unique_count": 11,
                    "nan_count": 0,
                    "min": "210",
                    "max": "251",
                    "histogram": [
                      {
                        "bin_start": 210,
                        "bin_end": 214.1,
                        "count": 3
                      },
                      {
                        "bin_start": 214.1,
                        "bin_end": 218.2,
                        "count": 0
                      },
                      {
                        "bin_start": 218.2,
                        "bin_end": 222.3,
                        "count": 0
                      },
                      {
                        "bin_start": 222.3,
                        "bin_end": 226.4,
                        "count": 3
                      },
                      {
                        "bin_start": 226.4,
                        "bin_end": 230.5,
                        "count": 1
                      },
                      {
                        "bin_start": 230.5,
                        "bin_end": 234.6,
                        "count": 0
                      },
                      {
                        "bin_start": 234.6,
                        "bin_end": 238.7,
                        "count": 1
                      },
                      {
                        "bin_start": 238.7,
                        "bin_end": 242.8,
                        "count": 2
                      },
                      {
                        "bin_start": 242.8,
                        "bin_end": 246.9,
                        "count": 0
                      },
                      {
                        "bin_start": 246.9,
                        "bin_end": 251,
                        "count": 1
                      }
                    ]
                  }
                },
                {
                  "name": "_deepnote_index_column",
                  "dtype": "int64"
                }
              ],
              "rows": [
                {
                  "painter_name": "Liam",
                  "avg_price": 614.2600896860987,
                  "total_paintings_sold": 223,
                  "_deepnote_index_column": 0
                },
                {
                  "painter_name": "Leonardo",
                  "avg_price": 592.9017857142857,
                  "total_paintings_sold": 224,
                  "_deepnote_index_column": 1
                },
                {
                  "painter_name": "Frida",
                  "avg_price": 587.2735849056604,
                  "total_paintings_sold": 212,
                  "_deepnote_index_column": 2
                },
                {
                  "painter_name": "Olivia",
                  "avg_price": 582.6772908366534,
                  "total_paintings_sold": 251,
                  "_deepnote_index_column": 3
                },
                {
                  "painter_name": "Ava",
                  "avg_price": 575.7666666666667,
                  "total_paintings_sold": 210,
                  "_deepnote_index_column": 4
                },
                {
                  "painter_name": "Vincent",
                  "avg_price": 573.1629955947136,
                  "total_paintings_sold": 227,
                  "_deepnote_index_column": 5
                },
                {
                  "painter_name": "Jija",
                  "avg_price": 570.3583333333333,
                  "total_paintings_sold": 240,
                  "_deepnote_index_column": 6
                },
                {
                  "painter_name": "Noah",
                  "avg_price": 568.2436974789916,
                  "total_paintings_sold": 238,
                  "_deepnote_index_column": 7
                },
                {
                  "painter_name": "Emma",
                  "avg_price": 566.2177777777778,
                  "total_paintings_sold": 225,
                  "_deepnote_index_column": 8
                },
                {
                  "painter_name": "Pablo",
                  "avg_price": 562.4853556485356,
                  "total_paintings_sold": 239,
                  "_deepnote_index_column": 9
                }
              ]
            },
            "text/plain": "   painter_name   avg_price  total_paintings_sold\n0          Liam  614.260090                   223\n1      Leonardo  592.901786                   224\n2         Frida  587.273585                   212\n3        Olivia  582.677291                   251\n4           Ava  575.766667                   210\n5       Vincent  573.162996                   227\n6          Jija  570.358333                   240\n7          Noah  568.243697                   238\n8          Emma  566.217778                   225\n9         Pablo  562.485356                   239\n10       Claude  551.796209                   211",
            "text/html": "<div>\n<style scoped>\n    .dataframe tbody tr th:only-of-type {\n        vertical-align: middle;\n    }\n\n    .dataframe tbody tr th {\n        vertical-align: top;\n    }\n\n    .dataframe thead th {\n        text-align: right;\n    }\n</style>\n<table border=\"1\" class=\"dataframe\">\n  <thead>\n    <tr style=\"text-align: right;\">\n      <th></th>\n      <th>painter_name</th>\n      <th>avg_price</th>\n      <th>total_paintings_sold</th>\n    </tr>\n  </thead>\n  <tbody>\n    <tr>\n      <th>0</th>\n      <td>Liam</td>\n      <td>614.260090</td>\n      <td>223</td>\n    </tr>\n    <tr>\n      <th>1</th>\n      <td>Leonardo</td>\n      <td>592.901786</td>\n      <td>224</td>\n    </tr>\n    <tr>\n      <th>2</th>\n      <td>Frida</td>\n      <td>587.273585</td>\n      <td>212</td>\n    </tr>\n    <tr>\n      <th>3</th>\n      <td>Olivia</td>\n      <td>582.677291</td>\n      <td>251</td>\n    </tr>\n    <tr>\n      <th>4</th>\n      <td>Ava</td>\n      <td>575.766667</td>\n      <td>210</td>\n    </tr>\n    <tr>\n      <th>5</th>\n      <td>Vincent</td>\n      <td>573.162996</td>\n      <td>227</td>\n    </tr>\n    <tr>\n      <th>6</th>\n      <td>Jija</td>\n      <td>570.358333</td>\n      <td>240</td>\n    </tr>\n    <tr>\n      <th>7</th>\n      <td>Noah</td>\n      <td>568.243697</td>\n      <td>238</td>\n    </tr>\n    <tr>\n      <th>8</th>\n      <td>Emma</td>\n      <td>566.217778</td>\n      <td>225</td>\n    </tr>\n    <tr>\n      <th>9</th>\n      <td>Pablo</td>\n      <td>562.485356</td>\n      <td>239</td>\n    </tr>\n    <tr>\n      <th>10</th>\n      <td>Claude</td>\n      <td>551.796209</td>\n      <td>211</td>\n    </tr>\n  </tbody>\n</table>\n</div>"
          },
          "metadata": {}
        }
      ],
      "outputs_reference": null,
      "execution_count": 35,
      "block_group": "efd258b93b424b9f8d9a6c6368ca7bde",
      "content_dependencies": null
    },
    {
      "cell_type": "markdown",
      "source": "It looks like Liam only sells 223 paintings but on average charges $614 per painting as compared to Olivia who only charges $582 per painting.",
      "metadata": {
        "formattedRanges": [],
        "cell_id": "b852a93f24f94e3ca1169d12e6c58e36",
        "deepnote_cell_type": "text-cell-p"
      },
      "block_group": "d483741892d7465280c7f98ad982d451"
    },
    {
      "cell_type": "markdown",
      "source": "So does this mean that Liam is more famous? Let's look at how many paintings does Liam sell at what price point?",
      "metadata": {
        "formattedRanges": [],
        "cell_id": "a391e93204284cfd97121d98c152d8b9",
        "deepnote_cell_type": "text-cell-p"
      },
      "block_group": "d69958e674c34b779492af5b4d556455"
    },
    {
      "cell_type": "code",
      "metadata": {
        "source_hash": "a83df35b",
        "execution_start": 1738135966154,
        "execution_millis": 8,
        "sql_integration_id": "deepnote-dataframe-sql",
        "execution_context_id": "1b099ea7-bbbb-4b89-afc2-793b466fae34",
        "deepnote_variable_name": "df_8",
        "cell_id": "4698582cda1c4d9eabeb7b2efbab1f75",
        "deepnote_cell_type": "sql",
        "deepnote_sql_source": "SELECT price, COUNT(*) FROM art\nWHERE painter_name = 'Liam'\nGROUP BY price\nORDER BY price DESC;"
      },
      "source": "df_8 = (lambda: _deepnote_execute_sql('SELECT price, COUNT(*) FROM art\\nWHERE painter_name = \\'Liam\\'\\nGROUP BY price\\nORDER BY price DESC;', 'SQL_DEEPNOTE_DATAFRAME_SQL', audit_sql_comment='', sql_cache_mode='cache_disabled') if '_deepnote_execute_sql' in globals() else _dntk.execute_sql('SELECT price, COUNT(*) FROM art\\nWHERE painter_name = \\'Liam\\'\\nGROUP BY price\\nORDER BY price DESC;', 'SQL_DEEPNOTE_DATAFRAME_SQL', audit_sql_comment='', sql_cache_mode='cache_disabled'))()\ndf_8",
      "outputs": [
        {
          "output_type": "execute_result",
          "execution_count": 39,
          "data": {
            "application/vnd.deepnote.dataframe.v3+json": {
              "column_count": 2,
              "row_count": 92,
              "columns": [
                {
                  "name": "price",
                  "dtype": "int64",
                  "stats": {
                    "unique_count": 92,
                    "nan_count": 0,
                    "min": "127",
                    "max": "975",
                    "histogram": [
                      {
                        "bin_start": 127,
                        "bin_end": 211.8,
                        "count": 9
                      },
                      {
                        "bin_start": 211.8,
                        "bin_end": 296.6,
                        "count": 11
                      },
                      {
                        "bin_start": 296.6,
                        "bin_end": 381.4,
                        "count": 8
                      },
                      {
                        "bin_start": 381.4,
                        "bin_end": 466.2,
                        "count": 8
                      },
                      {
                        "bin_start": 466.2,
                        "bin_end": 551,
                        "count": 9
                      },
                      {
                        "bin_start": 551,
                        "bin_end": 635.8,
                        "count": 3
                      },
                      {
                        "bin_start": 635.8,
                        "bin_end": 720.6,
                        "count": 12
                      },
                      {
                        "bin_start": 720.6,
                        "bin_end": 805.4,
                        "count": 9
                      },
                      {
                        "bin_start": 805.4,
                        "bin_end": 890.1999999999999,
                        "count": 12
                      },
                      {
                        "bin_start": 890.1999999999999,
                        "bin_end": 975,
                        "count": 11
                      }
                    ]
                  }
                },
                {
                  "name": "count_star()",
                  "dtype": "int64",
                  "stats": {
                    "unique_count": 7,
                    "nan_count": 0,
                    "min": "1",
                    "max": "9",
                    "histogram": [
                      {
                        "bin_start": 1,
                        "bin_end": 1.8,
                        "count": 25
                      },
                      {
                        "bin_start": 1.8,
                        "bin_end": 2.6,
                        "count": 34
                      },
                      {
                        "bin_start": 2.6,
                        "bin_end": 3.4000000000000004,
                        "count": 16
                      },
                      {
                        "bin_start": 3.4000000000000004,
                        "bin_end": 4.2,
                        "count": 11
                      },
                      {
                        "bin_start": 4.2,
                        "bin_end": 5,
                        "count": 0
                      },
                      {
                        "bin_start": 5,
                        "bin_end": 5.800000000000001,
                        "count": 3
                      },
                      {
                        "bin_start": 5.800000000000001,
                        "bin_end": 6.6000000000000005,
                        "count": 0
                      },
                      {
                        "bin_start": 6.6000000000000005,
                        "bin_end": 7.4,
                        "count": 2
                      },
                      {
                        "bin_start": 7.4,
                        "bin_end": 8.2,
                        "count": 0
                      },
                      {
                        "bin_start": 8.2,
                        "bin_end": 9,
                        "count": 1
                      }
                    ]
                  }
                },
                {
                  "name": "_deepnote_index_column",
                  "dtype": "int64"
                }
              ],
              "rows": [
                {
                  "price": 975,
                  "count_star()": 3,
                  "_deepnote_index_column": 0
                },
                {
                  "price": 965,
                  "count_star()": 1,
                  "_deepnote_index_column": 1
                },
                {
                  "price": 943,
                  "count_star()": 2,
                  "_deepnote_index_column": 2
                },
                {
                  "price": 938,
                  "count_star()": 1,
                  "_deepnote_index_column": 3
                },
                {
                  "price": 933,
                  "count_star()": 4,
                  "_deepnote_index_column": 4
                },
                {
                  "price": 924,
                  "count_star()": 7,
                  "_deepnote_index_column": 5
                },
                {
                  "price": 918,
                  "count_star()": 3,
                  "_deepnote_index_column": 6
                },
                {
                  "price": 913,
                  "count_star()": 3,
                  "_deepnote_index_column": 7
                },
                {
                  "price": 909,
                  "count_star()": 3,
                  "_deepnote_index_column": 8
                },
                {
                  "price": 907,
                  "count_star()": 2,
                  "_deepnote_index_column": 9
                }
              ]
            },
            "text/plain": "    price  count_star()\n0     975             3\n1     965             1\n2     943             2\n3     938             1\n4     933             4\n..    ...           ...\n87    161             1\n88    157             2\n89    149             1\n90    130             2\n91    127             2\n\n[92 rows x 2 columns]",
            "text/html": "<div>\n<style scoped>\n    .dataframe tbody tr th:only-of-type {\n        vertical-align: middle;\n    }\n\n    .dataframe tbody tr th {\n        vertical-align: top;\n    }\n\n    .dataframe thead th {\n        text-align: right;\n    }\n</style>\n<table border=\"1\" class=\"dataframe\">\n  <thead>\n    <tr style=\"text-align: right;\">\n      <th></th>\n      <th>price</th>\n      <th>count_star()</th>\n    </tr>\n  </thead>\n  <tbody>\n    <tr>\n      <th>0</th>\n      <td>975</td>\n      <td>3</td>\n    </tr>\n    <tr>\n      <th>1</th>\n      <td>965</td>\n      <td>1</td>\n    </tr>\n    <tr>\n      <th>2</th>\n      <td>943</td>\n      <td>2</td>\n    </tr>\n    <tr>\n      <th>3</th>\n      <td>938</td>\n      <td>1</td>\n    </tr>\n    <tr>\n      <th>4</th>\n      <td>933</td>\n      <td>4</td>\n    </tr>\n    <tr>\n      <th>...</th>\n      <td>...</td>\n      <td>...</td>\n    </tr>\n    <tr>\n      <th>87</th>\n      <td>161</td>\n      <td>1</td>\n    </tr>\n    <tr>\n      <th>88</th>\n      <td>157</td>\n      <td>2</td>\n    </tr>\n    <tr>\n      <th>89</th>\n      <td>149</td>\n      <td>1</td>\n    </tr>\n    <tr>\n      <th>90</th>\n      <td>130</td>\n      <td>2</td>\n    </tr>\n    <tr>\n      <th>91</th>\n      <td>127</td>\n      <td>2</td>\n    </tr>\n  </tbody>\n</table>\n<p>92 rows × 2 columns</p>\n</div>"
          },
          "metadata": {}
        }
      ],
      "outputs_reference": null,
      "execution_count": 39,
      "block_group": "0891c340f3cd402f95376bc53df88afc",
      "content_dependencies": null
    },
    {
      "cell_type": "markdown",
      "source": "<a style='text-decoration:none;line-height:16px;display:flex;color:#5B5B62;padding:10px;justify-content:end;' href='https://deepnote.com?utm_source=created-in-deepnote-cell&projectId=13a90a7f-fdab-44fe-855c-ae8c9cbeedee' target=\"_blank\">\n<img alt='Created in deepnote.com' style='display:inline;max-height:16px;margin:0px;margin-right:7.5px;' src='data:image/svg+xml;base64,PD94bWwgdmVyc2lvbj0iMS4wIiBlbmNvZGluZz0iVVRGLTgiPz4KPHN2ZyB3aWR0aD0iODBweCIgaGVpZ2h0PSI4MHB4IiB2aWV3Qm94PSIwIDAgODAgODAiIHZlcnNpb249IjEuMSIgeG1sbnM9Imh0dHA6Ly93d3cudzMub3JnLzIwMDAvc3ZnIiB4bWxuczp4bGluaz0iaHR0cDovL3d3dy53My5vcmcvMTk5OS94bGluayI+CiAgICA8IS0tIEdlbmVyYXRvcjogU2tldGNoIDU0LjEgKDc2NDkwKSAtIGh0dHBzOi8vc2tldGNoYXBwLmNvbSAtLT4KICAgIDx0aXRsZT5Hcm91cCAzPC90aXRsZT4KICAgIDxkZXNjPkNyZWF0ZWQgd2l0aCBTa2V0Y2guPC9kZXNjPgogICAgPGcgaWQ9IkxhbmRpbmciIHN0cm9rZT0ibm9uZSIgc3Ryb2tlLXdpZHRoPSIxIiBmaWxsPSJub25lIiBmaWxsLXJ1bGU9ImV2ZW5vZGQiPgogICAgICAgIDxnIGlkPSJBcnRib2FyZCIgdHJhbnNmb3JtPSJ0cmFuc2xhdGUoLTEyMzUuMDAwMDAwLCAtNzkuMDAwMDAwKSI+CiAgICAgICAgICAgIDxnIGlkPSJHcm91cC0zIiB0cmFuc2Zvcm09InRyYW5zbGF0ZSgxMjM1LjAwMDAwMCwgNzkuMDAwMDAwKSI+CiAgICAgICAgICAgICAgICA8cG9seWdvbiBpZD0iUGF0aC0yMCIgZmlsbD0iIzAyNjVCNCIgcG9pbnRzPSIyLjM3NjIzNzYyIDgwIDM4LjA0NzY2NjcgODAgNTcuODIxNzgyMiA3My44MDU3NTkyIDU3LjgyMTc4MjIgMzIuNzU5MjczOSAzOS4xNDAyMjc4IDMxLjY4MzE2ODMiPjwvcG9seWdvbj4KICAgICAgICAgICAgICAgIDxwYXRoIGQ9Ik0zNS4wMDc3MTgsODAgQzQyLjkwNjIwMDcsNzYuNDU0OTM1OCA0Ny41NjQ5MTY3LDcxLjU0MjI2NzEgNDguOTgzODY2LDY1LjI2MTk5MzkgQzUxLjExMjI4OTksNTUuODQxNTg0MiA0MS42NzcxNzk1LDQ5LjIxMjIyODQgMjUuNjIzOTg0Niw0OS4yMTIyMjg0IEMyNS40ODQ5Mjg5LDQ5LjEyNjg0NDggMjkuODI2MTI5Niw0My4yODM4MjQ4IDM4LjY0NzU4NjksMzEuNjgzMTY4MyBMNzIuODcxMjg3MSwzMi41NTQ0MjUgTDY1LjI4MDk3Myw2Ny42NzYzNDIxIEw1MS4xMTIyODk5LDc3LjM3NjE0NCBMMzUuMDA3NzE4LDgwIFoiIGlkPSJQYXRoLTIyIiBmaWxsPSIjMDAyODY4Ij48L3BhdGg+CiAgICAgICAgICAgICAgICA8cGF0aCBkPSJNMCwzNy43MzA0NDA1IEwyNy4xMTQ1MzcsMC4yNTcxMTE0MzYgQzYyLjM3MTUxMjMsLTEuOTkwNzE3MDEgODAsMTAuNTAwMzkyNyA4MCwzNy43MzA0NDA1IEM4MCw2NC45NjA0ODgyIDY0Ljc3NjUwMzgsNzkuMDUwMzQxNCAzNC4zMjk1MTEzLDgwIEM0Ny4wNTUzNDg5LDc3LjU2NzA4MDggNTMuNDE4MjY3Nyw3MC4zMTM2MTAzIDUzLjQxODI2NzcsNTguMjM5NTg4NSBDNTMuNDE4MjY3Nyw0MC4xMjg1NTU3IDM2LjMwMzk1NDQsMzcuNzMwNDQwNSAyNS4yMjc0MTcsMzcuNzMwNDQwNSBDMTcuODQzMDU4NiwzNy43MzA0NDA1IDkuNDMzOTE5NjYsMzcuNzMwNDQwNSAwLDM3LjczMDQ0MDUgWiIgaWQ9IlBhdGgtMTkiIGZpbGw9IiMzNzkzRUYiPjwvcGF0aD4KICAgICAgICAgICAgPC9nPgogICAgICAgIDwvZz4KICAgIDwvZz4KPC9zdmc+' > </img>\nCreated in <span style='font-weight:600;margin-left:4px;'>Deepnote</span></a>",
      "metadata": {
        "created_in_deepnote_cell": true,
        "deepnote_cell_type": "markdown"
      }
    }
  ],
  "nbformat": 4,
  "nbformat_minor": 0,
  "metadata": {
    "deepnote_notebook_id": "b1472ba8bd924e6cac9670b94f05c356"
  }
}